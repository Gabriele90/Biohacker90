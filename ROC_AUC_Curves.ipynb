{
  "nbformat": 4,
  "nbformat_minor": 0,
  "metadata": {
    "colab": {
      "name": "ROC-AUC Curves.ipynb",
      "provenance": [],
      "collapsed_sections": [],
      "authorship_tag": "ABX9TyOqTAWqphc1Xc6RrlxvsNWd",
      "include_colab_link": true
    },
    "kernelspec": {
      "name": "python3",
      "display_name": "Python 3"
    }
  },
  "cells": [
    {
      "cell_type": "markdown",
      "metadata": {
        "id": "view-in-github",
        "colab_type": "text"
      },
      "source": [
        "<a href=\"https://colab.research.google.com/github/Gabriele90/Biohacker90/blob/main/ROC_AUC_Curves.ipynb\" target=\"_parent\"><img src=\"https://colab.research.google.com/assets/colab-badge.svg\" alt=\"Open In Colab\"/></a>"
      ]
    },
    {
      "cell_type": "markdown",
      "metadata": {
        "id": "Ft-G3S7gBVnI"
      },
      "source": [
        "**ROC-AUC Curve For Comprehensive Analysis Of Machine Learning Models**\n",
        "\n",
        "In  machine learning when we build a model for classification tasks we do not build only a single model. We never rely on a single model since we have many different algorithms in machine learning that work differently on different datasets. We always have to build a model that best suits the respective data set so we try building different models and at last we choose the best performing model.\n",
        "For this, we make use of Receiver Characteristics Curve – Area Under Curve that is plotted between True positive and False positive rates. In this article, we will learn more about the ROC-AUC curve and how we make use of it to compare different machine learning models to select the best performing model. For this experiment, we will make use of Pima-Indian Diabetes that can be downloaded from Kaggle."
      ]
    },
    {
      "cell_type": "markdown",
      "metadata": {
        "id": "AiRewwP2B1xh"
      },
      "source": [
        "**How to compare the performance of different models using the ROC-AUC curve? **\n",
        "\n",
        "Let us now practically understand how we can plot this graph and compare different model performance. We will first build 4 different classification models using different machine learning algorithms and then will plot the ROC-AUC graph to check the best performing model. We will not quickly import the required libraries and the iris data set. Refer to the below code for the same. "
      ]
    },
    {
      "cell_type": "code",
      "metadata": {
        "colab": {
          "base_uri": "https://localhost:8080/",
          "height": 202
        },
        "id": "m4pz5mIz9bIy",
        "outputId": "40fafaca-708f-4ce7-d3e4-dcf06130deba"
      },
      "source": [
        "from sklearn.model_selection import train_test_split\n",
        "from sklearn.linear_model import LogisticRegression\n",
        "from sklearn.ensemble import RandomForestClassifier\n",
        "from sklearn.tree import DecisionTreeClassifier\n",
        "import numpy as np\n",
        "import pandas as pd\n",
        "from sklearn import svm\n",
        "from sklearn.metrics import roc_curve, auc\n",
        "df = pd.read_csv('heart.csv')\n",
        "df.head(5)"
      ],
      "execution_count": 33,
      "outputs": [
        {
          "output_type": "execute_result",
          "data": {
            "text/html": [
              "<div>\n",
              "<style scoped>\n",
              "    .dataframe tbody tr th:only-of-type {\n",
              "        vertical-align: middle;\n",
              "    }\n",
              "\n",
              "    .dataframe tbody tr th {\n",
              "        vertical-align: top;\n",
              "    }\n",
              "\n",
              "    .dataframe thead th {\n",
              "        text-align: right;\n",
              "    }\n",
              "</style>\n",
              "<table border=\"1\" class=\"dataframe\">\n",
              "  <thead>\n",
              "    <tr style=\"text-align: right;\">\n",
              "      <th></th>\n",
              "      <th>age</th>\n",
              "      <th>sex</th>\n",
              "      <th>cp</th>\n",
              "      <th>trestbps</th>\n",
              "      <th>chol</th>\n",
              "      <th>fbs</th>\n",
              "      <th>restecg</th>\n",
              "      <th>thalach</th>\n",
              "      <th>exang</th>\n",
              "      <th>oldpeak</th>\n",
              "      <th>slope</th>\n",
              "      <th>ca</th>\n",
              "      <th>thal</th>\n",
              "      <th>target</th>\n",
              "    </tr>\n",
              "  </thead>\n",
              "  <tbody>\n",
              "    <tr>\n",
              "      <th>0</th>\n",
              "      <td>63</td>\n",
              "      <td>1</td>\n",
              "      <td>3</td>\n",
              "      <td>145</td>\n",
              "      <td>233</td>\n",
              "      <td>1</td>\n",
              "      <td>0</td>\n",
              "      <td>150</td>\n",
              "      <td>0</td>\n",
              "      <td>2.3</td>\n",
              "      <td>0</td>\n",
              "      <td>0</td>\n",
              "      <td>1</td>\n",
              "      <td>1</td>\n",
              "    </tr>\n",
              "    <tr>\n",
              "      <th>1</th>\n",
              "      <td>37</td>\n",
              "      <td>1</td>\n",
              "      <td>2</td>\n",
              "      <td>130</td>\n",
              "      <td>250</td>\n",
              "      <td>0</td>\n",
              "      <td>1</td>\n",
              "      <td>187</td>\n",
              "      <td>0</td>\n",
              "      <td>3.5</td>\n",
              "      <td>0</td>\n",
              "      <td>0</td>\n",
              "      <td>2</td>\n",
              "      <td>1</td>\n",
              "    </tr>\n",
              "    <tr>\n",
              "      <th>2</th>\n",
              "      <td>41</td>\n",
              "      <td>0</td>\n",
              "      <td>1</td>\n",
              "      <td>130</td>\n",
              "      <td>204</td>\n",
              "      <td>0</td>\n",
              "      <td>0</td>\n",
              "      <td>172</td>\n",
              "      <td>0</td>\n",
              "      <td>1.4</td>\n",
              "      <td>2</td>\n",
              "      <td>0</td>\n",
              "      <td>2</td>\n",
              "      <td>1</td>\n",
              "    </tr>\n",
              "    <tr>\n",
              "      <th>3</th>\n",
              "      <td>56</td>\n",
              "      <td>1</td>\n",
              "      <td>1</td>\n",
              "      <td>120</td>\n",
              "      <td>236</td>\n",
              "      <td>0</td>\n",
              "      <td>1</td>\n",
              "      <td>178</td>\n",
              "      <td>0</td>\n",
              "      <td>0.8</td>\n",
              "      <td>2</td>\n",
              "      <td>0</td>\n",
              "      <td>2</td>\n",
              "      <td>1</td>\n",
              "    </tr>\n",
              "    <tr>\n",
              "      <th>4</th>\n",
              "      <td>57</td>\n",
              "      <td>0</td>\n",
              "      <td>0</td>\n",
              "      <td>120</td>\n",
              "      <td>354</td>\n",
              "      <td>0</td>\n",
              "      <td>1</td>\n",
              "      <td>163</td>\n",
              "      <td>1</td>\n",
              "      <td>0.6</td>\n",
              "      <td>2</td>\n",
              "      <td>0</td>\n",
              "      <td>2</td>\n",
              "      <td>1</td>\n",
              "    </tr>\n",
              "  </tbody>\n",
              "</table>\n",
              "</div>"
            ],
            "text/plain": [
              "   age  sex  cp  trestbps  chol  fbs  ...  exang  oldpeak  slope  ca  thal  target\n",
              "0   63    1   3       145   233    1  ...      0      2.3      0   0     1       1\n",
              "1   37    1   2       130   250    0  ...      0      3.5      0   0     2       1\n",
              "2   41    0   1       130   204    0  ...      0      1.4      2   0     2       1\n",
              "3   56    1   1       120   236    0  ...      0      0.8      2   0     2       1\n",
              "4   57    0   0       120   354    0  ...      1      0.6      2   0     2       1\n",
              "\n",
              "[5 rows x 14 columns]"
            ]
          },
          "metadata": {
            "tags": []
          },
          "execution_count": 33
        }
      ]
    },
    {
      "cell_type": "markdown",
      "metadata": {
        "id": "A415uid6B-1Y"
      },
      "source": [
        "Now we will divide the dependent and independent features X and y respectively followed by splitting the data set into training and testing sets. Use the below code for the same"
      ]
    },
    {
      "cell_type": "code",
      "metadata": {
        "id": "hEhjHKcU93I0"
      },
      "source": [
        "X = df.values[:,0:8]\n",
        "Y = df.values[:,8]\n",
        "X_train, X_test, y_train, y_test = train_test_split(X, Y, test_size=0.50, random_state=1)"
      ],
      "execution_count": 40,
      "outputs": []
    },
    {
      "cell_type": "markdown",
      "metadata": {
        "id": "lmF-72SHCDzI"
      },
      "source": [
        "We have divided the data into training and testing now we will build for different models for classifying the class i.e whether a patient is diabetic or not. Use the below code to build the respective models. "
      ]
    },
    {
      "cell_type": "code",
      "metadata": {
        "id": "jsadu-Ll-BB0"
      },
      "source": [
        "clf1 = LogisticRegression()\n",
        "clf2 = svm.SVC(kernel='linear', probability=True)\n",
        "clf3 = RandomForestClassifier()\n",
        "clf4 = DecisionTreeClassifier()"
      ],
      "execution_count": 41,
      "outputs": []
    },
    {
      "cell_type": "markdown",
      "metadata": {
        "id": "GxSq7mTSCG85"
      },
      "source": [
        "Since we have defined the four different classifiers now we will fit the training data over these and will predict probabilities for testing data. Use the below code for the same. "
      ]
    },
    {
      "cell_type": "code",
      "metadata": {
        "colab": {
          "base_uri": "https://localhost:8080/"
        },
        "id": "dRqO1Z1P-FCR",
        "outputId": "417a346e-5220-4c8f-e4f1-257346550762"
      },
      "source": [
        "probas1_ = clf1.fit(X_train, y_train).predict_proba(X_test)\n",
        "probas2_ = clf2.fit(X_train, y_train).predict_proba(X_test)\n",
        "probas3_ = clf3.fit(X_train, y_train).predict_proba(X_test)\n",
        "probas4_ = clf4.fit(X_train, y_train).predict_proba(X_test)"
      ],
      "execution_count": 42,
      "outputs": [
        {
          "output_type": "stream",
          "text": [
            "/usr/local/lib/python3.6/dist-packages/sklearn/linear_model/_logistic.py:940: ConvergenceWarning: lbfgs failed to converge (status=1):\n",
            "STOP: TOTAL NO. of ITERATIONS REACHED LIMIT.\n",
            "\n",
            "Increase the number of iterations (max_iter) or scale the data as shown in:\n",
            "    https://scikit-learn.org/stable/modules/preprocessing.html\n",
            "Please also refer to the documentation for alternative solver options:\n",
            "    https://scikit-learn.org/stable/modules/linear_model.html#logistic-regression\n",
            "  extra_warning_msg=_LOGISTIC_SOLVER_CONVERGENCE_MSG)\n"
          ],
          "name": "stderr"
        }
      ]
    },
    {
      "cell_type": "markdown",
      "metadata": {
        "id": "Af3FCN-VCKwR"
      },
      "source": [
        "Now we will compute the ROC curve and AUC score for all these classifiers. Use the below code for the same."
      ]
    },
    {
      "cell_type": "code",
      "metadata": {
        "colab": {
          "base_uri": "https://localhost:8080/"
        },
        "id": "7EJDX7fQ-NJp",
        "outputId": "a0cf4698-6f3e-4342-be4b-4d2755087bf2"
      },
      "source": [
        "fp1, tp1, thresholds1 = roc_curve(y_test, probas1_[:, 1])\n",
        "roc_auc_model1 = auc(fp1, tp1)\n",
        "fp2, tp2, thresholds2 = roc_curve(y_test, probas2_[:, 1])\n",
        "roc_auc_model2 = auc(fp2, tp2)\n",
        "fp3, tp3, thresholds3 = roc_curve(y_test, probas3_[:, 1])\n",
        "roc_auc_model3 = auc(fp3, tp3)\n",
        "fp4, tp4, thresholds4 = roc_curve(y_test, probas4_[:, 1])\n",
        "roc_auc_model4 = auc(fp4, tp4)\n",
        "print(\"AUC for Logistic Regression Model : \",roc_auc_model1)\n",
        "print(\"AUC for SVM Model:\", roc_auc_model2)\n",
        "print(\"AUC for Random Forest Model :\" ,roc_auc_model3)\n",
        "print(\"AUC for Decision Tree model :\", roc_auc_model4)"
      ],
      "execution_count": 43,
      "outputs": [
        {
          "output_type": "stream",
          "text": [
            "AUC for Logistic Regression Model :  0.7828798185941044\n",
            "AUC for SVM Model: 0.7766439909297052\n",
            "AUC for Random Forest Model : 0.7825018896447469\n",
            "AUC for Decision Tree model : 0.6715797430083145\n"
          ],
          "name": "stdout"
        }
      ]
    },
    {
      "cell_type": "markdown",
      "metadata": {
        "id": "pV78BldkCPrC"
      },
      "source": [
        "Since we have got the AUC score now we will plot the roc curve to visualize the performance of all 4 models. Use the below code to do the same. "
      ]
    },
    {
      "cell_type": "code",
      "metadata": {
        "id": "dg2kmz2P-lgf"
      },
      "source": [
        "import matplotlib.pyplot as plt"
      ],
      "execution_count": 44,
      "outputs": []
    },
    {
      "cell_type": "code",
      "metadata": {
        "colab": {
          "base_uri": "https://localhost:8080/",
          "height": 295
        },
        "id": "fT6obiCt-Q-l",
        "outputId": "988dae55-e61e-4347-e1d0-20434fc2cbf0"
      },
      "source": [
        "plt.clf()\n",
        "plt.plot(fp1, tp1, label='Logistic Model (area = %0.2f)' % roc_auc_model1)\n",
        "plt.plot(fp2, tp2, label='SVC Model (area = %0.2f)' % roc_auc_model2)\n",
        "plt.plot(fp3, tp3, label='Random Forest Model (area = %0.2f)' % roc_auc_model3)\n",
        "plt.plot(fp4, tp4, label='Decision Tree Model (area = %0.2f)' % roc_auc_model4)\n",
        "plt.plot([0, 1], [0, 1], 'k--')\n",
        "plt.xlim([0.0, 1.0])\n",
        "plt.ylim([0.0, 1.0])\n",
        "plt.xlabel('False Positive Rate')\n",
        "plt.ylabel('True Positive Rate')\n",
        "plt.title('Receiverrating characteristic example')\n",
        "plt.legend(loc=\"lower right\")\n",
        "plt.show()"
      ],
      "execution_count": 45,
      "outputs": [
        {
          "output_type": "display_data",
          "data": {
            "image/png": "[encoded data removed]",
            "text/plain": [
              "<Figure size 432x288 with 1 Axes>"
            ]
          },
          "metadata": {
            "tags": [],
            "needs_background": "light"
          }
        }
      ]
    },
    {
      "cell_type": "markdown",
      "metadata": {
        "id": "WWZm8lCpCWEX"
      },
      "source": [
        "We can see from the above graph the svc model captures the highest AUC and can be considered as the best performing model among all the four models. This way we can compute and compare different predictive models. We did this for binary classification, whereas if we want to do the same for multi-class classification models we can again do that. Consider we have three classes X, Y, and Z. So if we are plotting the curve for X class then it would be done as classification of X class against no other class i.e Y and Z. And similarly for other classes."
      ]
    }
  ]
}