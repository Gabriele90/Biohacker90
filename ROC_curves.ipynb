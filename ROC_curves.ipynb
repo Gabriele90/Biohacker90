{
  "nbformat": 4,
  "nbformat_minor": 0,
  "metadata": {
    "colab": {
      "name": "ROC curves.ipynb",
      "provenance": [],
      "authorship_tag": "ABX9TyPVT6ZplW5AwF5twrPeSA3G",
      "include_colab_link": true
    },
    "kernelspec": {
      "name": "python3",
      "display_name": "Python 3"
    }
  },
  "cells": [
    {
      "cell_type": "markdown",
      "metadata": {
        "id": "view-in-github",
        "colab_type": "text"
      },
      "source": [
        "<a href=\"https://colab.research.google.com/github/Gabriele90/Biohacker90/blob/main/ROC_curves.ipynb\" target=\"_parent\"><img src=\"https://colab.research.google.com/assets/colab-badge.svg\" alt=\"Open In Colab\"/></a>"
      ]
    },
    {
      "cell_type": "markdown",
      "metadata": {
        "id": "QOUXmdk-87Qw"
      },
      "source": [
        "**Machine Learning in Python: Making Receiver Operating Characteristic (ROC) curve**\n",
        "\n",
        "The ROC curve summarizes the prediction performance of a classification model at all classification thresholds. Particularly, the ROC curve plots the False Positive Rate (FPR) on the X-axis and the True Positive Rate (TPR) on the Y-axis.\n",
        "\n"
      ]
    },
    {
      "cell_type": "markdown",
      "metadata": {
        "id": "rCQz9ucm9Gb7"
      },
      "source": [
        "**Generate synthetic dataset**"
      ]
    },
    {
      "cell_type": "code",
      "metadata": {
        "id": "L0z7yJGq8mLs"
      },
      "source": [
        "from sklearn.datasets import make_classification"
      ],
      "execution_count": 5,
      "outputs": []
    },
    {
      "cell_type": "code",
      "metadata": {
        "id": "jVmfj2kV9MHT"
      },
      "source": [
        "X, Y = make_classification(n_samples=1000, n_classes=2, n_features=8, random_state=0)"
      ],
      "execution_count": 6,
      "outputs": []
    },
    {
      "cell_type": "markdown",
      "metadata": {
        "id": "P3KLKr0o9RC4"
      },
      "source": [
        "**Adding noisy features to make the problem more difficult**"
      ]
    },
    {
      "cell_type": "code",
      "metadata": {
        "id": "lI9QEtic9WC6"
      },
      "source": [
        "import numpy as np"
      ],
      "execution_count": 7,
      "outputs": []
    },
    {
      "cell_type": "code",
      "metadata": {
        "id": "SISdBtZJ9YP2"
      },
      "source": [
        "random_state = np.random.RandomState(0)\n",
        "n_samples, n_features = X.shape\n",
        "X = np.c_[X, random_state.randn(n_samples, 200 * n_features)]"
      ],
      "execution_count": 8,
      "outputs": []
    },
    {
      "cell_type": "markdown",
      "metadata": {
        "id": "aIpXBB4z9aj6"
      },
      "source": [
        "\n",
        "**Data splitting**"
      ]
    },
    {
      "cell_type": "code",
      "metadata": {
        "id": "Rgs-_NN19b4v"
      },
      "source": [
        "from sklearn.model_selection import train_test_split"
      ],
      "execution_count": 9,
      "outputs": []
    },
    {
      "cell_type": "code",
      "metadata": {
        "id": "HWxvWmvQ9eRy"
      },
      "source": [
        "X_train, X_test, Y_train, Y_test = train_test_split(X, Y, test_size=.2,\n",
        "                                                    random_state=0)"
      ],
      "execution_count": 10,
      "outputs": []
    },
    {
      "cell_type": "markdown",
      "metadata": {
        "id": "csrCmSmV9hu3"
      },
      "source": [
        "\n",
        "**Building 2 classification models**"
      ]
    },
    {
      "cell_type": "code",
      "metadata": {
        "id": "jF4JycoH9oEV"
      },
      "source": [
        "from sklearn.ensemble import RandomForestClassifier\n",
        "from sklearn.naive_bayes import GaussianNB\n",
        "from sklearn.neighbors import KNeighborsClassifier"
      ],
      "execution_count": 11,
      "outputs": []
    },
    {
      "cell_type": "markdown",
      "metadata": {
        "id": "bJoxjay59r-Z"
      },
      "source": [
        "\n",
        "**Random Forest**"
      ]
    },
    {
      "cell_type": "code",
      "metadata": {
        "id": "cfTZ1qMh9vl5",
        "outputId": "047bdaf4-fe8f-48fb-fffe-5446b8efcc0d",
        "colab": {
          "base_uri": "https://localhost:8080/"
        }
      },
      "source": [
        "rf = RandomForestClassifier(max_features=5, n_estimators=500)\n",
        "rf.fit(X_train, Y_train)"
      ],
      "execution_count": 12,
      "outputs": [
        {
          "output_type": "execute_result",
          "data": {
            "text/plain": [
              "RandomForestClassifier(bootstrap=True, ccp_alpha=0.0, class_weight=None,\n",
              "                       criterion='gini', max_depth=None, max_features=5,\n",
              "                       max_leaf_nodes=None, max_samples=None,\n",
              "                       min_impurity_decrease=0.0, min_impurity_split=None,\n",
              "                       min_samples_leaf=1, min_samples_split=2,\n",
              "                       min_weight_fraction_leaf=0.0, n_estimators=500,\n",
              "                       n_jobs=None, oob_score=False, random_state=None,\n",
              "                       verbose=0, warm_start=False)"
            ]
          },
          "metadata": {
            "tags": []
          },
          "execution_count": 12
        }
      ]
    },
    {
      "cell_type": "markdown",
      "metadata": {
        "id": "-1T1EgTs9yXc"
      },
      "source": [
        "**Naive Bayes**"
      ]
    },
    {
      "cell_type": "code",
      "metadata": {
        "id": "wKz6vtIQ906Y",
        "outputId": "9311daa4-c67f-430b-8439-c2dd61f8a285",
        "colab": {
          "base_uri": "https://localhost:8080/"
        }
      },
      "source": [
        "nb = GaussianNB()\n",
        "nb.fit(X_train, Y_train)"
      ],
      "execution_count": 13,
      "outputs": [
        {
          "output_type": "execute_result",
          "data": {
            "text/plain": [
              "GaussianNB(priors=None, var_smoothing=1e-09)"
            ]
          },
          "metadata": {
            "tags": []
          },
          "execution_count": 13
        }
      ]
    },
    {
      "cell_type": "code",
      "metadata": {
        "id": "wy-znWVu930i",
        "outputId": "0096f4f6-6cc6-4f78-aa58-a2f397219f9f",
        "colab": {
          "base_uri": "https://localhost:8080/"
        }
      },
      "source": [
        "knn = KNeighborsClassifier()\n",
        "knn.fit(X_train, Y_train)"
      ],
      "execution_count": 14,
      "outputs": [
        {
          "output_type": "execute_result",
          "data": {
            "text/plain": [
              "KNeighborsClassifier(algorithm='auto', leaf_size=30, metric='minkowski',\n",
              "                     metric_params=None, n_jobs=None, n_neighbors=5, p=2,\n",
              "                     weights='uniform')"
            ]
          },
          "metadata": {
            "tags": []
          },
          "execution_count": 14
        }
      ]
    },
    {
      "cell_type": "markdown",
      "metadata": {
        "id": "jaLvCLCn-Awg"
      },
      "source": [
        "**Prediction probabilities**"
      ]
    },
    {
      "cell_type": "code",
      "metadata": {
        "id": "fNka4jpn9rPL"
      },
      "source": [
        "r_probs = [0 for _ in range(len(Y_test))]\n",
        "rf_probs = rf.predict_proba(X_test)\n",
        "nb_probs = nb.predict_proba(X_test)\n",
        "knn_probs = knn.predict_proba(X_test)"
      ],
      "execution_count": 15,
      "outputs": []
    },
    {
      "cell_type": "markdown",
      "metadata": {
        "id": "VYxbyERH-H3i"
      },
      "source": [
        "\n",
        "Probabilities for the positive outcome is kept."
      ]
    },
    {
      "cell_type": "code",
      "metadata": {
        "id": "aSra65fo-EYd"
      },
      "source": [
        "rf_probs = rf_probs[:, 1]\n",
        "nb_probs = nb_probs[:, 1]\n",
        "knn_probs = knn_probs[:, 1]"
      ],
      "execution_count": 16,
      "outputs": []
    },
    {
      "cell_type": "markdown",
      "metadata": {
        "id": "0BCCpmoH-PO4"
      },
      "source": [
        "**Computing AUROC and ROC curve values**"
      ]
    },
    {
      "cell_type": "code",
      "metadata": {
        "id": "ByuyfeY4-QcY"
      },
      "source": [
        "from sklearn.metrics import roc_curve, roc_auc_score"
      ],
      "execution_count": 17,
      "outputs": []
    },
    {
      "cell_type": "markdown",
      "metadata": {
        "id": "PdSOMbKR-aNz"
      },
      "source": [
        "**Calculate AUROC**\n",
        "\n",
        "ROC is the receiver operating characteristic AUROC is the area under the ROC curve"
      ]
    },
    {
      "cell_type": "code",
      "metadata": {
        "id": "GhMjMnbV-S0_"
      },
      "source": [
        "r_auc = roc_auc_score(Y_test, r_probs)\n",
        "rf_auc = roc_auc_score(Y_test, rf_probs)\n",
        "nb_auc = roc_auc_score(Y_test, nb_probs)\n",
        "knn_auc = roc_auc_score(Y_test, knn_probs)"
      ],
      "execution_count": 18,
      "outputs": []
    },
    {
      "cell_type": "markdown",
      "metadata": {
        "id": "H8jRbLLP-ec_"
      },
      "source": [
        "**Print AUROC scores**"
      ]
    },
    {
      "cell_type": "code",
      "metadata": {
        "id": "Hi8FW9jB-mQ4",
        "outputId": "3cf18cfa-aacb-4807-a7aa-7cf4680086a1",
        "colab": {
          "base_uri": "https://localhost:8080/"
        }
      },
      "source": [
        "print('Random (chance) Prediction: AUROC = %.3f' % (r_auc))\n",
        "print('Random Forest: AUROC = %.3f' % (rf_auc))\n",
        "print('Naive Bayes: AUROC = %.3f' % (nb_auc))\n",
        "print('K Nearest Neighbors: AUROC = %.3f' % (knn_auc))"
      ],
      "execution_count": 19,
      "outputs": [
        {
          "output_type": "stream",
          "text": [
            "Random (chance) Prediction: AUROC = 0.500\n",
            "Random Forest: AUROC = 0.901\n",
            "Naive Bayes: AUROC = 0.943\n",
            "K Nearest Neighbors: AUROC = 0.725\n"
          ],
          "name": "stdout"
        }
      ]
    },
    {
      "cell_type": "markdown",
      "metadata": {
        "id": "PwdbkFlr-sQN"
      },
      "source": [
        "**Calculate ROC curve**"
      ]
    },
    {
      "cell_type": "code",
      "metadata": {
        "id": "ywmt73dN-njO"
      },
      "source": [
        "r_fpr, r_tpr, _ = roc_curve(Y_test, r_probs)\n",
        "rf_fpr, rf_tpr, _ = roc_curve(Y_test, rf_probs)\n",
        "nb_fpr, nb_tpr, _ = roc_curve(Y_test, nb_probs)\n",
        "knn_fpr, knn_tpr, _ = roc_curve(Y_test, knn_probs)"
      ],
      "execution_count": 20,
      "outputs": []
    },
    {
      "cell_type": "code",
      "metadata": {
        "id": "ri23z_L8K0zB",
        "outputId": "7edd6a8e-c233-41fe-de42-8dc4d4e21911",
        "colab": {
          "base_uri": "https://localhost:8080/"
        }
      },
      "source": [
        "nb_fpr, nb_tpr"
      ],
      "execution_count": 21,
      "outputs": [
        {
          "output_type": "execute_result",
          "data": {
            "text/plain": [
              "(array([0.        , 0.        , 0.        , 0.00869565, 0.00869565,\n",
              "        0.0173913 , 0.0173913 , 0.02608696, 0.02608696, 0.03478261,\n",
              "        0.03478261, 0.04347826, 0.04347826, 0.05217391, 0.05217391,\n",
              "        0.06086957, 0.06086957, 0.07826087, 0.07826087, 0.08695652,\n",
              "        0.08695652, 0.09565217, 0.09565217, 0.10434783, 0.10434783,\n",
              "        0.23478261, 0.23478261, 0.31304348, 0.31304348, 0.36521739,\n",
              "        0.36521739, 0.55652174, 0.55652174, 0.67826087, 0.67826087,\n",
              "        0.69565217, 0.69565217, 1.        ]),\n",
              " array([0.        , 0.01176471, 0.47058824, 0.47058824, 0.48235294,\n",
              "        0.48235294, 0.56470588, 0.56470588, 0.63529412, 0.63529412,\n",
              "        0.68235294, 0.68235294, 0.71764706, 0.71764706, 0.72941176,\n",
              "        0.72941176, 0.77647059, 0.77647059, 0.81176471, 0.81176471,\n",
              "        0.85882353, 0.85882353, 0.91764706, 0.91764706, 0.92941176,\n",
              "        0.92941176, 0.94117647, 0.94117647, 0.95294118, 0.95294118,\n",
              "        0.96470588, 0.96470588, 0.97647059, 0.97647059, 0.98823529,\n",
              "        0.98823529, 1.        , 1.        ]))"
            ]
          },
          "metadata": {
            "tags": []
          },
          "execution_count": 21
        }
      ]
    },
    {
      "cell_type": "code",
      "metadata": {
        "id": "V5gIDBBbK2qv",
        "outputId": "5ac58e90-8a12-43ab-b2cc-10f61437a4a3",
        "colab": {
          "base_uri": "https://localhost:8080/"
        }
      },
      "source": [
        "knn_fpr, knn_tpr"
      ],
      "execution_count": 22,
      "outputs": [
        {
          "output_type": "execute_result",
          "data": {
            "text/plain": [
              "(array([0.        , 0.02608696, 0.10434783, 0.39130435, 0.74782609,\n",
              "        0.93913043, 1.        ]),\n",
              " array([0.        , 0.04705882, 0.31764706, 0.77647059, 0.95294118,\n",
              "        0.97647059, 1.        ]))"
            ]
          },
          "metadata": {
            "tags": []
          },
          "execution_count": 22
        }
      ]
    },
    {
      "cell_type": "markdown",
      "metadata": {
        "id": "4UY9l3r7K_8b"
      },
      "source": [
        "**Plot the ROC curve**"
      ]
    },
    {
      "cell_type": "code",
      "metadata": {
        "id": "_pXl8CDqLCwz",
        "outputId": "ea83defb-d320-432f-c1c9-40a95dc8e4dc",
        "colab": {
          "base_uri": "https://localhost:8080/",
          "height": 313
        }
      },
      "source": [
        "import matplotlib.pyplot as plt\n",
        "\n",
        "plt.plot(r_fpr, r_tpr, linestyle='--', label='Random prediction (AUROC = %0.3f)' % r_auc)\n",
        "plt.plot(rf_fpr, rf_tpr, marker='.', label='Random Forest (AUROC = %0.3f)' % rf_auc)\n",
        "plt.plot(nb_fpr, nb_tpr, marker='.', label='Naive Bayes (AUROC = %0.3f)' % nb_auc)\n",
        "plt.plot(knn_fpr, knn_tpr, marker='.', label='K Nearest Neighbors (AUROC = %0.3f)' % knn_auc)\n",
        "plt.title('ROC Plot')\n",
        "plt.xlabel('False Positive Rate')\n",
        "plt.ylabel('True Positive Rate')\n",
        "plt.legend() "
      ],
      "execution_count": 23,
      "outputs": [
        {
          "output_type": "execute_result",
          "data": {
            "text/plain": [
              "<matplotlib.legend.Legend at 0x7f90a440e7f0>"
            ]
          },
          "metadata": {
            "tags": []
          },
          "execution_count": 23
        },
        {
          "output_type": "display_data",
          "data": {
            "image/png": "[encoded data removed]",
            "text/plain": [
              "<Figure size 432x288 with 1 Axes>"
            ]
          },
          "metadata": {
            "tags": [],
            "needs_background": "light"
          }
        }
      ]
    }
  ]
}