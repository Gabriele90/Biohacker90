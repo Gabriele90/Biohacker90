{
  "nbformat": 4,
  "nbformat_minor": 0,
  "metadata": {
    "colab": {
      "name": "Creating a High Fidelity Dataset from Experimental Data.ipynb",
      "provenance": [],
      "collapsed_sections": [],
      "authorship_tag": "ABX9TyNjGpa3bR3Yo5xtBzHEpe01",
      "include_colab_link": true
    },
    "kernelspec": {
      "name": "python3",
      "display_name": "Python 3"
    }
  },
  "cells": [
    {
      "cell_type": "markdown",
      "metadata": {
        "id": "view-in-github",
        "colab_type": "text"
      },
      "source": [
        "<a href=\"https://colab.research.google.com/github/Gabriele90/Biohacker90/blob/main/Creating_a_High_Fidelity_Dataset_from_Experimental_Data.ipynb\" target=\"_parent\"><img src=\"https://colab.research.google.com/assets/colab-badge.svg\" alt=\"Open In Colab\"/></a>"
      ]
    },
    {
      "cell_type": "markdown",
      "metadata": {
        "id": "TvVLaUPdV1an"
      },
      "source": [
        "**Creating a High Fidelity Dataset from Experimental Data**\n",
        "\n",
        "In this tutorial, we will look at what is involved in creating a new Dataset from experimental data. As we will see, the mechanics of creating the Dataset object is only a small part of the process. Most real datasets need significant cleanup and QA before they are suitable for training models."
      ]
    },
    {
      "cell_type": "markdown",
      "metadata": {
        "id": "ebBinJ2jWSPX"
      },
      "source": [
        "**Setup**"
      ]
    },
    {
      "cell_type": "code",
      "metadata": {
        "colab": {
          "base_uri": "https://localhost:8080/",
          "height": 679
        },
        "id": "SToBvCteV0HT",
        "outputId": "d65b40b0-2ba8-4f60-a21d-781887b230d7"
      },
      "source": [
        "!curl -Lo conda_installer.py https://raw.githubusercontent.com/deepchem/deepchem/master/scripts/colab_install.py\n",
        "import conda_installer\n",
        "conda_installer.install()\n",
        "!/root/miniconda/bin/conda info -e\n",
        "\n",
        "!pip install --pre deepchem\n",
        "import deepchem\n",
        "deepchem.__version__"
      ],
      "execution_count": 1,
      "outputs": [
        {
          "output_type": "stream",
          "text": [
            "  % Total    % Received % Xferd  Average Speed   Time    Time     Time  Current\n",
            "                                 Dload  Upload   Total   Spent    Left  Speed\n",
            "100  3490  100  3490    0     0  20057      0 --:--:-- --:--:-- --:--:-- 20173\n"
          ],
          "name": "stdout"
        },
        {
          "output_type": "stream",
          "text": [
            "add /root/miniconda/lib/python3.6/site-packages to PYTHONPATH\n",
            "python version: 3.6.9\n",
            "fetching installer from https://repo.continuum.io/miniconda/Miniconda3-latest-Linux-x86_64.sh\n",
            "done\n",
            "installing miniconda to /root/miniconda\n",
            "done\n",
            "installing rdkit, openmm, pdbfixer\n",
            "added conda-forge to channels\n",
            "added omnia to channels\n",
            "done\n",
            "conda packages installation finished!\n"
          ],
          "name": "stderr"
        },
        {
          "output_type": "stream",
          "text": [
            "# conda environments:\n",
            "#\n",
            "base                  *  /root/miniconda\n",
            "\n",
            "Collecting deepchem\n",
            "\u001b[?25l  Downloading https://files.pythonhosted.org/packages/30/5c/ab3d2efc10f29b71e2b09d0ddc62a767c5f2ab0007914e673b8ff2c2a905/deepchem-2.4.0rc1.dev20201116174536.tar.gz (401kB)\n",
            "\u001b[K     |████████████████████████████████| 409kB 4.3MB/s \n",
            "\u001b[?25hRequirement already satisfied: joblib in /usr/local/lib/python3.6/dist-packages (from deepchem) (0.17.0)\n",
            "Requirement already satisfied: numpy in /usr/local/lib/python3.6/dist-packages (from deepchem) (1.18.5)\n",
            "Requirement already satisfied: pandas in /usr/local/lib/python3.6/dist-packages (from deepchem) (1.1.4)\n",
            "Requirement already satisfied: scikit-learn in /usr/local/lib/python3.6/dist-packages (from deepchem) (0.22.2.post1)\n",
            "Requirement already satisfied: scipy in /usr/local/lib/python3.6/dist-packages (from deepchem) (1.4.1)\n",
            "Requirement already satisfied: pytz>=2017.2 in /usr/local/lib/python3.6/dist-packages (from pandas->deepchem) (2018.9)\n",
            "Requirement already satisfied: python-dateutil>=2.7.3 in /usr/local/lib/python3.6/dist-packages (from pandas->deepchem) (2.8.1)\n",
            "Requirement already satisfied: six>=1.5 in /usr/local/lib/python3.6/dist-packages (from python-dateutil>=2.7.3->pandas->deepchem) (1.15.0)\n",
            "Building wheels for collected packages: deepchem\n",
            "  Building wheel for deepchem (setup.py) ... \u001b[?25l\u001b[?25hdone\n",
            "  Created wheel for deepchem: filename=deepchem-2.4.0rc1.dev20201118123653-cp36-none-any.whl size=516160 sha256=86e0e622aca82139320e2d53925fe062ddbb755790dc776f878e6f182ff089cb\n",
            "  Stored in directory: /root/.cache/pip/wheels/d0/62/46/62d0ff22abaf0778aa1ef94cde4282cb45fcb190f5cdd4ec75\n",
            "Successfully built deepchem\n",
            "Installing collected packages: deepchem\n",
            "Successfully installed deepchem-2.4.0rc1.dev20201118123653\n"
          ],
          "name": "stdout"
        },
        {
          "output_type": "execute_result",
          "data": {
            "application/vnd.google.colaboratory.intrinsic+json": {
              "type": "string"
            },
            "text/plain": [
              "'2.4.0-rc1.dev'"
            ]
          },
          "metadata": {
            "tags": []
          },
          "execution_count": 1
        }
      ]
    },
    {
      "cell_type": "markdown",
      "metadata": {
        "id": "KMmZwiieWda6"
      },
      "source": [
        "\n",
        "**Working With Data Files**\n",
        "\n",
        "Suppose you were given data collected by an experimental collaborator. You would like to use this data to construct a machine learning model.\n",
        "\n",
        "How do you transform this data into a dataset capable of creating a useful model?\n",
        "\n",
        "Building models from novel data can present several challenges. Perhaps the data was not recorded in a convenient manner. Additionally, perhaps the data contains noise. This is a common occurrence with, for example, biological assays due to the large number of external variables and the difficulty and cost associated with collecting multiple samples. This is a problem because you do not want your model to fit to this noise.\n",
        "\n",
        "Hence, there are two primary challenges:\n",
        "\n",
        "Parsing data\n",
        "De-noising data\n",
        "In this tutorial, we will walk through an example of curating a dataset from an excel spreadsheet of experimental drug measurements. Before we dive into this example though, let's do a brief review of DeepChem's input file handling and featurization capabilities."
      ]
    },
    {
      "cell_type": "markdown",
      "metadata": {
        "id": "PFHB6OUwWolI"
      },
      "source": [
        "**Parsing data**\n",
        "In order to read in the data, we will use the pandas data analysis library.\n",
        "In order to convert the drug names into smiles strings, we will use pubchempy. This isn't a standard DeepChem dependency, but you can install this library with conda install pubchempy."
      ]
    },
    {
      "cell_type": "code",
      "metadata": {
        "colab": {
          "base_uri": "https://localhost:8080/"
        },
        "id": "Nv_BdLPKWtdQ",
        "outputId": "72ee4a13-4c3f-46fa-cc5b-666a6a7c38a8"
      },
      "source": [
        "!pip install pubchempy"
      ],
      "execution_count": 5,
      "outputs": [
        {
          "output_type": "stream",
          "text": [
            "Collecting pubchempy\n",
            "  Downloading https://files.pythonhosted.org/packages/aa/fb/8de3aa9804b614dbc8dc5c16ed061d819cc360e0ddecda3dcd01c1552339/PubChemPy-1.0.4.tar.gz\n",
            "Building wheels for collected packages: pubchempy\n",
            "  Building wheel for pubchempy (setup.py) ... \u001b[?25l\u001b[?25hdone\n",
            "  Created wheel for pubchempy: filename=PubChemPy-1.0.4-cp36-none-any.whl size=13826 sha256=a0238a3216057c92fec9a9d7b8e6528901083e5fb9882ffbfb950b8b25fca9fe\n",
            "  Stored in directory: /root/.cache/pip/wheels/10/4d/51/6b843681a9a5aef35f0d0fbce243de46f85080036e16118752\n",
            "Successfully built pubchempy\n",
            "Installing collected packages: pubchempy\n",
            "Successfully installed pubchempy-1.0.4\n"
          ],
          "name": "stdout"
        }
      ]
    },
    {
      "cell_type": "code",
      "metadata": {
        "id": "Z1qz2kuaXJPB"
      },
      "source": [
        "import os\n",
        "import pandas as pd\n",
        "from pubchempy import get_cids, get_compounds"
      ],
      "execution_count": 6,
      "outputs": []
    },
    {
      "cell_type": "code",
      "metadata": {
        "id": "QDC2eYRUWzdI"
      },
      "source": [
        "import os\n",
        "from IPython.display import Image, display\n",
        "current_dir = os.path.dirname(os.path.realpath('__file__'))\n",
        "data_screenshot = os.path.join(current_dir, '/content/sample_data')"
      ],
      "execution_count": 9,
      "outputs": []
    },
    {
      "cell_type": "markdown",
      "metadata": {
        "id": "1twDPkagW3fz"
      },
      "source": [
        "We see the data of interest is on the second sheet, and contained in columns \"TA ID\", \"N #1 (%)\", and \"N #2 (%)\".\n",
        "\n",
        "Additionally, it appears much of this spreadsheet was formatted for human readability (multicolumn headers, column labels with spaces and symbols, etc.). This makes the creation of a neat dataframe object harder. For this reason we will cut everything that is unnecesary or inconvenient."
      ]
    },
    {
      "cell_type": "code",
      "metadata": {
        "id": "579fR2nXW7m3"
      },
      "source": [
        "import deepchem as dc\n",
        "dc.utils.download_url(\n",
        "    'https://github.com/deepchem/deepchem/raw/master/datasets/Positive%20Modulators%20Summary_%20918.TUC%20_%20v1.xlsx',\n",
        "    current_dir,\n",
        "    'Positive Modulators Summary_ 918.TUC _ v1.xlsx'\n",
        ")"
      ],
      "execution_count": 10,
      "outputs": []
    },
    {
      "cell_type": "code",
      "metadata": {
        "colab": {
          "base_uri": "https://localhost:8080/",
          "height": 271
        },
        "id": "AkzKRtOGXfKA",
        "outputId": "e6d760fb-1089-4eea-ad8f-c0c0ea4fcba5"
      },
      "source": [
        "raw_data_file = os.path.join(current_dir, 'Positive Modulators Summary_ 918.TUC _ v1.xlsx')\n",
        "raw_data_excel = pd.ExcelFile(raw_data_file)\n",
        "\n",
        "# second sheet only\n",
        "raw_data = raw_data_excel.parse(raw_data_excel.sheet_names[1])\n",
        "\n",
        "# preview 5 rows of raw dataframe\n",
        "raw_data.loc[raw_data.index[:5]]"
      ],
      "execution_count": 11,
      "outputs": [
        {
          "output_type": "execute_result",
          "data": {
            "text/html": [
              "<div>\n",
              "<style scoped>\n",
              "    .dataframe tbody tr th:only-of-type {\n",
              "        vertical-align: middle;\n",
              "    }\n",
              "\n",
              "    .dataframe tbody tr th {\n",
              "        vertical-align: top;\n",
              "    }\n",
              "\n",
              "    .dataframe thead th {\n",
              "        text-align: right;\n",
              "    }\n",
              "</style>\n",
              "<table border=\"1\" class=\"dataframe\">\n",
              "  <thead>\n",
              "    <tr style=\"text-align: right;\">\n",
              "      <th></th>\n",
              "      <th>Unnamed: 0</th>\n",
              "      <th>Unnamed: 1</th>\n",
              "      <th>Unnamed: 2</th>\n",
              "      <th>Metric #1 (-120 mV Peak)</th>\n",
              "      <th>Unnamed: 4</th>\n",
              "      <th>Unnamed: 5</th>\n",
              "      <th>Unnamed: 6</th>\n",
              "      <th>Unnamed: 7</th>\n",
              "    </tr>\n",
              "  </thead>\n",
              "  <tbody>\n",
              "    <tr>\n",
              "      <th>0</th>\n",
              "      <td>NaN</td>\n",
              "      <td>NaN</td>\n",
              "      <td>NaN</td>\n",
              "      <td>Vehicle</td>\n",
              "      <td>NaN</td>\n",
              "      <td>4</td>\n",
              "      <td>Replications</td>\n",
              "      <td>NaN</td>\n",
              "    </tr>\n",
              "    <tr>\n",
              "      <th>1</th>\n",
              "      <td>TA ##</td>\n",
              "      <td>Position</td>\n",
              "      <td>TA ID</td>\n",
              "      <td>Mean</td>\n",
              "      <td>SD</td>\n",
              "      <td>Threshold (%) = Mean + 4xSD</td>\n",
              "      <td>N #1 (%)</td>\n",
              "      <td>N #2 (%)</td>\n",
              "    </tr>\n",
              "    <tr>\n",
              "      <th>2</th>\n",
              "      <td>1</td>\n",
              "      <td>1-A02</td>\n",
              "      <td>Penicillin V Potassium</td>\n",
              "      <td>-12.8689</td>\n",
              "      <td>6.74705</td>\n",
              "      <td>14.1193</td>\n",
              "      <td>-10.404</td>\n",
              "      <td>-18.1929</td>\n",
              "    </tr>\n",
              "    <tr>\n",
              "      <th>3</th>\n",
              "      <td>2</td>\n",
              "      <td>1-A03</td>\n",
              "      <td>Mycophenolate Mofetil</td>\n",
              "      <td>-12.8689</td>\n",
              "      <td>6.74705</td>\n",
              "      <td>14.1193</td>\n",
              "      <td>-12.4453</td>\n",
              "      <td>-11.7175</td>\n",
              "    </tr>\n",
              "    <tr>\n",
              "      <th>4</th>\n",
              "      <td>3</td>\n",
              "      <td>1-A04</td>\n",
              "      <td>Metaxalone</td>\n",
              "      <td>-12.8689</td>\n",
              "      <td>6.74705</td>\n",
              "      <td>14.1193</td>\n",
              "      <td>-8.65572</td>\n",
              "      <td>-17.7753</td>\n",
              "    </tr>\n",
              "  </tbody>\n",
              "</table>\n",
              "</div>"
            ],
            "text/plain": [
              "  Unnamed: 0 Unnamed: 1  ...    Unnamed: 6 Unnamed: 7\n",
              "0        NaN        NaN  ...  Replications        NaN\n",
              "1      TA ##   Position  ...      N #1 (%)   N #2 (%)\n",
              "2          1      1-A02  ...       -10.404   -18.1929\n",
              "3          2      1-A03  ...      -12.4453   -11.7175\n",
              "4          3      1-A04  ...      -8.65572   -17.7753\n",
              "\n",
              "[5 rows x 8 columns]"
            ]
          },
          "metadata": {
            "tags": []
          },
          "execution_count": 11
        }
      ]
    },
    {
      "cell_type": "markdown",
      "metadata": {
        "id": "x01N4HiVXltN"
      },
      "source": [
        "Note that the actual row headers are stored in row 1 and not 0 above."
      ]
    },
    {
      "cell_type": "code",
      "metadata": {
        "id": "14MZhVIRXmPp"
      },
      "source": [
        "# remove column labels (rows 0 and 1), as we will replace them\n",
        "# only take data given in columns \"TA ID\" \"N #1 (%)\" (3) and \"N #2 (%)\" (4)\n",
        "raw_data = raw_data.iloc[2:, [2, 6, 7]]\n",
        "\n",
        "# reset the index so we keep the label but number from 0 again\n",
        "raw_data.reset_index(inplace=True)\n",
        "\n",
        "## rename columns\n",
        "raw_data.columns = ['label', 'drug', 'n1', 'n2']"
      ],
      "execution_count": 12,
      "outputs": []
    },
    {
      "cell_type": "markdown",
      "metadata": {
        "id": "7lr1QkuqXrX_"
      },
      "source": [
        "Preview cleaner dataframe"
      ]
    },
    {
      "cell_type": "code",
      "metadata": {
        "colab": {
          "base_uri": "https://localhost:8080/",
          "height": 202
        },
        "id": "hPCNkuWmXsBa",
        "outputId": "62a1cbd7-4e02-4560-cb5d-ebfc85164313"
      },
      "source": [
        "raw_data.loc[raw_data.index[:5]]"
      ],
      "execution_count": 13,
      "outputs": [
        {
          "output_type": "execute_result",
          "data": {
            "text/html": [
              "<div>\n",
              "<style scoped>\n",
              "    .dataframe tbody tr th:only-of-type {\n",
              "        vertical-align: middle;\n",
              "    }\n",
              "\n",
              "    .dataframe tbody tr th {\n",
              "        vertical-align: top;\n",
              "    }\n",
              "\n",
              "    .dataframe thead th {\n",
              "        text-align: right;\n",
              "    }\n",
              "</style>\n",
              "<table border=\"1\" class=\"dataframe\">\n",
              "  <thead>\n",
              "    <tr style=\"text-align: right;\">\n",
              "      <th></th>\n",
              "      <th>label</th>\n",
              "      <th>drug</th>\n",
              "      <th>n1</th>\n",
              "      <th>n2</th>\n",
              "    </tr>\n",
              "  </thead>\n",
              "  <tbody>\n",
              "    <tr>\n",
              "      <th>0</th>\n",
              "      <td>2</td>\n",
              "      <td>Penicillin V Potassium</td>\n",
              "      <td>-10.404</td>\n",
              "      <td>-18.1929</td>\n",
              "    </tr>\n",
              "    <tr>\n",
              "      <th>1</th>\n",
              "      <td>3</td>\n",
              "      <td>Mycophenolate Mofetil</td>\n",
              "      <td>-12.4453</td>\n",
              "      <td>-11.7175</td>\n",
              "    </tr>\n",
              "    <tr>\n",
              "      <th>2</th>\n",
              "      <td>4</td>\n",
              "      <td>Metaxalone</td>\n",
              "      <td>-8.65572</td>\n",
              "      <td>-17.7753</td>\n",
              "    </tr>\n",
              "    <tr>\n",
              "      <th>3</th>\n",
              "      <td>5</td>\n",
              "      <td>Terazosin·HCl</td>\n",
              "      <td>-11.5048</td>\n",
              "      <td>16.0825</td>\n",
              "    </tr>\n",
              "    <tr>\n",
              "      <th>4</th>\n",
              "      <td>6</td>\n",
              "      <td>Fluvastatin·Na</td>\n",
              "      <td>-11.1354</td>\n",
              "      <td>-14.553</td>\n",
              "    </tr>\n",
              "  </tbody>\n",
              "</table>\n",
              "</div>"
            ],
            "text/plain": [
              "   label                    drug       n1       n2\n",
              "0      2  Penicillin V Potassium  -10.404 -18.1929\n",
              "1      3   Mycophenolate Mofetil -12.4453 -11.7175\n",
              "2      4              Metaxalone -8.65572 -17.7753\n",
              "3      5           Terazosin·HCl -11.5048  16.0825\n",
              "4      6          Fluvastatin·Na -11.1354  -14.553"
            ]
          },
          "metadata": {
            "tags": []
          },
          "execution_count": 13
        }
      ]
    },
    {
      "cell_type": "markdown",
      "metadata": {
        "id": "VvkkgotlXynT"
      },
      "source": [
        "This formatting is closer to what we need.\n",
        "\n",
        "Now, let's take the drug names and get smiles strings for them (format needed for DeepChem)."
      ]
    },
    {
      "cell_type": "code",
      "metadata": {
        "id": "3ov1NTnhX05J"
      },
      "source": [
        "drugs = raw_data['drug'].values"
      ],
      "execution_count": 14,
      "outputs": []
    },
    {
      "cell_type": "markdown",
      "metadata": {
        "id": "Ml_0ZJHOX3nm"
      },
      "source": [
        "For many of these, we can retreive the smiles string via the canonical_smiles attribute of the get_compounds object (using pubchempy)"
      ]
    },
    {
      "cell_type": "code",
      "metadata": {
        "colab": {
          "base_uri": "https://localhost:8080/"
        },
        "id": "g4oev1acX6JC",
        "outputId": "173a164b-b314-4569-db50-6b049efa039a"
      },
      "source": [
        "get_compounds(drugs[1], 'name')"
      ],
      "execution_count": 21,
      "outputs": [
        {
          "output_type": "execute_result",
          "data": {
            "text/plain": [
              "[Compound(5281078)]"
            ]
          },
          "metadata": {
            "tags": []
          },
          "execution_count": 21
        }
      ]
    },
    {
      "cell_type": "code",
      "metadata": {
        "colab": {
          "base_uri": "https://localhost:8080/",
          "height": 35
        },
        "id": "XM9YmxyXYJwR",
        "outputId": "aae72f44-6920-4696-841e-1374eac6aad3"
      },
      "source": [
        "get_compounds(drugs[1], 'name')[0].canonical_smiles"
      ],
      "execution_count": 23,
      "outputs": [
        {
          "output_type": "execute_result",
          "data": {
            "application/vnd.google.colaboratory.intrinsic+json": {
              "type": "string"
            },
            "text/plain": [
              "'CC1=C2COC(=O)C2=C(C(=C1OC)CC=C(C)CCC(=O)OCCN3CCOCC3)O'"
            ]
          },
          "metadata": {
            "tags": []
          },
          "execution_count": 23
        }
      ]
    },
    {
      "cell_type": "markdown",
      "metadata": {
        "id": "90WOZxA1YTVA"
      },
      "source": [
        "\n",
        "However, some of these drug names have variables spaces and symbols (·, (±), etc.), and names that may not be readable by pubchempy.\n",
        "\n",
        "For this task, we will do a bit of hacking via regular expressions. Also, we notice that all ions are written in a shortened form that will need to be expanded. For this reason we use a dictionary, mapping the shortened ion names to versions recognizable to pubchempy.\n",
        "\n",
        "Unfortunately you may have several corner cases that will require more hacking."
      ]
    },
    {
      "cell_type": "code",
      "metadata": {
        "id": "bOmUbtvHYWUk"
      },
      "source": [
        "import re\n",
        "\n",
        "ion_replacements = {\n",
        "    'HBr': ' hydrobromide',\n",
        "    '2Br': ' dibromide',\n",
        "    'Br': ' bromide',\n",
        "    'HCl': ' hydrochloride',\n",
        "    '2H2O': ' dihydrate',\n",
        "    'H20': ' hydrate',\n",
        "    'Na': ' sodium'\n",
        "}\n",
        "\n",
        "ion_keys = ['H20', 'HBr', 'HCl', '2Br', '2H2O', 'Br', 'Na']\n",
        "\n",
        "def compound_to_smiles(cmpd):\n",
        "    # remove spaces and irregular characters\n",
        "    compound = re.sub(r'([^\\s\\w]|_)+', '', cmpd)\n",
        "                   \n",
        "    # replace ion names if needed\n",
        "    for ion in ion_keys:\n",
        "        if ion in compound:\n",
        "            compound = compound.replace(ion, ion_replacements[ion])\n",
        "\n",
        "    # query for cid first in order to avoid timeouterror\n",
        "    cid = get_cids(compound, 'name')[0]\n",
        "    smiles = get_compounds(cid)[0].canonical_smiles\n",
        "\n",
        "    return smiles"
      ],
      "execution_count": 24,
      "outputs": []
    },
    {
      "cell_type": "markdown",
      "metadata": {
        "id": "s34zuI1FYZ3q"
      },
      "source": [
        "Now let's actually convert all these compounds to smiles. This conversion will take a few minutes so might not be a bad spot to go grab a coffee or tea and take a break while this is running! Note that this conversion will sometimes fail so we've added some error handling to catch these cases below."
      ]
    },
    {
      "cell_type": "code",
      "metadata": {
        "colab": {
          "base_uri": "https://localhost:8080/"
        },
        "id": "r1lqIpx8YaXB",
        "outputId": "c4eb5a90-34b3-4bbc-82ef-bcd47a2cbce9"
      },
      "source": [
        "smiles_map = {}\n",
        "for i, compound in enumerate(drugs):\n",
        "    try:\n",
        "        smiles_map[compound] = compound_to_smiles(compound)\n",
        "    except:\n",
        "        print(\"Errored on %s\" % i)\n",
        "        continue"
      ],
      "execution_count": 25,
      "outputs": [
        {
          "output_type": "stream",
          "text": [
            "Errored on 162\n",
            "Errored on 303\n"
          ],
          "name": "stdout"
        }
      ]
    },
    {
      "cell_type": "code",
      "metadata": {
        "colab": {
          "base_uri": "https://localhost:8080/",
          "height": 202
        },
        "id": "EhKlpEC4YhJX",
        "outputId": "9f9fe01f-31e8-46c7-d2fd-6e3adabdf200"
      },
      "source": [
        "smiles_data = raw_data\n",
        "# map drug name to smiles string\n",
        "smiles_data['drug'] = smiles_data['drug'].apply(lambda x: smiles_map[x] if x in smiles_map else None)\n",
        "\n",
        "# preview smiles data\n",
        "smiles_data.loc[smiles_data.index[:5]]"
      ],
      "execution_count": 26,
      "outputs": [
        {
          "output_type": "execute_result",
          "data": {
            "text/html": [
              "<div>\n",
              "<style scoped>\n",
              "    .dataframe tbody tr th:only-of-type {\n",
              "        vertical-align: middle;\n",
              "    }\n",
              "\n",
              "    .dataframe tbody tr th {\n",
              "        vertical-align: top;\n",
              "    }\n",
              "\n",
              "    .dataframe thead th {\n",
              "        text-align: right;\n",
              "    }\n",
              "</style>\n",
              "<table border=\"1\" class=\"dataframe\">\n",
              "  <thead>\n",
              "    <tr style=\"text-align: right;\">\n",
              "      <th></th>\n",
              "      <th>label</th>\n",
              "      <th>drug</th>\n",
              "      <th>n1</th>\n",
              "      <th>n2</th>\n",
              "    </tr>\n",
              "  </thead>\n",
              "  <tbody>\n",
              "    <tr>\n",
              "      <th>0</th>\n",
              "      <td>2</td>\n",
              "      <td>CC1(C(N2C(S1)C(C2=O)NC(=O)COC3=CC=CC=C3)C(=O)[...</td>\n",
              "      <td>-10.404</td>\n",
              "      <td>-18.1929</td>\n",
              "    </tr>\n",
              "    <tr>\n",
              "      <th>1</th>\n",
              "      <td>3</td>\n",
              "      <td>CC1=C2COC(=O)C2=C(C(=C1OC)CC=C(C)CCC(=O)OCCN3C...</td>\n",
              "      <td>-12.4453</td>\n",
              "      <td>-11.7175</td>\n",
              "    </tr>\n",
              "    <tr>\n",
              "      <th>2</th>\n",
              "      <td>4</td>\n",
              "      <td>CC1=CC(=CC(=C1)OCC2CNC(=O)O2)C</td>\n",
              "      <td>-8.65572</td>\n",
              "      <td>-17.7753</td>\n",
              "    </tr>\n",
              "    <tr>\n",
              "      <th>3</th>\n",
              "      <td>5</td>\n",
              "      <td>COC1=C(C=C2C(=C1)C(=NC(=N2)N3CCN(CC3)C(=O)C4CC...</td>\n",
              "      <td>-11.5048</td>\n",
              "      <td>16.0825</td>\n",
              "    </tr>\n",
              "    <tr>\n",
              "      <th>4</th>\n",
              "      <td>6</td>\n",
              "      <td>CC(C)N1C2=CC=CC=C2C(=C1C=CC(CC(CC(=O)[O-])O)O)...</td>\n",
              "      <td>-11.1354</td>\n",
              "      <td>-14.553</td>\n",
              "    </tr>\n",
              "  </tbody>\n",
              "</table>\n",
              "</div>"
            ],
            "text/plain": [
              "   label                                               drug       n1       n2\n",
              "0      2  CC1(C(N2C(S1)C(C2=O)NC(=O)COC3=CC=CC=C3)C(=O)[...  -10.404 -18.1929\n",
              "1      3  CC1=C2COC(=O)C2=C(C(=C1OC)CC=C(C)CCC(=O)OCCN3C... -12.4453 -11.7175\n",
              "2      4                     CC1=CC(=CC(=C1)OCC2CNC(=O)O2)C -8.65572 -17.7753\n",
              "3      5  COC1=C(C=C2C(=C1)C(=NC(=N2)N3CCN(CC3)C(=O)C4CC... -11.5048  16.0825\n",
              "4      6  CC(C)N1C2=CC=CC=C2C(=C1C=CC(CC(CC(=O)[O-])O)O)... -11.1354  -14.553"
            ]
          },
          "metadata": {
            "tags": []
          },
          "execution_count": 26
        }
      ]
    },
    {
      "cell_type": "markdown",
      "metadata": {
        "id": "bBnNRZiOYlyV"
      },
      "source": [
        "Hooray, we have mapped each drug name to its corresponding smiles code.\n",
        "\n",
        "Now, we need to look at the data and remove as much noise as possible."
      ]
    },
    {
      "cell_type": "markdown",
      "metadata": {
        "id": "F4o-H70rYs78"
      },
      "source": [
        "**De-noising data**\n",
        "\n",
        "In machine learning, we know that there is no free lunch. You will need to spend time analyzing and understanding your data in order to frame your problem and determine the appropriate model framework. Treatment of your data will depend on the conclusions you gather from this process.\n",
        "\n",
        "Questions to ask yourself:\n",
        "\n",
        "I would like to build a model capable of predicting the affinity of an arbitrary small molecule drug to a particular ion channel protein\n",
        "\n",
        "For an input drug, data describing channel inhibition\n",
        "A few hundred drugs, with n=2"
      ]
    },
    {
      "cell_type": "code",
      "metadata": {
        "id": "DKGS6O5mZExP"
      },
      "source": [
        "import matplotlib.pyplot as plt\n",
        "%matplotlib inline\n",
        "\n",
        "import seaborn as sns\n",
        "sns.set_style('white')\n",
        "\n",
        "from rdkit import Chem\n",
        "from rdkit.Chem import AllChem\n",
        "from rdkit.Chem import Draw, PyMol, rdFMCS\n",
        "from rdkit.Chem.Draw import IPythonConsole\n",
        "from rdkit import rdBase\n",
        "import numpy as np"
      ],
      "execution_count": 27,
      "outputs": []
    },
    {
      "cell_type": "markdown",
      "metadata": {
        "id": "5fF_eE9vZM_I"
      },
      "source": [
        "Our goal is to build a small molecule model, so let's make sure our molecules are all small. This can be approximated by the length of each smiles string."
      ]
    },
    {
      "cell_type": "code",
      "metadata": {
        "colab": {
          "base_uri": "https://localhost:8080/",
          "height": 297
        },
        "id": "5NpWrb6-ZNqR",
        "outputId": "c73b17e4-85a5-4119-a473-16e2c0a4d9ac"
      },
      "source": [
        "smiles_data['len'] = [len(i) if i is not None else 0 for i in smiles_data['drug']]\n",
        "smiles_lens = [len(i) if i is not None else 0 for i in smiles_data['drug']]\n",
        "sns.histplot(smiles_lens)\n",
        "plt.xlabel('len(smiles)')\n",
        "plt.ylabel('probability')"
      ],
      "execution_count": 28,
      "outputs": [
        {
          "output_type": "execute_result",
          "data": {
            "text/plain": [
              "Text(0, 0.5, 'probability')"
            ]
          },
          "metadata": {
            "tags": []
          },
          "execution_count": 28
        },
        {
          "output_type": "display_data",
          "data": {
            "image/png": "[encoded data removed]",
            "text/plain": [
              "<Figure size 432x288 with 1 Axes>"
            ]
          },
          "metadata": {
            "tags": []
          }
        }
      ]
    },
    {
      "cell_type": "markdown",
      "metadata": {
        "id": "3cgCqZDNcRAe"
      },
      "source": [
        "Some of these look rather large, len(smiles) > 150. Let's see what they look like."
      ]
    },
    {
      "cell_type": "code",
      "metadata": {
        "colab": {
          "base_uri": "https://localhost:8080/",
          "height": 160
        },
        "id": "ouVz8hXTcR2R",
        "outputId": "c1932422-3c2b-42b3-978a-075820d19af1"
      },
      "source": [
        "# indices of large looking molecules\n",
        "suspiciously_large = np.where(np.array(smiles_lens) > 150)[0]\n",
        "\n",
        "# corresponding smiles string\n",
        "long_smiles = smiles_data.loc[smiles_data.index[suspiciously_large]]['drug'].values\n",
        "\n",
        "# look\n",
        "Draw._MolsToGridImage([Chem.MolFromSmiles(i) for i in long_smiles], molsPerRow=6)"
      ],
      "execution_count": 29,
      "outputs": [
        {
          "output_type": "execute_result",
          "data": {
            "image/png": "[encoded data removed]",
            "text/plain": [
              "<PIL.PngImagePlugin.PngImageFile image mode=RGB size=1200x200 at 0x7FCF5922A1D0>"
            ]
          },
          "metadata": {
            "tags": []
          },
          "execution_count": 29
        }
      ]
    },
    {
      "cell_type": "markdown",
      "metadata": {
        "id": "kZlRoNRPcaQr"
      },
      "source": [
        "As suspected, these are not small molecules, so we will remove them from the dataset. The argument here is that these molecules could register as inhibitors simply because they are large. They are more likely to sterically blocks the channel, rather than diffuse inside and bind (which is what we are interested in).\n",
        "\n",
        "The lesson here is to remove data that does not fit your use case."
      ]
    },
    {
      "cell_type": "code",
      "metadata": {
        "id": "JRXqxtlZceP7"
      },
      "source": [
        "smiles_data = smiles_data[~smiles_data['drug'].isin(long_smiles)]"
      ],
      "execution_count": 30,
      "outputs": []
    },
    {
      "cell_type": "markdown",
      "metadata": {
        "id": "NaYwPu4WchXl"
      },
      "source": [
        "Now, let's look at the numerical structure of the dataset.\n",
        "\n",
        "First, check for NaNs."
      ]
    },
    {
      "cell_type": "code",
      "metadata": {
        "colab": {
          "base_uri": "https://localhost:8080/",
          "height": 386
        },
        "id": "fTk6mUBiciEj",
        "outputId": "5fdb265b-5297-43d8-c350-f75881ac4f5b"
      },
      "source": [
        "nan_rows = smiles_data[smiles_data.isnull().T.any().T]\n",
        "nan_rows[['n1', 'n2']]"
      ],
      "execution_count": 31,
      "outputs": [
        {
          "output_type": "execute_result",
          "data": {
            "text/html": [
              "<div>\n",
              "<style scoped>\n",
              "    .dataframe tbody tr th:only-of-type {\n",
              "        vertical-align: middle;\n",
              "    }\n",
              "\n",
              "    .dataframe tbody tr th {\n",
              "        vertical-align: top;\n",
              "    }\n",
              "\n",
              "    .dataframe thead th {\n",
              "        text-align: right;\n",
              "    }\n",
              "</style>\n",
              "<table border=\"1\" class=\"dataframe\">\n",
              "  <thead>\n",
              "    <tr style=\"text-align: right;\">\n",
              "      <th></th>\n",
              "      <th>n1</th>\n",
              "      <th>n2</th>\n",
              "    </tr>\n",
              "  </thead>\n",
              "  <tbody>\n",
              "    <tr>\n",
              "      <th>62</th>\n",
              "      <td>NaN</td>\n",
              "      <td>-7.8266</td>\n",
              "    </tr>\n",
              "    <tr>\n",
              "      <th>162</th>\n",
              "      <td>-12.8456</td>\n",
              "      <td>-11.4627</td>\n",
              "    </tr>\n",
              "    <tr>\n",
              "      <th>175</th>\n",
              "      <td>NaN</td>\n",
              "      <td>-6.61225</td>\n",
              "    </tr>\n",
              "    <tr>\n",
              "      <th>187</th>\n",
              "      <td>NaN</td>\n",
              "      <td>-8.23326</td>\n",
              "    </tr>\n",
              "    <tr>\n",
              "      <th>233</th>\n",
              "      <td>-8.21781</td>\n",
              "      <td>NaN</td>\n",
              "    </tr>\n",
              "    <tr>\n",
              "      <th>262</th>\n",
              "      <td>NaN</td>\n",
              "      <td>-12.8788</td>\n",
              "    </tr>\n",
              "    <tr>\n",
              "      <th>288</th>\n",
              "      <td>NaN</td>\n",
              "      <td>-2.34264</td>\n",
              "    </tr>\n",
              "    <tr>\n",
              "      <th>300</th>\n",
              "      <td>NaN</td>\n",
              "      <td>-8.19936</td>\n",
              "    </tr>\n",
              "    <tr>\n",
              "      <th>301</th>\n",
              "      <td>NaN</td>\n",
              "      <td>-10.4633</td>\n",
              "    </tr>\n",
              "    <tr>\n",
              "      <th>303</th>\n",
              "      <td>-5.61374</td>\n",
              "      <td>8.42267</td>\n",
              "    </tr>\n",
              "    <tr>\n",
              "      <th>311</th>\n",
              "      <td>NaN</td>\n",
              "      <td>-8.78722</td>\n",
              "    </tr>\n",
              "  </tbody>\n",
              "</table>\n",
              "</div>"
            ],
            "text/plain": [
              "          n1       n2\n",
              "62       NaN  -7.8266\n",
              "162 -12.8456 -11.4627\n",
              "175      NaN -6.61225\n",
              "187      NaN -8.23326\n",
              "233 -8.21781      NaN\n",
              "262      NaN -12.8788\n",
              "288      NaN -2.34264\n",
              "300      NaN -8.19936\n",
              "301      NaN -10.4633\n",
              "303 -5.61374  8.42267\n",
              "311      NaN -8.78722"
            ]
          },
          "metadata": {
            "tags": []
          },
          "execution_count": 31
        }
      ]
    },
    {
      "cell_type": "markdown",
      "metadata": {
        "id": "_Pi8nXDTcpGW"
      },
      "source": [
        "\n",
        "We don't trust n=1, so I will throw these out.\n",
        "\n",
        "Then, let's examine the distribution of n1 and n2."
      ]
    },
    {
      "cell_type": "code",
      "metadata": {
        "colab": {
          "base_uri": "https://localhost:8080/",
          "height": 459
        },
        "id": "odTDZGrxcq29",
        "outputId": "8cdc7355-6e07-477d-9c16-fb554ba9cc60"
      },
      "source": [
        "df = smiles_data.dropna(axis=0, how='any')\n",
        "# seaborn jointplot will allow us to compare n1 and n2, and plot each marginal\n",
        "sns.jointplot(x='n1', y='n2', data=smiles_data)"
      ],
      "execution_count": 32,
      "outputs": [
        {
          "output_type": "execute_result",
          "data": {
            "text/plain": [
              "<seaborn.axisgrid.JointGrid at 0x7fcf58d9c710>"
            ]
          },
          "metadata": {
            "tags": []
          },
          "execution_count": 32
        },
        {
          "output_type": "display_data",
          "data": {
            "image/png": "[encoded data removed]",
            "text/plain": [
              "<Figure size 432x432 with 3 Axes>"
            ]
          },
          "metadata": {
            "tags": []
          }
        }
      ]
    },
    {
      "cell_type": "markdown",
      "metadata": {
        "id": "b3BrzDpdcx-f"
      },
      "source": [
        "We see that most of the data is contained in the gaussian-ish blob centered a bit below zero. We see that there are a few clearly active datapoints located in the bottom left, and one on the top right. These are all distinguished from the majority of the data. How do we handle the data in the blob?\n",
        "\n",
        "Because n1 and n2 represent the same measurement, ideally they would be of the same value. This plot should be tightly aligned to the diagonal, and the pearson correlation coefficient should be 1. We see this is not the case. This helps gives us an idea of the error of our assay.\n",
        "\n",
        "Let's look at the error more closely, plotting in the distribution of (n1-n2)."
      ]
    },
    {
      "cell_type": "code",
      "metadata": {
        "colab": {
          "base_uri": "https://localhost:8080/",
          "height": 297
        },
        "id": "bvB7Omtfcy1q",
        "outputId": "8fcf87a4-bd03-4839-c4d4-f5791d072b2b"
      },
      "source": [
        "diff_df = df['n1'] - df['n2']\n",
        "\n",
        "sns.histplot(diff_df)\n",
        "plt.xlabel('difference in n')\n",
        "plt.ylabel('probability')"
      ],
      "execution_count": 33,
      "outputs": [
        {
          "output_type": "execute_result",
          "data": {
            "text/plain": [
              "Text(0, 0.5, 'probability')"
            ]
          },
          "metadata": {
            "tags": []
          },
          "execution_count": 33
        },
        {
          "output_type": "display_data",
          "data": {
            "image/png": "[encoded data removed]",
            "text/plain": [
              "<Figure size 432x288 with 1 Axes>"
            ]
          },
          "metadata": {
            "tags": []
          }
        }
      ]
    },
    {
      "cell_type": "markdown",
      "metadata": {
        "id": "oDcLqDclc6pd"
      },
      "source": [
        "This looks pretty gaussian, let's get the 95% confidence interval by fitting a gaussian via scipy, and taking 2*the standard deviation"
      ]
    },
    {
      "cell_type": "code",
      "metadata": {
        "colab": {
          "base_uri": "https://localhost:8080/"
        },
        "id": "UVRR2GTBc8KY",
        "outputId": "05484a6e-f47c-4223-a5da-6041b187bac3"
      },
      "source": [
        "from scipy import stats\n",
        "mean, std = stats.norm.fit(np.asarray(diff_df, dtype=np.float32))\n",
        "ci_95 = std*2\n",
        "ci_95"
      ],
      "execution_count": 34,
      "outputs": [
        {
          "output_type": "execute_result",
          "data": {
            "text/plain": [
              "17.75387954711914"
            ]
          },
          "metadata": {
            "tags": []
          },
          "execution_count": 34
        }
      ]
    },
    {
      "cell_type": "markdown",
      "metadata": {
        "id": "k1Y3WT4rdBs0"
      },
      "source": [
        "Now, I don't trust the data outside of the confidence interval, and will therefore drop these datapoints from df.\n",
        "\n",
        "For example, in the plot above, at least one datapoint has n1-n2 > 60. This is disconcerting."
      ]
    },
    {
      "cell_type": "code",
      "metadata": {
        "colab": {
          "base_uri": "https://localhost:8080/",
          "height": 459
        },
        "id": "rhPfNdBudCXt",
        "outputId": "1ee57040-1955-4751-f2a6-e2dcd5478cbb"
      },
      "source": [
        "noisy = diff_df[abs(diff_df) > ci_95]\n",
        "df = df.drop(noisy.index)\n",
        "sns.jointplot(x='n1', y='n2', data=df)"
      ],
      "execution_count": 35,
      "outputs": [
        {
          "output_type": "execute_result",
          "data": {
            "text/plain": [
              "<seaborn.axisgrid.JointGrid at 0x7fcf54af3b70>"
            ]
          },
          "metadata": {
            "tags": []
          },
          "execution_count": 35
        },
        {
          "output_type": "display_data",
          "data": {
            "image/png": "[encoded data removed]",
            "text/plain": [
              "<Figure size 432x432 with 3 Axes>"
            ]
          },
          "metadata": {
            "tags": []
          }
        }
      ]
    },
    {
      "cell_type": "markdown",
      "metadata": {
        "id": "WYXx2ftWdGwC"
      },
      "source": [
        "Now that data looks much better!\n",
        "\n",
        "So, let's average n1 and n2, and take the error bar to be ci_95."
      ]
    },
    {
      "cell_type": "code",
      "metadata": {
        "id": "6_3dcZ5PdHew"
      },
      "source": [
        "avg_df = df[['label', 'drug']].copy()\n",
        "n_avg = df[['n1', 'n2']].mean(axis=1)\n",
        "avg_df['n'] = n_avg\n",
        "avg_df.sort_values('n', inplace=True)"
      ],
      "execution_count": 36,
      "outputs": []
    },
    {
      "cell_type": "markdown",
      "metadata": {
        "id": "_h8NlX7WdLYx"
      },
      "source": [
        "\n",
        "Now, let's look at the sorted data with error bars."
      ]
    },
    {
      "cell_type": "code",
      "metadata": {
        "colab": {
          "base_uri": "https://localhost:8080/",
          "height": 297
        },
        "id": "xt_oa-16dMNp",
        "outputId": "66dae97d-299a-4c3f-d6ef-341b79f6f1a0"
      },
      "source": [
        "plt.errorbar(np.arange(avg_df.shape[0]), avg_df['n'], yerr=ci_95, fmt='o')\n",
        "plt.xlabel('drug, sorted')\n",
        "plt.ylabel('activity')"
      ],
      "execution_count": 37,
      "outputs": [
        {
          "output_type": "execute_result",
          "data": {
            "text/plain": [
              "Text(0, 0.5, 'activity')"
            ]
          },
          "metadata": {
            "tags": []
          },
          "execution_count": 37
        },
        {
          "output_type": "display_data",
          "data": {
            "image/png": "[encoded data removed]",
            "text/plain": [
              "<Figure size 432x288 with 1 Axes>"
            ]
          },
          "metadata": {
            "tags": []
          }
        }
      ]
    },
    {
      "cell_type": "markdown",
      "metadata": {
        "id": "apgkIHafdRV0"
      },
      "source": [
        "Now, let's identify our active compounds.\n",
        "\n",
        "In my case, this required domain knowledge. Having worked in this area, and having consulted with professors specializing on this channel, I am interested in compounds where the absolute value of the activity is greater than 25. This relates to the desired drug potency we would like to model.\n",
        "\n",
        "If you are not certain how to draw the line between active and inactive, this cutoff could potentially be treated as a hyperparameter."
      ]
    },
    {
      "cell_type": "code",
      "metadata": {
        "colab": {
          "base_uri": "https://localhost:8080/",
          "height": 283
        },
        "id": "-KoIz69fdSE_",
        "outputId": "6fcdca96-550a-41b5-859d-bfc22bf0ecb0"
      },
      "source": [
        "actives = avg_df[abs(avg_df['n'])-ci_95 > 25]['n']\n",
        "plt.errorbar(np.arange(actives.shape[0]), actives, yerr=ci_95, fmt='o')"
      ],
      "execution_count": 38,
      "outputs": [
        {
          "output_type": "execute_result",
          "data": {
            "text/plain": [
              "<ErrorbarContainer object of 3 artists>"
            ]
          },
          "metadata": {
            "tags": []
          },
          "execution_count": 38
        },
        {
          "output_type": "display_data",
          "data": {
            "image/png": "[encoded data removed]",
            "text/plain": [
              "<Figure size 432x288 with 1 Axes>"
            ]
          },
          "metadata": {
            "tags": []
          }
        }
      ]
    },
    {
      "cell_type": "code",
      "metadata": {
        "colab": {
          "base_uri": "https://localhost:8080/"
        },
        "id": "8QDSJY50dUCI",
        "outputId": "b6036c88-5def-4011-e666-856d21adb8c5"
      },
      "source": [
        "print (raw_data.shape, avg_df.shape, len(actives.index))"
      ],
      "execution_count": 39,
      "outputs": [
        {
          "output_type": "stream",
          "text": [
            "(430, 5) (392, 3) 6\n"
          ],
          "name": "stdout"
        }
      ]
    },
    {
      "cell_type": "markdown",
      "metadata": {
        "id": "82yjDwCCddqM"
      },
      "source": [
        "In summary, we have:\n",
        "\n",
        "Removed data that did not address the question we hope to answer (small molecules only)\n",
        "Dropped NaNs\n",
        "Determined the noise of our measurements\n",
        "Removed exceptionally noisy datapoints\n",
        "Identified actives (using domain knowledge to determine a threshold)"
      ]
    },
    {
      "cell_type": "markdown",
      "metadata": {
        "id": "iQJzIVh0dnBS"
      },
      "source": [
        "**Determine model type, final form of dataset, and sanity load**\n",
        "\n",
        "Now, what model framework should we use?\n",
        "\n",
        "Given that we have 392 datapoints and 6 actives, this data will be used to build a low data one-shot classifier (10.1021/acscentsci.6b00367). If there were datasets of similar character, transfer learning could potentially be used, but this is not the case at the moment.\n",
        "\n",
        "Let's apply logic to our dataframe in order to cast it into a binary format, suitable for classification."
      ]
    },
    {
      "cell_type": "code",
      "metadata": {
        "id": "lD4ogwExduAq"
      },
      "source": [
        "# 1 if condition for active is met, 0 otherwise\n",
        "avg_df.loc[:, 'active'] = (abs(avg_df['n'])-ci_95 > 25).astype(int)"
      ],
      "execution_count": 40,
      "outputs": []
    },
    {
      "cell_type": "markdown",
      "metadata": {
        "id": "bb8ojgmIdzN5"
      },
      "source": [
        "Now, save this to file."
      ]
    },
    {
      "cell_type": "code",
      "metadata": {
        "id": "jtTgf1NVdfbS"
      },
      "source": [
        "avg_df.to_csv('modulators.csv', index=False)"
      ],
      "execution_count": 41,
      "outputs": []
    },
    {
      "cell_type": "markdown",
      "metadata": {
        "id": "c5Pegxn-d5E4"
      },
      "source": [
        "Now, we will convert this dataframe to a DeepChem dataset."
      ]
    },
    {
      "cell_type": "code",
      "metadata": {
        "id": "2uneNrkHd51d"
      },
      "source": [
        "dataset_file = 'modulators.csv'\n",
        "task = ['active']\n",
        "featurizer_func = dc.feat.ConvMolFeaturizer()\n",
        "\n",
        "loader = dc.data.CSVLoader(tasks=task, feature_field='drug', featurizer=featurizer_func)\n",
        "dataset = loader.create_dataset(dataset_file)"
      ],
      "execution_count": 42,
      "outputs": []
    },
    {
      "cell_type": "markdown",
      "metadata": {
        "id": "0R-0lL-veBl9"
      },
      "source": [
        "\n",
        "Lastly, it is often advantageous to numerically transform the data in some way. For example, sometimes it is useful to normalize the data, or to zero the mean. This depends in the task at hand.\n",
        "\n",
        "Built into DeepChem are many useful transformers, located in the deepchem.transformers.transformers base class.\n",
        "\n",
        "Because this is a classification model, and the number of actives is low, I will apply a balancing transformer. I treated this transformer as a hyperparameter when I began training models. It proved to unambiguously improve model performance."
      ]
    },
    {
      "cell_type": "code",
      "metadata": {
        "id": "ZcXsCLmXeCSR"
      },
      "source": [
        "transformer = dc.trans.BalancingTransformer(dataset=dataset)\n",
        "dataset = transformer.transform(dataset)"
      ],
      "execution_count": 43,
      "outputs": []
    },
    {
      "cell_type": "markdown",
      "metadata": {
        "id": "VrbrpZtMeHZD"
      },
      "source": [
        "\n",
        "Now let's save the balanced dataset object to disk, and then reload it as a sanity check."
      ]
    },
    {
      "cell_type": "code",
      "metadata": {
        "id": "nT6AP8hSeH8d"
      },
      "source": [
        "dc.utils.save_to_disk(dataset, 'balanced_dataset.joblib')\n",
        "balanced_dataset = dc.utils.load_from_disk('balanced_dataset.joblib')"
      ],
      "execution_count": 44,
      "outputs": []
    }
  ]
}