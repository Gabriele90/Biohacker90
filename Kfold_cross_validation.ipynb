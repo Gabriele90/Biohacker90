{
  "nbformat": 4,
  "nbformat_minor": 0,
  "metadata": {
    "colab": {
      "name": "Kfold_cross_validation.ipynb",
      "provenance": [],
      "collapsed_sections": [],
      "authorship_tag": "ABX9TyPQWWf9GpD1Y1sldH1smI/w",
      "include_colab_link": true
    },
    "kernelspec": {
      "name": "python3",
      "display_name": "Python 3"
    }
  },
  "cells": [
    {
      "cell_type": "markdown",
      "metadata": {
        "id": "view-in-github",
        "colab_type": "text"
      },
      "source": [
        "<a href=\"https://colab.research.google.com/github/Gabriele90/Biohacker90/blob/main/Kfold_cross_validation.ipynb\" target=\"_parent\"><img src=\"https://colab.research.google.com/assets/colab-badge.svg\" alt=\"Open In Colab\"/></a>"
      ]
    },
    {
      "cell_type": "markdown",
      "metadata": {
        "id": "YeAzxc6gic_T"
      },
      "source": [
        "**K Fold Cross Validation**\n",
        "\n",
        "In case of K Fold cross validation input data is divided into ‘K’ number of folds, hence the name K Fold. Suppose we have divided data into 5 folds i.e. K=5. Now we have 5 sets of data to train and test our model. So the model will get trained and tested 5 times, but for every iteration we will use one fold as test data and rest all as training data. Note that for every iteration, data in training and test fold changes which adds to the effectiveness of this method.\n",
        "\n",
        "This significantly reduces underfitting as we are using most of the data for training(fitting), and also significantly reduces overfitting as most of the data is also being used in validation set. K Fold cross validation helps to generalize the machine learning model, which results in better predictions on unknown data."
      ]
    },
    {
      "cell_type": "markdown",
      "metadata": {
        "id": "hZ6D147qiyDb"
      },
      "source": [
        "**Import Libraries**"
      ]
    },
    {
      "cell_type": "code",
      "metadata": {
        "id": "SwOS9tsUiBoD"
      },
      "source": [
        "import pandas as pd\n",
        "import numpy as np\n",
        "from sklearn.model_selection import StratifiedKFold\n",
        "from sklearn import linear_model, tree, ensemble\n",
        "from sklearn.model_selection import train_test_split\n",
        "from sklearn.model_selection import KFold\n",
        "from sklearn.model_selection import cross_val_score\n",
        "from sklearn.linear_model import LinearRegression\n",
        "from numpy import mean\n",
        "from numpy import absolute\n",
        "from numpy import sqrt"
      ],
      "execution_count": 1,
      "outputs": []
    },
    {
      "cell_type": "markdown",
      "metadata": {
        "id": "KDn4kwbPi00A"
      },
      "source": [
        "**Load Dataset**"
      ]
    },
    {
      "cell_type": "code",
      "metadata": {
        "colab": {
          "base_uri": "https://localhost:8080/",
          "height": 271
        },
        "id": "bJzfRAabi5vC",
        "outputId": "ae7d9623-fd54-4f51-b156-847285281538"
      },
      "source": [
        "train_data = pd.read_csv('train_molecule_new_features.csv')\n",
        "# Remove rows with missing target values\n",
        "train_data.dropna(axis=0, subset=['Polar Surface Area'], inplace=True)\n",
        "y = train_data # Target variable             \n",
        "train_data.drop(['Polar Surface Area'], axis=1, inplace=True) # Removing target variable from training data\n",
        "\n",
        "train_data.drop(['PEOE_VSA1','Fingerprint','smiles','target'], axis=1, inplace=True) # Remove columns with null values\n",
        "\n",
        "# Select numeric columns only\n",
        "numeric_cols = [cname for cname in train_data.columns if train_data[cname].dtype in ['int64', 'float64']]\n",
        "X = train_data[numeric_cols].copy()\n",
        "\n",
        "print(\"Shape of input data: {} and shape of target variable: {}\".format(X.shape, y.shape))\n",
        "\n",
        "X.head()"
      ],
      "execution_count": 2,
      "outputs": [
        {
          "output_type": "stream",
          "text": [
            "Shape of input data: (7464, 10) and shape of target variable: (7464, 10)\n"
          ],
          "name": "stdout"
        },
        {
          "output_type": "execute_result",
          "data": {
            "text/html": [
              "<div>\n",
              "<style scoped>\n",
              "    .dataframe tbody tr th:only-of-type {\n",
              "        vertical-align: middle;\n",
              "    }\n",
              "\n",
              "    .dataframe tbody tr th {\n",
              "        vertical-align: top;\n",
              "    }\n",
              "\n",
              "    .dataframe thead th {\n",
              "        text-align: right;\n",
              "    }\n",
              "</style>\n",
              "<table border=\"1\" class=\"dataframe\">\n",
              "  <thead>\n",
              "    <tr style=\"text-align: right;\">\n",
              "      <th></th>\n",
              "      <th>index</th>\n",
              "      <th>Maximum Degree</th>\n",
              "      <th>Minimum Degree</th>\n",
              "      <th>Molecular Weight</th>\n",
              "      <th>Number of H-Bond Donors</th>\n",
              "      <th>Number of Rings</th>\n",
              "      <th>Number of Rotatable Bonds</th>\n",
              "      <th>fr_phos</th>\n",
              "      <th>aromatic_carbocycles</th>\n",
              "      <th>MolLogP</th>\n",
              "    </tr>\n",
              "  </thead>\n",
              "  <tbody>\n",
              "    <tr>\n",
              "      <th>0</th>\n",
              "      <td>2808</td>\n",
              "      <td>3.0</td>\n",
              "      <td>1.0</td>\n",
              "      <td>98.105</td>\n",
              "      <td>1.0</td>\n",
              "      <td>1.0</td>\n",
              "      <td>0.0</td>\n",
              "      <td>0</td>\n",
              "      <td>0</td>\n",
              "      <td>0.56522</td>\n",
              "    </tr>\n",
              "    <tr>\n",
              "      <th>1</th>\n",
              "      <td>5043</td>\n",
              "      <td>3.0</td>\n",
              "      <td>1.0</td>\n",
              "      <td>115.176</td>\n",
              "      <td>1.0</td>\n",
              "      <td>0.0</td>\n",
              "      <td>2.0</td>\n",
              "      <td>0</td>\n",
              "      <td>0</td>\n",
              "      <td>1.88260</td>\n",
              "    </tr>\n",
              "    <tr>\n",
              "      <th>2</th>\n",
              "      <td>7354</td>\n",
              "      <td>3.0</td>\n",
              "      <td>1.0</td>\n",
              "      <td>268.229</td>\n",
              "      <td>4.0</td>\n",
              "      <td>3.0</td>\n",
              "      <td>2.0</td>\n",
              "      <td>0</td>\n",
              "      <td>0</td>\n",
              "      <td>-1.85660</td>\n",
              "    </tr>\n",
              "    <tr>\n",
              "      <th>3</th>\n",
              "      <td>4078</td>\n",
              "      <td>3.0</td>\n",
              "      <td>0.0</td>\n",
              "      <td>408.093</td>\n",
              "      <td>0.0</td>\n",
              "      <td>0.0</td>\n",
              "      <td>4.0</td>\n",
              "      <td>0</td>\n",
              "      <td>0</td>\n",
              "      <td>-9.37680</td>\n",
              "    </tr>\n",
              "    <tr>\n",
              "      <th>4</th>\n",
              "      <td>1631</td>\n",
              "      <td>3.0</td>\n",
              "      <td>1.0</td>\n",
              "      <td>147.004</td>\n",
              "      <td>0.0</td>\n",
              "      <td>1.0</td>\n",
              "      <td>0.0</td>\n",
              "      <td>0</td>\n",
              "      <td>1</td>\n",
              "      <td>2.99340</td>\n",
              "    </tr>\n",
              "  </tbody>\n",
              "</table>\n",
              "</div>"
            ],
            "text/plain": [
              "   index  Maximum Degree  ...  aromatic_carbocycles  MolLogP\n",
              "0   2808             3.0  ...                     0  0.56522\n",
              "1   5043             3.0  ...                     0  1.88260\n",
              "2   7354             3.0  ...                     0 -1.85660\n",
              "3   4078             3.0  ...                     0 -9.37680\n",
              "4   1631             3.0  ...                     1  2.99340\n",
              "\n",
              "[5 rows x 10 columns]"
            ]
          },
          "metadata": {
            "tags": []
          },
          "execution_count": 2
        }
      ]
    },
    {
      "cell_type": "markdown",
      "metadata": {
        "id": "HWaD0bisk_kP"
      },
      "source": [
        "Understanding the Data\n",
        "\n",
        "Final dataset contains 10 features and 7464 training examples. We have to predict the polar surface area based on available training data."
      ]
    },
    {
      "cell_type": "markdown",
      "metadata": {
        "id": "R7IyVjjLlN17"
      },
      "source": [
        "**Model Score Using KFold**\n",
        "\n",
        "\n",
        "Let’s use cross_val_score() to evaluate a score by cross-validation. We are going to use three different models for analysis. We will find the score for every split and then take average to get the overall score. We will analyze the model performance based on Root Mean Square Error (RMSE). Since RMSE is not directly available from scoring parameter, first we find the Mean Square Error and then take the square root of it."
      ]
    },
    {
      "cell_type": "markdown",
      "metadata": {
        "id": "Ztaq6qwMlWTj"
      },
      "source": [
        "**Splitting the data into 5 folds.  **\n",
        "\n",
        "We will use this 'kf'(KFold splitting stratergy) object as input to cross_val_score() method"
      ]
    },
    {
      "cell_type": "code",
      "metadata": {
        "colab": {
          "base_uri": "https://localhost:8080/"
        },
        "id": "NWY6tU13lSua",
        "outputId": "e7832499-8fd2-4493-f876-267651ef0c46"
      },
      "source": [
        "kf =KFold(n_splits=5, shuffle=True, random_state=42)\n",
        "\n",
        "cnt = 1\n",
        "# split()  method generate indices to split data into training and test set.\n",
        "for train_index, test_index in kf.split(X, y):\n",
        "    print(f'Fold:{cnt}, Train set: {len(train_index)}, Test set:{len(test_index)}')\n",
        "    cnt += 1"
      ],
      "execution_count": 3,
      "outputs": [
        {
          "output_type": "stream",
          "text": [
            "Fold:1, Train set: 5971, Test set:1493\n",
            "Fold:2, Train set: 5971, Test set:1493\n",
            "Fold:3, Train set: 5971, Test set:1493\n",
            "Fold:4, Train set: 5971, Test set:1493\n",
            "Fold:5, Train set: 5972, Test set:1492\n"
          ],
          "name": "stdout"
        }
      ]
    },
    {
      "cell_type": "markdown",
      "metadata": {
        "id": "017oJMXVllvW"
      },
      "source": [
        "Classification accuracy is reward function, means something you want to maximize. Mean Square Error is loss function, \n",
        "means something you want to minimize. Now if we use 'cross_val_score' function then best score(high value) will give worst \n",
        "model in case of loss function! There are other sklearn functions which also depends on 'cross_val_score' to select best model by\n",
        "looking for highest scores, so a design decision was made for 'cross_val_score' to negate the output of all loss function. \n",
        "So that when other sklearn function calls 'cross_val_score' those function can always assume that highest score indicate better model.\n",
        "In short ignore the negative sign and rate the error based on its absolute value."
      ]
    },
    {
      "cell_type": "code",
      "metadata": {
        "id": "yXW7SdePlfFf"
      },
      "source": [
        "def rmse(score):\n",
        "    rmse = np.sqrt(-score)\n",
        "    print(f'rmse= {\"{:.2f}\".format(rmse)}')"
      ],
      "execution_count": 4,
      "outputs": []
    },
    {
      "cell_type": "markdown",
      "metadata": {
        "id": "e9WS_1H9lpdu"
      },
      "source": [
        "**Using Linear Regression**"
      ]
    },
    {
      "cell_type": "code",
      "metadata": {
        "colab": {
          "base_uri": "https://localhost:8080/"
        },
        "id": "jfOr-WfVlS8Q",
        "outputId": "fc941216-c7d0-4a49-cf46-51d92ab5c002"
      },
      "source": [
        "score = cross_val_score(linear_model.LinearRegression(), X, y, cv= kf, scoring=\"neg_mean_squared_error\")\n",
        "print(f'Scores for each fold: {score}')\n",
        "rmse(score.mean())"
      ],
      "execution_count": 5,
      "outputs": [
        {
          "output_type": "stream",
          "text": [
            "Scores for each fold: [-9.12657478e-27 -4.69959074e-25 -2.96281944e-25 -8.41378957e-25\n",
            " -6.74689503e-27]\n",
            "rmse= 0.00\n"
          ],
          "name": "stdout"
        }
      ]
    },
    {
      "cell_type": "markdown",
      "metadata": {
        "id": "F0OmmKK9l2b9"
      },
      "source": [
        "**Using Decision Tree Regressor**"
      ]
    },
    {
      "cell_type": "code",
      "metadata": {
        "colab": {
          "base_uri": "https://localhost:8080/"
        },
        "id": "QQ8Ubpq3l5J6",
        "outputId": "603f9b7b-2dfe-4560-c1b3-d7f46f8ba556"
      },
      "source": [
        "score = cross_val_score(tree.DecisionTreeRegressor(random_state= 42), X, y, cv=kf, scoring=\"neg_mean_squared_error\")\n",
        "print(f'Scores for each fold: {score}')\n",
        "rmse(score.mean())"
      ],
      "execution_count": 6,
      "outputs": [
        {
          "output_type": "stream",
          "text": [
            "Scores for each fold: [-364.056701   -244.54291632 -232.69835213 -322.95691891 -258.07395011]\n",
            "rmse= 16.87\n"
          ],
          "name": "stdout"
        }
      ]
    },
    {
      "cell_type": "markdown",
      "metadata": {
        "id": "BaYJvqH0l8zh"
      },
      "source": [
        "**Using Random Forest Regressor**"
      ]
    },
    {
      "cell_type": "code",
      "metadata": {
        "colab": {
          "base_uri": "https://localhost:8080/"
        },
        "id": "QYySe1ukl_zA",
        "outputId": "8c7cf3b7-61da-4f84-bdfd-3c6f6a58c912"
      },
      "source": [
        "score = cross_val_score(ensemble.RandomForestRegressor(random_state= 42), X, y, cv= kf, scoring=\"neg_mean_squared_error\")\n",
        "print(f'Scores for each fold are: {score}')\n",
        "rmse(score.mean())\n"
      ],
      "execution_count": 7,
      "outputs": [
        {
          "output_type": "stream",
          "text": [
            "Scores for each fold are: [-166.13090766 -107.83069044  -93.88709801 -139.29445462  -79.29073968]\n",
            "rmse= 10.83\n"
          ],
          "name": "stdout"
        }
      ]
    },
    {
      "cell_type": "markdown",
      "metadata": {
        "id": "unyyPSuomRue"
      },
      "source": [
        "**Model Tuning using KFold**\n",
        "\n",
        "We can also use cross_val_score() along with KFold to evaluate the model for different hyperparameters. Here we are going to try different hyperparameter values and choose the ones for which we get the highest model score."
      ]
    },
    {
      "cell_type": "markdown",
      "metadata": {
        "id": "BTMWlqU-mUw1"
      },
      "source": [
        "**Decision Tree Regressor Tuning**\n",
        "\n",
        "There are multiple hyperparameters like max_depth, min_samples_split, min_samples_leaf etc which affect the model performance. Here we are going to do tuning based on ‘max_depth’. We will try with max depth starting from 1 to 10 and depending on the final ‘rmse’ score choose the value of max_depth."
      ]
    },
    {
      "cell_type": "code",
      "metadata": {
        "colab": {
          "base_uri": "https://localhost:8080/"
        },
        "id": "H5_fmyjYmX6S",
        "outputId": "4ca1d0a1-d65f-4a54-e6ca-c52ef600b22e"
      },
      "source": [
        "max_depth = [1,2,3,4,5,6,7,8,9,10]\n",
        "\n",
        "for val in max_depth:\n",
        "    score = cross_val_score(tree.DecisionTreeRegressor(max_depth= val, random_state= 42), X, y, cv= kf, scoring=\"neg_mean_squared_error\")\n",
        "    print(f'For max depth: {val}')\n",
        "    rmse(score.mean())"
      ],
      "execution_count": 8,
      "outputs": [
        {
          "output_type": "stream",
          "text": [
            "For max depth: 1\n",
            "rmse= 345.20\n",
            "For max depth: 2\n",
            "rmse= 178.73\n",
            "For max depth: 3\n",
            "rmse= 100.85\n",
            "For max depth: 4\n",
            "rmse= 68.62\n",
            "For max depth: 5\n",
            "rmse= 56.51\n",
            "For max depth: 6\n",
            "rmse= 40.63\n",
            "For max depth: 7\n",
            "rmse= 30.51\n",
            "For max depth: 8\n",
            "rmse= 23.64\n",
            "For max depth: 9\n",
            "rmse= 20.12\n",
            "For max depth: 10\n",
            "rmse= 17.63\n"
          ],
          "name": "stdout"
        }
      ]
    },
    {
      "cell_type": "markdown",
      "metadata": {
        "id": "o-wk51Jamar9"
      },
      "source": [
        "**Random Forest Regressor Tuning**\n",
        "\n",
        "There are multiple hyperparameters like n_estimators, max_depth, min_samples_split etc which affect the model performance. Here we are going to do tuning based on ‘n_estimators’. We will try with estimators starting from 50 to 350 and depending on the final ‘rmse’ score choose the value of estimator."
      ]
    },
    {
      "cell_type": "code",
      "metadata": {
        "colab": {
          "base_uri": "https://localhost:8080/"
        },
        "id": "mP3HYqFpmeD4",
        "outputId": "474b8b3f-e3a2-4d92-dc4d-49a7d7be952b"
      },
      "source": [
        "estimators = [50, 100, 150, 200, 250, 300, 350]\n",
        "\n",
        "for count in estimators:\n",
        "    score = cross_val_score(ensemble.RandomForestRegressor(n_estimators= count, random_state= 42), X, y, cv= kf, scoring=\"neg_mean_squared_error\")\n",
        "    print(f'For estimators: {count}')\n",
        "    rmse(score.mean())"
      ],
      "execution_count": 9,
      "outputs": [
        {
          "output_type": "stream",
          "text": [
            "For estimators: 50\n",
            "rmse= 10.88\n",
            "For estimators: 100\n",
            "rmse= 10.83\n",
            "For estimators: 150\n",
            "rmse= 10.74\n",
            "For estimators: 200\n",
            "rmse= 10.73\n",
            "For estimators: 250\n",
            "rmse= 10.73\n",
            "For estimators: 300\n",
            "rmse= 10.72\n",
            "For estimators: 350\n",
            "rmse= 10.70\n"
          ],
          "name": "stdout"
        }
      ]
    },
    {
      "cell_type": "markdown",
      "metadata": {
        "id": "zjP9Mul7R5Vb"
      },
      "source": [
        "**Building multiple linear regression model using k-fold CV to evaluate model**"
      ]
    },
    {
      "cell_type": "code",
      "metadata": {
        "id": "IHjlUpfGOk8T"
      },
      "source": [
        "model = LinearRegression()\n",
        "scores = cross_val_score(model, X, y, scoring='neg_mean_absolute_error',\n",
        "                         cv=kf, n_jobs=-1)"
      ],
      "execution_count": 11,
      "outputs": []
    },
    {
      "cell_type": "markdown",
      "metadata": {
        "id": "ivoaFjczSJNt"
      },
      "source": [
        "**Viewing mean absolute error**"
      ]
    },
    {
      "cell_type": "code",
      "metadata": {
        "colab": {
          "base_uri": "https://localhost:8080/"
        },
        "id": "I2g6KLNvPxn0",
        "outputId": "e2cb43b4-e8bb-4183-d074-820fd681c8d6"
      },
      "source": [
        "mean(absolute(scores))"
      ],
      "execution_count": 12,
      "outputs": [
        {
          "output_type": "execute_result",
          "data": {
            "text/plain": [
              "1.5025951730111228e-13"
            ]
          },
          "metadata": {
            "tags": []
          },
          "execution_count": 12
        }
      ]
    },
    {
      "cell_type": "markdown",
      "metadata": {
        "id": "seckjeScSSE5"
      },
      "source": [
        "From the output we can see that the mean absolute error (MAE) is very low. \n",
        "In general, the lower the MAE, the more closely a model is able to predict the actual observations.\n",
        "\n",
        "Another commonly used metric to evaluate model performance is the root mean squared error (RMSE). The following code shows how to calculate this metric using LOOCV:"
      ]
    },
    {
      "cell_type": "code",
      "metadata": {
        "colab": {
          "base_uri": "https://localhost:8080/"
        },
        "id": "nrNha-bnP5pU",
        "outputId": "ffa4d6cf-1618-4549-faa8-f02750041dd4"
      },
      "source": [
        "sqrt(mean(absolute(scores)))"
      ],
      "execution_count": 13,
      "outputs": [
        {
          "output_type": "execute_result",
          "data": {
            "text/plain": [
              "3.876332252285816e-07"
            ]
          },
          "metadata": {
            "tags": []
          },
          "execution_count": 13
        }
      ]
    },
    {
      "cell_type": "markdown",
      "metadata": {
        "id": "UTStBx9sSg-p"
      },
      "source": [
        "**Using the entire dataset for model training**"
      ]
    },
    {
      "cell_type": "code",
      "metadata": {
        "colab": {
          "base_uri": "https://localhost:8080/"
        },
        "id": "5i5Uf4zpRUrw",
        "outputId": "8e1ca518-6cf3-4e5e-8965-c392e1337fb6"
      },
      "source": [
        "model.fit(X, y)"
      ],
      "execution_count": 17,
      "outputs": [
        {
          "output_type": "execute_result",
          "data": {
            "text/plain": [
              "LinearRegression(copy_X=True, fit_intercept=True, n_jobs=None, normalize=False)"
            ]
          },
          "metadata": {
            "tags": []
          },
          "execution_count": 17
        }
      ]
    },
    {
      "cell_type": "code",
      "metadata": {
        "id": "BmW4NSJXQRxk"
      },
      "source": [
        "predictions = model.predict(X)"
      ],
      "execution_count": 19,
      "outputs": []
    },
    {
      "cell_type": "markdown",
      "metadata": {
        "id": "wGcqnX2gStfX"
      },
      "source": [
        "**Plotting the results**"
      ]
    },
    {
      "cell_type": "code",
      "metadata": {
        "id": "yuOUf_X7Rqj5"
      },
      "source": [
        "import matplotlib.pyplot as plt"
      ],
      "execution_count": 21,
      "outputs": []
    },
    {
      "cell_type": "code",
      "metadata": {
        "colab": {
          "base_uri": "https://localhost:8080/",
          "height": 283
        },
        "id": "fVrECbsgQTZ8",
        "outputId": "c2d26777-0725-4278-f92e-f3279fee92fd"
      },
      "source": [
        "plt.scatter(y, predictions)"
      ],
      "execution_count": 22,
      "outputs": [
        {
          "output_type": "execute_result",
          "data": {
            "text/plain": [
              "<matplotlib.collections.PathCollection at 0x7fc71cf20160>"
            ]
          },
          "metadata": {
            "tags": []
          },
          "execution_count": 22
        },
        {
          "output_type": "display_data",
          "data": {
            "image/png": "[encoded data removed]",
            "text/plain": [
              "<Figure size 432x288 with 1 Axes>"
            ]
          },
          "metadata": {
            "tags": [],
            "needs_background": "light"
          }
        }
      ]
    },
    {
      "cell_type": "code",
      "metadata": {
        "colab": {
          "base_uri": "https://localhost:8080/",
          "height": 469
        },
        "id": "vnhIKbyHQVNi",
        "outputId": "50fc4803-ff2b-4e08-fa71-8b04fd179df1"
      },
      "source": [
        "plt.hist(y - predictions)"
      ],
      "execution_count": 23,
      "outputs": [
        {
          "output_type": "execute_result",
          "data": {
            "text/plain": [
              "(array([[ 0.,  0.,  0., ...,  9.,  1.,  0.],\n",
              "        [ 0.,  0.,  0., ...,  9.,  1.,  0.],\n",
              "        [ 0.,  0.,  0., ..., 10.,  0.,  0.],\n",
              "        ...,\n",
              "        [ 0.,  0.,  0., ..., 10.,  0.,  0.],\n",
              "        [ 0.,  0.,  0., ...,  9.,  1.,  0.],\n",
              "        [ 0.,  0.,  0., ..., 10.,  0.,  0.]]),\n",
              " array([-2.10320650e-12, -1.82467375e-12, -1.54614099e-12, -1.26760824e-12,\n",
              "        -9.89075488e-13, -7.10542736e-13, -4.32009983e-13, -1.53477231e-13,\n",
              "         1.25055521e-13,  4.03588274e-13,  6.82121026e-13]),\n",
              " <a list of 7464 Lists of Patches objects>)"
            ]
          },
          "metadata": {
            "tags": []
          },
          "execution_count": 23
        },
        {
          "output_type": "display_data",
          "data": {
            "image/png": "[encoded data removed]",
            "text/plain": [
              "<Figure size 432x288 with 1 Axes>"
            ]
          },
          "metadata": {
            "tags": [],
            "needs_background": "light"
          }
        }
      ]
    }
  ]
}