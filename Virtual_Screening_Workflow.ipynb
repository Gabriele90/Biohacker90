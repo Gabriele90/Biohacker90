{
  "nbformat": 4,
  "nbformat_minor": 0,
  "metadata": {
    "colab": {
      "name": "Virtual Screening Workflow.ipynb",
      "provenance": [],
      "collapsed_sections": [],
      "authorship_tag": "ABX9TyOs6IpFib4YPQJddQGlYqiF",
      "include_colab_link": true
    },
    "kernelspec": {
      "display_name": "Python 3",
      "name": "python3"
    }
  },
  "cells": [
    {
      "cell_type": "markdown",
      "metadata": {
        "id": "view-in-github",
        "colab_type": "text"
      },
      "source": [
        "<a href=\"https://colab.research.google.com/github/Gabriele90/Biohacker90/blob/main/Virtual_Screening_Workflow.ipynb\" target=\"_parent\"><img src=\"https://colab.research.google.com/assets/colab-badge.svg\" alt=\"Open In Colab\"/></a>"
      ]
    },
    {
      "cell_type": "markdown",
      "metadata": {
        "id": "KBlHnGSWqtr8"
      },
      "source": [
        "**Prepare the Dataset for Building a Predictive Model**\n",
        "\n",
        "As a first step we will build a graph convolution model predict ERK2 activity. We will train the model to distinguish a set of ERK2 active compounds from a set of decoy compounds. The active and decoy compounds are derived from the DUD-E database. In order to generate the best model, we would like to decoys with property distributions similar to those of our active compounds. Let's say this was not the case and the inactive compounds had lower molecular weight than the active compounds. In this case our classifer may be trained to simply separate low molecular compounds from high molecular weight compounds. This classifer will have very limited utility in preactice.\n",
        "\n",
        "As a first step, we will examine a few calculated properties of our active and decoy molecules. In order to build a reliable model, we need to ensure that the properties of the active molecules are similar to those of the decoy molecules.\n",
        "\n",
        "First lets import the libraries we will need."
      ]
    },
    {
      "cell_type": "code",
      "metadata": {
        "id": "5yPuraoIvaJy",
        "outputId": "7736d085-983f-430c-803c-68879bf94089",
        "colab": {
          "base_uri": "https://localhost:8080/"
        }
      },
      "source": [
        "! wget https://repo.anaconda.com/miniconda/Miniconda3-py37_4.8.2-Linux-x86_64.sh\n",
        "! chmod +x Miniconda3-py37_4.8.2-Linux-x86_64.sh\n",
        "! bash ./Miniconda3-py37_4.8.2-Linux-x86_64.sh -b -f -p /usr/local\n",
        "! conda install -c rdkit rdkit -y\n",
        "import sys\n",
        "sys.path.append('/usr/local/lib/python3.7/site-packages/')"
      ],
      "execution_count": 1,
      "outputs": [
        {
          "output_type": "stream",
          "text": [
            "--2020-11-14 13:11:15--  https://repo.anaconda.com/miniconda/Miniconda3-py37_4.8.2-Linux-x86_64.sh\n",
            "Resolving repo.anaconda.com (repo.anaconda.com)... 104.16.131.3, 104.16.130.3, 2606:4700::6810:8303, ...\n",
            "Connecting to repo.anaconda.com (repo.anaconda.com)|104.16.131.3|:443... connected.\n",
            "HTTP request sent, awaiting response... 200 OK\n",
            "Length: 85055499 (81M) [application/x-sh]\n",
            "Saving to: ‘Miniconda3-py37_4.8.2-Linux-x86_64.sh’\n",
            "\n",
            "Miniconda3-py37_4.8 100%[===================>]  81.12M   156MB/s    in 0.5s    \n",
            "\n",
            "2020-11-14 13:11:15 (156 MB/s) - ‘Miniconda3-py37_4.8.2-Linux-x86_64.sh’ saved [85055499/85055499]\n",
            "\n",
            "PREFIX=/usr/local\n",
            "Unpacking payload ...\n",
            "Collecting package metadata (current_repodata.json): - \b\b\\ \b\b| \b\bdone\n",
            "Solving environment: - \b\bdone\n",
            "\n",
            "## Package Plan ##\n",
            "\n",
            "  environment location: /usr/local\n",
            "\n",
            "  added / updated specs:\n",
            "    - _libgcc_mutex==0.1=main\n",
            "    - asn1crypto==1.3.0=py37_0\n",
            "    - ca-certificates==2020.1.1=0\n",
            "    - certifi==2019.11.28=py37_0\n",
            "    - cffi==1.14.0=py37h2e261b9_0\n",
            "    - chardet==3.0.4=py37_1003\n",
            "    - conda-package-handling==1.6.0=py37h7b6447c_0\n",
            "    - conda==4.8.2=py37_0\n",
            "    - cryptography==2.8=py37h1ba5d50_0\n",
            "    - idna==2.8=py37_0\n",
            "    - ld_impl_linux-64==2.33.1=h53a641e_7\n",
            "    - libedit==3.1.20181209=hc058e9b_0\n",
            "    - libffi==3.2.1=hd88cf55_4\n",
            "    - libgcc-ng==9.1.0=hdf63c60_0\n",
            "    - libstdcxx-ng==9.1.0=hdf63c60_0\n",
            "    - ncurses==6.2=he6710b0_0\n",
            "    - openssl==1.1.1d=h7b6447c_4\n",
            "    - pip==20.0.2=py37_1\n",
            "    - pycosat==0.6.3=py37h7b6447c_0\n",
            "    - pycparser==2.19=py37_0\n",
            "    - pyopenssl==19.1.0=py37_0\n",
            "    - pysocks==1.7.1=py37_0\n",
            "    - python==3.7.6=h0371630_2\n",
            "    - readline==7.0=h7b6447c_5\n",
            "    - requests==2.22.0=py37_1\n",
            "    - ruamel_yaml==0.15.87=py37h7b6447c_0\n",
            "    - setuptools==45.2.0=py37_0\n",
            "    - six==1.14.0=py37_0\n",
            "    - sqlite==3.31.1=h7b6447c_0\n",
            "    - tk==8.6.8=hbc83047_0\n",
            "    - tqdm==4.42.1=py_0\n",
            "    - urllib3==1.25.8=py37_0\n",
            "    - wheel==0.34.2=py37_0\n",
            "    - xz==5.2.4=h14c3975_4\n",
            "    - yaml==0.1.7=had09818_2\n",
            "    - zlib==1.2.11=h7b6447c_3\n",
            "\n",
            "\n",
            "The following NEW packages will be INSTALLED:\n",
            "\n",
            "  _libgcc_mutex      pkgs/main/linux-64::_libgcc_mutex-0.1-main\n",
            "  asn1crypto         pkgs/main/linux-64::asn1crypto-1.3.0-py37_0\n",
            "  ca-certificates    pkgs/main/linux-64::ca-certificates-2020.1.1-0\n",
            "  certifi            pkgs/main/linux-64::certifi-2019.11.28-py37_0\n",
            "  cffi               pkgs/main/linux-64::cffi-1.14.0-py37h2e261b9_0\n",
            "  chardet            pkgs/main/linux-64::chardet-3.0.4-py37_1003\n",
            "  conda              pkgs/main/linux-64::conda-4.8.2-py37_0\n",
            "  conda-package-han~ pkgs/main/linux-64::conda-package-handling-1.6.0-py37h7b6447c_0\n",
            "  cryptography       pkgs/main/linux-64::cryptography-2.8-py37h1ba5d50_0\n",
            "  idna               pkgs/main/linux-64::idna-2.8-py37_0\n",
            "  ld_impl_linux-64   pkgs/main/linux-64::ld_impl_linux-64-2.33.1-h53a641e_7\n",
            "  libedit            pkgs/main/linux-64::libedit-3.1.20181209-hc058e9b_0\n",
            "  libffi             pkgs/main/linux-64::libffi-3.2.1-hd88cf55_4\n",
            "  libgcc-ng          pkgs/main/linux-64::libgcc-ng-9.1.0-hdf63c60_0\n",
            "  libstdcxx-ng       pkgs/main/linux-64::libstdcxx-ng-9.1.0-hdf63c60_0\n",
            "  ncurses            pkgs/main/linux-64::ncurses-6.2-he6710b0_0\n",
            "  openssl            pkgs/main/linux-64::openssl-1.1.1d-h7b6447c_4\n",
            "  pip                pkgs/main/linux-64::pip-20.0.2-py37_1\n",
            "  pycosat            pkgs/main/linux-64::pycosat-0.6.3-py37h7b6447c_0\n",
            "  pycparser          pkgs/main/linux-64::pycparser-2.19-py37_0\n",
            "  pyopenssl          pkgs/main/linux-64::pyopenssl-19.1.0-py37_0\n",
            "  pysocks            pkgs/main/linux-64::pysocks-1.7.1-py37_0\n",
            "  python             pkgs/main/linux-64::python-3.7.6-h0371630_2\n",
            "  readline           pkgs/main/linux-64::readline-7.0-h7b6447c_5\n",
            "  requests           pkgs/main/linux-64::requests-2.22.0-py37_1\n",
            "  ruamel_yaml        pkgs/main/linux-64::ruamel_yaml-0.15.87-py37h7b6447c_0\n",
            "  setuptools         pkgs/main/linux-64::setuptools-45.2.0-py37_0\n",
            "  six                pkgs/main/linux-64::six-1.14.0-py37_0\n",
            "  sqlite             pkgs/main/linux-64::sqlite-3.31.1-h7b6447c_0\n",
            "  tk                 pkgs/main/linux-64::tk-8.6.8-hbc83047_0\n",
            "  tqdm               pkgs/main/noarch::tqdm-4.42.1-py_0\n",
            "  urllib3            pkgs/main/linux-64::urllib3-1.25.8-py37_0\n",
            "  wheel              pkgs/main/linux-64::wheel-0.34.2-py37_0\n",
            "  xz                 pkgs/main/linux-64::xz-5.2.4-h14c3975_4\n",
            "  yaml               pkgs/main/linux-64::yaml-0.1.7-had09818_2\n",
            "  zlib               pkgs/main/linux-64::zlib-1.2.11-h7b6447c_3\n",
            "\n",
            "\n",
            "Preparing transaction: | \b\b/ \b\b- \b\b\\ \b\bdone\n",
            "Executing transaction: / \b\b- \b\b\\ \b\b| \b\b/ \b\b- \b\b\\ \b\b| \b\b/ \b\b- \b\b\\ \b\b| \b\b/ \b\b- \b\b\\ \b\b| \b\bdone\n",
            "installation finished.\n",
            "WARNING:\n",
            "    You currently have a PYTHONPATH environment variable set. This may cause\n",
            "    unexpected behavior when running the Python interpreter in Miniconda3.\n",
            "    For best results, please verify that your PYTHONPATH only points to\n",
            "    directories of packages that are compatible with the Python interpreter\n",
            "    in Miniconda3: /usr/local\n",
            "Collecting package metadata (current_repodata.json): - \b\b\\ \b\b| \b\b/ \b\b- \b\b\\ \b\b| \b\b/ \b\b- \b\b\\ \b\b| \b\b/ \b\b- \b\b\\ \b\b| \b\b/ \b\b- \b\bdone\n",
            "Solving environment: | \b\b/ \b\b- \b\b\\ \b\b| \b\b/ \b\b- \b\b\\ \b\b| \b\b/ \b\b- \b\bdone\n",
            "\n",
            "## Package Plan ##\n",
            "\n",
            "  environment location: /usr/local\n",
            "\n",
            "  added / updated specs:\n",
            "    - rdkit\n",
            "\n",
            "\n",
            "The following packages will be downloaded:\n",
            "\n",
            "    package                    |            build\n",
            "    ---------------------------|-----------------\n",
            "    blas-1.0                   |              mkl           6 KB\n",
            "    bzip2-1.0.8                |       h7b6447c_0          78 KB\n",
            "    ca-certificates-2020.10.14 |                0         121 KB\n",
            "    cairo-1.14.12              |       h8948797_3         906 KB\n",
            "    certifi-2020.6.20          |     pyhd3eb1b0_3         155 KB\n",
            "    cffi-1.14.3                |   py37he30daa8_0         223 KB\n",
            "    conda-4.9.2                |   py37h06a4308_0         2.9 MB\n",
            "    fontconfig-2.13.0          |       h9420a91_0         227 KB\n",
            "    freetype-2.10.4            |       h5ab3b9f_0         596 KB\n",
            "    glib-2.66.1                |       h92f7085_0         2.9 MB\n",
            "    icu-58.2                   |       he6710b0_3        10.5 MB\n",
            "    intel-openmp-2020.2        |              254         786 KB\n",
            "    jpeg-9b                    |       h024ee3a_2         214 KB\n",
            "    lcms2-2.11                 |       h396b838_0         307 KB\n",
            "    libboost-1.73.0            |      hf484d3e_11        13.9 MB\n",
            "    libffi-3.3                 |       he6710b0_2          50 KB\n",
            "    libpng-1.6.37              |       hbc83047_0         278 KB\n",
            "    libtiff-4.1.0              |       h2733197_1         449 KB\n",
            "    libuuid-1.0.3              |       h1bed415_2          15 KB\n",
            "    libxcb-1.14                |       h7b6447c_0         505 KB\n",
            "    libxml2-2.9.10             |       hb55368b_3         1.2 MB\n",
            "    lz4-c-1.9.2                |       heb0550a_3         175 KB\n",
            "    mkl-2020.2                 |              256       138.3 MB\n",
            "    mkl-service-2.3.0          |   py37he904b0f_0         218 KB\n",
            "    mkl_fft-1.2.0              |   py37h23d657b_0         148 KB\n",
            "    mkl_random-1.1.1           |   py37h0573a6f_0         322 KB\n",
            "    numpy-1.19.2               |   py37h54aff64_0          22 KB\n",
            "    numpy-base-1.19.2          |   py37hfa32c7d_0         4.1 MB\n",
            "    olefile-0.46               |           py37_0          50 KB\n",
            "    openssl-1.1.1h             |       h7b6447c_0         2.5 MB\n",
            "    pandas-1.1.3               |   py37he6710b0_0         8.1 MB\n",
            "    pcre-8.44                  |       he6710b0_0         212 KB\n",
            "    pillow-8.0.1               |   py37he98fc37_0         619 KB\n",
            "    pixman-0.40.0              |       h7b6447c_0         370 KB\n",
            "    py-boost-1.73.0            |  py37h04863e7_11         202 KB\n",
            "    python-dateutil-2.8.1      |             py_0         215 KB\n",
            "    pytz-2020.1                |             py_0         184 KB\n",
            "    rdkit-2020.09.1.0          |   py37hd50e099_1        25.8 MB  rdkit\n",
            "    xz-5.2.5                   |       h7b6447c_0         341 KB\n",
            "    zstd-1.4.5                 |       h9ceee32_0         619 KB\n",
            "    ------------------------------------------------------------\n",
            "                                           Total:       218.7 MB\n",
            "\n",
            "The following NEW packages will be INSTALLED:\n",
            "\n",
            "  blas               pkgs/main/linux-64::blas-1.0-mkl\n",
            "  bzip2              pkgs/main/linux-64::bzip2-1.0.8-h7b6447c_0\n",
            "  cairo              pkgs/main/linux-64::cairo-1.14.12-h8948797_3\n",
            "  fontconfig         pkgs/main/linux-64::fontconfig-2.13.0-h9420a91_0\n",
            "  freetype           pkgs/main/linux-64::freetype-2.10.4-h5ab3b9f_0\n",
            "  glib               pkgs/main/linux-64::glib-2.66.1-h92f7085_0\n",
            "  icu                pkgs/main/linux-64::icu-58.2-he6710b0_3\n",
            "  intel-openmp       pkgs/main/linux-64::intel-openmp-2020.2-254\n",
            "  jpeg               pkgs/main/linux-64::jpeg-9b-h024ee3a_2\n",
            "  lcms2              pkgs/main/linux-64::lcms2-2.11-h396b838_0\n",
            "  libboost           pkgs/main/linux-64::libboost-1.73.0-hf484d3e_11\n",
            "  libpng             pkgs/main/linux-64::libpng-1.6.37-hbc83047_0\n",
            "  libtiff            pkgs/main/linux-64::libtiff-4.1.0-h2733197_1\n",
            "  libuuid            pkgs/main/linux-64::libuuid-1.0.3-h1bed415_2\n",
            "  libxcb             pkgs/main/linux-64::libxcb-1.14-h7b6447c_0\n",
            "  libxml2            pkgs/main/linux-64::libxml2-2.9.10-hb55368b_3\n",
            "  lz4-c              pkgs/main/linux-64::lz4-c-1.9.2-heb0550a_3\n",
            "  mkl                pkgs/main/linux-64::mkl-2020.2-256\n",
            "  mkl-service        pkgs/main/linux-64::mkl-service-2.3.0-py37he904b0f_0\n",
            "  mkl_fft            pkgs/main/linux-64::mkl_fft-1.2.0-py37h23d657b_0\n",
            "  mkl_random         pkgs/main/linux-64::mkl_random-1.1.1-py37h0573a6f_0\n",
            "  numpy              pkgs/main/linux-64::numpy-1.19.2-py37h54aff64_0\n",
            "  numpy-base         pkgs/main/linux-64::numpy-base-1.19.2-py37hfa32c7d_0\n",
            "  olefile            pkgs/main/linux-64::olefile-0.46-py37_0\n",
            "  pandas             pkgs/main/linux-64::pandas-1.1.3-py37he6710b0_0\n",
            "  pcre               pkgs/main/linux-64::pcre-8.44-he6710b0_0\n",
            "  pillow             pkgs/main/linux-64::pillow-8.0.1-py37he98fc37_0\n",
            "  pixman             pkgs/main/linux-64::pixman-0.40.0-h7b6447c_0\n",
            "  py-boost           pkgs/main/linux-64::py-boost-1.73.0-py37h04863e7_11\n",
            "  python-dateutil    pkgs/main/noarch::python-dateutil-2.8.1-py_0\n",
            "  pytz               pkgs/main/noarch::pytz-2020.1-py_0\n",
            "  rdkit              rdkit/linux-64::rdkit-2020.09.1.0-py37hd50e099_1\n",
            "  zstd               pkgs/main/linux-64::zstd-1.4.5-h9ceee32_0\n",
            "\n",
            "The following packages will be UPDATED:\n",
            "\n",
            "  ca-certificates                                2020.1.1-0 --> 2020.10.14-0\n",
            "  certifi            pkgs/main/linux-64::certifi-2019.11.2~ --> pkgs/main/noarch::certifi-2020.6.20-pyhd3eb1b0_3\n",
            "  cffi                                1.14.0-py37h2e261b9_0 --> 1.14.3-py37he30daa8_0\n",
            "  conda                                        4.8.2-py37_0 --> 4.9.2-py37h06a4308_0\n",
            "  libffi                                   3.2.1-hd88cf55_4 --> 3.3-he6710b0_2\n",
            "  openssl                                 1.1.1d-h7b6447c_4 --> 1.1.1h-h7b6447c_0\n",
            "  xz                                       5.2.4-h14c3975_4 --> 5.2.5-h7b6447c_0\n",
            "\n",
            "\n",
            "\n",
            "Downloading and Extracting Packages\n",
            "openssl-1.1.1h       | 2.5 MB    | : 100% 1.0/1 [00:00<00:00,  2.89s/it]                \n",
            "pandas-1.1.3         | 8.1 MB    | : 100% 1.0/1 [00:00<00:00,  2.10it/s]\n",
            "pcre-8.44            | 212 KB    | : 100% 1.0/1 [00:00<00:00, 17.37it/s]\n",
            "libtiff-4.1.0        | 449 KB    | : 100% 1.0/1 [00:00<00:00, 13.67it/s]\n",
            "py-boost-1.73.0      | 202 KB    | : 100% 1.0/1 [00:00<00:00, 15.37it/s]\n",
            "libxcb-1.14          | 505 KB    | : 100% 1.0/1 [00:00<00:00, 11.11it/s]\n",
            "mkl-service-2.3.0    | 218 KB    | : 100% 1.0/1 [00:00<00:00, 13.97it/s]\n",
            "libuuid-1.0.3        | 15 KB     | : 100% 1.0/1 [00:00<00:00, 18.91it/s]\n",
            "lz4-c-1.9.2          | 175 KB    | : 100% 1.0/1 [00:00<00:00, 18.02it/s]\n",
            "pixman-0.40.0        | 370 KB    | : 100% 1.0/1 [00:00<00:00, 16.84it/s]\n",
            "ca-certificates-2020 | 121 KB    | : 100% 1.0/1 [00:00<00:00, 17.99it/s]\n",
            "libffi-3.3           | 50 KB     | : 100% 1.0/1 [00:00<00:00, 18.48it/s]\n",
            "lcms2-2.11           | 307 KB    | : 100% 1.0/1 [00:00<00:00, 15.21it/s]\n",
            "pytz-2020.1          | 184 KB    | : 100% 1.0/1 [00:00<00:00, 10.37it/s]\n",
            "pillow-8.0.1         | 619 KB    | : 100% 1.0/1 [00:00<00:00, 11.97it/s]\n",
            "glib-2.66.1          | 2.9 MB    | : 100% 1.0/1 [00:00<00:00,  3.45it/s]\n",
            "icu-58.2             | 10.5 MB   | : 100% 1.0/1 [00:00<00:00,  2.26it/s]               \n",
            "blas-1.0             | 6 KB      | : 100% 1.0/1 [00:00<00:00, 17.94it/s]\n",
            "mkl_random-1.1.1     | 322 KB    | : 100% 1.0/1 [00:00<00:00, 15.54it/s]\n",
            "jpeg-9b              | 214 KB    | : 100% 1.0/1 [00:00<00:00, 12.78it/s]\n",
            "intel-openmp-2020.2  | 786 KB    | : 100% 1.0/1 [00:00<00:00, 11.23it/s]\n",
            "fontconfig-2.13.0    | 227 KB    | : 100% 1.0/1 [00:00<00:00, 16.26it/s]\n",
            "libboost-1.73.0      | 13.9 MB   | : 100% 1.0/1 [00:01<00:00,  1.52s/it]               \n",
            "olefile-0.46         | 50 KB     | : 100% 1.0/1 [00:00<00:00, 11.31it/s]\n",
            "python-dateutil-2.8. | 215 KB    | : 100% 1.0/1 [00:00<00:00, 12.21it/s]\n",
            "mkl-2020.2           | 138.3 MB  | : 100% 1.0/1 [00:05<00:00,  5.44s/it]               \n",
            "conda-4.9.2          | 2.9 MB    | : 100% 1.0/1 [00:00<00:00,  5.52it/s]\n",
            "zstd-1.4.5           | 619 KB    | : 100% 1.0/1 [00:00<00:00, 11.56it/s]\n",
            "certifi-2020.6.20    | 155 KB    | : 100% 1.0/1 [00:00<00:00, 15.63it/s]\n",
            "cairo-1.14.12        | 906 KB    | : 100% 1.0/1 [00:00<00:00, 10.59it/s]\n",
            "cffi-1.14.3          | 223 KB    | : 100% 1.0/1 [00:00<00:00, 13.38it/s]\n",
            "numpy-1.19.2         | 22 KB     | : 100% 1.0/1 [00:00<00:00, 18.65it/s]\n",
            "mkl_fft-1.2.0        | 148 KB    | : 100% 1.0/1 [00:00<00:00, 16.80it/s]\n",
            "numpy-base-1.19.2    | 4.1 MB    | : 100% 1.0/1 [00:00<00:00,  3.17it/s]\n",
            "bzip2-1.0.8          | 78 KB     | : 100% 1.0/1 [00:00<00:00, 15.91it/s]\n",
            "freetype-2.10.4      | 596 KB    | : 100% 1.0/1 [00:00<00:00, 12.22it/s]\n",
            "libpng-1.6.37        | 278 KB    | : 100% 1.0/1 [00:00<00:00, 15.87it/s]\n",
            "xz-5.2.5             | 341 KB    | : 100% 1.0/1 [00:00<00:00, 12.32it/s]\n",
            "rdkit-2020.09.1.0    | 25.8 MB   | : 100% 1.0/1 [00:05<00:00,  5.35s/it]\n",
            "libxml2-2.9.10       | 1.2 MB    | : 100% 1.0/1 [00:00<00:00,  7.89it/s]\n",
            "Preparing transaction: | \b\b/ \b\b- \b\b\\ \b\b| \b\b/ \b\b- \b\b\\ \b\b| \b\bdone\n",
            "Verifying transaction: - \b\b\\ \b\b| \b\b/ \b\b- \b\b\\ \b\b| \b\b/ \b\b- \b\b\\ \b\b| \b\b/ \b\b- \b\b\\ \b\b| \b\b/ \b\b- \b\b\\ \b\b| \b\b/ \b\b- \b\b\\ \b\b| \b\b/ \b\b- \b\bdone\n",
            "Executing transaction: | \b\b/ \b\b- \b\b\\ \b\b| \b\b/ \b\b- \b\b\\ \b\b| \b\b/ \b\b- \b\b\\ \b\b| \b\b/ \b\b- \b\b\\ \b\b| \b\b/ \b\b- \b\b\\ \b\b| \b\b/ \b\b- \b\b\\ \b\b| \b\b/ \b\b- \b\b\\ \b\b| \b\b/ \b\b- \b\b\\ \b\b| \b\b/ \b\b- \b\b\\ \b\b| \b\b/ \b\b- \b\b\\ \b\b| \b\b/ \b\b- \b\b\\ \b\b| \b\b/ \b\b- \b\b\\ \b\b| \b\b/ \b\b- \b\b\\ \b\b| \b\b/ \b\b- \b\b\\ \b\b| \b\b/ \b\b- \b\b\\ \b\b| \b\b/ \b\b- \b\b\\ \b\b| \b\b/ \b\b- \b\b\\ \b\b| \b\b/ \b\b- \b\b\\ \b\b| \b\b/ \b\b- \b\b\\ \b\b| \b\b/ \b\b- \b\b\\ \b\b| \b\b/ \b\b- \b\b\\ \b\b| \b\b/ \b\b- \b\b\\ \b\b| \b\b/ \b\b- \b\b\\ \b\b| \b\b/ \b\b- \b\b\\ \b\b| \b\b/ \b\b- \b\b\\ \b\b| \b\b/ \b\b- \b\b\\ \b\b| \b\b/ \b\b- \b\b\\ \b\b| \b\b/ \b\b- \b\b\\ \b\b| \b\b/ \b\b- \b\b\\ \b\b| \b\b/ \b\b- \b\b\\ \b\b| \b\b/ \b\b- \b\b\\ \b\b| \b\b/ \b\b- \b\b\\ \b\b| \b\b/ \b\b- \b\b\\ \b\b| \b\b/ \b\b- \b\b\\ \b\b| \b\b/ \b\b- \b\b\\ \b\b| \b\b/ \b\b- \b\b\\ \b\b| \b\b/ \b\b- \b\b\\ \b\b| \b\b/ \b\b- \b\b\\ \b\b| \b\b/ \b\b- \b\b\\ \b\b| \b\b/ \b\b- \b\b\\ \b\b| \b\b/ \b\b- \b\b\\ \b\b| \b\b/ \b\b- \b\b\\ \b\b| \b\b/ \b\b- \b\b\\ \b\b| \b\b/ \b\b- \b\b\\ \b\b| \b\b/ \b\b- \b\b\\ \b\b| \b\b/ \b\b- \b\b\\ \b\b| \b\b/ \b\b- \b\b\\ \b\b| \b\b/ \b\b- \b\b\\ \b\b| \b\b/ \b\b- \b\b\\ \b\b| \b\b/ \b\b- \b\b\\ \b\b| \b\b/ \b\b- \b\b\\ \b\b| \b\b/ \b\b- \b\b\\ \b\b| \b\b/ \b\b- \b\b\\ \b\b| \b\b/ \b\b- \b\b\\ \b\b| \b\b/ \b\b- \b\b\\ \b\b| \b\b/ \b\b- \b\b\\ \b\b| \b\b/ \b\b- \b\b\\ \b\b| \b\b/ \b\b- \b\b\\ \b\b| \b\b/ \b\b- \b\b\\ \b\b| \b\b/ \b\b- \b\b\\ \b\b| \b\b/ \b\b- \b\b\\ \b\b| \b\b/ \b\b- \b\b\\ \b\b| \b\b/ \b\b- \b\b\\ \b\b| \b\b/ \b\b- \b\b\\ \b\b| \b\b/ \b\b- \b\b\\ \b\b| \b\b/ \b\b- \b\b\\ \b\b| \b\b/ \b\b- \b\b\\ \b\b| \b\b/ \b\b- \b\b\\ \b\b| \b\b/ \b\b- \b\b\\ \b\b| \b\b/ \b\b- \b\b\\ \b\b| \b\b/ \b\b- \b\b\\ \b\b| \b\b/ \b\b- \b\b\\ \b\b| \b\b/ \b\b- \b\b\\ \b\b| \b\b/ \b\b- \b\b\\ \b\b| \b\b/ \b\b- \b\b\\ \b\b| \b\b/ \b\b- \b\b\\ \b\b| \b\b/ \b\b- \b\b\\ \b\b| \b\bdone\n"
          ],
          "name": "stdout"
        }
      ]
    },
    {
      "cell_type": "code",
      "metadata": {
        "id": "oD4c95t1wTZC"
      },
      "source": [
        "import pandas as pd"
      ],
      "execution_count": 2,
      "outputs": []
    },
    {
      "cell_type": "code",
      "metadata": {
        "id": "Tk1YZVuiwr64"
      },
      "source": [
        "from rdkit import Chem"
      ],
      "execution_count": 3,
      "outputs": []
    },
    {
      "cell_type": "code",
      "metadata": {
        "id": "vcwldFrMwxrJ"
      },
      "source": [
        "import numpy as np\n",
        "from rdkit.Chem import Descriptors"
      ],
      "execution_count": 4,
      "outputs": []
    },
    {
      "cell_type": "code",
      "metadata": {
        "id": "u9HpxLBkw1YM"
      },
      "source": [
        "from rdkit.Chem import Draw\n",
        "from rdkit.Chem.Draw import IPythonConsole\n",
        "import pandas as pd\n",
        "from rdkit.Chem import PandasTools\n",
        "from rdkit.Chem import rdmolops\n",
        "import seaborn as sns"
      ],
      "execution_count": 5,
      "outputs": []
    },
    {
      "cell_type": "markdown",
      "metadata": {
        "id": "MBM1j-3TrOSS"
      },
      "source": [
        "Now we can read a SMILES file into a Pandas dataframe and add an RDKit molecule to the dataframe."
      ]
    },
    {
      "cell_type": "code",
      "metadata": {
        "id": "Mr0nkdpArQyV"
      },
      "source": [
        "active_df = pd.read_csv(\"actives_final.ism.txt\",header=None,sep=\" \")\n",
        "active_rows,active_cols = active_df.shape\n",
        "active_df.columns = [\"SMILES\",\"ID\",\"ChEMBL_ID\"]\n",
        "active_df[\"label\"] = [\"Active\"]*active_rows\n",
        "PandasTools.AddMoleculeColumnToFrame(active_df,\"SMILES\",\"Mol\")"
      ],
      "execution_count": 6,
      "outputs": []
    },
    {
      "cell_type": "markdown",
      "metadata": {
        "id": "RJ8zEsDIrYzQ"
      },
      "source": [
        "Let's define a function to add caculated properties to a dataframe"
      ]
    },
    {
      "cell_type": "code",
      "metadata": {
        "id": "XoLA3-1org8Q"
      },
      "source": [
        "def add_property_columns_to_df(df_in):\n",
        "    df_in[\"mw\"] = [Descriptors.MolWt(mol) for mol in df_in.Mol]\n",
        "    df_in[\"logP\"] = [Descriptors.MolLogP(mol) for mol in df_in.Mol]\n",
        "    df_in[\"charge\"] = [rdmolops.GetFormalCharge(mol) for mol in df_in.Mol]"
      ],
      "execution_count": 7,
      "outputs": []
    },
    {
      "cell_type": "markdown",
      "metadata": {
        "id": "btQ8sCIIrj2_"
      },
      "source": [
        "With this function in hand, we can calculate the molecular weight, LogP and formal charge of the molecules. Once we have these properties we can compare the distributions for the active and decoy sets."
      ]
    },
    {
      "cell_type": "code",
      "metadata": {
        "id": "CJUd5FZorkWp"
      },
      "source": [
        "add_property_columns_to_df(active_df)"
      ],
      "execution_count": 8,
      "outputs": []
    },
    {
      "cell_type": "markdown",
      "metadata": {
        "id": "iSEExgLfrn93"
      },
      "source": [
        "Let's look at the frist few rows of our dataframe to ensure that it makes sense."
      ]
    },
    {
      "cell_type": "code",
      "metadata": {
        "id": "AKevk4Hzrqby",
        "outputId": "b5e9ab9d-f9ba-4e22-ef15-e6a3a4adf22c",
        "colab": {
          "base_uri": "https://localhost:8080/",
          "height": 1000
        }
      },
      "source": [
        "active_df.head()"
      ],
      "execution_count": 9,
      "outputs": [
        {
          "output_type": "execute_result",
          "data": {
            "text/html": [
              "<div>\n",
              "<style scoped>\n",
              "    .dataframe tbody tr th:only-of-type {\n",
              "        vertical-align: middle;\n",
              "    }\n",
              "\n",
              "    .dataframe tbody tr th {\n",
              "        vertical-align: top;\n",
              "    }\n",
              "\n",
              "    .dataframe thead th {\n",
              "        text-align: right;\n",
              "    }\n",
              "</style>\n",
              "<table border=\"1\" class=\"dataframe\">\n",
              "  <thead>\n",
              "    <tr style=\"text-align: right;\">\n",
              "      <th></th>\n",
              "      <th>SMILES</th>\n",
              "      <th>ID</th>\n",
              "      <th>ChEMBL_ID</th>\n",
              "      <th>label</th>\n",
              "      <th>Mol</th>\n",
              "      <th>mw</th>\n",
              "      <th>logP</th>\n",
              "      <th>charge</th>\n",
              "    </tr>\n",
              "  </thead>\n",
              "  <tbody>\n",
              "    <tr>\n",
              "      <th>0</th>\n",
              "      <td>Cn1ccnc1Sc2ccc(cc2Cl)Nc3c4cc(c(cc4ncc3C#N)OCCC...</td>\n",
              "      <td>168691</td>\n",
              "      <td>CHEMBL318804</td>\n",
              "      <td>Active</td>\n",
              "      <td><img data-content=\"rdkit/molecule\" src=\"data:image/png;base64,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\" alt=\"Mol\"/></td>\n",
              "      <td>565.099</td>\n",
              "      <td>5.49788</td>\n",
              "      <td>0</td>\n",
              "    </tr>\n",
              "    <tr>\n",
              "      <th>1</th>\n",
              "      <td>C[C@@]12[C@@H]([C@@H](CC(O1)n3c4ccccc4c5c3c6n2...</td>\n",
              "      <td>86358</td>\n",
              "      <td>CHEMBL162</td>\n",
              "      <td>Active</td>\n",
              "      <td><img data-content=\"rdkit/molecule\" src=\"data:image/png;base64,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\" alt=\"Mol\"/></td>\n",
              "      <td>466.541</td>\n",
              "      <td>4.35400</td>\n",
              "      <td>0</td>\n",
              "    </tr>\n",
              "    <tr>\n",
              "      <th>2</th>\n",
              "      <td>Cc1cnc(nc1c2cc([nH]c2)C(=O)N[C@H](CO)c3cccc(c3...</td>\n",
              "      <td>575087</td>\n",
              "      <td>CHEMBL576683</td>\n",
              "      <td>Active</td>\n",
              "      <td><img data-content=\"rdkit/molecule\" src=\"data:image/png;base64,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\" alt=\"Mol\"/></td>\n",
              "      <td>527.915</td>\n",
              "      <td>4.96202</td>\n",
              "      <td>0</td>\n",
              "    </tr>\n",
              "    <tr>\n",
              "      <th>3</th>\n",
              "      <td>Cc1cnc(nc1c2cc([nH]c2)C(=O)N[C@H](CO)c3cccc(c3...</td>\n",
              "      <td>575065</td>\n",
              "      <td>CHEMBL571484</td>\n",
              "      <td>Active</td>\n",
              "      <td><img data-content=\"rdkit/molecule\" src=\"data:image/png;base64,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\" alt=\"Mol\"/></td>\n",
              "      <td>491.935</td>\n",
              "      <td>4.36922</td>\n",
              "      <td>0</td>\n",
              "    </tr>\n",
              "    <tr>\n",
              "      <th>4</th>\n",
              "      <td>Cc1cnc(nc1c2cc([nH]c2)C(=O)N[C@H](CO)c3cccc(c3...</td>\n",
              "      <td>575047</td>\n",
              "      <td>CHEMBL568937</td>\n",
              "      <td>Active</td>\n",
              "      <td><img data-content=\"rdkit/molecule\" src=\"data:image/png;base64,iVBORw0KGgoAAAANSUhEUgAAAMgAAADICAIAAAAiOjnJAAAABmJLR0QA/wD/AP+gvaeTAAAda0lEQVR4nO2da1hTx9bHVwiEiwIiIKCgBWkVxIoCVZAWVKyvHhBv+GiP1iMitSpqpRWrfbwc9Ui1tdQbopZXLBZbqUWkokWLEhBiQW0JKIpIQRAJyDVAAmS9H4bm8KJCbjsBOr+HDzs7e2avzfPPzOyZtdawEBEoFFWjpWkDKP0TKiwKI1BhURiBCovCCFRYFEagwqIwAhUWhRGosCiMQIVFYQQqLAojUGFRGIEKi8IIVFgURqDCojACFRaFEaiwKIxAhUVhBCosCiNQYVEYgQqLwghUWBRGoMKiMAIVFoURqLAojECFRWEEKiwKI1BhURiBCovCCFRYFEagwqIwAhUWhRGosCiMQIVFYQQqLAojUGFRGIEKi8IIVFgURqDCojACFRaFEaiwKIxAhUVhBCosCiNQYVEYgQqLwghUWBRGoMKiMAIVFoURqLAojECFRWEEKiwKI1BhURhBKWFdv369sLDw6dOnqrKG0m9QUFj19fUffPDBlClTpk6d+uabb166dEm1ZlH6OooIKzMz09nZ+fjx4wYGBkZGRlVVVb6+vps3b25ra1O5fZS+CspDW1tbeHi4jo4OALi6uhYUFEgkkoiICHLGzc3t0aNHclVI6a/IIazi4uK3334bAFgs1rp160QikfQrHo9na2sLAMbGxt9//z0DdlL6GLIK64cffjAxMQEAGxub1NTUFy+ora0NCAggrWBwcHBLS4sqzaT0NXoWVl1d3ZIlS4hi5s2bV11d/aorSbeoq6sLABMmTHjw4IGMRtTU1Fy9evXzzz/fuHFjfn6+RCKR1XxKb6UHYWVmZo4cORIADAwMIiIiZKkxJyfH3t4eAAwNDc+cOfPSaxoaGrhcbkRExNKlSx0dHbW0Ot4h2Gy2np7e1q1b5X4OSi/jlcJqbW3dvn07m80mo3LZmx9ErK+vX7x4MdHK0qVLGxsbGxsb09PTIyIilixZMnr0aKmSCPr6+pMmTVq7dm1oaKi2tjYAHD58WBVP179obMQtW3DXLty/H4uLMS4OETE+HgsLNW3ZS3ilsNLS0lgsFpvN3rp1q1gsVqDqY8eO6evrA8CwYcOIQKVwOBw3N7dVq1adPHny7t27ra2t0lKxsbHkvj/99JMiD9SPOXQIb9/uODh/Hr/+GtvbMTISc3M1bdlLeKWwyLgqPDxcmdrz8/MNDAwsLCy0tbUdHR2XLl0aERHB5XKbm5tfev3333/P4/G2b99OmrGbN28qc/f+xqefYlUVImJSEh47hn5++J//4Jw5vVNY2q+a33rjjTcAoLCwUPEpMgCxWNzU1KSnp1dTUzNw4MDuL/7ll18WL15samqamZlZWVkZGRk5e/bsjIwMYgkFvLwgLg6CguDnn2HJEhCLISQEoqI0bdYreJXicnNzAWDIkCFtbW0Ky3br1q0AsGrVKlkubmtr8/f3BwA7O7uysrLZs2cDwMiRI589e6awAf2EkhJctQqbm/HqVdy/H/l8fP4c795FRPzjj45mrJfR3VshaSq4XK7CtY8ePRoArl27tnjx4oULFz58+LD764VC4aRJkwDAzc2tsrJy4sSJ5LixsVFhG/o8AgE6OCAAbtyoaVPkoDthffzxxwAQGhqqWNV37twBAHNz8+rqaj09PS0trfLy8h5LVVZWvv766wDwj3/8o7y8nMxc+Pr6dh7g/40QCtHDAwHQyQmfP9e0NXLQnbAyMjIA4LXXXlOs6i1btgDA6tWrY2JiAGDq1KkyFiwsLBwyZAgABAcHP3z40NzcnBwrZkYfRizG//kfBEA7O5ThN9mr6E5Y7e3tVlZWAPD7778rUDVpeFJTU319fQEgMjJS9rI8Hs/AwAAA9u7dKz1W8hW1b9He3p66cSOyWGhpiT0NIXohPcy8BwcHA8COHTvkrTcnJwcALC0tq6qqdHV12Wy2vGPwxMRENpvNYrFiYmLi4+O1tLRYLNb58+fltaSP8uGHHwLA6enT8c4dTdvych61dOfJ0oM/1pw5cwAgISFB3pfNc+fOAcD8+fMvXrwoEom8vb1J7yY7fn5+Bw4cAICqqqr58+dv2bLF1NS0tbVVXkv6Itu2bYuMjNTT0xvx2Wfg7Kxpc/6LCEVrS9fueLrjRNWJI4Ij3V3avSpbWlqMjIwAoKioSC45k0H39evXZ82aBQDHjh2Tq7iUO3/9Xj/99FMAWLNmjWL19CGOHj0KAGw2Oz4+XtO2dOVczbnE2kRyvLG0u7fUnr0bFi1aBABfffWV7LfPzs6Gv/pBDoejQD/4IlKlKllPL4fL5bJYLBaLFR0drWlbXsI3Vd9kNGaQ4+6F1bNrsgK9IekHAwICEhMTxWLx1KlT5e0Hu5CTk1NYWGhpaenp6alMPb2cgoKC2bNnW1tbL1iwYPny5Zo2pyvZTdnTDKdFV0Xzm/k8Ia+Hq3sUaUNDg56eHpvNrqyslFHXxNMmLS2NvA9GRUXJWPBVhIWFAUBISIiS9fRy2traeu0yw9HKo6wc1r/L/10sKo6viX/Q8oDfzO/m+leuFUoZOHDg1KlTL1265O3tbWtrS978O8PhcAYMGCD9KBAIHj16ZGlpOXny5NOnT1+4cMHPz0/O30ZX4uPjAUDqodpfYbPZSjbtDPFT7U8hT0IAwErHagRnxAjOiJ7LyKLW69evk3kHGRk5cqSZmVlFRYVKfiu3bt0CAEtLS2VWLfsQCQkJCxYsOHLkiKYN6eBa/TXd27qQA+EVcswj9txiAYCXl5ednV1AQIBIJGpqauryrVgsFgqFnT8ePXq0qqrKz88vNTW1c2OmGGTEtnDhwi5OXf2VyspKX19fMorQOLeEt/wf+YtQtHHIxjCLMDlKMqFxgUBApt1nzZql/BofGbEpsxauDnr9UmZjY6O8DpsPHjxw/ofziDsjljxe0o7tcpVlRFjYab0vKChImXp4PB4AWFlZtbfL92Dqo6UF16zB8HAMDsaaGlXVKhAIXuUOqQBhYWEhISE6OjouLi7r1q2LiYl5/Phx90VKSkpsbGwA4L2177VK5P7ZMCUsROTxeKQf3LVrl8KVEA+LDRs2qNAwFfPTT5iUhIiYnY3yrId2w+3btwcNGsTj8VRS27Zt2wBAX1+fxWJ17qyGDx++aNGiiIgIHo/XpTGrqqpycHAAgEmTJinms8SgsBDx4sWLZL1Plum+qqqqy5cv79mzZ+7cuXl5eYgokUhee+01AMjIyGDUTqX47jskgZb37+OBAyqpsr29XVXN1ZEjRwCAzWb/+OOP9fX1XC43PDzc19fX1NS0s8g6N2b5+fkeHh4AMHbs2OeK+uowKyxEPHbsGLH78uXLXb4izykNAuv8ezpx4gQiZmZmAoC1tXXv7QcRUSDAwEDMyMA1a/DRI+xNpn733Xdk8f7kyZPkTEhIyO7du3/99de6urrc3NwTJ04sX77cwcGhS2MGALa2trL4z70KxoWFiJs2bQIAQ0PD2yTIBLG+vv7111/v8jADBgzw9PRcv379t99+++TJk8bGRhJD9tFHH6nBSKWorsakJCwqwnnz0NYWVTQtEhsbq0zxlJQUEjy8f/9+cqa+vl76Zs1ms0l4S1RUFJ/Pr6urkzZmBgYGWlpaSq4pqUNYEonk/fffJ2Pw4uJictLa2lpHR6dz6E5jYyOfz4+JiVm3bt3kyZM5HA4AjB8/vg/E6syejRwOlpXhG28gAKroBfbMmTNNTU2KleXxeCR6ZdOmTdKTTU1N3333XUhIiJubG8njIsXMzMzX15cMOUiUlIyRCq9CHcJCRLFYPH36dABwcHAgQfrFxcWNjY23bt06evRoYGDguHHjSKhq515//Pjxub0ytqkrc+ciAB49ih9/jACoqDO3qsjLyyNDqKVLl74qX4FYLM7OzibjkBEjOmbSyRr/3bt3AcDCwkKZEYiahIWIdXV148aNA4AxY8asWLFiwoQJXX402trab775ZmBg4JEjR3g8Xl9KKxITgwA4fTpmZCAAKurM/SItLS2//PJLXV2d7EVKS0uHDx8OAH5+frJPIj5+/PjMmTNCoZB8tLOzAwBl+gr1CQsRy8rKTE1Nhw0bJhWTnZ2dtCuUPlXfo6YGdXRQRwerqtDKCgFQIWfuLmzduvXdd9/t8o/Kzs7upiERCAQkMsrd3V2Z/+dHH33UpRuVF7UKSyKREFVt2LAhLS2toaFBnXdnlmnTEABjYzE4GFms+n37lKzv66+/JkNsJycnMgaXYmJiMnPmzJ07d3ZpzIRCobu7u5LTBIQbN24AgL29vcI1qFVY6enpAGBjY9MPExUdOoTa2s9Wry68enXS0KHOzs7KVHbmzBkyTfDNN98gYktLy82bNw8cOBAQEGBtbd1ZZFpaWk5OTkFBQcePH/fy8gKAkSNHPn36VMmnaW9vt7S0BAAyoagAahXW+vXrAeCTTz5R503VQ/2TJ2+Ymg4cOLC2tlYxZ24pKSkp5I34iy++eOkFZWVliYmJYWFhkydP1tPTk4ps0KBB5ubmqsrWuWLFCgDYvXu3YsXVJ6z29nbSD966dUttN1Unbm5uAJCYmKiAM7eUmzdxwgQvANi8ebMs10sbM2dnZwDw9/cn55V3GLx48SIAuLq6KlZcfcJKS0sj87n9sB9ERMQ9e/YAQGBg4NmzZwHAy8tL3hpyc9HEBAcMaAgLi5D3v/TgwQMAGDx4sFgs9vT0ZLPZSvrDtbS0GBoasliskpISBYqrT1hbtjzx9t69c+dBtd1RzeTl5QGAqalpTU2NvM7ciFhSgjY2CICzZyvog0OWjX/99Vfiy3X8+HFFaunEggULAODQoUMKlFWTsNrbcehQBMDfflPPDTXDqFGjAOD8+fMODg4mJiay544TCHDUKARAb29UePWZRMitW7fu5MmTADBr1iwFK/qL2NhYAJg2bZoCZdUkrOvXEQBtbbGfdoMdhIWFDRkyRE9PTzr3a21tHRAQcODAAR6v8FUzvm1t6OaGADh+PMozFdoV4rtmbW1dWVmpra2tq6sr18zqi9TW1nI4HG1tbYFAIG9ZNQlrzRoEQNnGo32Y6OhoEhU4b968mTNnkgTmhLff5mtro6MjBgdjTAzy+YiIZHyfl4eRkThmDCo5SyCRSIhrXnZ29jvvvAMAiuXcv3//vjQrMZnCiImJkbcSdQirvb1jOjonRw130xhJSUmkofryyy/JGYlEkp+fHx0dHRQU9O67dVpaCPDfvxkz0MUFf/gBExLw2jXV+DavWbMGAD777DOSnWDx4sXy1lBaWjpixAiSJkMgENjY2Dg6OpaWlspbjzqElZrakYqnH5OZmUncZbvJJd7QgFwuhoejry+ameHq1RgaimvW4Lff4rVrqjEjJSUFAJycnB4/fgwAhoaGci25VlVVOTo6AsDEiRMrKipcXV0VnsdnRFhSj4TcXExNxeZmPHUKFc3e0AfIzc0dPHgwACxbtkzGaQKJBBsaMDQU//wT33pLZcISi8Wk/y0oKCBL/snJyTKWFQqFkydPJrp8+vTpjBkzlJnHZ0RY0swda9fi2LH466947RpeuMDErTRPUVERySLm7+8vb0gS+bEdO6bKVEUk3fW+fft27NgBAB988IEspcRi8cyZM8mCW3FxMYkNHjJkiFz5/TvDyA6r1dWwZw/s2QOIMH06nD0LYjET99E8AoFg5syZT58+nTJlytmzZ7u4lHVPezvU1gIAvPkmPH+uMpOkuTbIAXHv7h5EXLlyZXJysrm5eUpKypdffnnu3DljY+MrV66QMD5FUEyP3dO5xQoNxdxc9PXthy1WXV3dhAkTAGDcuHE18gd+tbZiSAg2N+PPP2NCgsqsEgqFxLe4vLw8IyNDlvDxDRs2AICRkVFOTg5JdK2vr5+WlqaMGYy0WPr6/z3Q1wcnJ3ByAgCIj2fibiqDx+Pdv3+/ublZlovFYvGCBQtu375tb29/5cqVQYMGKXDH33+HI0fgwgUFir4SAwMDHx8fiURy8eJFDw+PHsPHd+7cGRERweFw4uPjs7Ky9uzZw2azY2NjyRaCiqOMKmVHIkEfHwRApZcZGEEoFG7atEkqDhMTE0dHRx8fn+Dg4O3bt0dFRaWkpDx69EgafNfW1jZ//nwAGDp0aI+Rn6+itRVJuOQvv6iyxULE6OhoADA3N9+4cWN8fPyTJ0+6ufjw4cM6Ojrnzp3r4qujJOpbKzx5EgGQzVbxP1ElkOA7Y2Nje3v7zo4oXWCz2cOGDfPw8CBemoMHD+bzu0vl0z0SCZJwydJSVFScL6empoZE3UmxsrLy9fUNDw9/6X4zjx8/7tFXR15YiKhUiycPO3bAzp1gYABXr4K7u9pu2wPt7e2jR48uLCz88ccf582bR3KclJeXP336tKioqKioSHpcUlJC9r02MDDgcDgXLlwgE9y9EKFQmJ6enpWVlZmZmZWVVVdXJ/1KT0/PxcVl0qRJ7u7u7u7uQ4cO5fF406ZNEwqFmzdv3rt3r0oMUKuwEGHFCvjf/wULC7h5s93OTo7sMeS9ksOBpiZ4IUWXUsTHxwcEBNjZ2T148EAikejr6xsZGVlZWQ0dOtTOzs7Ozk56PHTo0MrKytLS0vnz5z979ozP548ZM0aVpjCDRCK5d+9eVlbWzZs3s7Ky7t+/L5FIpN9aW1s/f/68qalpxYoVJ06ceDFyVUFU0u7JDsmJP2lSmYPDBLmc0eLi8L33EBFVnsaBbLJy9OhRRCwtLSU9wkvR0dEhYZzEn+TUqVMqNkUtvBho/89//nPevHmq3ftDjnkXlaCjAz/80D5lypx79277+/tfu3btxRSBnWltBT4fsrOBxQJra0hKUrE9aWlpWVlZpqamJKTW2tpaJBLV1NR07gGlB3/++aeZmRkAuLi4xMfH5+TkLFu2TMUGMY+hoaGnp6enp2dYWBhpzMzMzCwsLFR8GxWKVHbKy8tJto8XN8lpbW3NzS395htcvRrfegt1dTuWbDdtQh4PP/gAlQvQ7QrxiZNxhwSRSESsJUty7u7uqjSlf6HWMVZnCgsLPTw8BAJBcHBwWFhYenp6Tk5OTk7OnTt3jIwcKiqyyWUsFrzxBri6wqhRMGMGmJjAnDnA5YK2NhgZKWtDQUGBo6Ojnp5ecXEx2bFHRurq6kxMTHR1devr67uE3VI60KCouVyurq5ul6A5ALC3t1+2TLx/P6am/tfxrboaSZ4mLhcdHNDbG5WPlCaBKKtXr1ag7Jw5377zTt7vv/edcG31oklhIeK7777L4XDMzc0XLFiwd+/elJSUHj00SkvR2hoBcNEipfxRKyoqyGZ3Pe6i+FIWLUIA/Cs7EKUrmhRWa2sr6YDkjYr84w80NkYA3LJF8bsTD/H58+crVnz/fgTADz9U3ID+jSaFlZycDABOTk6lpaXR0dGyeJO1tuLKlXjwIF67hhwOAqBCISTY2NhI3rQVzntBvBffekux0v0fTQorMDAQAHbu3Llv3z4AeI/MU3XLpUvIYnWsC0VHI4uFU6bsuyC/48RXX30FAG+//Tb5qMAUTn09ammhri6KRPIW/VugMWGJxWLidZmXl0dcYGUMltq1CwFQXx8zMjAi4hIAGBgYZGVlyVK2vr7+xo0bX3zxBWmuEhISEPH06dNkC2p5H2H06P7vyK8wGhNWSkqhvf0YJyenoqIiFotlaGgoe/a64GDU12/y8QksKChYvXo1AJiZmd2/f//FK8ViMZ/Pj4qKImlOtbQ63IRMTExYLFZISEhLSwsJBhw1apQ026CM7NyJmzZhYSE2NSGxva0N5Uyl3m/RmLCWL0cA/PzzmshIrp2dgyz9oJTWVlyxYjMAjBw5sry83N/fHwDs7OwqKiqampoyMzMPHz78r3/9y8nJqYs3EofDcXV1XbVq1cqVK8n8U2Bg4JMnT8aPHw8AVlZWcm1SPGcOJiRgXR1u24Zr1yIicrl49qy8/4n+iWaEJRbj4MEIgPn56OKCAJiYKF+yTWkuKBcXl4qKChcXFwAwNTV9Md+ks7NzUFDQsWPHfvvtN1GnAdHVq1cNDQ0BwM/Pr7Ky0sfHh7Rksqf+Dg3FtWuxrAy3bcO5c/HqVYyIoMLqQDPCSkpCABw3Dh89QhYLDQ0ViSuvqKiws7MzMjL67bffSktLBwwYYGpqKk0GTLIEdt+93rp1i6z9eXl5PXv2jPjuDRgw4NKlS93f+u5dPHUKQ0OxqAhDQ3HbNly4EDMzMSqKCqsDzQhr2TIEwN278T//QQBculTBegoKCu7evYuISUlJAODg4CBvfsT8/HwSPezk5FRSUhIUFER6zLi4uJdeLxDgunXIZqOeHq5ciYi4dy/tCl+CBoQlEqGJCQLgvXu4fj3q6KggzoJ4GSiWJay4uJiM321tbR88ePDJJ58AgJaWVpcsK01NuGcPGhoiAOro4IYNHWHyIhGWlWFZGSKiUIi1tco+S/9AA8KqqMCFC3Hy5I6P1dXKTgWJRCISpXnv3j3FaqiuriZeWZaWlnfu3ImIiNDS0oqIiCDfSiSSuLjvR49uJH4W/v5YUKCUwX8H1C0sPz/84w8sL8eDqsuTlZiYCADjx49XppKGhgaSonjQoEFcLvfOXyGkt27dIhtRe3tvc3TEnkZflA4YCf/qBltbOHIE2tuhpUVldUr3NlemkoEDB168eHHhwoW1tbU+Pj7ErW/x4sUTJ05MT0+3srJatuz13FyYOVNFRvd71CzkjRvx+nX8979R6XzVHbS0tBgbGwOAwsHgnWlrayObFLPZbOKjrK+v/9lnn/WrzOFqQd0tFgB4eUFZGQCAbJGhPXDlyhUSkax4MHgn2Gx2VFRUeHi4s7Ozjo5OQEBAXl7erl27yL40FDlQs5Dv3kVEFAjw1Cm0tMT0dGUrJDkw9u7dq7xtnRGJRMpsqkbRmGvyunVw6BCYmkJGBowapWAlIpHIwsKirq7u4cOH9vb2KjWQohQa6AoJX30Fc+dCdTXMnAkVFQpWkpycXFdX5+rqSlXV29CYsNhsOHMGPDzg8WPw9YXGxu4ubmtry8vLO3369Pr16z09PUnmJ1DR+yCFCdQdV9gZfX1ISAAPD8jLg48/Pnv48ALpEnJrayufz8/+i9zc3NbWVmlBEorY0tJCVnLIGh+ld6HpQR4+fIjvvLMVAIKCgqQnp02b1tlIsrT8/vvvHzx4MCMjo76+ns/nh4SEAICLi4sGjae8Ck22WAR7e/jyyzne3hEnT560sbHZtm0bADg7O+fn57v8haenZ3NzMwk83Lt3b0ZGRk1NDQAMHz68sbGxpaWlmxQxFM2gaWV3kJSUpK2tzWKxSHIEiUTy8OHDuLi40NBQb29voxeCU21tbX19fYnTS0BAQK/e5v5vSW8RFiJGRkYCgLa2tqur64sJ8mxsbObOnbt79+7Lly9XVVWRInw+nyw/KxZ0SmEOjc1jvZStW7dmZGSQ7T2trKykXaGbmxvZl/FFbty4MWPGDJFIdODAAbLhLKVXoGll/z8kEolQKLxw4UIZ8W+Sjbi4OJLjMDY2ljnbKHLRu1oshfn88883b97M4XCSk5OnTp2qaXMo6s3oxyjr168/ePCgsbExl8sdO3asps35u9N/hCWRSAICAs6fP29tbZ2ZmdllU26Kmuk/wgKA5uZmHx+fmzdvjh07lsvlEj8tikbQ2FohE+jr6ycmJo4aNSo3N3fu3Lni/rrRSl+gXwkLAExNTZOTky0sLFJTU5cvX96f2uO+RX8TFgDY2tr+/PPPAwcOJPPyFI3Qr8ZYnSkpKRk+fLimrfj70m+FRdEs/bArpPQGqLAojECFRWEEKiwKI1BhURiBCovCCFRYFEagwqIwAhUWhRGosCiMQIVFYQQqLAojUGFRGIEKi8IIVFgURqDCojACFRaFEaiwKIxAhUVhBCosCiNQYVEYgQqLwghUWBRGoMKiMAIVFoURqLAojECFRWEEKiwKI1BhURiBCovCCFRYFEagwqIwAhUWhRGosCiMQIVFYQQqLAojUGFRGIEKi8IIVFgURqDCojACFRaFEaiwKIxAhUVhBCosCiNQYVEYgQqLwghUWBRGoMKiMAIVFoURqLAojECFRWGE/wP+Vl8ymIso0AAAAoN6VFh0cmRraXRQS0wgcmRraXQgMjAyMC4wOS4xAAB4nHu/b+09BiDgAWJGBghQBmJ1IG5gZGNIAIkzszloAGlmFjaHDBDNzMgOEYBLoPMxNCAUWoBokJEwGQaIDAeEZmJnAEswMbIpmAAZTIwsEFcwMXFAXMOIxXBMBpoSQQYFkF6E4aSYAaWhzkCnuYEBx8iUwcTEnMDMksHEwprAypbBxMauwM6RwMGZwcTJlcDFncDJo8DDq8HEw6fAx8/AL8DCJCDIwC/EICScwSQskiAimsEkKpYgJp7BJCbBwCKpICmlICWdwSQtkyAjm8EkK5cgJ5/BJK/AoKDIoKjEwMaYwM2ewSQulCAvlaAkxyDCysbIxsrCzMTKwc7NxckmLCIqJi7EJi0jKycvxaogL6ekKA6LXQZlpSn39l9NWXIAxDl5S+9Afk4DmO1e0Xag/VsnmL3EYdkBpz/eYLbsv2kHut893A9iFz/zP6B1bDeYvTtU4MDDy6pgNdf+e+zfsF8IzM5TVNunuCYXrMbjz0r7ORt7wOyVKhfsp+SpgNVMfrrYbtGyYDBb7KmoQ9Tm49YgNqPOJ3vPd9vtwfbOLnbwmrZ4H4jN7jjLoUrdEyxee7PbQfMurwOI/c1njcPFmSFgNrfMSYc7M1/bgdhTm6872DZUgO310Wd2THm7FMzmzBR2XLHAGWymiymPY8OmeWAzW/pfOhyLPwFmM+TLOL4QFQObWXls24HnkipgvZ+alx/g/uUOViP3qeBAumoXmC2QG3Rgg7gCWP2Tfx0HajgywOzjnDsOeH+BuM3P5/iBufc+g9Uf8f5+QGH1VzB7+U2mg7cywsBq7s+6d2AtbzuYLQYAsQa1CDMjlWoAAAJXelRYdE1PTCByZGtpdCAyMDIwLjA5LjEAAHicnVZLqhsxENz7FLpARH8ktXodZxXyAlnkDoEsc39SssZtDyRgtxlMiZ6pKVV/NJeyfj+uX3/9KfGT6+VStBf1Uuifl7uXn0JEF9z+iavp9IV6ZTVdHFQRpfK5/I/i+bqxCFiEF2qVWCXH0qqQyEbKnNSCfXhvC2nledrRxztajGc/HBqdc1q0Sptts7RhlNMiVXqXjbpzUgtVm3cWcfEsC4+dI6out729z1K4qkzavqAgc/UCliGDD1/GieV1d/GECvHOltIpR29okapNIjMjlyPsaLrQRk1PWr6/zqJ10tCdI0Uz5HxpdQod+UXlzNyO0MlGuh0SHiPH0qvO1vbeMGg858uoKFjbz7ZByaobmHVtHh1gZDmWiSnlRweIj9ysKw5PlY++dE7W7sSE06PqRD2ZacM+5twsffTkZPBqZnzvqPPc/f0qC84AY7bty2gnX96Yux1uNL93ACdPNYW77fCFzJOnGk6Sab596cQ5d9cJO/f5oZidvedY4G7fbqxutKQWdCPEbF+cetJdq7ZPksXCWXfRjTYPX7RT8oQd1ftoe+pJzM73WPBquf2vBZDe/tcCqEUEqEcEaEQEyCICNCMC5LHwsrpi3wa0imJHgDgUrIjGQsuqO4lFj0gvHAqAVuthMS4L8XyOhAIgCQVAEgqA1hfGEZEioQBIQsFahAJ4IKEASCwWVmTGM7NIKADSUACkoQBIQwGQhgIgjSwA6UOBPWVuOfh4aXvaNtge2tZ3+v2l30r58nG9/AW4LdQMp5Wf2wAAAad6VFh0U01JTEVTIHJka2l0IDIwMjAuMDkuMQAAeJwlkjtu5EAMRK+yoQZoNfhrfjAwsIASR/YBDEdKFz6BD7/Fnkk0KJHFx6Kum++f+/i45cZPb7muSx8/N5948fXz/n0f1/H2+fj4uv6+fx/X5+NVeVz/8O9x85/f4+QZmjXONVlDeTxPgSI8TpvEKgbFppBwtqTM2hLKayn6dHKGxK4KziWjLX1R7apgDh0nTTcm2ZKopQ+akcyrqxT1Fjl4UtS20ikZxUPmIrb1QkA5D50ua72MYjEXFJWwBvcpkuTwKVqiUGKGtG9x4fk8czKmWvfAeO2eWkAb8Bcyec22NOs1zL1yJ9IzsQZ4ijHheTb+4mWtSUnBiwBCzQgLpSBIDFpn2Y1eshUFI7c7VTGWlakm6KJJ5FSm2VUJ5AC5qRfm6cRiCB5zFcE3gs0Ese0gV3SQuE6QIjRhd6yypqbpKyHGjZ8IKM0DLeZYP1sJXIPbtwLM4EFGhfyaUMr7iygYKu/hjPVNuyhcgSdaKV0REX0utX34QGtG8y9fO1W0uojGngQKyvH4/Q/kdpGMGR2R7gAAAABJRU5ErkJggg==\" alt=\"Mol\"/></td>\n",
              "      <td>487.991</td>\n",
              "      <td>5.12922</td>\n",
              "      <td>0</td>\n",
              "    </tr>\n",
              "  </tbody>\n",
              "</table>\n",
              "</div>"
            ],
            "text/plain": [
              "                                              SMILES      ID  ...     logP charge\n",
              "0  Cn1ccnc1Sc2ccc(cc2Cl)Nc3c4cc(c(cc4ncc3C#N)OCCC...  168691  ...  5.49788      0\n",
              "1  C[C@@]12[C@@H]([C@@H](CC(O1)n3c4ccccc4c5c3c6n2...   86358  ...  4.35400      0\n",
              "2  Cc1cnc(nc1c2cc([nH]c2)C(=O)N[C@H](CO)c3cccc(c3...  575087  ...  4.96202      0\n",
              "3  Cc1cnc(nc1c2cc([nH]c2)C(=O)N[C@H](CO)c3cccc(c3...  575065  ...  4.36922      0\n",
              "4  Cc1cnc(nc1c2cc([nH]c2)C(=O)N[C@H](CO)c3cccc(c3...  575047  ...  5.12922      0\n",
              "\n",
              "[5 rows x 8 columns]"
            ]
          },
          "metadata": {
            "tags": []
          },
          "execution_count": 9
        }
      ]
    },
    {
      "cell_type": "markdown",
      "metadata": {
        "id": "pToInmtwrvzF"
      },
      "source": [
        "Now let's do the same thing with the decoy molecules"
      ]
    },
    {
      "cell_type": "code",
      "metadata": {
        "id": "Ivt9MlBZruvp"
      },
      "source": [
        "decoy_df = pd.read_csv(\"decoys_final.ism.txt\",header=None,sep=\" \")\n",
        "decoy_df.columns = [\"SMILES\",\"ID\"]\n",
        "decoy_rows, decoy_cols = decoy_df.shape\n",
        "decoy_df[\"label\"] = [\"Decoy\"]*decoy_rows\n",
        "PandasTools.AddMoleculeColumnToFrame(decoy_df,\"SMILES\",\"Mol\")\n",
        "add_property_columns_to_df(decoy_df)"
      ],
      "execution_count": 10,
      "outputs": []
    },
    {
      "cell_type": "code",
      "metadata": {
        "id": "mQ7nYc3dqnHN"
      },
      "source": [
        "tmp_df = active_df.append(decoy_df)"
      ],
      "execution_count": 11,
      "outputs": []
    },
    {
      "cell_type": "markdown",
      "metadata": {
        "id": "NjZYfyolr5eV"
      },
      "source": [
        "With properties calculated for both the active and the decoy sets, we can compare the properties of the two compound sets. To do the comparison, we will use violin plots. A violin plot can be thought of as analogous to a boxplot. The violin plot provides a mirrored, horizontal view of a frequency distribution. Ideally, we would like to see similar distributions for the active and decoy sets."
      ]
    },
    {
      "cell_type": "code",
      "metadata": {
        "id": "hgN9kyair4qO",
        "outputId": "ebef9f20-64f5-4814-de99-103edb0f3f5a",
        "colab": {
          "base_uri": "https://localhost:8080/",
          "height": 351
        }
      },
      "source": [
        "sns.violinplot(tmp_df[\"label\"],tmp_df[\"mw\"])"
      ],
      "execution_count": 12,
      "outputs": [
        {
          "output_type": "stream",
          "text": [
            "/usr/local/lib/python3.6/dist-packages/seaborn/_decorators.py:43: FutureWarning: Pass the following variables as keyword args: x, y. From version 0.12, the only valid positional argument will be `data`, and passing other arguments without an explicit keyword will result in an error or misinterpretation.\n",
            "  FutureWarning\n"
          ],
          "name": "stderr"
        },
        {
          "output_type": "execute_result",
          "data": {
            "text/plain": [
              "<matplotlib.axes._subplots.AxesSubplot at 0x7f670b699cc0>"
            ]
          },
          "metadata": {
            "tags": []
          },
          "execution_count": 12
        },
        {
          "output_type": "display_data",
          "data": {
            "image/png": "[encoded data removed]",
            "text/plain": [
              "<Figure size 432x288 with 1 Axes>"
            ]
          },
          "metadata": {
            "tags": [],
            "needs_background": "light"
          }
        }
      ]
    },
    {
      "cell_type": "markdown",
      "metadata": {
        "id": "I4J9Qi2csDPa"
      },
      "source": [
        "An examination of the distributions in the figures above show that the molecular weight distributions for the two sets are roughly equivalent. The decoy set has more low molecular weight molecules, but the center of the distribution, show as a box in the middle of each violin plot is in a similar location in both plots.\n",
        "\n",
        "We can use violin plots to perform a similar comparison of the LogP distributions. Again, we can see that the distributions are similar with a few more decoys at the lower end of the distribution."
      ]
    },
    {
      "cell_type": "code",
      "metadata": {
        "id": "AyPT-8svsDvj",
        "outputId": "22486be2-6700-4ec5-8df2-a591209a7c05",
        "colab": {
          "base_uri": "https://localhost:8080/",
          "height": 351
        }
      },
      "source": [
        "sns.violinplot(tmp_df[\"label\"],tmp_df[\"logP\"])"
      ],
      "execution_count": 13,
      "outputs": [
        {
          "output_type": "stream",
          "text": [
            "/usr/local/lib/python3.6/dist-packages/seaborn/_decorators.py:43: FutureWarning: Pass the following variables as keyword args: x, y. From version 0.12, the only valid positional argument will be `data`, and passing other arguments without an explicit keyword will result in an error or misinterpretation.\n",
            "  FutureWarning\n"
          ],
          "name": "stderr"
        },
        {
          "output_type": "execute_result",
          "data": {
            "text/plain": [
              "<matplotlib.axes._subplots.AxesSubplot at 0x7f6709ce9f28>"
            ]
          },
          "metadata": {
            "tags": []
          },
          "execution_count": 13
        },
        {
          "output_type": "display_data",
          "data": {
            "image/png": "[encoded data removed]",
            "text/plain": [
              "<Figure size 432x288 with 1 Axes>"
            ]
          },
          "metadata": {
            "tags": [],
            "needs_background": "light"
          }
        }
      ]
    },
    {
      "cell_type": "markdown",
      "metadata": {
        "id": "MpdPgdwPsIlL"
      },
      "source": [
        "Finally, we will do the same comparison with the formal charges of the molecules."
      ]
    },
    {
      "cell_type": "code",
      "metadata": {
        "id": "fv0Auo9DsH4d",
        "outputId": "84e1c050-1c29-40c9-c8e5-e822fed9f874",
        "colab": {
          "base_uri": "https://localhost:8080/",
          "height": 351
        }
      },
      "source": [
        "sns.violinplot(tmp_df[\"label\"],tmp_df[\"charge\"])"
      ],
      "execution_count": 14,
      "outputs": [
        {
          "output_type": "stream",
          "text": [
            "/usr/local/lib/python3.6/dist-packages/seaborn/_decorators.py:43: FutureWarning: Pass the following variables as keyword args: x, y. From version 0.12, the only valid positional argument will be `data`, and passing other arguments without an explicit keyword will result in an error or misinterpretation.\n",
            "  FutureWarning\n"
          ],
          "name": "stderr"
        },
        {
          "output_type": "execute_result",
          "data": {
            "text/plain": [
              "<matplotlib.axes._subplots.AxesSubplot at 0x7f67085573c8>"
            ]
          },
          "metadata": {
            "tags": []
          },
          "execution_count": 14
        },
        {
          "output_type": "display_data",
          "data": {
            "image/png": "[encoded data removed]",
            "text/plain": [
              "<Figure size 432x288 with 1 Axes>"
            ]
          },
          "metadata": {
            "tags": [],
            "needs_background": "light"
          }
        }
      ]
    },
    {
      "cell_type": "markdown",
      "metadata": {
        "id": "pv3LXg5nsN5H"
      },
      "source": [
        "In this case, we see a signficant difference. All of the active molecules are neutral, while some of the decoys are charged. Let see what fraction of the decoy molecules are charged. We can do this by creating a new dataframe with just the charged molecules."
      ]
    },
    {
      "cell_type": "code",
      "metadata": {
        "id": "8yq5nN9GsNRW"
      },
      "source": [
        "charged = decoy_df[decoy_df[\"charge\"] != 0]"
      ],
      "execution_count": 15,
      "outputs": []
    },
    {
      "cell_type": "markdown",
      "metadata": {
        "id": "6eG1AeXgsT4E"
      },
      "source": [
        "A pandas dataframe has a property, shape, that returns the number of rows and columns in the dataframe. As such, element[0] in the shape property will be the number of rows. Let's divide the number of rows in our dataframe of charged molecules by the total number of rows in the decoy dataframe."
      ]
    },
    {
      "cell_type": "code",
      "metadata": {
        "id": "FN1Y79SCsV55",
        "outputId": "125b078f-09ac-4aa3-d183-c8f64685daf8",
        "colab": {
          "base_uri": "https://localhost:8080/"
        }
      },
      "source": [
        "charged.shape[0]/decoy_df.shape[0]"
      ],
      "execution_count": 16,
      "outputs": [
        {
          "output_type": "execute_result",
          "data": {
            "text/plain": [
              "0.16175824175824177"
            ]
          },
          "metadata": {
            "tags": []
          },
          "execution_count": 16
        }
      ]
    },
    {
      "cell_type": "markdown",
      "metadata": {
        "id": "c2hrmwZcsYDj"
      },
      "source": [
        "\n",
        "The fact that 16% of the decoy compounds are charged, while none of the active compounds are is a concern. An examination of both sets indicate that charge states were assigned to the decoys, but not to the active molecules. In order to be consistent, we will use some code from the RDKit Cookbook to neutralize the molecules (https://rdkit.readthedocs.io/en/latest/Cookbook.html#neutralizing-charged-molecules). First, we will import an RDKit function to neutralize charges."
      ]
    },
    {
      "cell_type": "code",
      "metadata": {
        "id": "qmIPZJpBsZ8G"
      },
      "source": [
        "from rdkit import Chem\n",
        "from rdkit.Chem import AllChem\n",
        "from rdkit.Chem import Draw"
      ],
      "execution_count": 17,
      "outputs": []
    },
    {
      "cell_type": "code",
      "metadata": {
        "id": "zCz5F4ZG2vEH"
      },
      "source": [
        "def _InitialiseNeutralisationReactions():\n",
        "    patts= (\n",
        "        # Imidazoles\n",
        "        ('[n+;H]','n'),\n",
        "        # Amines\n",
        "        ('[N+;!H0]','N'),\n",
        "        # Carboxylic acids and alcohols\n",
        "        ('[$([O-]);!$([O-][#7])]','O'),\n",
        "        # Thiols\n",
        "        ('[S-;X1]','S'),\n",
        "        # Sulfonamides\n",
        "        ('[$([N-;X2]S(=O)=O)]','N'),\n",
        "        # Enamines\n",
        "        ('[$([N-;X2][C,N]=C)]','N'),\n",
        "        # Tetrazoles\n",
        "        ('[n-]','[nH]'),\n",
        "        # Sulfoxides\n",
        "        ('[$([S-]=O)]','S'),\n",
        "        # Amides\n",
        "        ('[$([N-]C=O)]','N'),\n",
        "        )\n",
        "    return [(Chem.MolFromSmarts(x),Chem.MolFromSmiles(y,False)) for x,y in patts]\n",
        "\n",
        "_reactions=None\n",
        "def NeutraliseCharges(smiles, reactions=None):\n",
        "    global _reactions\n",
        "    if reactions is None:\n",
        "        if _reactions is None:\n",
        "            _reactions=_InitialiseNeutralisationReactions()\n",
        "        reactions=_reactions\n",
        "    mol = Chem.MolFromSmiles(smiles)\n",
        "    replaced = False\n",
        "    for i,(reactant, product) in enumerate(reactions):\n",
        "        while mol.HasSubstructMatch(reactant):\n",
        "            replaced = True\n",
        "            rms = AllChem.ReplaceSubstructs(mol, reactant, product)\n",
        "            mol = rms[0]\n",
        "    if replaced:\n",
        "        return (Chem.MolToSmiles(mol,True), True)\n",
        "    else:\n",
        "        return (smiles, False)"
      ],
      "execution_count": 18,
      "outputs": []
    },
    {
      "cell_type": "markdown",
      "metadata": {
        "id": "Z2mRw62pscsJ"
      },
      "source": [
        "Now we will create a new dataframe with the SMILES, ID, and label for the decoys."
      ]
    },
    {
      "cell_type": "code",
      "metadata": {
        "id": "CIJNFlNusels"
      },
      "source": [
        "revised_decoy_df = decoy_df[[\"SMILES\",\"ID\",\"label\"]].copy()"
      ],
      "execution_count": 19,
      "outputs": []
    },
    {
      "cell_type": "markdown",
      "metadata": {
        "id": "umXBGnZIsgzj"
      },
      "source": [
        "\n",
        "With this new dataframe in hand, we can replace the SMILES with the SMILES for the neutral form of the molecule. The NeutraliseCharges function returns two values. The first is the SMILES for the neutral form of the molecule and the second is a boolean variable indicating whether the molecule was changed. In the code below, we only need the SMILES, so we will use the first element of the tuple returned by NeutraliseCharges."
      ]
    },
    {
      "cell_type": "code",
      "metadata": {
        "id": "fo97bitqsikA"
      },
      "source": [
        "revised_decoy_df[\"SMILES\"] = [NeutraliseCharges(x)[0] for x in revised_decoy_df[\"SMILES\"]]"
      ],
      "execution_count": 20,
      "outputs": []
    },
    {
      "cell_type": "markdown",
      "metadata": {
        "id": "f8dIxYp9slAV"
      },
      "source": [
        "Once we've replaced the SMILES, we can add a molecule column to our new dataframe and calculated properties again."
      ]
    },
    {
      "cell_type": "code",
      "metadata": {
        "id": "k-OSStBGsnTq"
      },
      "source": [
        "PandasTools.AddMoleculeColumnToFrame(revised_decoy_df,\"SMILES\",\"Mol\")\n",
        "add_property_columns_to_df(revised_decoy_df)"
      ],
      "execution_count": 21,
      "outputs": []
    },
    {
      "cell_type": "markdown",
      "metadata": {
        "id": "VKPYveV6spLv"
      },
      "source": [
        "We can now append the dataframe with the active molecules to the one with the revised, neutral decoys and calculate another box plot."
      ]
    },
    {
      "cell_type": "code",
      "metadata": {
        "id": "42uH-YcHst7V",
        "outputId": "4ee99e8c-8b23-4ddd-87b5-3e1c6a17d211",
        "colab": {
          "base_uri": "https://localhost:8080/",
          "height": 351
        }
      },
      "source": [
        "new_tmp_df = active_df.append(revised_decoy_df)\n",
        "sns.violinplot(new_tmp_df[\"label\"],new_tmp_df[\"charge\"])"
      ],
      "execution_count": 22,
      "outputs": [
        {
          "output_type": "stream",
          "text": [
            "/usr/local/lib/python3.6/dist-packages/seaborn/_decorators.py:43: FutureWarning: Pass the following variables as keyword args: x, y. From version 0.12, the only valid positional argument will be `data`, and passing other arguments without an explicit keyword will result in an error or misinterpretation.\n",
            "  FutureWarning\n"
          ],
          "name": "stderr"
        },
        {
          "output_type": "execute_result",
          "data": {
            "text/plain": [
              "<matplotlib.axes._subplots.AxesSubplot at 0x7f67084b8be0>"
            ]
          },
          "metadata": {
            "tags": []
          },
          "execution_count": 22
        },
        {
          "output_type": "display_data",
          "data": {
            "image/png": "[encoded data removed]",
            "text/plain": [
              "<Figure size 432x288 with 1 Axes>"
            ]
          },
          "metadata": {
            "tags": [],
            "needs_background": "light"
          }
        }
      ]
    },
    {
      "cell_type": "markdown",
      "metadata": {
        "id": "h1X77SQasxWl"
      },
      "source": [
        "An examination of the plot about show that there are very few charged molecules in the decoy set. We can use the same technique we used above to create a dataframe with only the charged molecules. We can then use this dataframe to determine the number of charged molecules remaining in the set."
      ]
    },
    {
      "cell_type": "code",
      "metadata": {
        "id": "wvl1gbwFszNX",
        "outputId": "b4b06c6a-ba6b-41f6-fc16-da87b799aeee",
        "colab": {
          "base_uri": "https://localhost:8080/"
        }
      },
      "source": [
        "charged = revised_decoy_df[revised_decoy_df[\"charge\"] != 0]\n",
        "charged.shape[0]/revised_decoy_df.shape[0]"
      ],
      "execution_count": 23,
      "outputs": [
        {
          "output_type": "execute_result",
          "data": {
            "text/plain": [
              "0.0026373626373626374"
            ]
          },
          "metadata": {
            "tags": []
          },
          "execution_count": 23
        }
      ]
    },
    {
      "cell_type": "markdown",
      "metadata": {
        "id": "h_-Yx0ads1iu"
      },
      "source": [
        "We have now reduced the fraction of charged compounds from 16% to 0.3%. We can now be confident that our active and decoy sets are reasonbly well balanced.\n",
        "\n",
        "In order to use these datasets with DeepChem we need to write the molecules out as a csv file consisting of SMILES, Name, and an integer value indicating whether the compounds are active (labeled as 1) or inactive (labeled as 0)."
      ]
    },
    {
      "cell_type": "code",
      "metadata": {
        "id": "yhiAu3hps3Vf",
        "outputId": "75cfaf94-d8a6-4094-9017-a8ddc0d6257d",
        "colab": {
          "base_uri": "https://localhost:8080/",
          "height": 202
        }
      },
      "source": [
        "active_df[\"is_active\"] = [1] * active_df.shape[0]\n",
        "revised_decoy_df[\"is_active\"] = [0] * revised_decoy_df.shape[0]\n",
        "combined_df = active_df.append(revised_decoy_df)[[\"SMILES\",\"ID\",\"is_active\"]]\n",
        "combined_df.head()"
      ],
      "execution_count": 24,
      "outputs": [
        {
          "output_type": "execute_result",
          "data": {
            "text/html": [
              "<div>\n",
              "<style scoped>\n",
              "    .dataframe tbody tr th:only-of-type {\n",
              "        vertical-align: middle;\n",
              "    }\n",
              "\n",
              "    .dataframe tbody tr th {\n",
              "        vertical-align: top;\n",
              "    }\n",
              "\n",
              "    .dataframe thead th {\n",
              "        text-align: right;\n",
              "    }\n",
              "</style>\n",
              "<table border=\"1\" class=\"dataframe\">\n",
              "  <thead>\n",
              "    <tr style=\"text-align: right;\">\n",
              "      <th></th>\n",
              "      <th>SMILES</th>\n",
              "      <th>ID</th>\n",
              "      <th>is_active</th>\n",
              "    </tr>\n",
              "  </thead>\n",
              "  <tbody>\n",
              "    <tr>\n",
              "      <th>0</th>\n",
              "      <td>Cn1ccnc1Sc2ccc(cc2Cl)Nc3c4cc(c(cc4ncc3C#N)OCCC...</td>\n",
              "      <td>168691</td>\n",
              "      <td>1</td>\n",
              "    </tr>\n",
              "    <tr>\n",
              "      <th>1</th>\n",
              "      <td>C[C@@]12[C@@H]([C@@H](CC(O1)n3c4ccccc4c5c3c6n2...</td>\n",
              "      <td>86358</td>\n",
              "      <td>1</td>\n",
              "    </tr>\n",
              "    <tr>\n",
              "      <th>2</th>\n",
              "      <td>Cc1cnc(nc1c2cc([nH]c2)C(=O)N[C@H](CO)c3cccc(c3...</td>\n",
              "      <td>575087</td>\n",
              "      <td>1</td>\n",
              "    </tr>\n",
              "    <tr>\n",
              "      <th>3</th>\n",
              "      <td>Cc1cnc(nc1c2cc([nH]c2)C(=O)N[C@H](CO)c3cccc(c3...</td>\n",
              "      <td>575065</td>\n",
              "      <td>1</td>\n",
              "    </tr>\n",
              "    <tr>\n",
              "      <th>4</th>\n",
              "      <td>Cc1cnc(nc1c2cc([nH]c2)C(=O)N[C@H](CO)c3cccc(c3...</td>\n",
              "      <td>575047</td>\n",
              "      <td>1</td>\n",
              "    </tr>\n",
              "  </tbody>\n",
              "</table>\n",
              "</div>"
            ],
            "text/plain": [
              "                                              SMILES      ID  is_active\n",
              "0  Cn1ccnc1Sc2ccc(cc2Cl)Nc3c4cc(c(cc4ncc3C#N)OCCC...  168691          1\n",
              "1  C[C@@]12[C@@H]([C@@H](CC(O1)n3c4ccccc4c5c3c6n2...   86358          1\n",
              "2  Cc1cnc(nc1c2cc([nH]c2)C(=O)N[C@H](CO)c3cccc(c3...  575087          1\n",
              "3  Cc1cnc(nc1c2cc([nH]c2)C(=O)N[C@H](CO)c3cccc(c3...  575065          1\n",
              "4  Cc1cnc(nc1c2cc([nH]c2)C(=O)N[C@H](CO)c3cccc(c3...  575047          1"
            ]
          },
          "metadata": {
            "tags": []
          },
          "execution_count": 24
        }
      ]
    },
    {
      "cell_type": "markdown",
      "metadata": {
        "id": "H_21XAMss6GZ"
      },
      "source": [
        "Our final step in this section is to save our new combined_df as a csv file. The index=False option causes Pandas to not include the row number in the first column."
      ]
    },
    {
      "cell_type": "code",
      "metadata": {
        "id": "ab_amaVzs7p_"
      },
      "source": [
        "combined_df.to_csv(\"dude_erk1_mk01.csv\")"
      ],
      "execution_count": 25,
      "outputs": []
    },
    {
      "cell_type": "markdown",
      "metadata": {
        "id": "FWNNjHulxUDX"
      },
      "source": [
        "**Training a Graph Convolution Model**\n",
        "\n",
        "Now that we have the data appropriately formatted, we can use this data to train a Graph Convolution model. First we need to import the necessary libraries."
      ]
    },
    {
      "cell_type": "code",
      "metadata": {
        "id": "u1V_fvAB4JZI",
        "outputId": "d6e09962-5c88-4dff-8e7c-038d3409ac1b",
        "colab": {
          "base_uri": "https://localhost:8080/"
        }
      },
      "source": [
        "!curl -Lo conda_installer.py https://raw.githubusercontent.com/deepchem/deepchem/master/scripts/colab_install.py\n",
        "import conda_installer\n",
        "conda_installer.install()\n",
        "!/root/miniconda/bin/conda info -e"
      ],
      "execution_count": 26,
      "outputs": [
        {
          "output_type": "stream",
          "text": [
            "  % Total    % Received % Xferd  Average Speed   Time    Time     Time  Current\n",
            "                                 Dload  Upload   Total   Spent    Left  Speed\n",
            "100  3490  100  3490    0     0  17537      0 --:--:-- --:--:-- --:--:-- 17626\n"
          ],
          "name": "stdout"
        },
        {
          "output_type": "stream",
          "text": [
            "add /root/miniconda/lib/python3.6/site-packages to PYTHONPATH\n",
            "python version: 3.6.9\n",
            "fetching installer from https://repo.continuum.io/miniconda/Miniconda3-latest-Linux-x86_64.sh\n",
            "done\n",
            "installing miniconda to /root/miniconda\n",
            "done\n",
            "installing rdkit, openmm, pdbfixer\n",
            "added conda-forge to channels\n",
            "added omnia to channels\n",
            "done\n",
            "conda packages installation finished!\n"
          ],
          "name": "stderr"
        },
        {
          "output_type": "stream",
          "text": [
            "# conda environments:\n",
            "#\n",
            "base                  *  /root/miniconda\n",
            "                         /usr/local\n",
            "\n"
          ],
          "name": "stdout"
        }
      ]
    },
    {
      "cell_type": "code",
      "metadata": {
        "id": "Zn9WkvtC5INJ",
        "outputId": "705157b2-3e79-43df-b798-52708842a958",
        "colab": {
          "base_uri": "https://localhost:8080/"
        }
      },
      "source": [
        "!pip install --pre deepchem"
      ],
      "execution_count": 27,
      "outputs": [
        {
          "output_type": "stream",
          "text": [
            "Collecting deepchem\n",
            "  Downloading deepchem-2.4.0rc1.dev20201110082157.tar.gz (402 kB)\n",
            "\u001b[K     |████████████████████████████████| 402 kB 4.4 MB/s \n",
            "\u001b[?25hCollecting joblib\n",
            "  Downloading joblib-0.17.0-py3-none-any.whl (301 kB)\n",
            "\u001b[K     |████████████████████████████████| 301 kB 18.2 MB/s \n",
            "\u001b[?25hRequirement already satisfied: numpy in /usr/local/lib/python3.7/site-packages (from deepchem) (1.19.2)\n",
            "Requirement already satisfied: pandas in /usr/local/lib/python3.7/site-packages (from deepchem) (1.1.3)\n",
            "Collecting scikit-learn\n",
            "  Downloading scikit_learn-0.23.2-cp37-cp37m-manylinux1_x86_64.whl (6.8 MB)\n",
            "\u001b[K     |████████████████████████████████| 6.8 MB 18.5 MB/s \n",
            "\u001b[?25hCollecting scipy\n",
            "  Downloading scipy-1.5.4-cp37-cp37m-manylinux1_x86_64.whl (25.9 MB)\n",
            "\u001b[K     |████████████████████████████████| 25.9 MB 1.0 kB/s \n",
            "\u001b[?25hRequirement already satisfied: pytz>=2017.2 in /usr/local/lib/python3.7/site-packages (from pandas->deepchem) (2020.1)\n",
            "Requirement already satisfied: python-dateutil>=2.7.3 in /usr/local/lib/python3.7/site-packages (from pandas->deepchem) (2.8.1)\n",
            "Collecting threadpoolctl>=2.0.0\n",
            "  Downloading threadpoolctl-2.1.0-py3-none-any.whl (12 kB)\n",
            "Requirement already satisfied: six>=1.5 in /usr/local/lib/python3.7/site-packages (from python-dateutil>=2.7.3->pandas->deepchem) (1.14.0)\n",
            "Building wheels for collected packages: deepchem\n",
            "  Building wheel for deepchem (setup.py) ... \u001b[?25l\u001b[?25hdone\n",
            "  Created wheel for deepchem: filename=deepchem-2.4.0rc1.dev20201114131456-py3-none-any.whl size=513172 sha256=2c4603d35676d20cc3b2dcf8bd5791bf704fe62066bfc07270441fddecee7d2f\n",
            "  Stored in directory: /root/.cache/pip/wheels/ef/5e/93/381e0559fdd35b7440483fbfbfd43c079ad93564525692761c\n",
            "Successfully built deepchem\n",
            "Installing collected packages: joblib, threadpoolctl, scipy, scikit-learn, deepchem\n",
            "Successfully installed deepchem-2.4.0rc1.dev20201114131456 joblib-0.17.0 scikit-learn-0.23.2 scipy-1.5.4 threadpoolctl-2.1.0\n"
          ],
          "name": "stdout"
        }
      ]
    },
    {
      "cell_type": "code",
      "metadata": {
        "id": "t9d63TBgxTXN"
      },
      "source": [
        "import deepchem as dc\n",
        "from deepchem.models import GraphConvModel\n",
        "import numpy as np\n",
        "import sys\n",
        "import pandas as pd\n",
        "import seaborn as sns\n",
        "from rdkit.Chem import PandasTools"
      ],
      "execution_count": 46,
      "outputs": []
    },
    {
      "cell_type": "markdown",
      "metadata": {
        "id": "EyaYSA5txbRo"
      },
      "source": [
        "Now let's define a function to create a GraphConvModel. In this case we will be creating a classification model. Since we will be apply the model later on a different dataset, it's a good idea to create a directory in which to store the model."
      ]
    },
    {
      "cell_type": "code",
      "metadata": {
        "id": "02Cf7UYVSh9i"
      },
      "source": [
        "def generate_graph_conv_model():\n",
        "    batch_size = 128\n",
        "    model = GraphConvModel(1, batch_size=batch_size, mode='classification',model_dir=\"./model_dir\")\n",
        "    return model"
      ],
      "execution_count": 49,
      "outputs": []
    },
    {
      "cell_type": "markdown",
      "metadata": {
        "id": "MRgmswQYxkuP"
      },
      "source": [
        "Now we will read in the dataset that we just created."
      ]
    },
    {
      "cell_type": "code",
      "metadata": {
        "id": "zaEDEav0xoDO",
        "outputId": "d6ac6a36-b7a1-4993-ffc6-261dbeef08ac",
        "colab": {
          "base_uri": "https://localhost:8080/"
        }
      },
      "source": [
        "dataset_file = \"dude_erk1_mk01.csv\"\n",
        "tasks = [\"is_active\"]\n",
        "featurizer = dc.feat.ConvMolFeaturizer()\n",
        "loader = dc.data.CSVLoader(tasks=tasks, feature_field=\"SMILES\", featurizer=featurizer)\n",
        "dataset = loader.create_dataset(dataset_file, shard_size=8192)\n",
        "dataset"
      ],
      "execution_count": 51,
      "outputs": [
        {
          "output_type": "execute_result",
          "data": {
            "text/plain": [
              "<DiskDataset X.shape: (4629,), y.shape: (4629, 1), w.shape: (4629, 1), task_names: ['is_active']>"
            ]
          },
          "metadata": {
            "tags": []
          },
          "execution_count": 51
        }
      ]
    },
    {
      "cell_type": "markdown",
      "metadata": {
        "id": "JdWtybSMy4Rw"
      },
      "source": [
        "Now that we have the dataset loaded, let's build a model. We will create training and test sets to evaluate the model's performance. In this case we will use the RandomSplitter(). DeepChem offers a number of other splitters such as the ScaffoldSplitter, which will divide the dataset by chemical scaffold or the ButinaSplitter which will first cluster the data then split the dataset so that different clusters will end up in the training and test sets."
      ]
    },
    {
      "cell_type": "code",
      "metadata": {
        "id": "ThimXxpby9ug"
      },
      "source": [
        "splitter = dc.splits.RandomSplitter()"
      ],
      "execution_count": 54,
      "outputs": []
    },
    {
      "cell_type": "markdown",
      "metadata": {
        "id": "ggLXVwz_zEZI"
      },
      "source": [
        "With the dataset split, we can train a model on the training set and test that model on the validation set. At this point we can define some metrics and evaluate the performance of our model. In this case our dataset is unbalanced, we have a small number of active compounds and a large number of inactive compounds. Given this difference, we need to use a metric that reflects the performance on unbalanced datasets. One metric that is apporpriate for datasets like this is the Matthews correlation coefficient (MCC). Put more info about MCC here."
      ]
    },
    {
      "cell_type": "code",
      "metadata": {
        "id": "kORFUXGzy_WO",
        "outputId": "c4336cc9-f498-4e04-ece8-8fdcf25a5e47",
        "colab": {
          "base_uri": "https://localhost:8080/",
          "height": 166
        }
      },
      "source": [
        "metrics = [dc.metrics.Metric(dc.metrics.matthews_corrcoef, np.mean, mode=\"classification\")]"
      ],
      "execution_count": 1,
      "outputs": [
        {
          "output_type": "error",
          "ename": "NameError",
          "evalue": "ignored",
          "traceback": [
            "\u001b[0;31m---------------------------------------------------------------------------\u001b[0m",
            "\u001b[0;31mNameError\u001b[0m                                 Traceback (most recent call last)",
            "\u001b[0;32m<ipython-input-1-fde4070804d4>\u001b[0m in \u001b[0;36m<module>\u001b[0;34m()\u001b[0m\n\u001b[0;32m----> 1\u001b[0;31m \u001b[0mmetrics\u001b[0m \u001b[0;34m=\u001b[0m \u001b[0;34m[\u001b[0m\u001b[0mdc\u001b[0m\u001b[0;34m.\u001b[0m\u001b[0mmetrics\u001b[0m\u001b[0;34m.\u001b[0m\u001b[0mMetric\u001b[0m\u001b[0;34m(\u001b[0m\u001b[0mdc\u001b[0m\u001b[0;34m.\u001b[0m\u001b[0mmetrics\u001b[0m\u001b[0;34m.\u001b[0m\u001b[0mmatthews_corrcoef\u001b[0m\u001b[0;34m,\u001b[0m \u001b[0mnp\u001b[0m\u001b[0;34m.\u001b[0m\u001b[0mmean\u001b[0m\u001b[0;34m,\u001b[0m \u001b[0mmode\u001b[0m\u001b[0;34m=\u001b[0m\u001b[0;34m\"classification\"\u001b[0m\u001b[0;34m)\u001b[0m\u001b[0;34m]\u001b[0m\u001b[0;34m\u001b[0m\u001b[0;34m\u001b[0m\u001b[0m\n\u001b[0m",
            "\u001b[0;31mNameError\u001b[0m: name 'dc' is not defined"
          ]
        }
      ]
    },
    {
      "cell_type": "markdown",
      "metadata": {
        "id": "B_5m0Tq8mdqe"
      },
      "source": [
        "In order to evaluate the performance of our model, we will perform 10 folds of cross\n",
        "validation, where we train a model on the training set and validate on the validation\n",
        "set:"
      ]
    },
    {
      "cell_type": "code",
      "metadata": {
        "id": "OWqjSCPWmIBs",
        "outputId": "3f60cd0b-d266-4250-8306-75d7e25d1195",
        "colab": {
          "base_uri": "https://localhost:8080/",
          "height": 1000
        }
      },
      "source": [
        "training_score_list = []\n",
        "validation_score_list = []\n",
        "transformers = []\n",
        "cv_folds = 5\n",
        "for i in range(0,cv_folds):\n",
        "    model = generate_graph_conv_model()\n",
        "    train_dataset, valid_dataset, test_dataset = splitter.train_valid_test_split(dataset)\n",
        "    model.fit(train_dataset)\n",
        "\n",
        "print(training_score_list)\n",
        "print(validation_score_list)"
      ],
      "execution_count": 161,
      "outputs": [
        {
          "output_type": "stream",
          "text": [
            "WARNING:tensorflow:Unresolved object in checkpoint: (root).optimizer.iter\n",
            "WARNING:tensorflow:Unresolved object in checkpoint: (root).optimizer.beta_1\n",
            "WARNING:tensorflow:Unresolved object in checkpoint: (root).optimizer.beta_2\n",
            "WARNING:tensorflow:Unresolved object in checkpoint: (root).optimizer.decay\n",
            "WARNING:tensorflow:Unresolved object in checkpoint: (root).optimizer.learning_rate\n",
            "WARNING:tensorflow:Unresolved object in checkpoint: (root).optimizer's state 'm' for (root).model.dense.kernel\n",
            "WARNING:tensorflow:Unresolved object in checkpoint: (root).optimizer's state 'm' for (root).model.dense.bias\n",
            "WARNING:tensorflow:Unresolved object in checkpoint: (root).optimizer's state 'm' for (root).model.reshape_dense.kernel\n",
            "WARNING:tensorflow:Unresolved object in checkpoint: (root).optimizer's state 'm' for (root).model.reshape_dense.bias\n",
            "WARNING:tensorflow:Unresolved object in checkpoint: (root).optimizer's state 'm' for (root).model.graph_convs.0.kernel0\n",
            "WARNING:tensorflow:Unresolved object in checkpoint: (root).optimizer's state 'm' for (root).model.graph_convs.0.kernel1\n",
            "WARNING:tensorflow:Unresolved object in checkpoint: (root).optimizer's state 'm' for (root).model.graph_convs.0.kernel2\n",
            "WARNING:tensorflow:Unresolved object in checkpoint: (root).optimizer's state 'm' for (root).model.graph_convs.0.kernel3\n",
            "WARNING:tensorflow:Unresolved object in checkpoint: (root).optimizer's state 'm' for (root).model.graph_convs.0.kernel4\n",
            "WARNING:tensorflow:Unresolved object in checkpoint: (root).optimizer's state 'm' for (root).model.graph_convs.0.kernel5\n",
            "WARNING:tensorflow:Unresolved object in checkpoint: (root).optimizer's state 'm' for (root).model.graph_convs.0.kernel6\n",
            "WARNING:tensorflow:Unresolved object in checkpoint: (root).optimizer's state 'm' for (root).model.graph_convs.0.kernel7\n",
            "WARNING:tensorflow:Unresolved object in checkpoint: (root).optimizer's state 'm' for (root).model.graph_convs.0.kernel8\n",
            "WARNING:tensorflow:Unresolved object in checkpoint: (root).optimizer's state 'm' for (root).model.graph_convs.0.kernel9\n",
            "WARNING:tensorflow:Unresolved object in checkpoint: (root).optimizer's state 'm' for (root).model.graph_convs.0.kernel10\n",
            "WARNING:tensorflow:Unresolved object in checkpoint: (root).optimizer's state 'm' for (root).model.graph_convs.0.kernel11\n",
            "WARNING:tensorflow:Unresolved object in checkpoint: (root).optimizer's state 'm' for (root).model.graph_convs.0.kernel12\n",
            "WARNING:tensorflow:Unresolved object in checkpoint: (root).optimizer's state 'm' for (root).model.graph_convs.0.kernel13\n",
            "WARNING:tensorflow:Unresolved object in checkpoint: (root).optimizer's state 'm' for (root).model.graph_convs.0.kernel14\n",
            "WARNING:tensorflow:Unresolved object in checkpoint: (root).optimizer's state 'm' for (root).model.graph_convs.0.kernel15\n",
            "WARNING:tensorflow:Unresolved object in checkpoint: (root).optimizer's state 'm' for (root).model.graph_convs.0.kernel16\n",
            "WARNING:tensorflow:Unresolved object in checkpoint: (root).optimizer's state 'm' for (root).model.graph_convs.0.kernel17\n",
            "WARNING:tensorflow:Unresolved object in checkpoint: (root).optimizer's state 'm' for (root).model.graph_convs.0.kernel18\n",
            "WARNING:tensorflow:Unresolved object in checkpoint: (root).optimizer's state 'm' for (root).model.graph_convs.0.kernel19\n",
            "WARNING:tensorflow:Unresolved object in checkpoint: (root).optimizer's state 'm' for (root).model.graph_convs.0.kernel20\n",
            "WARNING:tensorflow:Unresolved object in checkpoint: (root).optimizer's state 'm' for (root).model.graph_convs.0.bias0\n",
            "WARNING:tensorflow:Unresolved object in checkpoint: (root).optimizer's state 'm' for (root).model.graph_convs.0.bias1\n",
            "WARNING:tensorflow:Unresolved object in checkpoint: (root).optimizer's state 'm' for (root).model.graph_convs.0.bias2\n",
            "WARNING:tensorflow:Unresolved object in checkpoint: (root).optimizer's state 'm' for (root).model.graph_convs.0.bias3\n",
            "WARNING:tensorflow:Unresolved object in checkpoint: (root).optimizer's state 'm' for (root).model.graph_convs.0.bias4\n",
            "WARNING:tensorflow:Unresolved object in checkpoint: (root).optimizer's state 'm' for (root).model.graph_convs.0.bias5\n",
            "WARNING:tensorflow:Unresolved object in checkpoint: (root).optimizer's state 'm' for (root).model.graph_convs.0.bias6\n",
            "WARNING:tensorflow:Unresolved object in checkpoint: (root).optimizer's state 'm' for (root).model.graph_convs.0.bias7\n",
            "WARNING:tensorflow:Unresolved object in checkpoint: (root).optimizer's state 'm' for (root).model.graph_convs.0.bias8\n",
            "WARNING:tensorflow:Unresolved object in checkpoint: (root).optimizer's state 'm' for (root).model.graph_convs.0.bias9\n",
            "WARNING:tensorflow:Unresolved object in checkpoint: (root).optimizer's state 'm' for (root).model.graph_convs.0.bias10\n",
            "WARNING:tensorflow:Unresolved object in checkpoint: (root).optimizer's state 'm' for (root).model.graph_convs.0.bias11\n",
            "WARNING:tensorflow:Unresolved object in checkpoint: (root).optimizer's state 'm' for (root).model.graph_convs.0.bias12\n",
            "WARNING:tensorflow:Unresolved object in checkpoint: (root).optimizer's state 'm' for (root).model.graph_convs.0.bias13\n",
            "WARNING:tensorflow:Unresolved object in checkpoint: (root).optimizer's state 'm' for (root).model.graph_convs.0.bias14\n",
            "WARNING:tensorflow:Unresolved object in checkpoint: (root).optimizer's state 'm' for (root).model.graph_convs.0.bias15\n",
            "WARNING:tensorflow:Unresolved object in checkpoint: (root).optimizer's state 'm' for (root).model.graph_convs.0.bias16\n",
            "WARNING:tensorflow:Unresolved object in checkpoint: (root).optimizer's state 'm' for (root).model.graph_convs.0.bias17\n",
            "WARNING:tensorflow:Unresolved object in checkpoint: (root).optimizer's state 'm' for (root).model.graph_convs.0.bias18\n",
            "WARNING:tensorflow:Unresolved object in checkpoint: (root).optimizer's state 'm' for (root).model.graph_convs.0.bias19\n",
            "WARNING:tensorflow:Unresolved object in checkpoint: (root).optimizer's state 'm' for (root).model.graph_convs.0.bias20\n",
            "WARNING:tensorflow:Unresolved object in checkpoint: (root).optimizer's state 'm' for (root).model.graph_convs.1.kernel0\n",
            "WARNING:tensorflow:Unresolved object in checkpoint: (root).optimizer's state 'm' for (root).model.graph_convs.1.kernel1\n",
            "WARNING:tensorflow:Unresolved object in checkpoint: (root).optimizer's state 'm' for (root).model.graph_convs.1.kernel2\n",
            "WARNING:tensorflow:Unresolved object in checkpoint: (root).optimizer's state 'm' for (root).model.graph_convs.1.kernel3\n",
            "WARNING:tensorflow:Unresolved object in checkpoint: (root).optimizer's state 'm' for (root).model.graph_convs.1.kernel4\n",
            "WARNING:tensorflow:Unresolved object in checkpoint: (root).optimizer's state 'm' for (root).model.graph_convs.1.kernel5\n",
            "WARNING:tensorflow:Unresolved object in checkpoint: (root).optimizer's state 'm' for (root).model.graph_convs.1.kernel6\n",
            "WARNING:tensorflow:Unresolved object in checkpoint: (root).optimizer's state 'm' for (root).model.graph_convs.1.kernel7\n",
            "WARNING:tensorflow:Unresolved object in checkpoint: (root).optimizer's state 'm' for (root).model.graph_convs.1.kernel8\n",
            "WARNING:tensorflow:Unresolved object in checkpoint: (root).optimizer's state 'm' for (root).model.graph_convs.1.kernel9\n",
            "WARNING:tensorflow:Unresolved object in checkpoint: (root).optimizer's state 'm' for (root).model.graph_convs.1.kernel10\n",
            "WARNING:tensorflow:Unresolved object in checkpoint: (root).optimizer's state 'm' for (root).model.graph_convs.1.kernel11\n",
            "WARNING:tensorflow:Unresolved object in checkpoint: (root).optimizer's state 'm' for (root).model.graph_convs.1.kernel12\n",
            "WARNING:tensorflow:Unresolved object in checkpoint: (root).optimizer's state 'm' for (root).model.graph_convs.1.kernel13\n",
            "WARNING:tensorflow:Unresolved object in checkpoint: (root).optimizer's state 'm' for (root).model.graph_convs.1.kernel14\n",
            "WARNING:tensorflow:Unresolved object in checkpoint: (root).optimizer's state 'm' for (root).model.graph_convs.1.kernel15\n",
            "WARNING:tensorflow:Unresolved object in checkpoint: (root).optimizer's state 'm' for (root).model.graph_convs.1.kernel16\n",
            "WARNING:tensorflow:Unresolved object in checkpoint: (root).optimizer's state 'm' for (root).model.graph_convs.1.kernel17\n",
            "WARNING:tensorflow:Unresolved object in checkpoint: (root).optimizer's state 'm' for (root).model.graph_convs.1.kernel18\n",
            "WARNING:tensorflow:Unresolved object in checkpoint: (root).optimizer's state 'm' for (root).model.graph_convs.1.kernel19\n",
            "WARNING:tensorflow:Unresolved object in checkpoint: (root).optimizer's state 'm' for (root).model.graph_convs.1.kernel20\n",
            "WARNING:tensorflow:Unresolved object in checkpoint: (root).optimizer's state 'm' for (root).model.graph_convs.1.bias0\n",
            "WARNING:tensorflow:Unresolved object in checkpoint: (root).optimizer's state 'm' for (root).model.graph_convs.1.bias1\n",
            "WARNING:tensorflow:Unresolved object in checkpoint: (root).optimizer's state 'm' for (root).model.graph_convs.1.bias2\n",
            "WARNING:tensorflow:Unresolved object in checkpoint: (root).optimizer's state 'm' for (root).model.graph_convs.1.bias3\n",
            "WARNING:tensorflow:Unresolved object in checkpoint: (root).optimizer's state 'm' for (root).model.graph_convs.1.bias4\n",
            "WARNING:tensorflow:Unresolved object in checkpoint: (root).optimizer's state 'm' for (root).model.graph_convs.1.bias5\n",
            "WARNING:tensorflow:Unresolved object in checkpoint: (root).optimizer's state 'm' for (root).model.graph_convs.1.bias6\n",
            "WARNING:tensorflow:Unresolved object in checkpoint: (root).optimizer's state 'm' for (root).model.graph_convs.1.bias7\n",
            "WARNING:tensorflow:Unresolved object in checkpoint: (root).optimizer's state 'm' for (root).model.graph_convs.1.bias8\n",
            "WARNING:tensorflow:Unresolved object in checkpoint: (root).optimizer's state 'm' for (root).model.graph_convs.1.bias9\n",
            "WARNING:tensorflow:Unresolved object in checkpoint: (root).optimizer's state 'm' for (root).model.graph_convs.1.bias10\n",
            "WARNING:tensorflow:Unresolved object in checkpoint: (root).optimizer's state 'm' for (root).model.graph_convs.1.bias11\n",
            "WARNING:tensorflow:Unresolved object in checkpoint: (root).optimizer's state 'm' for (root).model.graph_convs.1.bias12\n",
            "WARNING:tensorflow:Unresolved object in checkpoint: (root).optimizer's state 'm' for (root).model.graph_convs.1.bias13\n",
            "WARNING:tensorflow:Unresolved object in checkpoint: (root).optimizer's state 'm' for (root).model.graph_convs.1.bias14\n",
            "WARNING:tensorflow:Unresolved object in checkpoint: (root).optimizer's state 'm' for (root).model.graph_convs.1.bias15\n",
            "WARNING:tensorflow:Unresolved object in checkpoint: (root).optimizer's state 'm' for (root).model.graph_convs.1.bias16\n",
            "WARNING:tensorflow:Unresolved object in checkpoint: (root).optimizer's state 'm' for (root).model.graph_convs.1.bias17\n",
            "WARNING:tensorflow:Unresolved object in checkpoint: (root).optimizer's state 'm' for (root).model.graph_convs.1.bias18\n",
            "WARNING:tensorflow:Unresolved object in checkpoint: (root).optimizer's state 'm' for (root).model.graph_convs.1.bias19\n",
            "WARNING:tensorflow:Unresolved object in checkpoint: (root).optimizer's state 'm' for (root).model.graph_convs.1.bias20\n",
            "WARNING:tensorflow:Unresolved object in checkpoint: (root).optimizer's state 'm' for (root).model.batch_norms.0.gamma\n",
            "WARNING:tensorflow:Unresolved object in checkpoint: (root).optimizer's state 'm' for (root).model.batch_norms.0.beta\n",
            "WARNING:tensorflow:Unresolved object in checkpoint: (root).optimizer's state 'm' for (root).model.batch_norms.1.gamma\n",
            "WARNING:tensorflow:Unresolved object in checkpoint: (root).optimizer's state 'm' for (root).model.batch_norms.1.beta\n",
            "WARNING:tensorflow:Unresolved object in checkpoint: (root).optimizer's state 'm' for (root).model.batch_norms.2.gamma\n",
            "WARNING:tensorflow:Unresolved object in checkpoint: (root).optimizer's state 'm' for (root).model.batch_norms.2.beta\n",
            "WARNING:tensorflow:Unresolved object in checkpoint: (root).optimizer's state 'v' for (root).model.dense.kernel\n",
            "WARNING:tensorflow:Unresolved object in checkpoint: (root).optimizer's state 'v' for (root).model.dense.bias\n",
            "WARNING:tensorflow:Unresolved object in checkpoint: (root).optimizer's state 'v' for (root).model.reshape_dense.kernel\n",
            "WARNING:tensorflow:Unresolved object in checkpoint: (root).optimizer's state 'v' for (root).model.reshape_dense.bias\n",
            "WARNING:tensorflow:Unresolved object in checkpoint: (root).optimizer's state 'v' for (root).model.graph_convs.0.kernel0\n",
            "WARNING:tensorflow:Unresolved object in checkpoint: (root).optimizer's state 'v' for (root).model.graph_convs.0.kernel1\n",
            "WARNING:tensorflow:Unresolved object in checkpoint: (root).optimizer's state 'v' for (root).model.graph_convs.0.kernel2\n",
            "WARNING:tensorflow:Unresolved object in checkpoint: (root).optimizer's state 'v' for (root).model.graph_convs.0.kernel3\n",
            "WARNING:tensorflow:Unresolved object in checkpoint: (root).optimizer's state 'v' for (root).model.graph_convs.0.kernel4\n",
            "WARNING:tensorflow:Unresolved object in checkpoint: (root).optimizer's state 'v' for (root).model.graph_convs.0.kernel5\n",
            "WARNING:tensorflow:Unresolved object in checkpoint: (root).optimizer's state 'v' for (root).model.graph_convs.0.kernel6\n",
            "WARNING:tensorflow:Unresolved object in checkpoint: (root).optimizer's state 'v' for (root).model.graph_convs.0.kernel7\n",
            "WARNING:tensorflow:Unresolved object in checkpoint: (root).optimizer's state 'v' for (root).model.graph_convs.0.kernel8\n",
            "WARNING:tensorflow:Unresolved object in checkpoint: (root).optimizer's state 'v' for (root).model.graph_convs.0.kernel9\n",
            "WARNING:tensorflow:Unresolved object in checkpoint: (root).optimizer's state 'v' for (root).model.graph_convs.0.kernel10\n",
            "WARNING:tensorflow:Unresolved object in checkpoint: (root).optimizer's state 'v' for (root).model.graph_convs.0.kernel11\n",
            "WARNING:tensorflow:Unresolved object in checkpoint: (root).optimizer's state 'v' for (root).model.graph_convs.0.kernel12\n",
            "WARNING:tensorflow:Unresolved object in checkpoint: (root).optimizer's state 'v' for (root).model.graph_convs.0.kernel13\n",
            "WARNING:tensorflow:Unresolved object in checkpoint: (root).optimizer's state 'v' for (root).model.graph_convs.0.kernel14\n",
            "WARNING:tensorflow:Unresolved object in checkpoint: (root).optimizer's state 'v' for (root).model.graph_convs.0.kernel15\n",
            "WARNING:tensorflow:Unresolved object in checkpoint: (root).optimizer's state 'v' for (root).model.graph_convs.0.kernel16\n",
            "WARNING:tensorflow:Unresolved object in checkpoint: (root).optimizer's state 'v' for (root).model.graph_convs.0.kernel17\n",
            "WARNING:tensorflow:Unresolved object in checkpoint: (root).optimizer's state 'v' for (root).model.graph_convs.0.kernel18\n",
            "WARNING:tensorflow:Unresolved object in checkpoint: (root).optimizer's state 'v' for (root).model.graph_convs.0.kernel19\n",
            "WARNING:tensorflow:Unresolved object in checkpoint: (root).optimizer's state 'v' for (root).model.graph_convs.0.kernel20\n",
            "WARNING:tensorflow:Unresolved object in checkpoint: (root).optimizer's state 'v' for (root).model.graph_convs.0.bias0\n",
            "WARNING:tensorflow:Unresolved object in checkpoint: (root).optimizer's state 'v' for (root).model.graph_convs.0.bias1\n",
            "WARNING:tensorflow:Unresolved object in checkpoint: (root).optimizer's state 'v' for (root).model.graph_convs.0.bias2\n",
            "WARNING:tensorflow:Unresolved object in checkpoint: (root).optimizer's state 'v' for (root).model.graph_convs.0.bias3\n",
            "WARNING:tensorflow:Unresolved object in checkpoint: (root).optimizer's state 'v' for (root).model.graph_convs.0.bias4\n",
            "WARNING:tensorflow:Unresolved object in checkpoint: (root).optimizer's state 'v' for (root).model.graph_convs.0.bias5\n",
            "WARNING:tensorflow:Unresolved object in checkpoint: (root).optimizer's state 'v' for (root).model.graph_convs.0.bias6\n",
            "WARNING:tensorflow:Unresolved object in checkpoint: (root).optimizer's state 'v' for (root).model.graph_convs.0.bias7\n",
            "WARNING:tensorflow:Unresolved object in checkpoint: (root).optimizer's state 'v' for (root).model.graph_convs.0.bias8\n",
            "WARNING:tensorflow:Unresolved object in checkpoint: (root).optimizer's state 'v' for (root).model.graph_convs.0.bias9\n",
            "WARNING:tensorflow:Unresolved object in checkpoint: (root).optimizer's state 'v' for (root).model.graph_convs.0.bias10\n",
            "WARNING:tensorflow:Unresolved object in checkpoint: (root).optimizer's state 'v' for (root).model.graph_convs.0.bias11\n",
            "WARNING:tensorflow:Unresolved object in checkpoint: (root).optimizer's state 'v' for (root).model.graph_convs.0.bias12\n",
            "WARNING:tensorflow:Unresolved object in checkpoint: (root).optimizer's state 'v' for (root).model.graph_convs.0.bias13\n",
            "WARNING:tensorflow:Unresolved object in checkpoint: (root).optimizer's state 'v' for (root).model.graph_convs.0.bias14\n",
            "WARNING:tensorflow:Unresolved object in checkpoint: (root).optimizer's state 'v' for (root).model.graph_convs.0.bias15\n",
            "WARNING:tensorflow:Unresolved object in checkpoint: (root).optimizer's state 'v' for (root).model.graph_convs.0.bias16\n",
            "WARNING:tensorflow:Unresolved object in checkpoint: (root).optimizer's state 'v' for (root).model.graph_convs.0.bias17\n",
            "WARNING:tensorflow:Unresolved object in checkpoint: (root).optimizer's state 'v' for (root).model.graph_convs.0.bias18\n",
            "WARNING:tensorflow:Unresolved object in checkpoint: (root).optimizer's state 'v' for (root).model.graph_convs.0.bias19\n",
            "WARNING:tensorflow:Unresolved object in checkpoint: (root).optimizer's state 'v' for (root).model.graph_convs.0.bias20\n",
            "WARNING:tensorflow:Unresolved object in checkpoint: (root).optimizer's state 'v' for (root).model.graph_convs.1.kernel0\n",
            "WARNING:tensorflow:Unresolved object in checkpoint: (root).optimizer's state 'v' for (root).model.graph_convs.1.kernel1\n",
            "WARNING:tensorflow:Unresolved object in checkpoint: (root).optimizer's state 'v' for (root).model.graph_convs.1.kernel2\n",
            "WARNING:tensorflow:Unresolved object in checkpoint: (root).optimizer's state 'v' for (root).model.graph_convs.1.kernel3\n",
            "WARNING:tensorflow:Unresolved object in checkpoint: (root).optimizer's state 'v' for (root).model.graph_convs.1.kernel4\n",
            "WARNING:tensorflow:Unresolved object in checkpoint: (root).optimizer's state 'v' for (root).model.graph_convs.1.kernel5\n",
            "WARNING:tensorflow:Unresolved object in checkpoint: (root).optimizer's state 'v' for (root).model.graph_convs.1.kernel6\n",
            "WARNING:tensorflow:Unresolved object in checkpoint: (root).optimizer's state 'v' for (root).model.graph_convs.1.kernel7\n",
            "WARNING:tensorflow:Unresolved object in checkpoint: (root).optimizer's state 'v' for (root).model.graph_convs.1.kernel8\n",
            "WARNING:tensorflow:Unresolved object in checkpoint: (root).optimizer's state 'v' for (root).model.graph_convs.1.kernel9\n",
            "WARNING:tensorflow:Unresolved object in checkpoint: (root).optimizer's state 'v' for (root).model.graph_convs.1.kernel10\n",
            "WARNING:tensorflow:Unresolved object in checkpoint: (root).optimizer's state 'v' for (root).model.graph_convs.1.kernel11\n",
            "WARNING:tensorflow:Unresolved object in checkpoint: (root).optimizer's state 'v' for (root).model.graph_convs.1.kernel12\n",
            "WARNING:tensorflow:Unresolved object in checkpoint: (root).optimizer's state 'v' for (root).model.graph_convs.1.kernel13\n",
            "WARNING:tensorflow:Unresolved object in checkpoint: (root).optimizer's state 'v' for (root).model.graph_convs.1.kernel14\n",
            "WARNING:tensorflow:Unresolved object in checkpoint: (root).optimizer's state 'v' for (root).model.graph_convs.1.kernel15\n",
            "WARNING:tensorflow:Unresolved object in checkpoint: (root).optimizer's state 'v' for (root).model.graph_convs.1.kernel16\n",
            "WARNING:tensorflow:Unresolved object in checkpoint: (root).optimizer's state 'v' for (root).model.graph_convs.1.kernel17\n",
            "WARNING:tensorflow:Unresolved object in checkpoint: (root).optimizer's state 'v' for (root).model.graph_convs.1.kernel18\n",
            "WARNING:tensorflow:Unresolved object in checkpoint: (root).optimizer's state 'v' for (root).model.graph_convs.1.kernel19\n",
            "WARNING:tensorflow:Unresolved object in checkpoint: (root).optimizer's state 'v' for (root).model.graph_convs.1.kernel20\n",
            "WARNING:tensorflow:Unresolved object in checkpoint: (root).optimizer's state 'v' for (root).model.graph_convs.1.bias0\n",
            "WARNING:tensorflow:Unresolved object in checkpoint: (root).optimizer's state 'v' for (root).model.graph_convs.1.bias1\n",
            "WARNING:tensorflow:Unresolved object in checkpoint: (root).optimizer's state 'v' for (root).model.graph_convs.1.bias2\n",
            "WARNING:tensorflow:Unresolved object in checkpoint: (root).optimizer's state 'v' for (root).model.graph_convs.1.bias3\n",
            "WARNING:tensorflow:Unresolved object in checkpoint: (root).optimizer's state 'v' for (root).model.graph_convs.1.bias4\n",
            "WARNING:tensorflow:Unresolved object in checkpoint: (root).optimizer's state 'v' for (root).model.graph_convs.1.bias5\n",
            "WARNING:tensorflow:Unresolved object in checkpoint: (root).optimizer's state 'v' for (root).model.graph_convs.1.bias6\n",
            "WARNING:tensorflow:Unresolved object in checkpoint: (root).optimizer's state 'v' for (root).model.graph_convs.1.bias7\n",
            "WARNING:tensorflow:Unresolved object in checkpoint: (root).optimizer's state 'v' for (root).model.graph_convs.1.bias8\n",
            "WARNING:tensorflow:Unresolved object in checkpoint: (root).optimizer's state 'v' for (root).model.graph_convs.1.bias9\n",
            "WARNING:tensorflow:Unresolved object in checkpoint: (root).optimizer's state 'v' for (root).model.graph_convs.1.bias10\n",
            "WARNING:tensorflow:Unresolved object in checkpoint: (root).optimizer's state 'v' for (root).model.graph_convs.1.bias11\n",
            "WARNING:tensorflow:Unresolved object in checkpoint: (root).optimizer's state 'v' for (root).model.graph_convs.1.bias12\n",
            "WARNING:tensorflow:Unresolved object in checkpoint: (root).optimizer's state 'v' for (root).model.graph_convs.1.bias13\n",
            "WARNING:tensorflow:Unresolved object in checkpoint: (root).optimizer's state 'v' for (root).model.graph_convs.1.bias14\n",
            "WARNING:tensorflow:Unresolved object in checkpoint: (root).optimizer's state 'v' for (root).model.graph_convs.1.bias15\n",
            "WARNING:tensorflow:Unresolved object in checkpoint: (root).optimizer's state 'v' for (root).model.graph_convs.1.bias16\n",
            "WARNING:tensorflow:Unresolved object in checkpoint: (root).optimizer's state 'v' for (root).model.graph_convs.1.bias17\n",
            "WARNING:tensorflow:Unresolved object in checkpoint: (root).optimizer's state 'v' for (root).model.graph_convs.1.bias18\n",
            "WARNING:tensorflow:Unresolved object in checkpoint: (root).optimizer's state 'v' for (root).model.graph_convs.1.bias19\n",
            "WARNING:tensorflow:Unresolved object in checkpoint: (root).optimizer's state 'v' for (root).model.graph_convs.1.bias20\n",
            "WARNING:tensorflow:Unresolved object in checkpoint: (root).optimizer's state 'v' for (root).model.batch_norms.0.gamma\n",
            "WARNING:tensorflow:Unresolved object in checkpoint: (root).optimizer's state 'v' for (root).model.batch_norms.0.beta\n",
            "WARNING:tensorflow:Unresolved object in checkpoint: (root).optimizer's state 'v' for (root).model.batch_norms.1.gamma\n",
            "WARNING:tensorflow:Unresolved object in checkpoint: (root).optimizer's state 'v' for (root).model.batch_norms.1.beta\n",
            "WARNING:tensorflow:Unresolved object in checkpoint: (root).optimizer's state 'v' for (root).model.batch_norms.2.gamma\n",
            "WARNING:tensorflow:Unresolved object in checkpoint: (root).optimizer's state 'v' for (root).model.batch_norms.2.beta\n",
            "WARNING:tensorflow:A checkpoint was restored (e.g. tf.train.Checkpoint.restore or tf.keras.Model.load_weights) but not all checkpointed values were used. See above for specific issues. Use expect_partial() on the load status object, e.g. tf.train.Checkpoint.restore(...).expect_partial(), to silence these warnings, or use assert_consumed() to make the check explicit. See https://www.tensorflow.org/guide/checkpoint#loading_mechanics for details.\n"
          ],
          "name": "stdout"
        },
        {
          "output_type": "stream",
          "text": [
            "/usr/local/lib/python3.6/dist-packages/tensorflow/python/framework/indexed_slices.py:432: UserWarning: Converting sparse IndexedSlices to a dense Tensor of unknown shape. This may consume a large amount of memory.\n",
            "  \"Converting sparse IndexedSlices to a dense Tensor of unknown shape. \"\n"
          ],
          "name": "stderr"
        },
        {
          "output_type": "stream",
          "text": [
            "WARNING:tensorflow:5 out of the last 4282 calls to <function KerasModel._create_gradient_fn.<locals>.apply_gradient_for_batch at 0x7f6678fc8048> triggered tf.function retracing. Tracing is expensive and the excessive number of tracings could be due to (1) creating @tf.function repeatedly in a loop, (2) passing tensors with different shapes, (3) passing Python objects instead of tensors. For (1), please define your @tf.function outside of the loop. For (2), @tf.function has experimental_relax_shapes=True option that relaxes argument shapes that can avoid unnecessary retracing. For (3), please refer to https://www.tensorflow.org/tutorials/customization/performance#python_or_tensor_args and https://www.tensorflow.org/api_docs/python/tf/function for  more details.\n"
          ],
          "name": "stdout"
        },
        {
          "output_type": "error",
          "ename": "KeyboardInterrupt",
          "evalue": "ignored",
          "traceback": [
            "\u001b[0;31m---------------------------------------------------------------------------\u001b[0m",
            "\u001b[0;31mKeyboardInterrupt\u001b[0m                         Traceback (most recent call last)",
            "\u001b[0;32m<ipython-input-161-8fb815b4c37d>\u001b[0m in \u001b[0;36m<module>\u001b[0;34m()\u001b[0m\n\u001b[1;32m      6\u001b[0m     \u001b[0mmodel\u001b[0m \u001b[0;34m=\u001b[0m \u001b[0mgenerate_graph_conv_model\u001b[0m\u001b[0;34m(\u001b[0m\u001b[0;34m)\u001b[0m\u001b[0;34m\u001b[0m\u001b[0;34m\u001b[0m\u001b[0m\n\u001b[1;32m      7\u001b[0m     \u001b[0mtrain_dataset\u001b[0m\u001b[0;34m,\u001b[0m \u001b[0mvalid_dataset\u001b[0m\u001b[0;34m,\u001b[0m \u001b[0mtest_dataset\u001b[0m \u001b[0;34m=\u001b[0m \u001b[0msplitter\u001b[0m\u001b[0;34m.\u001b[0m\u001b[0mtrain_valid_test_split\u001b[0m\u001b[0;34m(\u001b[0m\u001b[0mdataset\u001b[0m\u001b[0;34m)\u001b[0m\u001b[0;34m\u001b[0m\u001b[0;34m\u001b[0m\u001b[0m\n\u001b[0;32m----> 8\u001b[0;31m     \u001b[0mmodel\u001b[0m\u001b[0;34m.\u001b[0m\u001b[0mfit\u001b[0m\u001b[0;34m(\u001b[0m\u001b[0mtrain_dataset\u001b[0m\u001b[0;34m)\u001b[0m\u001b[0;34m\u001b[0m\u001b[0;34m\u001b[0m\u001b[0m\n\u001b[0m\u001b[1;32m      9\u001b[0m \u001b[0;34m\u001b[0m\u001b[0m\n\u001b[1;32m     10\u001b[0m \u001b[0mprint\u001b[0m\u001b[0;34m(\u001b[0m\u001b[0mtraining_score_list\u001b[0m\u001b[0;34m)\u001b[0m\u001b[0;34m\u001b[0m\u001b[0;34m\u001b[0m\u001b[0m\n",
            "\u001b[0;32m/usr/local/lib/python3.7/site-packages/deepchem/models/keras_model.py\u001b[0m in \u001b[0;36mfit\u001b[0;34m(self, dataset, nb_epoch, max_checkpoints_to_keep, checkpoint_interval, deterministic, restore, variables, loss, callbacks, all_losses)\u001b[0m\n\u001b[1;32m    322\u001b[0m             \u001b[0mdataset\u001b[0m\u001b[0;34m,\u001b[0m \u001b[0mepochs\u001b[0m\u001b[0;34m=\u001b[0m\u001b[0mnb_epoch\u001b[0m\u001b[0;34m,\u001b[0m\u001b[0;34m\u001b[0m\u001b[0;34m\u001b[0m\u001b[0m\n\u001b[1;32m    323\u001b[0m             deterministic=deterministic), max_checkpoints_to_keep,\n\u001b[0;32m--> 324\u001b[0;31m         checkpoint_interval, restore, variables, loss, callbacks, all_losses)\n\u001b[0m\u001b[1;32m    325\u001b[0m \u001b[0;34m\u001b[0m\u001b[0m\n\u001b[1;32m    326\u001b[0m   def fit_generator(self,\n",
            "\u001b[0;32m/usr/local/lib/python3.7/site-packages/deepchem/models/keras_model.py\u001b[0m in \u001b[0;36mfit_generator\u001b[0;34m(self, generator, max_checkpoints_to_keep, checkpoint_interval, restore, variables, loss, callbacks, all_losses)\u001b[0m\n\u001b[1;32m    407\u001b[0m         \u001b[0minputs\u001b[0m \u001b[0;34m=\u001b[0m \u001b[0minputs\u001b[0m\u001b[0;34m[\u001b[0m\u001b[0;36m0\u001b[0m\u001b[0;34m]\u001b[0m\u001b[0;34m\u001b[0m\u001b[0;34m\u001b[0m\u001b[0m\n\u001b[1;32m    408\u001b[0m \u001b[0;34m\u001b[0m\u001b[0m\n\u001b[0;32m--> 409\u001b[0;31m       \u001b[0mbatch_loss\u001b[0m \u001b[0;34m=\u001b[0m \u001b[0mapply_gradient_for_batch\u001b[0m\u001b[0;34m(\u001b[0m\u001b[0minputs\u001b[0m\u001b[0;34m,\u001b[0m \u001b[0mlabels\u001b[0m\u001b[0;34m,\u001b[0m \u001b[0mweights\u001b[0m\u001b[0;34m,\u001b[0m \u001b[0mloss\u001b[0m\u001b[0;34m)\u001b[0m\u001b[0;34m\u001b[0m\u001b[0;34m\u001b[0m\u001b[0m\n\u001b[0m\u001b[1;32m    410\u001b[0m       \u001b[0mcurrent_step\u001b[0m \u001b[0;34m=\u001b[0m \u001b[0mself\u001b[0m\u001b[0;34m.\u001b[0m\u001b[0m_global_step\u001b[0m\u001b[0;34m.\u001b[0m\u001b[0mnumpy\u001b[0m\u001b[0;34m(\u001b[0m\u001b[0;34m)\u001b[0m\u001b[0;34m\u001b[0m\u001b[0;34m\u001b[0m\u001b[0m\n\u001b[1;32m    411\u001b[0m \u001b[0;34m\u001b[0m\u001b[0m\n",
            "\u001b[0;32m/usr/local/lib/python3.6/dist-packages/tensorflow/python/eager/def_function.py\u001b[0m in \u001b[0;36m__call__\u001b[0;34m(self, *args, **kwds)\u001b[0m\n\u001b[1;32m    778\u001b[0m       \u001b[0;32melse\u001b[0m\u001b[0;34m:\u001b[0m\u001b[0;34m\u001b[0m\u001b[0;34m\u001b[0m\u001b[0m\n\u001b[1;32m    779\u001b[0m         \u001b[0mcompiler\u001b[0m \u001b[0;34m=\u001b[0m \u001b[0;34m\"nonXla\"\u001b[0m\u001b[0;34m\u001b[0m\u001b[0;34m\u001b[0m\u001b[0m\n\u001b[0;32m--> 780\u001b[0;31m         \u001b[0mresult\u001b[0m \u001b[0;34m=\u001b[0m \u001b[0mself\u001b[0m\u001b[0;34m.\u001b[0m\u001b[0m_call\u001b[0m\u001b[0;34m(\u001b[0m\u001b[0;34m*\u001b[0m\u001b[0margs\u001b[0m\u001b[0;34m,\u001b[0m \u001b[0;34m**\u001b[0m\u001b[0mkwds\u001b[0m\u001b[0;34m)\u001b[0m\u001b[0;34m\u001b[0m\u001b[0;34m\u001b[0m\u001b[0m\n\u001b[0m\u001b[1;32m    781\u001b[0m \u001b[0;34m\u001b[0m\u001b[0m\n\u001b[1;32m    782\u001b[0m       \u001b[0mnew_tracing_count\u001b[0m \u001b[0;34m=\u001b[0m \u001b[0mself\u001b[0m\u001b[0;34m.\u001b[0m\u001b[0m_get_tracing_count\u001b[0m\u001b[0;34m(\u001b[0m\u001b[0;34m)\u001b[0m\u001b[0;34m\u001b[0m\u001b[0;34m\u001b[0m\u001b[0m\n",
            "\u001b[0;32m/usr/local/lib/python3.6/dist-packages/tensorflow/python/eager/def_function.py\u001b[0m in \u001b[0;36m_call\u001b[0;34m(self, *args, **kwds)\u001b[0m\n\u001b[1;32m    805\u001b[0m       \u001b[0;31m# In this case we have created variables on the first call, so we run the\u001b[0m\u001b[0;34m\u001b[0m\u001b[0;34m\u001b[0m\u001b[0;34m\u001b[0m\u001b[0m\n\u001b[1;32m    806\u001b[0m       \u001b[0;31m# defunned version which is guaranteed to never create variables.\u001b[0m\u001b[0;34m\u001b[0m\u001b[0;34m\u001b[0m\u001b[0;34m\u001b[0m\u001b[0m\n\u001b[0;32m--> 807\u001b[0;31m       \u001b[0;32mreturn\u001b[0m \u001b[0mself\u001b[0m\u001b[0;34m.\u001b[0m\u001b[0m_stateless_fn\u001b[0m\u001b[0;34m(\u001b[0m\u001b[0;34m*\u001b[0m\u001b[0margs\u001b[0m\u001b[0;34m,\u001b[0m \u001b[0;34m**\u001b[0m\u001b[0mkwds\u001b[0m\u001b[0;34m)\u001b[0m  \u001b[0;31m# pylint: disable=not-callable\u001b[0m\u001b[0;34m\u001b[0m\u001b[0;34m\u001b[0m\u001b[0m\n\u001b[0m\u001b[1;32m    808\u001b[0m     \u001b[0;32melif\u001b[0m \u001b[0mself\u001b[0m\u001b[0;34m.\u001b[0m\u001b[0m_stateful_fn\u001b[0m \u001b[0;32mis\u001b[0m \u001b[0;32mnot\u001b[0m \u001b[0;32mNone\u001b[0m\u001b[0;34m:\u001b[0m\u001b[0;34m\u001b[0m\u001b[0;34m\u001b[0m\u001b[0m\n\u001b[1;32m    809\u001b[0m       \u001b[0;31m# Release the lock early so that multiple threads can perform the call\u001b[0m\u001b[0;34m\u001b[0m\u001b[0;34m\u001b[0m\u001b[0;34m\u001b[0m\u001b[0m\n",
            "\u001b[0;32m/usr/local/lib/python3.6/dist-packages/tensorflow/python/eager/function.py\u001b[0m in \u001b[0;36m__call__\u001b[0;34m(self, *args, **kwargs)\u001b[0m\n\u001b[1;32m   2827\u001b[0m     \u001b[0;32mwith\u001b[0m \u001b[0mself\u001b[0m\u001b[0;34m.\u001b[0m\u001b[0m_lock\u001b[0m\u001b[0;34m:\u001b[0m\u001b[0;34m\u001b[0m\u001b[0;34m\u001b[0m\u001b[0m\n\u001b[1;32m   2828\u001b[0m       \u001b[0mgraph_function\u001b[0m\u001b[0;34m,\u001b[0m \u001b[0margs\u001b[0m\u001b[0;34m,\u001b[0m \u001b[0mkwargs\u001b[0m \u001b[0;34m=\u001b[0m \u001b[0mself\u001b[0m\u001b[0;34m.\u001b[0m\u001b[0m_maybe_define_function\u001b[0m\u001b[0;34m(\u001b[0m\u001b[0margs\u001b[0m\u001b[0;34m,\u001b[0m \u001b[0mkwargs\u001b[0m\u001b[0;34m)\u001b[0m\u001b[0;34m\u001b[0m\u001b[0;34m\u001b[0m\u001b[0m\n\u001b[0;32m-> 2829\u001b[0;31m     \u001b[0;32mreturn\u001b[0m \u001b[0mgraph_function\u001b[0m\u001b[0;34m.\u001b[0m\u001b[0m_filtered_call\u001b[0m\u001b[0;34m(\u001b[0m\u001b[0margs\u001b[0m\u001b[0;34m,\u001b[0m \u001b[0mkwargs\u001b[0m\u001b[0;34m)\u001b[0m  \u001b[0;31m# pylint: disable=protected-access\u001b[0m\u001b[0;34m\u001b[0m\u001b[0;34m\u001b[0m\u001b[0m\n\u001b[0m\u001b[1;32m   2830\u001b[0m \u001b[0;34m\u001b[0m\u001b[0m\n\u001b[1;32m   2831\u001b[0m   \u001b[0;34m@\u001b[0m\u001b[0mproperty\u001b[0m\u001b[0;34m\u001b[0m\u001b[0;34m\u001b[0m\u001b[0m\n",
            "\u001b[0;32m/usr/local/lib/python3.6/dist-packages/tensorflow/python/eager/function.py\u001b[0m in \u001b[0;36m_filtered_call\u001b[0;34m(self, args, kwargs, cancellation_manager)\u001b[0m\n\u001b[1;32m   1846\u001b[0m                            resource_variable_ops.BaseResourceVariable))],\n\u001b[1;32m   1847\u001b[0m         \u001b[0mcaptured_inputs\u001b[0m\u001b[0;34m=\u001b[0m\u001b[0mself\u001b[0m\u001b[0;34m.\u001b[0m\u001b[0mcaptured_inputs\u001b[0m\u001b[0;34m,\u001b[0m\u001b[0;34m\u001b[0m\u001b[0;34m\u001b[0m\u001b[0m\n\u001b[0;32m-> 1848\u001b[0;31m         cancellation_manager=cancellation_manager)\n\u001b[0m\u001b[1;32m   1849\u001b[0m \u001b[0;34m\u001b[0m\u001b[0m\n\u001b[1;32m   1850\u001b[0m   \u001b[0;32mdef\u001b[0m \u001b[0m_call_flat\u001b[0m\u001b[0;34m(\u001b[0m\u001b[0mself\u001b[0m\u001b[0;34m,\u001b[0m \u001b[0margs\u001b[0m\u001b[0;34m,\u001b[0m \u001b[0mcaptured_inputs\u001b[0m\u001b[0;34m,\u001b[0m \u001b[0mcancellation_manager\u001b[0m\u001b[0;34m=\u001b[0m\u001b[0;32mNone\u001b[0m\u001b[0;34m)\u001b[0m\u001b[0;34m:\u001b[0m\u001b[0;34m\u001b[0m\u001b[0;34m\u001b[0m\u001b[0m\n",
            "\u001b[0;32m/usr/local/lib/python3.6/dist-packages/tensorflow/python/eager/function.py\u001b[0m in \u001b[0;36m_call_flat\u001b[0;34m(self, args, captured_inputs, cancellation_manager)\u001b[0m\n\u001b[1;32m   1922\u001b[0m       \u001b[0;31m# No tape is watching; skip to running the function.\u001b[0m\u001b[0;34m\u001b[0m\u001b[0;34m\u001b[0m\u001b[0;34m\u001b[0m\u001b[0m\n\u001b[1;32m   1923\u001b[0m       return self._build_call_outputs(self._inference_function.call(\n\u001b[0;32m-> 1924\u001b[0;31m           ctx, args, cancellation_manager=cancellation_manager))\n\u001b[0m\u001b[1;32m   1925\u001b[0m     forward_backward = self._select_forward_and_backward_functions(\n\u001b[1;32m   1926\u001b[0m         \u001b[0margs\u001b[0m\u001b[0;34m,\u001b[0m\u001b[0;34m\u001b[0m\u001b[0;34m\u001b[0m\u001b[0m\n",
            "\u001b[0;32m/usr/local/lib/python3.6/dist-packages/tensorflow/python/eager/function.py\u001b[0m in \u001b[0;36mcall\u001b[0;34m(self, ctx, args, cancellation_manager)\u001b[0m\n\u001b[1;32m    548\u001b[0m               \u001b[0minputs\u001b[0m\u001b[0;34m=\u001b[0m\u001b[0margs\u001b[0m\u001b[0;34m,\u001b[0m\u001b[0;34m\u001b[0m\u001b[0;34m\u001b[0m\u001b[0m\n\u001b[1;32m    549\u001b[0m               \u001b[0mattrs\u001b[0m\u001b[0;34m=\u001b[0m\u001b[0mattrs\u001b[0m\u001b[0;34m,\u001b[0m\u001b[0;34m\u001b[0m\u001b[0;34m\u001b[0m\u001b[0m\n\u001b[0;32m--> 550\u001b[0;31m               ctx=ctx)\n\u001b[0m\u001b[1;32m    551\u001b[0m         \u001b[0;32melse\u001b[0m\u001b[0;34m:\u001b[0m\u001b[0;34m\u001b[0m\u001b[0;34m\u001b[0m\u001b[0m\n\u001b[1;32m    552\u001b[0m           outputs = execute.execute_with_cancellation(\n",
            "\u001b[0;32m/usr/local/lib/python3.6/dist-packages/tensorflow/python/eager/execute.py\u001b[0m in \u001b[0;36mquick_execute\u001b[0;34m(op_name, num_outputs, inputs, attrs, ctx, name)\u001b[0m\n\u001b[1;32m     58\u001b[0m     \u001b[0mctx\u001b[0m\u001b[0;34m.\u001b[0m\u001b[0mensure_initialized\u001b[0m\u001b[0;34m(\u001b[0m\u001b[0;34m)\u001b[0m\u001b[0;34m\u001b[0m\u001b[0;34m\u001b[0m\u001b[0m\n\u001b[1;32m     59\u001b[0m     tensors = pywrap_tfe.TFE_Py_Execute(ctx._handle, device_name, op_name,\n\u001b[0;32m---> 60\u001b[0;31m                                         inputs, attrs, num_outputs)\n\u001b[0m\u001b[1;32m     61\u001b[0m   \u001b[0;32mexcept\u001b[0m \u001b[0mcore\u001b[0m\u001b[0;34m.\u001b[0m\u001b[0m_NotOkStatusException\u001b[0m \u001b[0;32mas\u001b[0m \u001b[0me\u001b[0m\u001b[0;34m:\u001b[0m\u001b[0;34m\u001b[0m\u001b[0;34m\u001b[0m\u001b[0m\n\u001b[1;32m     62\u001b[0m     \u001b[0;32mif\u001b[0m \u001b[0mname\u001b[0m \u001b[0;32mis\u001b[0m \u001b[0;32mnot\u001b[0m \u001b[0;32mNone\u001b[0m\u001b[0;34m:\u001b[0m\u001b[0;34m\u001b[0m\u001b[0;34m\u001b[0m\u001b[0m\n",
            "\u001b[0;31mKeyboardInterrupt\u001b[0m: "
          ]
        }
      ]
    },
    {
      "cell_type": "code",
      "metadata": {
        "id": "SOtsZKXQBb7J",
        "outputId": "a4ac86eb-d5f8-4ce1-a6b5-99a6e98d988f",
        "colab": {
          "base_uri": "https://localhost:8080/"
        }
      },
      "source": [
        "pred = [x.flatten() for x in model.predict(valid_dataset)]"
      ],
      "execution_count": 78,
      "outputs": [
        {
          "output_type": "stream",
          "text": [
            "WARNING:tensorflow:5 out of the last 32 calls to <function KerasModel._compute_model at 0x7f6673fc1ae8> triggered tf.function retracing. Tracing is expensive and the excessive number of tracings could be due to (1) creating @tf.function repeatedly in a loop, (2) passing tensors with different shapes, (3) passing Python objects instead of tensors. For (1), please define your @tf.function outside of the loop. For (2), @tf.function has experimental_relax_shapes=True option that relaxes argument shapes that can avoid unnecessary retracing. For (3), please refer to https://www.tensorflow.org/tutorials/customization/performance#python_or_tensor_args and https://www.tensorflow.org/api_docs/python/tf/function for  more details.\n",
            "WARNING:tensorflow:6 out of the last 33 calls to <function KerasModel._compute_model at 0x7f6673fc1ae8> triggered tf.function retracing. Tracing is expensive and the excessive number of tracings could be due to (1) creating @tf.function repeatedly in a loop, (2) passing tensors with different shapes, (3) passing Python objects instead of tensors. For (1), please define your @tf.function outside of the loop. For (2), @tf.function has experimental_relax_shapes=True option that relaxes argument shapes that can avoid unnecessary retracing. For (3), please refer to https://www.tensorflow.org/tutorials/customization/performance#python_or_tensor_args and https://www.tensorflow.org/api_docs/python/tf/function for  more details.\n",
            "WARNING:tensorflow:7 out of the last 34 calls to <function KerasModel._compute_model at 0x7f6673fc1ae8> triggered tf.function retracing. Tracing is expensive and the excessive number of tracings could be due to (1) creating @tf.function repeatedly in a loop, (2) passing tensors with different shapes, (3) passing Python objects instead of tensors. For (1), please define your @tf.function outside of the loop. For (2), @tf.function has experimental_relax_shapes=True option that relaxes argument shapes that can avoid unnecessary retracing. For (3), please refer to https://www.tensorflow.org/tutorials/customization/performance#python_or_tensor_args and https://www.tensorflow.org/api_docs/python/tf/function for  more details.\n"
          ],
          "name": "stdout"
        }
      ]
    },
    {
      "cell_type": "markdown",
      "metadata": {
        "id": "UuKfLbtNJ--L"
      },
      "source": [
        "The results of predict on a GraphConv model are returned as a list of lists. Is this the intent? It doesn't seem consistent across models. RandomForest returns a list. For convenience, we will put our predicted results into a Pandas dataframe."
      ]
    },
    {
      "cell_type": "code",
      "metadata": {
        "id": "b2gqbeC8_1km"
      },
      "source": [
        "pred_df = pd.DataFrame(pred,columns=[\"neg\",\"pos\"])"
      ],
      "execution_count": 79,
      "outputs": []
    },
    {
      "cell_type": "markdown",
      "metadata": {
        "id": "9wq0S8YDKJZ3"
      },
      "source": [
        "We can easily add the activity class (1 = active, 0 = inactive) and the SMILES string for our predicted molecules to the dataframe. Is the moleculed id retained as part of the DeepChem dataset? I can't find it"
      ]
    },
    {
      "cell_type": "code",
      "metadata": {
        "id": "fG43bJBWHBF6"
      },
      "source": [
        "pred_df[\"active\"] = [int(x) for x in valid_dataset.y]\n",
        "pred_df[\"SMILES\"] = valid_dataset.ids"
      ],
      "execution_count": 81,
      "outputs": []
    },
    {
      "cell_type": "code",
      "metadata": {
        "id": "UoSXZ-hmG7TB",
        "outputId": "2b2cd08a-f192-4fbf-bd0e-2d95e6f2ff79",
        "colab": {
          "base_uri": "https://localhost:8080/",
          "height": 202
        }
      },
      "source": [
        "pred_df.head()"
      ],
      "execution_count": 82,
      "outputs": [
        {
          "output_type": "execute_result",
          "data": {
            "text/html": [
              "<div>\n",
              "<style scoped>\n",
              "    .dataframe tbody tr th:only-of-type {\n",
              "        vertical-align: middle;\n",
              "    }\n",
              "\n",
              "    .dataframe tbody tr th {\n",
              "        vertical-align: top;\n",
              "    }\n",
              "\n",
              "    .dataframe thead th {\n",
              "        text-align: right;\n",
              "    }\n",
              "</style>\n",
              "<table border=\"1\" class=\"dataframe\">\n",
              "  <thead>\n",
              "    <tr style=\"text-align: right;\">\n",
              "      <th></th>\n",
              "      <th>neg</th>\n",
              "      <th>pos</th>\n",
              "      <th>active</th>\n",
              "      <th>SMILES</th>\n",
              "    </tr>\n",
              "  </thead>\n",
              "  <tbody>\n",
              "    <tr>\n",
              "      <th>0</th>\n",
              "      <td>0.999121</td>\n",
              "      <td>0.000879</td>\n",
              "      <td>0</td>\n",
              "      <td>CCCOC(=O)C1=C(Nc2nc(nn2[C@@H]1c3ccc(c(c3)OC)OC...</td>\n",
              "    </tr>\n",
              "    <tr>\n",
              "      <th>1</th>\n",
              "      <td>0.999506</td>\n",
              "      <td>0.000494</td>\n",
              "      <td>0</td>\n",
              "      <td>C[C@@H]1CCc2c(sc3c2c(nc(n3)CSc4nnc(n4N)c5ccc(c...</td>\n",
              "    </tr>\n",
              "    <tr>\n",
              "      <th>2</th>\n",
              "      <td>0.998472</td>\n",
              "      <td>0.001528</td>\n",
              "      <td>0</td>\n",
              "      <td>c1cc(ccc1NC(=O)NCSSCNC(=O)Nc2ccc(cc2)Cl)Cl</td>\n",
              "    </tr>\n",
              "    <tr>\n",
              "      <th>3</th>\n",
              "      <td>0.999976</td>\n",
              "      <td>0.000024</td>\n",
              "      <td>0</td>\n",
              "      <td>Cc1ccc(c(c1)C)NC(=O)Nc2ccc(cc2)NC(=O)N3CCC[C@@...</td>\n",
              "    </tr>\n",
              "    <tr>\n",
              "      <th>4</th>\n",
              "      <td>0.999674</td>\n",
              "      <td>0.000326</td>\n",
              "      <td>0</td>\n",
              "      <td>CCOC(=O)NNC(=O)c1ccc(cc1)S(=O)(=O)Nc2ccc(c(c2)C)C</td>\n",
              "    </tr>\n",
              "  </tbody>\n",
              "</table>\n",
              "</div>"
            ],
            "text/plain": [
              "        neg  ...                                             SMILES\n",
              "0  0.999121  ...  CCCOC(=O)C1=C(Nc2nc(nn2[C@@H]1c3ccc(c(c3)OC)OC...\n",
              "1  0.999506  ...  C[C@@H]1CCc2c(sc3c2c(nc(n3)CSc4nnc(n4N)c5ccc(c...\n",
              "2  0.998472  ...         c1cc(ccc1NC(=O)NCSSCNC(=O)Nc2ccc(cc2)Cl)Cl\n",
              "3  0.999976  ...  Cc1ccc(c(c1)C)NC(=O)Nc2ccc(cc2)NC(=O)N3CCC[C@@...\n",
              "4  0.999674  ...  CCOC(=O)NNC(=O)c1ccc(cc1)S(=O)(=O)Nc2ccc(c(c2)C)C\n",
              "\n",
              "[5 rows x 4 columns]"
            ]
          },
          "metadata": {
            "tags": []
          },
          "execution_count": 82
        }
      ]
    },
    {
      "cell_type": "code",
      "metadata": {
        "id": "upM-ZH5BHOQX",
        "outputId": "8ba898fe-cbb4-4e7d-b00b-86e4c313b356",
        "colab": {
          "base_uri": "https://localhost:8080/",
          "height": 815
        }
      },
      "source": [
        "pred_df.sort_values(\"pos\",ascending=False).head(25)"
      ],
      "execution_count": 83,
      "outputs": [
        {
          "output_type": "execute_result",
          "data": {
            "text/html": [
              "<div>\n",
              "<style scoped>\n",
              "    .dataframe tbody tr th:only-of-type {\n",
              "        vertical-align: middle;\n",
              "    }\n",
              "\n",
              "    .dataframe tbody tr th {\n",
              "        vertical-align: top;\n",
              "    }\n",
              "\n",
              "    .dataframe thead th {\n",
              "        text-align: right;\n",
              "    }\n",
              "</style>\n",
              "<table border=\"1\" class=\"dataframe\">\n",
              "  <thead>\n",
              "    <tr style=\"text-align: right;\">\n",
              "      <th></th>\n",
              "      <th>neg</th>\n",
              "      <th>pos</th>\n",
              "      <th>active</th>\n",
              "      <th>SMILES</th>\n",
              "    </tr>\n",
              "  </thead>\n",
              "  <tbody>\n",
              "    <tr>\n",
              "      <th>280</th>\n",
              "      <td>0.197075</td>\n",
              "      <td>0.802925</td>\n",
              "      <td>1</td>\n",
              "      <td>CCN(C)C(=O)c1cc(c[nH]1)c2c(cn[nH]2)c3cccc(c3)Cl</td>\n",
              "    </tr>\n",
              "    <tr>\n",
              "      <th>341</th>\n",
              "      <td>0.557322</td>\n",
              "      <td>0.442678</td>\n",
              "      <td>1</td>\n",
              "      <td>c1cc(cc(c1)Cl)c2cn[nH]c2c3cc([nH]c3)C(=O)NCc4c...</td>\n",
              "    </tr>\n",
              "    <tr>\n",
              "      <th>346</th>\n",
              "      <td>0.573720</td>\n",
              "      <td>0.426281</td>\n",
              "      <td>1</td>\n",
              "      <td>Cc1cnc(nc1c2cc([nH]c2)C(=O)N[C@H](CO)c3ccccc3)...</td>\n",
              "    </tr>\n",
              "    <tr>\n",
              "      <th>55</th>\n",
              "      <td>0.678796</td>\n",
              "      <td>0.321204</td>\n",
              "      <td>1</td>\n",
              "      <td>c1cnc(nc1c2cc3c([nH]2)[C@H](CNC3=O)CCF)N</td>\n",
              "    </tr>\n",
              "    <tr>\n",
              "      <th>277</th>\n",
              "      <td>0.679756</td>\n",
              "      <td>0.320244</td>\n",
              "      <td>0</td>\n",
              "      <td>CN[C@@H]1c2c(ccc(c2NC1=O)F)Cl</td>\n",
              "    </tr>\n",
              "    <tr>\n",
              "      <th>167</th>\n",
              "      <td>0.765514</td>\n",
              "      <td>0.234486</td>\n",
              "      <td>1</td>\n",
              "      <td>Cc1cccc(c1C)Nc2ncc(c(n2)c3cc([nH]c3)C(=O)N[C@H...</td>\n",
              "    </tr>\n",
              "    <tr>\n",
              "      <th>19</th>\n",
              "      <td>0.789070</td>\n",
              "      <td>0.210930</td>\n",
              "      <td>1</td>\n",
              "      <td>CCc1ccccc1Nc2ncc(c(n2)c3cc([nH]c3)C(=O)N[C@H](...</td>\n",
              "    </tr>\n",
              "    <tr>\n",
              "      <th>312</th>\n",
              "      <td>0.796359</td>\n",
              "      <td>0.203641</td>\n",
              "      <td>1</td>\n",
              "      <td>c1ccc2c(c1)CCN(C2)C(=O)c3cc(c[nH]3)c4c(cn[nH]4...</td>\n",
              "    </tr>\n",
              "    <tr>\n",
              "      <th>383</th>\n",
              "      <td>0.847507</td>\n",
              "      <td>0.152493</td>\n",
              "      <td>1</td>\n",
              "      <td>Cc1cnc(nc1c2cc([nH]c2)C(=O)N[C@H](CO)c3cccc(c3...</td>\n",
              "    </tr>\n",
              "    <tr>\n",
              "      <th>417</th>\n",
              "      <td>0.910684</td>\n",
              "      <td>0.089316</td>\n",
              "      <td>0</td>\n",
              "      <td>c1cc(c(cc1F)Br)Nc2cc3c(cc2N)OCCO3</td>\n",
              "    </tr>\n",
              "    <tr>\n",
              "      <th>390</th>\n",
              "      <td>0.931865</td>\n",
              "      <td>0.068135</td>\n",
              "      <td>0</td>\n",
              "      <td>Cc1cc2c(ccc(=O)n2CC(=O)NN)c(C)c1C(=O)O</td>\n",
              "    </tr>\n",
              "    <tr>\n",
              "      <th>297</th>\n",
              "      <td>0.934155</td>\n",
              "      <td>0.065845</td>\n",
              "      <td>0</td>\n",
              "      <td>Cc1ccsc1C(=O)NNC(=O)c1ccc2c(O)[nH]c(=S)nc2c1</td>\n",
              "    </tr>\n",
              "    <tr>\n",
              "      <th>351</th>\n",
              "      <td>0.955184</td>\n",
              "      <td>0.044816</td>\n",
              "      <td>1</td>\n",
              "      <td>CCCCNC(=O)N1Cc2c(n[nH]c2NC(=O)Cc3ccc(cc3)N4CCC...</td>\n",
              "    </tr>\n",
              "    <tr>\n",
              "      <th>272</th>\n",
              "      <td>0.962158</td>\n",
              "      <td>0.037842</td>\n",
              "      <td>0</td>\n",
              "      <td>c1c(cc(c(c1Cl)NNC(=O)c2cnns2)Cl)Cl</td>\n",
              "    </tr>\n",
              "    <tr>\n",
              "      <th>207</th>\n",
              "      <td>0.966539</td>\n",
              "      <td>0.033461</td>\n",
              "      <td>0</td>\n",
              "      <td>c1ccc2c(c1)c(c3c(n2)/C(=C/c4c(cccc4Cl)F)/CCC3)...</td>\n",
              "    </tr>\n",
              "    <tr>\n",
              "      <th>313</th>\n",
              "      <td>0.968093</td>\n",
              "      <td>0.031907</td>\n",
              "      <td>0</td>\n",
              "      <td>CCCCn1c(c(c(=O)[nH]c1=O)N(CC)C(=O)c2cc(ccc2OC)...</td>\n",
              "    </tr>\n",
              "    <tr>\n",
              "      <th>242</th>\n",
              "      <td>0.968338</td>\n",
              "      <td>0.031662</td>\n",
              "      <td>0</td>\n",
              "      <td>CNC(=S)N/N=C\\1/c2cc(cc(c2N=C1O)Br)F</td>\n",
              "    </tr>\n",
              "    <tr>\n",
              "      <th>358</th>\n",
              "      <td>0.969819</td>\n",
              "      <td>0.030181</td>\n",
              "      <td>0</td>\n",
              "      <td>C#CCN[C@@H]1c2c(cccc2Br)NC1=O</td>\n",
              "    </tr>\n",
              "    <tr>\n",
              "      <th>416</th>\n",
              "      <td>0.971738</td>\n",
              "      <td>0.028262</td>\n",
              "      <td>0</td>\n",
              "      <td>O=c1[nH]c(=O)n(CCC2=CCCCC2)c(O)c1[C@@H]1NCCc2c...</td>\n",
              "    </tr>\n",
              "    <tr>\n",
              "      <th>426</th>\n",
              "      <td>0.973089</td>\n",
              "      <td>0.026911</td>\n",
              "      <td>0</td>\n",
              "      <td>c1cc2c(cc1Br)cc(o2)C(=O)NNC(=O)NCC(F)(F)F</td>\n",
              "    </tr>\n",
              "    <tr>\n",
              "      <th>254</th>\n",
              "      <td>0.978423</td>\n",
              "      <td>0.021577</td>\n",
              "      <td>0</td>\n",
              "      <td>COc1ccc(cc1OCc2ccc(cc2)Cl)[C@H]3CC(=Nc4c3sc(n4...</td>\n",
              "    </tr>\n",
              "    <tr>\n",
              "      <th>319</th>\n",
              "      <td>0.980147</td>\n",
              "      <td>0.019853</td>\n",
              "      <td>0</td>\n",
              "      <td>CN(CCO)c1cc(c2c(c1N)C(=O)c3ccccc3C2=O)NCc4ccco4</td>\n",
              "    </tr>\n",
              "    <tr>\n",
              "      <th>445</th>\n",
              "      <td>0.985231</td>\n",
              "      <td>0.014769</td>\n",
              "      <td>0</td>\n",
              "      <td>C[C@H](N)[C@@H]1CCCCN1C(=O)c1cc(=O)[nH]c(O)n1</td>\n",
              "    </tr>\n",
              "    <tr>\n",
              "      <th>199</th>\n",
              "      <td>0.985311</td>\n",
              "      <td>0.014689</td>\n",
              "      <td>0</td>\n",
              "      <td>Cc1cc(cc(c1Oc2c(nccn2)/C(=N/O)/N)C)Cl</td>\n",
              "    </tr>\n",
              "    <tr>\n",
              "      <th>219</th>\n",
              "      <td>0.986843</td>\n",
              "      <td>0.013157</td>\n",
              "      <td>0</td>\n",
              "      <td>Cc1ccsc1C(=O)NNC(=O)NC[C@H]1CCCN(Cc2ccccc2)C1</td>\n",
              "    </tr>\n",
              "  </tbody>\n",
              "</table>\n",
              "</div>"
            ],
            "text/plain": [
              "          neg  ...                                             SMILES\n",
              "280  0.197075  ...    CCN(C)C(=O)c1cc(c[nH]1)c2c(cn[nH]2)c3cccc(c3)Cl\n",
              "341  0.557322  ...  c1cc(cc(c1)Cl)c2cn[nH]c2c3cc([nH]c3)C(=O)NCc4c...\n",
              "346  0.573720  ...  Cc1cnc(nc1c2cc([nH]c2)C(=O)N[C@H](CO)c3ccccc3)...\n",
              "55   0.678796  ...           c1cnc(nc1c2cc3c([nH]2)[C@H](CNC3=O)CCF)N\n",
              "277  0.679756  ...                      CN[C@@H]1c2c(ccc(c2NC1=O)F)Cl\n",
              "167  0.765514  ...  Cc1cccc(c1C)Nc2ncc(c(n2)c3cc([nH]c3)C(=O)N[C@H...\n",
              "19   0.789070  ...  CCc1ccccc1Nc2ncc(c(n2)c3cc([nH]c3)C(=O)N[C@H](...\n",
              "312  0.796359  ...  c1ccc2c(c1)CCN(C2)C(=O)c3cc(c[nH]3)c4c(cn[nH]4...\n",
              "383  0.847507  ...  Cc1cnc(nc1c2cc([nH]c2)C(=O)N[C@H](CO)c3cccc(c3...\n",
              "417  0.910684  ...                  c1cc(c(cc1F)Br)Nc2cc3c(cc2N)OCCO3\n",
              "390  0.931865  ...             Cc1cc2c(ccc(=O)n2CC(=O)NN)c(C)c1C(=O)O\n",
              "297  0.934155  ...       Cc1ccsc1C(=O)NNC(=O)c1ccc2c(O)[nH]c(=S)nc2c1\n",
              "351  0.955184  ...  CCCCNC(=O)N1Cc2c(n[nH]c2NC(=O)Cc3ccc(cc3)N4CCC...\n",
              "272  0.962158  ...                 c1c(cc(c(c1Cl)NNC(=O)c2cnns2)Cl)Cl\n",
              "207  0.966539  ...  c1ccc2c(c1)c(c3c(n2)/C(=C/c4c(cccc4Cl)F)/CCC3)...\n",
              "313  0.968093  ...  CCCCn1c(c(c(=O)[nH]c1=O)N(CC)C(=O)c2cc(ccc2OC)...\n",
              "242  0.968338  ...                CNC(=S)N/N=C\\1/c2cc(cc(c2N=C1O)Br)F\n",
              "358  0.969819  ...                      C#CCN[C@@H]1c2c(cccc2Br)NC1=O\n",
              "416  0.971738  ...  O=c1[nH]c(=O)n(CCC2=CCCCC2)c(O)c1[C@@H]1NCCc2c...\n",
              "426  0.973089  ...          c1cc2c(cc1Br)cc(o2)C(=O)NNC(=O)NCC(F)(F)F\n",
              "254  0.978423  ...  COc1ccc(cc1OCc2ccc(cc2)Cl)[C@H]3CC(=Nc4c3sc(n4...\n",
              "319  0.980147  ...    CN(CCO)c1cc(c2c(c1N)C(=O)c3ccccc3C2=O)NCc4ccco4\n",
              "445  0.985231  ...      C[C@H](N)[C@@H]1CCCCN1C(=O)c1cc(=O)[nH]c(O)n1\n",
              "199  0.985311  ...              Cc1cc(cc(c1Oc2c(nccn2)/C(=N/O)/N)C)Cl\n",
              "219  0.986843  ...      Cc1ccsc1C(=O)NNC(=O)NC[C@H]1CCCN(Cc2ccccc2)C1\n",
              "\n",
              "[25 rows x 4 columns]"
            ]
          },
          "metadata": {
            "tags": []
          },
          "execution_count": 83
        }
      ]
    },
    {
      "cell_type": "code",
      "metadata": {
        "id": "MBU9H8WAHS1m",
        "outputId": "bda27e7c-801a-4015-8157-54461e674b7e",
        "colab": {
          "base_uri": "https://localhost:8080/",
          "height": 351
        }
      },
      "source": [
        "sns.boxplot(pred_df.active,pred_df.pos)"
      ],
      "execution_count": 84,
      "outputs": [
        {
          "output_type": "stream",
          "text": [
            "/usr/local/lib/python3.6/dist-packages/seaborn/_decorators.py:43: FutureWarning: Pass the following variables as keyword args: x, y. From version 0.12, the only valid positional argument will be `data`, and passing other arguments without an explicit keyword will result in an error or misinterpretation.\n",
            "  FutureWarning\n"
          ],
          "name": "stderr"
        },
        {
          "output_type": "execute_result",
          "data": {
            "text/plain": [
              "<matplotlib.axes._subplots.AxesSubplot at 0x7f667ce38400>"
            ]
          },
          "metadata": {
            "tags": []
          },
          "execution_count": 84
        },
        {
          "output_type": "display_data",
          "data": {
            "image/png": "[encoded data removed]",
            "text/plain": [
              "<Figure size 432x288 with 1 Axes>"
            ]
          },
          "metadata": {
            "tags": [],
            "needs_background": "light"
          }
        }
      ]
    },
    {
      "cell_type": "markdown",
      "metadata": {
        "id": "5SqbGAEdKURL"
      },
      "source": [
        "The performance of our model is very good, we can see a clear separation between the active and inactive compounds. It appears that only one of our active compounds receieved a low positive score. Let's look more closely."
      ]
    },
    {
      "cell_type": "code",
      "metadata": {
        "id": "ddZrqLoyHyO4"
      },
      "source": [
        "false_negative_df = pred_df.query(\"active == 1 & pos < 0.5\").copy()"
      ],
      "execution_count": 85,
      "outputs": []
    },
    {
      "cell_type": "code",
      "metadata": {
        "id": "KTnhVPbzH1CT",
        "outputId": "49609362-b178-44a7-aee0-25f0d0aa8d6e",
        "colab": {
          "base_uri": "https://localhost:8080/",
          "height": 1000
        }
      },
      "source": [
        "PandasTools.AddMoleculeColumnToFrame(false_negative_df,\"SMILES\",\"Mol\")\n",
        "false_negative_df"
      ],
      "execution_count": 86,
      "outputs": [
        {
          "output_type": "execute_result",
          "data": {
            "text/html": [
              "<div>\n",
              "<style scoped>\n",
              "    .dataframe tbody tr th:only-of-type {\n",
              "        vertical-align: middle;\n",
              "    }\n",
              "\n",
              "    .dataframe tbody tr th {\n",
              "        vertical-align: top;\n",
              "    }\n",
              "\n",
              "    .dataframe thead th {\n",
              "        text-align: right;\n",
              "    }\n",
              "</style>\n",
              "<table border=\"1\" class=\"dataframe\">\n",
              "  <thead>\n",
              "    <tr style=\"text-align: right;\">\n",
              "      <th></th>\n",
              "      <th>neg</th>\n",
              "      <th>pos</th>\n",
              "      <th>active</th>\n",
              "      <th>SMILES</th>\n",
              "      <th>Mol</th>\n",
              "    </tr>\n",
              "  </thead>\n",
              "  <tbody>\n",
              "    <tr>\n",
              "      <th>6</th>\n",
              "      <td>0.997621</td>\n",
              "      <td>0.002379</td>\n",
              "      <td>1</td>\n",
              "      <td>c1c(c2c(ncnc2n1[C@H]3[C@@H]([C@@H]([C@H](O3)CO...</td>\n",
              "      <td><img data-content=\"rdkit/molecule\" src=\"data:image/png;base64,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\" alt=\"Mol\"/></td>\n",
              "    </tr>\n",
              "    <tr>\n",
              "      <th>19</th>\n",
              "      <td>0.789070</td>\n",
              "      <td>0.210930</td>\n",
              "      <td>1</td>\n",
              "      <td>CCc1ccccc1Nc2ncc(c(n2)c3cc([nH]c3)C(=O)N[C@H](...</td>\n",
              "      <td><img data-content=\"rdkit/molecule\" src=\"data:image/png;base64,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\" alt=\"Mol\"/></td>\n",
              "    </tr>\n",
              "    <tr>\n",
              "      <th>55</th>\n",
              "      <td>0.678796</td>\n",
              "      <td>0.321204</td>\n",
              "      <td>1</td>\n",
              "      <td>c1cnc(nc1c2cc3c([nH]2)[C@H](CNC3=O)CCF)N</td>\n",
              "      <td><img data-content=\"rdkit/molecule\" src=\"data:image/png;base64,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\" alt=\"Mol\"/></td>\n",
              "    </tr>\n",
              "    <tr>\n",
              "      <th>167</th>\n",
              "      <td>0.765514</td>\n",
              "      <td>0.234486</td>\n",
              "      <td>1</td>\n",
              "      <td>Cc1cccc(c1C)Nc2ncc(c(n2)c3cc([nH]c3)C(=O)N[C@H...</td>\n",
              "      <td><img data-content=\"rdkit/molecule\" src=\"data:image/png;base64,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\" alt=\"Mol\"/></td>\n",
              "    </tr>\n",
              "    <tr>\n",
              "      <th>312</th>\n",
              "      <td>0.796359</td>\n",
              "      <td>0.203641</td>\n",
              "      <td>1</td>\n",
              "      <td>c1ccc2c(c1)CCN(C2)C(=O)c3cc(c[nH]3)c4c(cn[nH]4...</td>\n",
              "      <td><img data-content=\"rdkit/molecule\" src=\"data:image/png;base64,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\" alt=\"Mol\"/></td>\n",
              "    </tr>\n",
              "    <tr>\n",
              "      <th>341</th>\n",
              "      <td>0.557322</td>\n",
              "      <td>0.442678</td>\n",
              "      <td>1</td>\n",
              "      <td>c1cc(cc(c1)Cl)c2cn[nH]c2c3cc([nH]c3)C(=O)NCc4c...</td>\n",
              "      <td><img data-content=\"rdkit/molecule\" src=\"data:image/png;base64,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\" alt=\"Mol\"/></td>\n",
              "    </tr>\n",
              "    <tr>\n",
              "      <th>346</th>\n",
              "      <td>0.573720</td>\n",
              "      <td>0.426281</td>\n",
              "      <td>1</td>\n",
              "      <td>Cc1cnc(nc1c2cc([nH]c2)C(=O)N[C@H](CO)c3ccccc3)...</td>\n",
              "      <td><img data-content=\"rdkit/molecule\" src=\"data:image/png;base64,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\" alt=\"Mol\"/></td>\n",
              "    </tr>\n",
              "    <tr>\n",
              "      <th>351</th>\n",
              "      <td>0.955184</td>\n",
              "      <td>0.044816</td>\n",
              "      <td>1</td>\n",
              "      <td>CCCCNC(=O)N1Cc2c(n[nH]c2NC(=O)Cc3ccc(cc3)N4CCC...</td>\n",
              "      <td><img data-content=\"rdkit/molecule\" src=\"data:image/png;base64,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\" alt=\"Mol\"/></td>\n",
              "    </tr>\n",
              "    <tr>\n",
              "      <th>383</th>\n",
              "      <td>0.847507</td>\n",
              "      <td>0.152493</td>\n",
              "      <td>1</td>\n",
              "      <td>Cc1cnc(nc1c2cc([nH]c2)C(=O)N[C@H](CO)c3cccc(c3...</td>\n",
              "      <td><img data-content=\"rdkit/molecule\" src=\"data:image/png;base64,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\" alt=\"Mol\"/></td>\n",
              "    </tr>\n",
              "  </tbody>\n",
              "</table>\n",
              "</div>"
            ],
            "text/plain": [
              "          neg  ...                                                Mol\n",
              "6    0.997621  ...  <img data-content=\"rdkit/molecule\" src=\"data:i...\n",
              "19   0.789070  ...  <img data-content=\"rdkit/molecule\" src=\"data:i...\n",
              "55   0.678796  ...  <img data-content=\"rdkit/molecule\" src=\"data:i...\n",
              "167  0.765514  ...  <img data-content=\"rdkit/molecule\" src=\"data:i...\n",
              "312  0.796359  ...  <img data-content=\"rdkit/molecule\" src=\"data:i...\n",
              "341  0.557322  ...  <img data-content=\"rdkit/molecule\" src=\"data:i...\n",
              "346  0.573720  ...  <img data-content=\"rdkit/molecule\" src=\"data:i...\n",
              "351  0.955184  ...  <img data-content=\"rdkit/molecule\" src=\"data:i...\n",
              "383  0.847507  ...  <img data-content=\"rdkit/molecule\" src=\"data:i...\n",
              "\n",
              "[9 rows x 5 columns]"
            ]
          },
          "metadata": {
            "tags": []
          },
          "execution_count": 86
        }
      ]
    },
    {
      "cell_type": "code",
      "metadata": {
        "id": "xPmQ6TWcH5Dl"
      },
      "source": [
        "false_positive_df = pred_df.query(\"active == 0 & pos > 0.5\").copy()\n",
        "PandasTools.AddMoleculeColumnToFrame(false_positive_df,\"SMILES\",\"Mol\")"
      ],
      "execution_count": 87,
      "outputs": []
    },
    {
      "cell_type": "code",
      "metadata": {
        "id": "BXcV89cVH8fe",
        "outputId": "52cfa0ed-4082-422b-d21c-04a745c769ec",
        "colab": {
          "base_uri": "https://localhost:8080/",
          "height": 49
        }
      },
      "source": [
        "false_positive_df"
      ],
      "execution_count": 88,
      "outputs": [
        {
          "output_type": "execute_result",
          "data": {
            "text/html": [
              "<div>\n",
              "<style scoped>\n",
              "    .dataframe tbody tr th:only-of-type {\n",
              "        vertical-align: middle;\n",
              "    }\n",
              "\n",
              "    .dataframe tbody tr th {\n",
              "        vertical-align: top;\n",
              "    }\n",
              "\n",
              "    .dataframe thead th {\n",
              "        text-align: right;\n",
              "    }\n",
              "</style>\n",
              "<table border=\"1\" class=\"dataframe\">\n",
              "  <thead>\n",
              "    <tr style=\"text-align: right;\">\n",
              "      <th></th>\n",
              "      <th>neg</th>\n",
              "      <th>pos</th>\n",
              "      <th>active</th>\n",
              "      <th>SMILES</th>\n",
              "      <th>Mol</th>\n",
              "    </tr>\n",
              "  </thead>\n",
              "  <tbody>\n",
              "  </tbody>\n",
              "</table>\n",
              "</div>"
            ],
            "text/plain": [
              "Empty DataFrame\n",
              "Columns: [neg, pos, active, SMILES, Mol]\n",
              "Index: []"
            ]
          },
          "metadata": {
            "tags": []
          },
          "execution_count": 88
        }
      ]
    },
    {
      "cell_type": "markdown",
      "metadata": {
        "id": "ci-hPejMKav5"
      },
      "source": [
        "Now that we've evaluated our model's performance we can retrain the model on the entire dataset and save it."
      ]
    },
    {
      "cell_type": "code",
      "metadata": {
        "id": "tmgLjtgnIAjS",
        "outputId": "d3cbd2c1-aec5-4173-bffb-3b11105c3e52",
        "colab": {
          "base_uri": "https://localhost:8080/"
        }
      },
      "source": [
        "model.fit(dataset)"
      ],
      "execution_count": 89,
      "outputs": [
        {
          "output_type": "execute_result",
          "data": {
            "text/plain": [
              "0.0005924772471189499"
            ]
          },
          "metadata": {
            "tags": []
          },
          "execution_count": 89
        }
      ]
    },
    {
      "cell_type": "markdown",
      "metadata": {
        "id": "mSFjpyELKlWO"
      },
      "source": [
        "**Filtering chemical libraries**\n",
        "\n",
        "Now that we've created a predictive model we can apply this model to a new set of molecules. In many cases, we will build a predictive model based on literature data, then apply that model to a set of molecules that we want to screen. The molecules we want to screen may come from an internal database or from a commercially available screening collection. As an example, we will use the predictive model we created to screen a small sample of 100,000 compounds from the ZINC database.\n",
        "\n",
        "One potential source of difficulty when carrying out a virtual screen is the presence of molecules which have the potential to interfere with biological assays. Over the last 25 years, many groups have developed sets of computational filters to identify potentially reactive or problematic molecules. Several of these rule sets, which are encoded as SMARTS strings have been collected by the group that curates the ChEMBL database. These rule sets have been made avaiable through a Python script called rd_filters.py. In this example, we will use rd_filters.py to identify potentially problematic molecules in our set of 100,000 molecules from the ZINC database."
      ]
    },
    {
      "cell_type": "code",
      "metadata": {
        "id": "BlLhucckKm-0",
        "outputId": "dbc3762e-a337-4a65-e714-48b6005f2237",
        "colab": {
          "base_uri": "https://localhost:8080/"
        }
      },
      "source": [
        "!pip install git+https://github.com/PatWalters/rd_filters.git"
      ],
      "execution_count": 93,
      "outputs": [
        {
          "output_type": "stream",
          "text": [
            "Collecting git+https://github.com/PatWalters/rd_filters.git\n",
            "  Cloning https://github.com/PatWalters/rd_filters.git to /tmp/pip-req-build-3fe0x6xr\n",
            "  Running command git clone -q https://github.com/PatWalters/rd_filters.git /tmp/pip-req-build-3fe0x6xr\n",
            "Requirement already satisfied: pandas in /usr/local/lib/python3.7/site-packages (from rd-filters==0.1) (1.1.3)\n",
            "Collecting docopt\n",
            "  Downloading docopt-0.6.2.tar.gz (25 kB)\n",
            "Requirement already satisfied: python-dateutil>=2.7.3 in /usr/local/lib/python3.7/site-packages (from pandas->rd-filters==0.1) (2.8.1)\n",
            "Requirement already satisfied: pytz>=2017.2 in /usr/local/lib/python3.7/site-packages (from pandas->rd-filters==0.1) (2020.1)\n",
            "Requirement already satisfied: numpy>=1.15.4 in /usr/local/lib/python3.7/site-packages (from pandas->rd-filters==0.1) (1.19.2)\n",
            "Requirement already satisfied: six>=1.5 in /usr/local/lib/python3.7/site-packages (from python-dateutil>=2.7.3->pandas->rd-filters==0.1) (1.14.0)\n",
            "Building wheels for collected packages: rd-filters, docopt\n",
            "  Building wheel for rd-filters (setup.py) ... \u001b[?25l\u001b[?25hdone\n",
            "  Created wheel for rd-filters: filename=rd_filters-0.1-py3-none-any.whl size=33801 sha256=ee0b05379b1934f20166f479e8410fc99e060910558bdc590ab5761fbc2fe493\n",
            "  Stored in directory: /tmp/pip-ephem-wheel-cache-96ch6qva/wheels/18/23/0c/f8d3c66d34f5ee86ae3992e1fdd45c94223ee21fcde6f01192\n",
            "  Building wheel for docopt (setup.py) ... \u001b[?25l\u001b[?25hdone\n",
            "  Created wheel for docopt: filename=docopt-0.6.2-py2.py3-none-any.whl size=13704 sha256=0fe629203360962c114df776dd1e232ccd6b12c4a67cc6faedeab1749e0a43ca\n",
            "  Stored in directory: /root/.cache/pip/wheels/72/b0/3f/1d95f96ff986c7dfffe46ce2be4062f38ebd04b506c77c81b9\n",
            "Successfully built rd-filters docopt\n",
            "Installing collected packages: docopt, rd-filters\n",
            "Successfully installed docopt-0.6.2 rd-filters-0.1\n"
          ],
          "name": "stdout"
        }
      ]
    },
    {
      "cell_type": "code",
      "metadata": {
        "id": "9G_R8kXfH3zO"
      },
      "source": [
        "import sys\n",
        "from rdkit import Chem\n",
        "from rdkit.Chem.Descriptors import MolWt, MolLogP, NumHDonors, NumHAcceptors, TPSA\n",
        "from rdkit.Chem.rdMolDescriptors import CalcNumRotatableBonds\n",
        "import multiprocessing as mp\n",
        "from multiprocessing import Pool\n",
        "import time\n",
        "import pandas as pd\n",
        "import os\n",
        "import json\n",
        "from docopt import docopt\n",
        "import pkg_resources"
      ],
      "execution_count": 94,
      "outputs": []
    },
    {
      "cell_type": "code",
      "metadata": {
        "id": "gX58OJIvHZ1_",
        "outputId": "cc7b4cde-2203-4d7e-b6eb-324ae7b95501",
        "colab": {
          "base_uri": "https://localhost:8080/"
        }
      },
      "source": [
        "\n",
        "!rd_filters -h"
      ],
      "execution_count": 98,
      "outputs": [
        {
          "output_type": "stream",
          "text": [
            "Usage:\n",
            "rd_filters filter --in INPUT_FILE --prefix PREFIX [--rules RULES_FILE_NAME] [--alerts ALERT_FILE_NAME][--np NUM_CORES]\n",
            "rd_filters template --out TEMPLATE_FILE [--rules RULES_FILE_NAME]\n",
            "\n",
            "Options:\n",
            "--in INPUT_FILE input file name\n",
            "--prefix PREFIX prefix for output file names\n",
            "--rules RULES_FILE_NAME name of the rules JSON file\n",
            "--alerts ALERTS_FILE_NAME name of the structural alerts file\n",
            "--np NUM_CORES the number of cpu cores to use (default is all)\n",
            "--out TEMPLATE_FILE parameter template file name\n"
          ],
          "name": "stdout"
        }
      ]
    },
    {
      "cell_type": "code",
      "metadata": {
        "id": "guOcoQm0Fd6X"
      },
      "source": [
        "import sys\n",
        "from rdkit import Chem\n",
        "from rdkit.Chem.Descriptors import MolWt, MolLogP, NumHDonors, NumHAcceptors, TPSA\n",
        "from rdkit.Chem.rdMolDescriptors import CalcNumRotatableBonds\n",
        "import multiprocessing as mp\n",
        "from multiprocessing import Pool\n",
        "import time\n",
        "import pandas as pd\n",
        "import os\n",
        "import json\n",
        "from docopt import docopt\n",
        "import pkg_resources"
      ],
      "execution_count": 113,
      "outputs": []
    },
    {
      "cell_type": "code",
      "metadata": {
        "id": "Gy7ObQA9COEM",
        "outputId": "78cde83c-6222-4b17-a3a9-9c143f9ff402",
        "colab": {
          "base_uri": "https://localhost:8080/"
        }
      },
      "source": [
        "!pip install git+https://github.com/PatWalters/rd_filters.git\n"
      ],
      "execution_count": 125,
      "outputs": [
        {
          "output_type": "stream",
          "text": [
            "Collecting git+https://github.com/PatWalters/rd_filters.git\n",
            "  Cloning https://github.com/PatWalters/rd_filters.git to /tmp/pip-req-build-xb2becmq\n",
            "  Running command git clone -q https://github.com/PatWalters/rd_filters.git /tmp/pip-req-build-xb2becmq\n",
            "Requirement already satisfied (use --upgrade to upgrade): rd-filters==0.1 from git+https://github.com/PatWalters/rd_filters.git in /usr/local/lib/python3.7/site-packages\n",
            "Requirement already satisfied: pandas in /usr/local/lib/python3.7/site-packages (from rd-filters==0.1) (1.1.3)\n",
            "Requirement already satisfied: docopt in /usr/local/lib/python3.7/site-packages (from rd-filters==0.1) (0.6.2)\n",
            "Requirement already satisfied: python-dateutil>=2.7.3 in /usr/local/lib/python3.7/site-packages (from pandas->rd-filters==0.1) (2.8.1)\n",
            "Requirement already satisfied: pytz>=2017.2 in /usr/local/lib/python3.7/site-packages (from pandas->rd-filters==0.1) (2020.1)\n",
            "Requirement already satisfied: numpy>=1.15.4 in /usr/local/lib/python3.7/site-packages (from pandas->rd-filters==0.1) (1.19.2)\n",
            "Requirement already satisfied: six>=1.5 in /usr/local/lib/python3.7/site-packages (from python-dateutil>=2.7.3->pandas->rd-filters==0.1) (1.14.0)\n",
            "Building wheels for collected packages: rd-filters\n",
            "  Building wheel for rd-filters (setup.py) ... \u001b[?25l\u001b[?25hdone\n",
            "  Created wheel for rd-filters: filename=rd_filters-0.1-py3-none-any.whl size=33801 sha256=8ceeb8b1647cdf72e4cd6b44cf8a398d165b6e80091a483c0f086f2b2e62cf4f\n",
            "  Stored in directory: /tmp/pip-ephem-wheel-cache-t77k8la6/wheels/18/23/0c/f8d3c66d34f5ee86ae3992e1fdd45c94223ee21fcde6f01192\n",
            "Successfully built rd-filters\n"
          ],
          "name": "stdout"
        }
      ]
    },
    {
      "cell_type": "code",
      "metadata": {
        "id": "_EsqiGVDHOEx",
        "outputId": "15b5c1a5-8f36-4b3f-ff32-8edfb8ddc129",
        "colab": {
          "base_uri": "https://localhost:8080/"
        }
      },
      "source": [
        "!rd_filters template --out rules.json"
      ],
      "execution_count": 128,
      "outputs": [
        {
          "output_type": "stream",
          "text": [
            "Wrote rules to rules.json\n"
          ],
          "name": "stdout"
        }
      ]
    },
    {
      "cell_type": "code",
      "metadata": {
        "id": "4c4_D4VeHvUe",
        "outputId": "13ee62a8-91f7-49e4-86c2-0891145bec48",
        "colab": {
          "base_uri": "https://localhost:8080/"
        }
      },
      "source": [
        "!rd_filters filter --in zinc_100k.smi.txt --prefix zinc --np 4 --rules /content/rules.json --alerts alert_collection.csv\n"
      ],
      "execution_count": 138,
      "outputs": [
        {
          "output_type": "stream",
          "text": [
            "using 4 cores\n",
            "Using alerts from Inpharmatica\n",
            "Wrote SMILES for molecules passing filters to zinc.smi\n",
            "Wrote detailed data to zinc.csv\n",
            "68410 of 100000 passed filters 68.4%\n",
            "Elapsed time 94.22 seconds\n"
          ],
          "name": "stdout"
        }
      ]
    },
    {
      "cell_type": "markdown",
      "metadata": {
        "id": "QMyVapBKIVzr"
      },
      "source": [
        "To call the script on our input file, which is called zinc_100k.smi we can specify the input file and a prefix for output file names."
      ]
    },
    {
      "cell_type": "markdown",
      "metadata": {
        "id": "05UDICrwIeqr"
      },
      "source": [
        "It is informative to take a look at the reasons molecules were rejected. This can let us know whether we need to adjust any of the filters."
      ]
    },
    {
      "cell_type": "code",
      "metadata": {
        "id": "t-iOuLIkLgyA"
      },
      "source": [
        "import pandas as pd"
      ],
      "execution_count": 109,
      "outputs": []
    },
    {
      "cell_type": "code",
      "metadata": {
        "id": "Ger29Y1mIkpt",
        "outputId": "5a0cbe3c-88de-4ca3-893c-c82a29ec24bc",
        "colab": {
          "base_uri": "https://localhost:8080/",
          "height": 309
        }
      },
      "source": [
        "df = pd.read_csv(\"zinc.csv\")\n",
        "\n",
        "df.head()"
      ],
      "execution_count": 139,
      "outputs": [
        {
          "output_type": "execute_result",
          "data": {
            "text/html": [
              "<div>\n",
              "<style scoped>\n",
              "    .dataframe tbody tr th:only-of-type {\n",
              "        vertical-align: middle;\n",
              "    }\n",
              "\n",
              "    .dataframe tbody tr th {\n",
              "        vertical-align: top;\n",
              "    }\n",
              "\n",
              "    .dataframe thead th {\n",
              "        text-align: right;\n",
              "    }\n",
              "</style>\n",
              "<table border=\"1\" class=\"dataframe\">\n",
              "  <thead>\n",
              "    <tr style=\"text-align: right;\">\n",
              "      <th></th>\n",
              "      <th>SMILES</th>\n",
              "      <th>NAME</th>\n",
              "      <th>FILTER</th>\n",
              "      <th>MW</th>\n",
              "      <th>LogP</th>\n",
              "      <th>HBD</th>\n",
              "      <th>HBA</th>\n",
              "      <th>TPSA</th>\n",
              "      <th>Rot</th>\n",
              "    </tr>\n",
              "  </thead>\n",
              "  <tbody>\n",
              "    <tr>\n",
              "      <th>0</th>\n",
              "      <td>CN(CCO)C[C@@H](O)Cn1cnc2c1c(=O)n(C)c(=O)n2C</td>\n",
              "      <td>ZINC000000000843</td>\n",
              "      <td>Filter82_pyridinium &gt; 0</td>\n",
              "      <td>311.342</td>\n",
              "      <td>-2.2813</td>\n",
              "      <td>2</td>\n",
              "      <td>9</td>\n",
              "      <td>105.52</td>\n",
              "      <td>6</td>\n",
              "    </tr>\n",
              "    <tr>\n",
              "      <th>1</th>\n",
              "      <td>O=c1[nH]c(=O)n([C@@H]2C[C@@H](O)[C@H](CO)O2)cc1Br</td>\n",
              "      <td>ZINC000000001063</td>\n",
              "      <td>Filter9_metal &gt; 0</td>\n",
              "      <td>307.100</td>\n",
              "      <td>-1.0602</td>\n",
              "      <td>3</td>\n",
              "      <td>6</td>\n",
              "      <td>104.55</td>\n",
              "      <td>2</td>\n",
              "    </tr>\n",
              "    <tr>\n",
              "      <th>2</th>\n",
              "      <td>Cn1c2ncn(CC(=O)N3CCOCC3)c2c(=O)n(C)c1=O</td>\n",
              "      <td>ZINC000000003942</td>\n",
              "      <td>Filter82_pyridinium &gt; 0</td>\n",
              "      <td>307.310</td>\n",
              "      <td>-1.7075</td>\n",
              "      <td>0</td>\n",
              "      <td>8</td>\n",
              "      <td>91.36</td>\n",
              "      <td>2</td>\n",
              "    </tr>\n",
              "    <tr>\n",
              "      <th>3</th>\n",
              "      <td>CN1C(=O)C[C@H](N2CCN(C(=O)CN3CCCC3)CC2)C1=O</td>\n",
              "      <td>ZINC000000036436</td>\n",
              "      <td>OK</td>\n",
              "      <td>308.382</td>\n",
              "      <td>-1.0163</td>\n",
              "      <td>0</td>\n",
              "      <td>5</td>\n",
              "      <td>64.17</td>\n",
              "      <td>3</td>\n",
              "    </tr>\n",
              "    <tr>\n",
              "      <th>4</th>\n",
              "      <td>CC(=O)NC[C@H](O)[C@H]1O[C@H]2OC(C)(C)O[C@H]2[C...</td>\n",
              "      <td>ZINC000000041101</td>\n",
              "      <td>OK</td>\n",
              "      <td>302.327</td>\n",
              "      <td>-1.1355</td>\n",
              "      <td>3</td>\n",
              "      <td>6</td>\n",
              "      <td>106.12</td>\n",
              "      <td>4</td>\n",
              "    </tr>\n",
              "  </tbody>\n",
              "</table>\n",
              "</div>"
            ],
            "text/plain": [
              "                                              SMILES  ... Rot\n",
              "0        CN(CCO)C[C@@H](O)Cn1cnc2c1c(=O)n(C)c(=O)n2C  ...   6\n",
              "1  O=c1[nH]c(=O)n([C@@H]2C[C@@H](O)[C@H](CO)O2)cc1Br  ...   2\n",
              "2            Cn1c2ncn(CC(=O)N3CCOCC3)c2c(=O)n(C)c1=O  ...   2\n",
              "3        CN1C(=O)C[C@H](N2CCN(C(=O)CN3CCCC3)CC2)C1=O  ...   3\n",
              "4  CC(=O)NC[C@H](O)[C@H]1O[C@H]2OC(C)(C)O[C@H]2[C...  ...   4\n",
              "\n",
              "[5 rows x 9 columns]"
            ]
          },
          "metadata": {
            "tags": []
          },
          "execution_count": 139
        }
      ]
    },
    {
      "cell_type": "markdown",
      "metadata": {
        "id": "aE5SVSgeIoht"
      },
      "source": [
        "We can use the Counter class from the Python \"collections\" library to identify which filters were responsible for removing the largest number of molecules."
      ]
    },
    {
      "cell_type": "code",
      "metadata": {
        "id": "xlcmXzLsL4lF",
        "outputId": "b8113511-8e9a-45ba-e3e6-6216b9436119",
        "colab": {
          "base_uri": "https://localhost:8080/",
          "height": 202
        }
      },
      "source": [
        "from collections import Counter\n",
        "count_list = list(Counter(df.FILTER).items())\n",
        "count_df = pd.DataFrame(count_list,columns=[\"Rule\",\"Count\"])\n",
        "count_df.sort_values(\"Count\",inplace=True,ascending=False)\n",
        "count_df.head()"
      ],
      "execution_count": 140,
      "outputs": [
        {
          "output_type": "execute_result",
          "data": {
            "text/html": [
              "<div>\n",
              "<style scoped>\n",
              "    .dataframe tbody tr th:only-of-type {\n",
              "        vertical-align: middle;\n",
              "    }\n",
              "\n",
              "    .dataframe tbody tr th {\n",
              "        vertical-align: top;\n",
              "    }\n",
              "\n",
              "    .dataframe thead th {\n",
              "        text-align: right;\n",
              "    }\n",
              "</style>\n",
              "<table border=\"1\" class=\"dataframe\">\n",
              "  <thead>\n",
              "    <tr style=\"text-align: right;\">\n",
              "      <th></th>\n",
              "      <th>Rule</th>\n",
              "      <th>Count</th>\n",
              "    </tr>\n",
              "  </thead>\n",
              "  <tbody>\n",
              "    <tr>\n",
              "      <th>2</th>\n",
              "      <td>OK</td>\n",
              "      <td>69148</td>\n",
              "    </tr>\n",
              "    <tr>\n",
              "      <th>7</th>\n",
              "      <td>Filter41_12_dicarbonyl &gt; 0</td>\n",
              "      <td>19330</td>\n",
              "    </tr>\n",
              "    <tr>\n",
              "      <th>0</th>\n",
              "      <td>Filter82_pyridinium &gt; 0</td>\n",
              "      <td>7713</td>\n",
              "    </tr>\n",
              "    <tr>\n",
              "      <th>11</th>\n",
              "      <td>Filter93_acetyl_urea &gt; 0</td>\n",
              "      <td>1541</td>\n",
              "    </tr>\n",
              "    <tr>\n",
              "      <th>12</th>\n",
              "      <td>Filter78_bicyclic_Imide &gt; 0</td>\n",
              "      <td>825</td>\n",
              "    </tr>\n",
              "  </tbody>\n",
              "</table>\n",
              "</div>"
            ],
            "text/plain": [
              "                           Rule  Count\n",
              "2                            OK  69148\n",
              "7    Filter41_12_dicarbonyl > 0  19330\n",
              "0       Filter82_pyridinium > 0   7713\n",
              "11     Filter93_acetyl_urea > 0   1541\n",
              "12  Filter78_bicyclic_Imide > 0    825"
            ]
          },
          "metadata": {
            "tags": []
          },
          "execution_count": 140
        }
      ]
    },
    {
      "cell_type": "markdown",
      "metadata": {
        "id": "gtLVOTnVItUm"
      },
      "source": [
        "The largest number of molecules (19,330) were rejected because they contained a 1,2 dicarbonyl group. Molecules of this type have a tendency to act a Michael Acceptors and may reactive with nucleophilic protein residues such as serine and cysteine. Let's take a look at a few of these molecules."
      ]
    },
    {
      "cell_type": "code",
      "metadata": {
        "id": "wIPKTpJPIvmu"
      },
      "source": [
        "smiles_list = df[df.FILTER == \"Filter41_12_dicarbonyl > 0\"].SMILES[:10]"
      ],
      "execution_count": 141,
      "outputs": []
    },
    {
      "cell_type": "code",
      "metadata": {
        "id": "NxezsYcIIw8a",
        "outputId": "ebb38839-9191-40ec-cbd6-aa6dc11251a1",
        "colab": {
          "base_uri": "https://localhost:8080/",
          "height": 360
        }
      },
      "source": [
        "from rdkit import Chem\n",
        "from rdkit.Chem import Draw\n",
        "\n",
        "mol_list = [Chem.MolFromSmiles(x) for x in smiles_list]\n",
        "dicarbonyl = Chem.MolFromSmarts('*C(=O)C(=O)*')\n",
        "match_list = [mol.GetSubstructMatch(dicarbonyl) for mol in mol_list]\n",
        "Draw.MolsToGridImage(mol_list,highlightAtomLists=match_list,molsPerRow=5)"
      ],
      "execution_count": 142,
      "outputs": [
        {
          "output_type": "execute_result",
          "data": {
            "image/png": "[encoded data removed]",
            "text/plain": [
              "<IPython.core.display.Image object>"
            ]
          },
          "metadata": {
            "tags": []
          },
          "execution_count": 142
        }
      ]
    },
    {
      "cell_type": "markdown",
      "metadata": {
        "id": "QaFz6mrFI1IQ"
      },
      "source": [
        "As we can see above, the molecules do indeed have dicarbonyl groups. If we wanted to we could similarly evaluate other filters."
      ]
    },
    {
      "cell_type": "markdown",
      "metadata": {
        "id": "xTizGzmNK6n7"
      },
      "source": [
        "**Using the predictive model**\n",
        "\n",
        "\n",
        "The GraphConv model we created can now be applied used to search the set of commercially available compounds we just filtered.\n",
        "Applying the model will consist of a few steps.\n",
        "\n",
        "Load the model from disc\n",
        "Create a featurizer\n",
        "Read an featurize the molecules that we will run through the model\n",
        "Examine the scores for the predictions\n",
        "Examine the chemical strucutres of the top predicted molecules\n",
        "Cluster the selected molecules\n",
        "Write the selected molecules from each cluster to a csv file\n",
        "We will begin by importing the necessary libraries"
      ]
    },
    {
      "cell_type": "code",
      "metadata": {
        "id": "ZCDb-kNuLEj9"
      },
      "source": [
        "import deepchem as dc\n",
        "import pandas as pd\n",
        "from rdkit.Chem import PandasTools, Draw\n",
        "from rdkit import DataStructs\n",
        "from rdkit.ML.Cluster import Butina\n",
        "from rdkit.Chem import rdMolDescriptors as rdmd\n",
        "import seaborn as sns"
      ],
      "execution_count": 143,
      "outputs": []
    },
    {
      "cell_type": "markdown",
      "metadata": {
        "id": "l0jT5FW0LKpe"
      },
      "source": [
        "We then read the model that we generated earlier from disc"
      ]
    },
    {
      "cell_type": "code",
      "metadata": {
        "id": "H14GpkUALJl5"
      },
      "source": [
        "model = dc.models.GraphConvModel(1, batch_size=128, mode='classification',model_dir=\"model_dir\")\n",
        "model.restore()"
      ],
      "execution_count": null,
      "outputs": []
    },
    {
      "cell_type": "markdown",
      "metadata": {
        "id": "WVLYq3tdLZWP"
      },
      "source": [
        "In order to generated predictions from our model, we first need to featurize the molecules we plan to use to generate predictions."
      ]
    },
    {
      "cell_type": "code",
      "metadata": {
        "id": "ZXTYuNagLcNR"
      },
      "source": [
        "featurizer = dc.feat.ConvMolFeaturizer()"
      ],
      "execution_count": 146,
      "outputs": []
    },
    {
      "cell_type": "markdown",
      "metadata": {
        "id": "WryxXpEELgtM"
      },
      "source": [
        "In order to featurize the molecules, we need to transform our SMILES file into a csv. The DeepChem featurizer also requires an activity column, so we will add one then write the file to csv. Is there another way to do this?"
      ]
    },
    {
      "cell_type": "code",
      "metadata": {
        "id": "s0co0wiyLh83"
      },
      "source": [
        "df = pd.read_csv(\"zinc.smi\",sep=\" \",header=None)\n",
        "df.columns=[\"SMILES\",\"Name\"]\n",
        "rows,cols = df.shape\n",
        "df[\"Val\"] = [0] * rows"
      ],
      "execution_count": 148,
      "outputs": []
    },
    {
      "cell_type": "code",
      "metadata": {
        "id": "OEUzy8_FLrNk",
        "outputId": "b447bfa5-1151-495e-8dfc-d622723a60d5",
        "colab": {
          "base_uri": "https://localhost:8080/",
          "height": 202
        }
      },
      "source": [
        "df.head()"
      ],
      "execution_count": 149,
      "outputs": [
        {
          "output_type": "execute_result",
          "data": {
            "text/html": [
              "<div>\n",
              "<style scoped>\n",
              "    .dataframe tbody tr th:only-of-type {\n",
              "        vertical-align: middle;\n",
              "    }\n",
              "\n",
              "    .dataframe tbody tr th {\n",
              "        vertical-align: top;\n",
              "    }\n",
              "\n",
              "    .dataframe thead th {\n",
              "        text-align: right;\n",
              "    }\n",
              "</style>\n",
              "<table border=\"1\" class=\"dataframe\">\n",
              "  <thead>\n",
              "    <tr style=\"text-align: right;\">\n",
              "      <th></th>\n",
              "      <th>SMILES</th>\n",
              "      <th>Name</th>\n",
              "      <th>Val</th>\n",
              "    </tr>\n",
              "  </thead>\n",
              "  <tbody>\n",
              "    <tr>\n",
              "      <th>0</th>\n",
              "      <td>CN1C(=O)C[C@H](N2CCN(C(=O)CN3CCCC3)CC2)C1=O</td>\n",
              "      <td>ZINC000000036436</td>\n",
              "      <td>0</td>\n",
              "    </tr>\n",
              "    <tr>\n",
              "      <th>1</th>\n",
              "      <td>CC(=O)NC[C@H](O)[C@H]1O[C@H]2OC(C)(C)O[C@H]2[C...</td>\n",
              "      <td>ZINC000000041101</td>\n",
              "      <td>0</td>\n",
              "    </tr>\n",
              "    <tr>\n",
              "      <th>2</th>\n",
              "      <td>C1CN(c2nc(-c3nn[nH]n3)nc(N3CCOCC3)n2)CCO1</td>\n",
              "      <td>ZINC000000054542</td>\n",
              "      <td>0</td>\n",
              "    </tr>\n",
              "    <tr>\n",
              "      <th>3</th>\n",
              "      <td>OCCN(CCO)c1nc(Cl)nc(N(CCO)CCO)n1</td>\n",
              "      <td>ZINC000000109481</td>\n",
              "      <td>0</td>\n",
              "    </tr>\n",
              "    <tr>\n",
              "      <th>4</th>\n",
              "      <td>COC(=O)c1ccc(S(=O)(=O)N(CCO)CCO)n1C</td>\n",
              "      <td>ZINC000000119782</td>\n",
              "      <td>0</td>\n",
              "    </tr>\n",
              "  </tbody>\n",
              "</table>\n",
              "</div>"
            ],
            "text/plain": [
              "                                              SMILES              Name  Val\n",
              "0        CN1C(=O)C[C@H](N2CCN(C(=O)CN3CCCC3)CC2)C1=O  ZINC000000036436    0\n",
              "1  CC(=O)NC[C@H](O)[C@H]1O[C@H]2OC(C)(C)O[C@H]2[C...  ZINC000000041101    0\n",
              "2          C1CN(c2nc(-c3nn[nH]n3)nc(N3CCOCC3)n2)CCO1  ZINC000000054542    0\n",
              "3                   OCCN(CCO)c1nc(Cl)nc(N(CCO)CCO)n1  ZINC000000109481    0\n",
              "4                COC(=O)c1ccc(S(=O)(=O)N(CCO)CCO)n1C  ZINC000000119782    0"
            ]
          },
          "metadata": {
            "tags": []
          },
          "execution_count": 149
        }
      ]
    },
    {
      "cell_type": "code",
      "metadata": {
        "id": "2IsyOgRQLwwH"
      },
      "source": [
        "infile_name = \"zinc_filtered.csv\"\n",
        "df.to_csv(infile_name,index=False)"
      ],
      "execution_count": 150,
      "outputs": []
    },
    {
      "cell_type": "markdown",
      "metadata": {
        "id": "7VzW6IroL1u2"
      },
      "source": [
        "We can the read this csv file with a loader and featurize the molecules we plan to predict."
      ]
    },
    {
      "cell_type": "code",
      "metadata": {
        "id": "BTy1XImOL2xS",
        "outputId": "16a891f5-0bde-4bcf-bf95-90c01dd631d3",
        "colab": {
          "base_uri": "https://localhost:8080/"
        }
      },
      "source": [
        "loader = dc.data.CSVLoader(tasks=['Val'], smiles_field=\"SMILES\", featurizer=featurizer)\n",
        "dataset = loader.featurize(infile_name, shard_size=8192)"
      ],
      "execution_count": 151,
      "outputs": [
        {
          "output_type": "stream",
          "text": [
            "smiles_field is deprecated and will be removed in a future version of DeepChem.Use feature_field instead.\n",
            "/usr/local/lib/python3.7/site-packages/deepchem/data/data_loader.py:162: FutureWarning: featurize() is deprecated and has been renamed to create_dataset().featurize() will be removed in DeepChem 3.0\n",
            "  \"featurize() will be removed in DeepChem 3.0\", FutureWarning)\n"
          ],
          "name": "stderr"
        }
      ]
    },
    {
      "cell_type": "markdown",
      "metadata": {
        "id": "rAjFfeRnL84j"
      },
      "source": [
        "The featurized molecules can be used to generate predcitions with the model"
      ]
    },
    {
      "cell_type": "code",
      "metadata": {
        "id": "ypckw3aoL-5y",
        "outputId": "88c92867-24ea-4baf-f91d-83d7a8e86949",
        "colab": {
          "base_uri": "https://localhost:8080/"
        }
      },
      "source": [
        "pred = model.predict(dataset)\n",
        "pred_df = pd.DataFrame([x.flatten() for x in pred],columns=[\"Neg\",\"Pos\"])"
      ],
      "execution_count": 152,
      "outputs": [
        {
          "output_type": "stream",
          "text": [
            "WARNING:tensorflow:8 out of the last 36 calls to <function KerasModel._compute_model at 0x7f66744c4b70> triggered tf.function retracing. Tracing is expensive and the excessive number of tracings could be due to (1) creating @tf.function repeatedly in a loop, (2) passing tensors with different shapes, (3) passing Python objects instead of tensors. For (1), please define your @tf.function outside of the loop. For (2), @tf.function has experimental_relax_shapes=True option that relaxes argument shapes that can avoid unnecessary retracing. For (3), please refer to https://www.tensorflow.org/tutorials/customization/performance#python_or_tensor_args and https://www.tensorflow.org/api_docs/python/tf/function for  more details.\n",
            "WARNING:tensorflow:9 out of the last 37 calls to <function KerasModel._compute_model at 0x7f66744c4b70> triggered tf.function retracing. Tracing is expensive and the excessive number of tracings could be due to (1) creating @tf.function repeatedly in a loop, (2) passing tensors with different shapes, (3) passing Python objects instead of tensors. For (1), please define your @tf.function outside of the loop. For (2), @tf.function has experimental_relax_shapes=True option that relaxes argument shapes that can avoid unnecessary retracing. For (3), please refer to https://www.tensorflow.org/tutorials/customization/performance#python_or_tensor_args and https://www.tensorflow.org/api_docs/python/tf/function for  more details.\n",
            "WARNING:tensorflow:9 out of the last 11 calls to <function KerasModel._compute_model at 0x7f66744c4b70> triggered tf.function retracing. Tracing is expensive and the excessive number of tracings could be due to (1) creating @tf.function repeatedly in a loop, (2) passing tensors with different shapes, (3) passing Python objects instead of tensors. For (1), please define your @tf.function outside of the loop. For (2), @tf.function has experimental_relax_shapes=True option that relaxes argument shapes that can avoid unnecessary retracing. For (3), please refer to https://www.tensorflow.org/tutorials/customization/performance#python_or_tensor_args and https://www.tensorflow.org/api_docs/python/tf/function for  more details.\n",
            "WARNING:tensorflow:9 out of the last 11 calls to <function KerasModel._compute_model at 0x7f66744c4b70> triggered tf.function retracing. Tracing is expensive and the excessive number of tracings could be due to (1) creating @tf.function repeatedly in a loop, (2) passing tensors with different shapes, (3) passing Python objects instead of tensors. For (1), please define your @tf.function outside of the loop. For (2), @tf.function has experimental_relax_shapes=True option that relaxes argument shapes that can avoid unnecessary retracing. For (3), please refer to https://www.tensorflow.org/tutorials/customization/performance#python_or_tensor_args and https://www.tensorflow.org/api_docs/python/tf/function for  more details.\n"
          ],
          "name": "stdout"
        }
      ]
    },
    {
      "cell_type": "markdown",
      "metadata": {
        "id": "xsGlH8xwMEOY"
      },
      "source": [
        "A distribtion plot provides a nice overview of the distribution of scores. We can see that only a few molecules have scores >= 0.3.\n",
        "We can use this value as a preliminary cutoff for molecules that we may\n",
        "want to screen experimentally."
      ]
    },
    {
      "cell_type": "code",
      "metadata": {
        "id": "0aZVLC5sMFL8",
        "outputId": "80abfc18-69dd-490d-88e6-24be40bb0155",
        "colab": {
          "base_uri": "https://localhost:8080/",
          "height": 386
        }
      },
      "source": [
        "sns.distplot(pred_df.Pos,rug=True)"
      ],
      "execution_count": 153,
      "outputs": [
        {
          "output_type": "stream",
          "text": [
            "/usr/local/lib/python3.6/dist-packages/seaborn/distributions.py:2551: FutureWarning: `distplot` is a deprecated function and will be removed in a future version. Please adapt your code to use either `displot` (a figure-level function with similar flexibility) or `histplot` (an axes-level function for histograms).\n",
            "  warnings.warn(msg, FutureWarning)\n",
            "/usr/local/lib/python3.6/dist-packages/seaborn/distributions.py:2055: FutureWarning: The `axis` variable is no longer used and will be removed. Instead, assign variables directly to `x` or `y`.\n",
            "  warnings.warn(msg, FutureWarning)\n"
          ],
          "name": "stderr"
        },
        {
          "output_type": "execute_result",
          "data": {
            "text/plain": [
              "<matplotlib.axes._subplots.AxesSubplot at 0x7f667c155550>"
            ]
          },
          "metadata": {
            "tags": []
          },
          "execution_count": 153
        },
        {
          "output_type": "display_data",
          "data": {
            "image/png": "[encoded data removed]",
            "text/plain": [
              "<Figure size 432x288 with 1 Axes>"
            ]
          },
          "metadata": {
            "tags": [],
            "needs_background": "light"
          }
        }
      ]
    },
    {
      "cell_type": "markdown",
      "metadata": {
        "id": "69lQlnHtMKN1"
      },
      "source": [
        "The dataframe with the scores can be joined to the dataframe with the SMILES. This will give us the ability to view the top scoring molecules."
      ]
    },
    {
      "cell_type": "code",
      "metadata": {
        "id": "O_5uSRLjMLDN"
      },
      "source": [
        "combo_df = df.join(pred_df,how=\"outer\")\n",
        "\n",
        "combo_df.sort_values(\"Pos\",inplace=True,ascending=False)"
      ],
      "execution_count": 154,
      "outputs": []
    },
    {
      "cell_type": "markdown",
      "metadata": {
        "id": "kNK4QOeBNMLC"
      },
      "source": [
        "Adding a molecule column to the dataframe enables us to look at the chemical strucutres of the hits."
      ]
    },
    {
      "cell_type": "code",
      "metadata": {
        "id": "zgw6iKzQNNew",
        "outputId": "de3ae63f-3613-437f-938b-d7031d1a50f8",
        "colab": {
          "base_uri": "https://localhost:8080/",
          "height": 1000
        }
      },
      "source": [
        "PandasTools.AddMoleculeColumnToFrame(combo_df,\"SMILES\",\"Mol\")\n",
        "combo_df.head()"
      ],
      "execution_count": 155,
      "outputs": [
        {
          "output_type": "execute_result",
          "data": {
            "text/html": [
              "<div>\n",
              "<style scoped>\n",
              "    .dataframe tbody tr th:only-of-type {\n",
              "        vertical-align: middle;\n",
              "    }\n",
              "\n",
              "    .dataframe tbody tr th {\n",
              "        vertical-align: top;\n",
              "    }\n",
              "\n",
              "    .dataframe thead th {\n",
              "        text-align: right;\n",
              "    }\n",
              "</style>\n",
              "<table border=\"1\" class=\"dataframe\">\n",
              "  <thead>\n",
              "    <tr style=\"text-align: right;\">\n",
              "      <th></th>\n",
              "      <th>SMILES</th>\n",
              "      <th>Name</th>\n",
              "      <th>Val</th>\n",
              "      <th>Neg</th>\n",
              "      <th>Pos</th>\n",
              "      <th>Mol</th>\n",
              "    </tr>\n",
              "  </thead>\n",
              "  <tbody>\n",
              "    <tr>\n",
              "      <th>1127</th>\n",
              "      <td>CNC(=O)c1cn([C@@H]2O[C@@H](CO)[C@@H](O)[C@@H]2...</td>\n",
              "      <td>ZINC000004824758</td>\n",
              "      <td>0</td>\n",
              "      <td>0.116854</td>\n",
              "      <td>0.883146</td>\n",
              "      <td><img data-content=\"rdkit/molecule\" src=\"data:image/png;base64,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\" alt=\"Mol\"/></td>\n",
              "    </tr>\n",
              "    <tr>\n",
              "      <th>1126</th>\n",
              "      <td>CNC(=O)c1cn([C@H]2O[C@@H](CO)[C@@H](O)[C@@H]2O...</td>\n",
              "      <td>ZINC000004824757</td>\n",
              "      <td>0</td>\n",
              "      <td>0.116854</td>\n",
              "      <td>0.883146</td>\n",
              "      <td><img data-content=\"rdkit/molecule\" src=\"data:image/png;base64,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\" alt=\"Mol\"/></td>\n",
              "    </tr>\n",
              "    <tr>\n",
              "      <th>1125</th>\n",
              "      <td>CNC(=O)c1cn([C@@H]2O[C@@H](CO)[C@@H](O)[C@H]2O...</td>\n",
              "      <td>ZINC000004824756</td>\n",
              "      <td>0</td>\n",
              "      <td>0.116854</td>\n",
              "      <td>0.883146</td>\n",
              "      <td><img data-content=\"rdkit/molecule\" src=\"data:image/png;base64,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\" alt=\"Mol\"/></td>\n",
              "    </tr>\n",
              "    <tr>\n",
              "      <th>1124</th>\n",
              "      <td>CNC(=O)c1cn([C@H]2O[C@@H](CO)[C@@H](O)[C@H]2O)...</td>\n",
              "      <td>ZINC000004824755</td>\n",
              "      <td>0</td>\n",
              "      <td>0.116854</td>\n",
              "      <td>0.883146</td>\n",
              "      <td><img data-content=\"rdkit/molecule\" src=\"data:image/png;base64,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\" alt=\"Mol\"/></td>\n",
              "    </tr>\n",
              "    <tr>\n",
              "      <th>1023</th>\n",
              "      <td>OCCNc1ncnc2c1ncn2[C@H]1O[C@@H](CO)[C@@H](O)[C@...</td>\n",
              "      <td>ZINC000001685071</td>\n",
              "      <td>0</td>\n",
              "      <td>0.144789</td>\n",
              "      <td>0.855211</td>\n",
              "      <td><img data-content=\"rdkit/molecule\" src=\"data:image/png;base64,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\" alt=\"Mol\"/></td>\n",
              "    </tr>\n",
              "  </tbody>\n",
              "</table>\n",
              "</div>"
            ],
            "text/plain": [
              "                                                 SMILES  ...                                                Mol\n",
              "1127  CNC(=O)c1cn([C@@H]2O[C@@H](CO)[C@@H](O)[C@@H]2...  ...  <img data-content=\"rdkit/molecule\" src=\"data:i...\n",
              "1126  CNC(=O)c1cn([C@H]2O[C@@H](CO)[C@@H](O)[C@@H]2O...  ...  <img data-content=\"rdkit/molecule\" src=\"data:i...\n",
              "1125  CNC(=O)c1cn([C@@H]2O[C@@H](CO)[C@@H](O)[C@H]2O...  ...  <img data-content=\"rdkit/molecule\" src=\"data:i...\n",
              "1124  CNC(=O)c1cn([C@H]2O[C@@H](CO)[C@@H](O)[C@H]2O)...  ...  <img data-content=\"rdkit/molecule\" src=\"data:i...\n",
              "1023  OCCNc1ncnc2c1ncn2[C@H]1O[C@@H](CO)[C@@H](O)[C@...  ...  <img data-content=\"rdkit/molecule\" src=\"data:i...\n",
              "\n",
              "[5 rows x 6 columns]"
            ]
          },
          "metadata": {
            "tags": []
          },
          "execution_count": 155
        }
      ]
    },
    {
      "cell_type": "markdown",
      "metadata": {
        "id": "FCUqPRAwNWsp"
      },
      "source": [
        "Based on what we see above, it looks like many of the hits are similar. Let's look at a few more molecules."
      ]
    },
    {
      "cell_type": "code",
      "metadata": {
        "id": "VoymgdH9NVq4",
        "outputId": "09fc204b-3c5b-4671-aa78-56a9cd484289",
        "colab": {
          "base_uri": "https://localhost:8080/",
          "height": 360
        }
      },
      "source": [
        "Draw.MolsToGridImage(combo_df.Mol[:10],molsPerRow=5,legends=[\"%.2f\" % x for x in combo_df.Pos[:10]])"
      ],
      "execution_count": 156,
      "outputs": [
        {
          "output_type": "execute_result",
          "data": {
            "image/png": "[encoded data removed]",
            "text/plain": [
              "<IPython.core.display.Image object>"
            ]
          },
          "metadata": {
            "tags": []
          },
          "execution_count": 156
        }
      ]
    },
    {
      "cell_type": "markdown",
      "metadata": {
        "id": "1SR1nxuSNiZ8"
      },
      "source": [
        "\n",
        "Indeed many of the molecules are very similar and might end up being redundant in our screen. One way of being more efficient with our screen would be to cluster the molecules and only screen the highest scoring molecule in each cluster. The RDKit has an implementation of the Butina clustering method, one of the most highly used methods in Cheminformatics. A small amount of code is necessary to cluster a set of molecules. The only parameter required for Butina clustering is the cluster cutoff. If the Tanimoto similarity of two molecules is greater than the cutoff, the molecules are put into the same cluster. If the similarity is less than the cutoff the molecules are put into different clusters."
      ]
    },
    {
      "cell_type": "code",
      "metadata": {
        "id": "LMrM9QQsNjsb"
      },
      "source": [
        "def butina_cluster(mol_list,cutoff=0.35):\n",
        "    fp_list = [rdmd.GetMorganFingerprintAsBitVect(m, 3, nBits=2048) for m in mol_list]\n",
        "    dists = []\n",
        "    nfps = len(fp_list)\n",
        "    for i in range(1,nfps):\n",
        "        sims = DataStructs.BulkTanimotoSimilarity(fp_list[i],fp_list[:i])\n",
        "        dists.extend([1-x for x in sims])\n",
        "    mol_clusters = Butina.ClusterData(dists,nfps,cutoff,isDistData=True)\n",
        "    cluster_id_list = [0]*nfps\n",
        "    for idx,cluster in enumerate(mol_clusters,1):\n",
        "        for member in cluster:\n",
        "            cluster_id_list[member] = idx\n",
        "    return cluster_id_list"
      ],
      "execution_count": 157,
      "outputs": []
    },
    {
      "cell_type": "markdown",
      "metadata": {
        "id": "-vjXYwTeNoMQ"
      },
      "source": [
        "\n",
        "Before clustering, we will create a new dataframe with only the top 100 scoring molecules. Since combo_df is already sorted, we only have to use the \"head\" function to select the first 100 rows in the dataframe."
      ]
    },
    {
      "cell_type": "code",
      "metadata": {
        "id": "xVOFkxaONpNs"
      },
      "source": [
        "best_100_df = combo_df.head(100).copy()"
      ],
      "execution_count": 158,
      "outputs": []
    },
    {
      "cell_type": "markdown",
      "metadata": {
        "id": "wgZenYL3NsSW"
      },
      "source": [
        "\n",
        "We can then create a new column containing the cluster identifier for each compound."
      ]
    },
    {
      "cell_type": "code",
      "metadata": {
        "id": "LRLgCCQ2NuP4",
        "outputId": "47af83f7-6bb4-4b53-fc7c-25d393acc640",
        "colab": {
          "base_uri": "https://localhost:8080/",
          "height": 1000
        }
      },
      "source": [
        "best_100_df[\"Cluster\"] = butina_cluster(best_100_df.Mol)\n",
        "\n",
        "best_100_df.head()"
      ],
      "execution_count": 159,
      "outputs": [
        {
          "output_type": "execute_result",
          "data": {
            "text/html": [
              "<div>\n",
              "<style scoped>\n",
              "    .dataframe tbody tr th:only-of-type {\n",
              "        vertical-align: middle;\n",
              "    }\n",
              "\n",
              "    .dataframe tbody tr th {\n",
              "        vertical-align: top;\n",
              "    }\n",
              "\n",
              "    .dataframe thead th {\n",
              "        text-align: right;\n",
              "    }\n",
              "</style>\n",
              "<table border=\"1\" class=\"dataframe\">\n",
              "  <thead>\n",
              "    <tr style=\"text-align: right;\">\n",
              "      <th></th>\n",
              "      <th>SMILES</th>\n",
              "      <th>Name</th>\n",
              "      <th>Val</th>\n",
              "      <th>Neg</th>\n",
              "      <th>Pos</th>\n",
              "      <th>Mol</th>\n",
              "      <th>Cluster</th>\n",
              "    </tr>\n",
              "  </thead>\n",
              "  <tbody>\n",
              "    <tr>\n",
              "      <th>1127</th>\n",
              "      <td>CNC(=O)c1cn([C@@H]2O[C@@H](CO)[C@@H](O)[C@@H]2...</td>\n",
              "      <td>ZINC000004824758</td>\n",
              "      <td>0</td>\n",
              "      <td>0.116854</td>\n",
              "      <td>0.883146</td>\n",
              "      <td><img data-content=\"rdkit/molecule\" src=\"data:image/png;base64,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\" alt=\"Mol\"/></td>\n",
              "      <td>2</td>\n",
              "    </tr>\n",
              "    <tr>\n",
              "      <th>1126</th>\n",
              "      <td>CNC(=O)c1cn([C@H]2O[C@@H](CO)[C@@H](O)[C@@H]2O...</td>\n",
              "      <td>ZINC000004824757</td>\n",
              "      <td>0</td>\n",
              "      <td>0.116854</td>\n",
              "      <td>0.883146</td>\n",
              "      <td><img data-content=\"rdkit/molecule\" src=\"data:image/png;base64,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\" alt=\"Mol\"/></td>\n",
              "      <td>2</td>\n",
              "    </tr>\n",
              "    <tr>\n",
              "      <th>1125</th>\n",
              "      <td>CNC(=O)c1cn([C@@H]2O[C@@H](CO)[C@@H](O)[C@H]2O...</td>\n",
              "      <td>ZINC000004824756</td>\n",
              "      <td>0</td>\n",
              "      <td>0.116854</td>\n",
              "      <td>0.883146</td>\n",
              "      <td><img data-content=\"rdkit/molecule\" src=\"data:image/png;base64,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\" alt=\"Mol\"/></td>\n",
              "      <td>2</td>\n",
              "    </tr>\n",
              "    <tr>\n",
              "      <th>1124</th>\n",
              "      <td>CNC(=O)c1cn([C@H]2O[C@@H](CO)[C@@H](O)[C@H]2O)...</td>\n",
              "      <td>ZINC000004824755</td>\n",
              "      <td>0</td>\n",
              "      <td>0.116854</td>\n",
              "      <td>0.883146</td>\n",
              "      <td><img data-content=\"rdkit/molecule\" src=\"data:image/png;base64,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\" alt=\"Mol\"/></td>\n",
              "      <td>2</td>\n",
              "    </tr>\n",
              "    <tr>\n",
              "      <th>1023</th>\n",
              "      <td>OCCNc1ncnc2c1ncn2[C@H]1O[C@@H](CO)[C@@H](O)[C@...</td>\n",
              "      <td>ZINC000001685071</td>\n",
              "      <td>0</td>\n",
              "      <td>0.144789</td>\n",
              "      <td>0.855211</td>\n",
              "      <td><img data-content=\"rdkit/molecule\" src=\"data:image/png;base64,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\" alt=\"Mol\"/></td>\n",
              "      <td>5</td>\n",
              "    </tr>\n",
              "  </tbody>\n",
              "</table>\n",
              "</div>"
            ],
            "text/plain": [
              "                                                 SMILES  ... Cluster\n",
              "1127  CNC(=O)c1cn([C@@H]2O[C@@H](CO)[C@@H](O)[C@@H]2...  ...       2\n",
              "1126  CNC(=O)c1cn([C@H]2O[C@@H](CO)[C@@H](O)[C@@H]2O...  ...       2\n",
              "1125  CNC(=O)c1cn([C@@H]2O[C@@H](CO)[C@@H](O)[C@H]2O...  ...       2\n",
              "1124  CNC(=O)c1cn([C@H]2O[C@@H](CO)[C@@H](O)[C@H]2O)...  ...       2\n",
              "1023  OCCNc1ncnc2c1ncn2[C@H]1O[C@@H](CO)[C@@H](O)[C@...  ...       5\n",
              "\n",
              "[5 rows x 7 columns]"
            ]
          },
          "metadata": {
            "tags": []
          },
          "execution_count": 159
        }
      ]
    },
    {
      "cell_type": "markdown",
      "metadata": {
        "id": "_uZtA8YON63L"
      },
      "source": [
        "We can use the \"unique\" function to determine how many unique clusters we have."
      ]
    },
    {
      "cell_type": "code",
      "metadata": {
        "id": "HXJKDGN9Nv2Y",
        "outputId": "d935b588-5166-41e0-a766-e112a8b308cb",
        "colab": {
          "base_uri": "https://localhost:8080/"
        }
      },
      "source": [
        "len(best_100_df.Cluster.unique())"
      ],
      "execution_count": 160,
      "outputs": [
        {
          "output_type": "execute_result",
          "data": {
            "text/plain": [
              "44"
            ]
          },
          "metadata": {
            "tags": []
          },
          "execution_count": 160
        }
      ]
    }
  ]
}