{
  "nbformat": 4,
  "nbformat_minor": 0,
  "metadata": {
    "colab": {
      "name": " The Best Machine Learning Algorithm.ipynb",
      "provenance": [],
      "collapsed_sections": [],
      "authorship_tag": "ABX9TyOwghJQ1Fh10xa1UT95XMAF",
      "include_colab_link": true
    },
    "kernelspec": {
      "name": "python3",
      "display_name": "Python 3"
    }
  },
  "cells": [
    {
      "cell_type": "markdown",
      "metadata": {
        "id": "view-in-github",
        "colab_type": "text"
      },
      "source": [
        "<a href=\"https://colab.research.google.com/github/Gabriele90/Biohacker90/blob/main/The_Best_Machine_Learning_Algorithm.ipynb\" target=\"_parent\"><img src=\"https://colab.research.google.com/assets/colab-badge.svg\" alt=\"Open In Colab\"/></a>"
      ]
    },
    {
      "cell_type": "markdown",
      "metadata": {
        "id": "tRn5I2b-A_XC"
      },
      "source": [
        "**How To Choose The Best Machine Learning Algorithm For A Particular Problem**\n",
        "\n",
        "Choosing the right algorithm is linked up with the problem statement. It can save both money and time. So, it is important to know what type of problem we are dealing with. \n",
        "\n",
        "In this article, we will be discussing the key techniques that can be used to choose the right machine algorithm in a particular work. Through this article, we will discuss how we can decide to use which machine learning model using the plotting of dataset properties. We will also discuss how the size of the dataset can be a considerable measure in choosing a machine learning algorithm."
      ]
    },
    {
      "cell_type": "markdown",
      "metadata": {
        "id": "iXLdgAr6BPsd"
      },
      "source": [
        "**Visualization of Data**\n",
        "\n",
        "First of all, we will import the required libraries."
      ]
    },
    {
      "cell_type": "code",
      "metadata": {
        "id": "8RsGfRqR88_S"
      },
      "source": [
        "import pandas as pd\n",
        "import numpy as np\n",
        "import matplotlib.pyplot as plt\n",
        "import seaborn as sb"
      ],
      "execution_count": 1,
      "outputs": []
    },
    {
      "cell_type": "code",
      "metadata": {
        "id": "QS8w6eKw9Egr",
        "outputId": "b3a00be8-3941-44a5-ac2b-1247015e9e87",
        "colab": {
          "base_uri": "https://localhost:8080/",
          "height": 257
        }
      },
      "source": [
        "df = pd.read_csv(\"proteinase_bioactivity_data_3class_pIC50.csv\")\n",
        "df.head(5)"
      ],
      "execution_count": 3,
      "outputs": [
        {
          "output_type": "execute_result",
          "data": {
            "text/html": [
              "<div>\n",
              "<style scoped>\n",
              "    .dataframe tbody tr th:only-of-type {\n",
              "        vertical-align: middle;\n",
              "    }\n",
              "\n",
              "    .dataframe tbody tr th {\n",
              "        vertical-align: top;\n",
              "    }\n",
              "\n",
              "    .dataframe thead th {\n",
              "        text-align: right;\n",
              "    }\n",
              "</style>\n",
              "<table border=\"1\" class=\"dataframe\">\n",
              "  <thead>\n",
              "    <tr style=\"text-align: right;\">\n",
              "      <th></th>\n",
              "      <th>Unnamed: 0</th>\n",
              "      <th>molecule_chembl_id</th>\n",
              "      <th>canonical_smiles</th>\n",
              "      <th>class</th>\n",
              "      <th>MW</th>\n",
              "      <th>LogP</th>\n",
              "      <th>NumHDonors</th>\n",
              "      <th>NumHAcceptors</th>\n",
              "      <th>pIC50</th>\n",
              "    </tr>\n",
              "  </thead>\n",
              "  <tbody>\n",
              "    <tr>\n",
              "      <th>0</th>\n",
              "      <td>0</td>\n",
              "      <td>CHEMBL187579</td>\n",
              "      <td>Cc1noc(C)c1CN1C(=O)C(=O)c2cc(C#N)ccc21</td>\n",
              "      <td>intermediate</td>\n",
              "      <td>281.271</td>\n",
              "      <td>1.89262</td>\n",
              "      <td>0.0</td>\n",
              "      <td>5.0</td>\n",
              "      <td>5.142668</td>\n",
              "    </tr>\n",
              "    <tr>\n",
              "      <th>1</th>\n",
              "      <td>1</td>\n",
              "      <td>CHEMBL188487</td>\n",
              "      <td>O=C1C(=O)N(Cc2ccc(F)cc2Cl)c2ccc(I)cc21</td>\n",
              "      <td>intermediate</td>\n",
              "      <td>415.589</td>\n",
              "      <td>3.81320</td>\n",
              "      <td>0.0</td>\n",
              "      <td>2.0</td>\n",
              "      <td>5.026872</td>\n",
              "    </tr>\n",
              "    <tr>\n",
              "      <th>2</th>\n",
              "      <td>2</td>\n",
              "      <td>CHEMBL185698</td>\n",
              "      <td>O=C1C(=O)N(CC2COc3ccccc3O2)c2ccc(I)cc21</td>\n",
              "      <td>inactive</td>\n",
              "      <td>421.190</td>\n",
              "      <td>2.66050</td>\n",
              "      <td>0.0</td>\n",
              "      <td>4.0</td>\n",
              "      <td>4.869666</td>\n",
              "    </tr>\n",
              "    <tr>\n",
              "      <th>3</th>\n",
              "      <td>3</td>\n",
              "      <td>CHEMBL426082</td>\n",
              "      <td>O=C1C(=O)N(Cc2cc3ccccc3s2)c2ccccc21</td>\n",
              "      <td>inactive</td>\n",
              "      <td>293.347</td>\n",
              "      <td>3.63080</td>\n",
              "      <td>0.0</td>\n",
              "      <td>3.0</td>\n",
              "      <td>4.882397</td>\n",
              "    </tr>\n",
              "    <tr>\n",
              "      <th>4</th>\n",
              "      <td>4</td>\n",
              "      <td>CHEMBL187717</td>\n",
              "      <td>O=C1C(=O)N(Cc2cc3ccccc3s2)c2c1cccc2[N+](=O)[O-]</td>\n",
              "      <td>intermediate</td>\n",
              "      <td>338.344</td>\n",
              "      <td>3.53900</td>\n",
              "      <td>0.0</td>\n",
              "      <td>5.0</td>\n",
              "      <td>5.698970</td>\n",
              "    </tr>\n",
              "  </tbody>\n",
              "</table>\n",
              "</div>"
            ],
            "text/plain": [
              "   Unnamed: 0 molecule_chembl_id  ... NumHAcceptors     pIC50\n",
              "0           0       CHEMBL187579  ...           5.0  5.142668\n",
              "1           1       CHEMBL188487  ...           2.0  5.026872\n",
              "2           2       CHEMBL185698  ...           4.0  4.869666\n",
              "3           3       CHEMBL426082  ...           3.0  4.882397\n",
              "4           4       CHEMBL187717  ...           5.0  5.698970\n",
              "\n",
              "[5 rows x 9 columns]"
            ]
          },
          "metadata": {
            "tags": []
          },
          "execution_count": 3
        }
      ]
    },
    {
      "cell_type": "markdown",
      "metadata": {
        "id": "M4W7JIFyBXXA"
      },
      "source": [
        "**Pair Plot Method**\n",
        "\n",
        "By applying the pair plot we will be able to understand which algorithm to choose."
      ]
    },
    {
      "cell_type": "code",
      "metadata": {
        "id": "ZLiSdnxv-odR",
        "outputId": "e57f4cc5-2eff-489a-9dd3-bd0782536bb0",
        "colab": {
          "base_uri": "https://localhost:8080/",
          "height": 673
        }
      },
      "source": [
        "sb.pairplot(data=df[['class' ,'MW','LogP', 'pIC50']], hue='class', dropna=True, height=3)"
      ],
      "execution_count": 5,
      "outputs": [
        {
          "output_type": "execute_result",
          "data": {
            "text/plain": [
              "<seaborn.axisgrid.PairGrid at 0x7f27d1359cc0>"
            ]
          },
          "metadata": {
            "tags": []
          },
          "execution_count": 5
        },
        {
          "output_type": "display_data",
          "data": {
            "image/png": "[encoded data removed]",
            "text/plain": [
              "<Figure size 748.375x648 with 12 Axes>"
            ]
          },
          "metadata": {
            "tags": [],
            "needs_background": "light"
          }
        }
      ]
    },
    {
      "cell_type": "markdown",
      "metadata": {
        "id": "v8vEDLdfBjxB"
      },
      "source": [
        "**Size of Training Data & Training Time**\n",
        "\n",
        "Import the various algorithm classifiers to check the training time of small and large dataset."
      ]
    },
    {
      "cell_type": "code",
      "metadata": {
        "id": "bIcLhUdz_GoV"
      },
      "source": [
        "from sklearn.tree import DecisionTreeClassifier \n",
        "from sklearn.model_selection import train_test_split \n",
        "from sklearn import metrics "
      ],
      "execution_count": 6,
      "outputs": []
    },
    {
      "cell_type": "code",
      "metadata": {
        "id": "jmTIQ0Lg_SkV"
      },
      "source": [
        "feature = ['MW',\t'LogP',\t'NumHDonors',\t'NumHAcceptors',\t'pIC50']\n",
        "X = df[feature] \n",
        "y = df[\"class\"]"
      ],
      "execution_count": 7,
      "outputs": []
    },
    {
      "cell_type": "markdown",
      "metadata": {
        "id": "r52oXUEMBsG1"
      },
      "source": [
        "**Split the data into train and test**\n",
        "\n",
        "Now we can proceed by applying Decision Tree, Logistic Regression, Random Forest and Support Vector Machine algorithms to check the training time for a classification problem."
      ]
    },
    {
      "cell_type": "code",
      "metadata": {
        "id": "xU4cGssb_xI8"
      },
      "source": [
        "X_train, X_test, y_train, y_test = train_test_split(X, y, test_size=0.3, random_state=1)"
      ],
      "execution_count": 8,
      "outputs": []
    },
    {
      "cell_type": "markdown",
      "metadata": {
        "id": "EGlF5nGuCAMw"
      },
      "source": [
        "Now, we will fit several machine learning models on this dataset and check the training time taken by these models."
      ]
    },
    {
      "cell_type": "code",
      "metadata": {
        "id": "b6PvscQO_2_r",
        "outputId": "591fc20d-32b6-4a50-d8ce-b8f103dadd0b",
        "colab": {
          "base_uri": "https://localhost:8080/"
        }
      },
      "source": [
        "import time\n",
        "clf = DecisionTreeClassifier()\n",
        "start = time.time()\n",
        "clf = clf.fit(X_train,y_train)\n",
        "stop = time.time()\n",
        "print(f\"Training time: {stop - start}s\")"
      ],
      "execution_count": 9,
      "outputs": [
        {
          "output_type": "stream",
          "text": [
            "Training time: 0.0027704238891601562s\n"
          ],
          "name": "stdout"
        }
      ]
    },
    {
      "cell_type": "code",
      "metadata": {
        "id": "nEzYUvAt_7sk",
        "outputId": "efbb12f1-27be-477e-996a-b372ccf9cc8e",
        "colab": {
          "base_uri": "https://localhost:8080/"
        }
      },
      "source": [
        "from sklearn.linear_model import LogisticRegression\n",
        "import time\n",
        "clf = LogisticRegression(random_state = 0) \n",
        "start = time.time()\n",
        "clf.fit(X_train,y_train) \n",
        "stop = time.time()\n",
        "print(f\"Training time: {stop - start}s\")"
      ],
      "execution_count": 10,
      "outputs": [
        {
          "output_type": "stream",
          "text": [
            "Training time: 0.04926466941833496s\n"
          ],
          "name": "stdout"
        },
        {
          "output_type": "stream",
          "text": [
            "/usr/local/lib/python3.6/dist-packages/sklearn/linear_model/_logistic.py:940: ConvergenceWarning: lbfgs failed to converge (status=1):\n",
            "STOP: TOTAL NO. of ITERATIONS REACHED LIMIT.\n",
            "\n",
            "Increase the number of iterations (max_iter) or scale the data as shown in:\n",
            "    https://scikit-learn.org/stable/modules/preprocessing.html\n",
            "Please also refer to the documentation for alternative solver options:\n",
            "    https://scikit-learn.org/stable/modules/linear_model.html#logistic-regression\n",
            "  extra_warning_msg=_LOGISTIC_SOLVER_CONVERGENCE_MSG)\n"
          ],
          "name": "stderr"
        }
      ]
    },
    {
      "cell_type": "code",
      "metadata": {
        "id": "Fe-F6YAqABkD",
        "outputId": "f0151e6f-7b9c-466c-906b-e9646a6eba11",
        "colab": {
          "base_uri": "https://localhost:8080/"
        }
      },
      "source": [
        "from sklearn.ensemble import RandomForestClassifier\n",
        "clf=RandomForestClassifier(n_estimators=100)\n",
        "start = time.time()\n",
        "clf.fit(X_train,y_train)\n",
        "stop = time.time()\n",
        "print(f\"Training time: {stop - start}s\")"
      ],
      "execution_count": 11,
      "outputs": [
        {
          "output_type": "stream",
          "text": [
            "Training time: 0.14264559745788574s\n"
          ],
          "name": "stdout"
        }
      ]
    },
    {
      "cell_type": "code",
      "metadata": {
        "id": "IcId8YOfAFaU",
        "outputId": "a1f6fd2e-9c94-4557-d6bf-a75ea7fb3a0b",
        "colab": {
          "base_uri": "https://localhost:8080/"
        }
      },
      "source": [
        "from sklearn.svm import SVC  \n",
        "clf = SVC(kernel='linear') \n",
        "start = time.time() \n",
        "# fitting x samples and y classes \n",
        "clf.fit(X_train,y_train)\n",
        "stop = time.time()\n",
        "print(f\"Training time: {stop - start}s\")"
      ],
      "execution_count": 12,
      "outputs": [
        {
          "output_type": "stream",
          "text": [
            "Training time: 0.17513179779052734s\n"
          ],
          "name": "stdout"
        }
      ]
    },
    {
      "cell_type": "markdown",
      "metadata": {
        "id": "Qbm-rR3PCTXn"
      },
      "source": [
        "**Comparing Classifiers for Building Classification Models**"
      ]
    },
    {
      "cell_type": "markdown",
      "metadata": {
        "id": "HIvwJN1LCcVx"
      },
      "source": [
        "Import modules"
      ]
    },
    {
      "cell_type": "code",
      "metadata": {
        "id": "F_1F-e2NAXfO"
      },
      "source": [
        "import pandas as pd\n",
        "\n",
        "from sklearn.neural_network import MLPClassifier\n",
        "from sklearn.neighbors import KNeighborsClassifier\n",
        "from sklearn.svm import SVC\n",
        "from sklearn.gaussian_process import GaussianProcessClassifier\n",
        "from sklearn.ensemble import GradientBoostingClassifier\n",
        "from sklearn.gaussian_process.kernels import RBF\n",
        "from sklearn.tree import DecisionTreeClassifier\n",
        "from sklearn.ensemble import ExtraTreesClassifier\n",
        "from sklearn.ensemble import RandomForestClassifier, AdaBoostClassifier\n",
        "from sklearn.naive_bayes import GaussianNB\n",
        "from sklearn.discriminant_analysis import QuadraticDiscriminantAnalysis\n",
        "from sklearn.linear_model import SGDClassifier"
      ],
      "execution_count": 13,
      "outputs": []
    },
    {
      "cell_type": "markdown",
      "metadata": {
        "id": "RIjfwxq6Cgsd"
      },
      "source": [
        "Defining learning classifiers"
      ]
    },
    {
      "cell_type": "code",
      "metadata": {
        "id": "yjD_OvsvAcwC"
      },
      "source": [
        "names = [\"Nearest_Neighbors\", \"Linear_SVM\", \"Polynomial_SVM\", \"RBF_SVM\", \"Gaussian_Process\",\n",
        "         \"Gradient_Boosting\", \"Decision_Tree\", \"Extra_Trees\", \"Random_Forest\", \"Neural_Net\", \"AdaBoost\",\n",
        "         \"Naive_Bayes\", \"QDA\", \"SGD\"]\n",
        "\n",
        "classifiers = [\n",
        "    KNeighborsClassifier(3),\n",
        "    SVC(kernel=\"linear\", C=0.025),\n",
        "    SVC(kernel=\"poly\", degree=3, C=0.025),\n",
        "    SVC(kernel=\"rbf\", C=1, gamma=2),\n",
        "    GaussianProcessClassifier(1.0 * RBF(1.0)),\n",
        "    GradientBoostingClassifier(n_estimators=100, learning_rate=1.0),\n",
        "    DecisionTreeClassifier(max_depth=5),\n",
        "    ExtraTreesClassifier(n_estimators=10, min_samples_split=2),\n",
        "    RandomForestClassifier(max_depth=5, n_estimators=100),\n",
        "    MLPClassifier(alpha=1, max_iter=1000),\n",
        "    AdaBoostClassifier(n_estimators=100),\n",
        "    GaussianNB(),\n",
        "    QuadraticDiscriminantAnalysis(),\n",
        "    SGDClassifier(loss=\"hinge\", penalty=\"l2\")]"
      ],
      "execution_count": 14,
      "outputs": []
    },
    {
      "cell_type": "markdown",
      "metadata": {
        "id": "ZcHN4suUCj7N"
      },
      "source": [
        "Build Model, Apply Model on Test Data & Record Accuracy Score"
      ]
    },
    {
      "cell_type": "code",
      "metadata": {
        "id": "LusZByPRAfB8"
      },
      "source": [
        "scores = []\n",
        "for name, clf in zip(names, classifiers):\n",
        "    clf.fit(X_train, y_train)\n",
        "    score = clf.score(X_test, y_test)\n",
        "    scores.append(score)"
      ],
      "execution_count": 17,
      "outputs": []
    },
    {
      "cell_type": "code",
      "metadata": {
        "id": "HRv6_Ma2ApCY",
        "outputId": "e56f9994-fef5-4611-b643-2d333a8097ad",
        "colab": {
          "base_uri": "https://localhost:8080/"
        }
      },
      "source": [
        "scores"
      ],
      "execution_count": 18,
      "outputs": [
        {
          "output_type": "execute_result",
          "data": {
            "text/plain": [
              "[0.8,\n",
              " 0.85,\n",
              " 0.825,\n",
              " 0.825,\n",
              " 0.825,\n",
              " 1.0,\n",
              " 1.0,\n",
              " 0.95,\n",
              " 1.0,\n",
              " 0.825,\n",
              " 1.0,\n",
              " 0.925,\n",
              " 0.85,\n",
              " 0.825]"
            ]
          },
          "metadata": {
            "tags": []
          },
          "execution_count": 18
        }
      ]
    },
    {
      "cell_type": "markdown",
      "metadata": {
        "id": "z8OQEaFzC2j9"
      },
      "source": [
        "Analysis of Model Performance"
      ]
    },
    {
      "cell_type": "code",
      "metadata": {
        "id": "NbhBLqYOAsnU"
      },
      "source": [
        "import pandas as pd\n",
        "import seaborn as sns"
      ],
      "execution_count": 19,
      "outputs": []
    },
    {
      "cell_type": "code",
      "metadata": {
        "id": "sb1eePE2AvZS",
        "outputId": "afe1ad3b-58df-4a25-a6f0-96eebbc7dee2",
        "colab": {
          "base_uri": "https://localhost:8080/",
          "height": 478
        }
      },
      "source": [
        "df = pd.DataFrame()\n",
        "df['name'] = names\n",
        "df['score'] = scores\n",
        "df"
      ],
      "execution_count": 20,
      "outputs": [
        {
          "output_type": "execute_result",
          "data": {
            "text/html": [
              "<div>\n",
              "<style scoped>\n",
              "    .dataframe tbody tr th:only-of-type {\n",
              "        vertical-align: middle;\n",
              "    }\n",
              "\n",
              "    .dataframe tbody tr th {\n",
              "        vertical-align: top;\n",
              "    }\n",
              "\n",
              "    .dataframe thead th {\n",
              "        text-align: right;\n",
              "    }\n",
              "</style>\n",
              "<table border=\"1\" class=\"dataframe\">\n",
              "  <thead>\n",
              "    <tr style=\"text-align: right;\">\n",
              "      <th></th>\n",
              "      <th>name</th>\n",
              "      <th>score</th>\n",
              "    </tr>\n",
              "  </thead>\n",
              "  <tbody>\n",
              "    <tr>\n",
              "      <th>0</th>\n",
              "      <td>Nearest_Neighbors</td>\n",
              "      <td>0.800</td>\n",
              "    </tr>\n",
              "    <tr>\n",
              "      <th>1</th>\n",
              "      <td>Linear_SVM</td>\n",
              "      <td>0.850</td>\n",
              "    </tr>\n",
              "    <tr>\n",
              "      <th>2</th>\n",
              "      <td>Polynomial_SVM</td>\n",
              "      <td>0.825</td>\n",
              "    </tr>\n",
              "    <tr>\n",
              "      <th>3</th>\n",
              "      <td>RBF_SVM</td>\n",
              "      <td>0.825</td>\n",
              "    </tr>\n",
              "    <tr>\n",
              "      <th>4</th>\n",
              "      <td>Gaussian_Process</td>\n",
              "      <td>0.825</td>\n",
              "    </tr>\n",
              "    <tr>\n",
              "      <th>5</th>\n",
              "      <td>Gradient_Boosting</td>\n",
              "      <td>1.000</td>\n",
              "    </tr>\n",
              "    <tr>\n",
              "      <th>6</th>\n",
              "      <td>Decision_Tree</td>\n",
              "      <td>1.000</td>\n",
              "    </tr>\n",
              "    <tr>\n",
              "      <th>7</th>\n",
              "      <td>Extra_Trees</td>\n",
              "      <td>0.950</td>\n",
              "    </tr>\n",
              "    <tr>\n",
              "      <th>8</th>\n",
              "      <td>Random_Forest</td>\n",
              "      <td>1.000</td>\n",
              "    </tr>\n",
              "    <tr>\n",
              "      <th>9</th>\n",
              "      <td>Neural_Net</td>\n",
              "      <td>0.825</td>\n",
              "    </tr>\n",
              "    <tr>\n",
              "      <th>10</th>\n",
              "      <td>AdaBoost</td>\n",
              "      <td>1.000</td>\n",
              "    </tr>\n",
              "    <tr>\n",
              "      <th>11</th>\n",
              "      <td>Naive_Bayes</td>\n",
              "      <td>0.925</td>\n",
              "    </tr>\n",
              "    <tr>\n",
              "      <th>12</th>\n",
              "      <td>QDA</td>\n",
              "      <td>0.850</td>\n",
              "    </tr>\n",
              "    <tr>\n",
              "      <th>13</th>\n",
              "      <td>SGD</td>\n",
              "      <td>0.825</td>\n",
              "    </tr>\n",
              "  </tbody>\n",
              "</table>\n",
              "</div>"
            ],
            "text/plain": [
              "                 name  score\n",
              "0   Nearest_Neighbors  0.800\n",
              "1          Linear_SVM  0.850\n",
              "2      Polynomial_SVM  0.825\n",
              "3             RBF_SVM  0.825\n",
              "4    Gaussian_Process  0.825\n",
              "5   Gradient_Boosting  1.000\n",
              "6       Decision_Tree  1.000\n",
              "7         Extra_Trees  0.950\n",
              "8       Random_Forest  1.000\n",
              "9          Neural_Net  0.825\n",
              "10           AdaBoost  1.000\n",
              "11        Naive_Bayes  0.925\n",
              "12                QDA  0.850\n",
              "13                SGD  0.825"
            ]
          },
          "metadata": {
            "tags": []
          },
          "execution_count": 20
        }
      ]
    },
    {
      "cell_type": "code",
      "metadata": {
        "id": "N35UeRkyAx0J",
        "outputId": "bbf16b6e-a286-4818-b040-505393288bf5",
        "colab": {
          "base_uri": "https://localhost:8080/",
          "height": 329
        }
      },
      "source": [
        "cm = sns.light_palette(\"red\", as_cmap=True)\n",
        "s = df.style.background_gradient(cmap=cm)\n",
        "s"
      ],
      "execution_count": 23,
      "outputs": [
        {
          "output_type": "execute_result",
          "data": {
            "text/html": [
              "<style  type=\"text/css\" >\n",
              "#T_7e945b1c_276b_11eb_bda2_0242ac1c0002row0_col1{\n",
              "            background-color:  #f3f0f0;\n",
              "            color:  #000000;\n",
              "        }#T_7e945b1c_276b_11eb_bda2_0242ac1c0002row1_col1,#T_7e945b1c_276b_11eb_bda2_0242ac1c0002row12_col1{\n",
              "            background-color:  #f6b5b5;\n",
              "            color:  #000000;\n",
              "        }#T_7e945b1c_276b_11eb_bda2_0242ac1c0002row2_col1,#T_7e945b1c_276b_11eb_bda2_0242ac1c0002row3_col1,#T_7e945b1c_276b_11eb_bda2_0242ac1c0002row4_col1,#T_7e945b1c_276b_11eb_bda2_0242ac1c0002row9_col1,#T_7e945b1c_276b_11eb_bda2_0242ac1c0002row13_col1{\n",
              "            background-color:  #f4d3d3;\n",
              "            color:  #000000;\n",
              "        }#T_7e945b1c_276b_11eb_bda2_0242ac1c0002row5_col1,#T_7e945b1c_276b_11eb_bda2_0242ac1c0002row6_col1,#T_7e945b1c_276b_11eb_bda2_0242ac1c0002row8_col1,#T_7e945b1c_276b_11eb_bda2_0242ac1c0002row10_col1{\n",
              "            background-color:  #ff0000;\n",
              "            color:  #f1f1f1;\n",
              "        }#T_7e945b1c_276b_11eb_bda2_0242ac1c0002row7_col1{\n",
              "            background-color:  #fc3c3c;\n",
              "            color:  #f1f1f1;\n",
              "        }#T_7e945b1c_276b_11eb_bda2_0242ac1c0002row11_col1{\n",
              "            background-color:  #fa5959;\n",
              "            color:  #000000;\n",
              "        }</style><table id=\"T_7e945b1c_276b_11eb_bda2_0242ac1c0002\" ><thead>    <tr>        <th class=\"blank level0\" ></th>        <th class=\"col_heading level0 col0\" >name</th>        <th class=\"col_heading level0 col1\" >score</th>    </tr></thead><tbody>\n",
              "                <tr>\n",
              "                        <th id=\"T_7e945b1c_276b_11eb_bda2_0242ac1c0002level0_row0\" class=\"row_heading level0 row0\" >0</th>\n",
              "                        <td id=\"T_7e945b1c_276b_11eb_bda2_0242ac1c0002row0_col0\" class=\"data row0 col0\" >Nearest_Neighbors</td>\n",
              "                        <td id=\"T_7e945b1c_276b_11eb_bda2_0242ac1c0002row0_col1\" class=\"data row0 col1\" >0.800000</td>\n",
              "            </tr>\n",
              "            <tr>\n",
              "                        <th id=\"T_7e945b1c_276b_11eb_bda2_0242ac1c0002level0_row1\" class=\"row_heading level0 row1\" >1</th>\n",
              "                        <td id=\"T_7e945b1c_276b_11eb_bda2_0242ac1c0002row1_col0\" class=\"data row1 col0\" >Linear_SVM</td>\n",
              "                        <td id=\"T_7e945b1c_276b_11eb_bda2_0242ac1c0002row1_col1\" class=\"data row1 col1\" >0.850000</td>\n",
              "            </tr>\n",
              "            <tr>\n",
              "                        <th id=\"T_7e945b1c_276b_11eb_bda2_0242ac1c0002level0_row2\" class=\"row_heading level0 row2\" >2</th>\n",
              "                        <td id=\"T_7e945b1c_276b_11eb_bda2_0242ac1c0002row2_col0\" class=\"data row2 col0\" >Polynomial_SVM</td>\n",
              "                        <td id=\"T_7e945b1c_276b_11eb_bda2_0242ac1c0002row2_col1\" class=\"data row2 col1\" >0.825000</td>\n",
              "            </tr>\n",
              "            <tr>\n",
              "                        <th id=\"T_7e945b1c_276b_11eb_bda2_0242ac1c0002level0_row3\" class=\"row_heading level0 row3\" >3</th>\n",
              "                        <td id=\"T_7e945b1c_276b_11eb_bda2_0242ac1c0002row3_col0\" class=\"data row3 col0\" >RBF_SVM</td>\n",
              "                        <td id=\"T_7e945b1c_276b_11eb_bda2_0242ac1c0002row3_col1\" class=\"data row3 col1\" >0.825000</td>\n",
              "            </tr>\n",
              "            <tr>\n",
              "                        <th id=\"T_7e945b1c_276b_11eb_bda2_0242ac1c0002level0_row4\" class=\"row_heading level0 row4\" >4</th>\n",
              "                        <td id=\"T_7e945b1c_276b_11eb_bda2_0242ac1c0002row4_col0\" class=\"data row4 col0\" >Gaussian_Process</td>\n",
              "                        <td id=\"T_7e945b1c_276b_11eb_bda2_0242ac1c0002row4_col1\" class=\"data row4 col1\" >0.825000</td>\n",
              "            </tr>\n",
              "            <tr>\n",
              "                        <th id=\"T_7e945b1c_276b_11eb_bda2_0242ac1c0002level0_row5\" class=\"row_heading level0 row5\" >5</th>\n",
              "                        <td id=\"T_7e945b1c_276b_11eb_bda2_0242ac1c0002row5_col0\" class=\"data row5 col0\" >Gradient_Boosting</td>\n",
              "                        <td id=\"T_7e945b1c_276b_11eb_bda2_0242ac1c0002row5_col1\" class=\"data row5 col1\" >1.000000</td>\n",
              "            </tr>\n",
              "            <tr>\n",
              "                        <th id=\"T_7e945b1c_276b_11eb_bda2_0242ac1c0002level0_row6\" class=\"row_heading level0 row6\" >6</th>\n",
              "                        <td id=\"T_7e945b1c_276b_11eb_bda2_0242ac1c0002row6_col0\" class=\"data row6 col0\" >Decision_Tree</td>\n",
              "                        <td id=\"T_7e945b1c_276b_11eb_bda2_0242ac1c0002row6_col1\" class=\"data row6 col1\" >1.000000</td>\n",
              "            </tr>\n",
              "            <tr>\n",
              "                        <th id=\"T_7e945b1c_276b_11eb_bda2_0242ac1c0002level0_row7\" class=\"row_heading level0 row7\" >7</th>\n",
              "                        <td id=\"T_7e945b1c_276b_11eb_bda2_0242ac1c0002row7_col0\" class=\"data row7 col0\" >Extra_Trees</td>\n",
              "                        <td id=\"T_7e945b1c_276b_11eb_bda2_0242ac1c0002row7_col1\" class=\"data row7 col1\" >0.950000</td>\n",
              "            </tr>\n",
              "            <tr>\n",
              "                        <th id=\"T_7e945b1c_276b_11eb_bda2_0242ac1c0002level0_row8\" class=\"row_heading level0 row8\" >8</th>\n",
              "                        <td id=\"T_7e945b1c_276b_11eb_bda2_0242ac1c0002row8_col0\" class=\"data row8 col0\" >Random_Forest</td>\n",
              "                        <td id=\"T_7e945b1c_276b_11eb_bda2_0242ac1c0002row8_col1\" class=\"data row8 col1\" >1.000000</td>\n",
              "            </tr>\n",
              "            <tr>\n",
              "                        <th id=\"T_7e945b1c_276b_11eb_bda2_0242ac1c0002level0_row9\" class=\"row_heading level0 row9\" >9</th>\n",
              "                        <td id=\"T_7e945b1c_276b_11eb_bda2_0242ac1c0002row9_col0\" class=\"data row9 col0\" >Neural_Net</td>\n",
              "                        <td id=\"T_7e945b1c_276b_11eb_bda2_0242ac1c0002row9_col1\" class=\"data row9 col1\" >0.825000</td>\n",
              "            </tr>\n",
              "            <tr>\n",
              "                        <th id=\"T_7e945b1c_276b_11eb_bda2_0242ac1c0002level0_row10\" class=\"row_heading level0 row10\" >10</th>\n",
              "                        <td id=\"T_7e945b1c_276b_11eb_bda2_0242ac1c0002row10_col0\" class=\"data row10 col0\" >AdaBoost</td>\n",
              "                        <td id=\"T_7e945b1c_276b_11eb_bda2_0242ac1c0002row10_col1\" class=\"data row10 col1\" >1.000000</td>\n",
              "            </tr>\n",
              "            <tr>\n",
              "                        <th id=\"T_7e945b1c_276b_11eb_bda2_0242ac1c0002level0_row11\" class=\"row_heading level0 row11\" >11</th>\n",
              "                        <td id=\"T_7e945b1c_276b_11eb_bda2_0242ac1c0002row11_col0\" class=\"data row11 col0\" >Naive_Bayes</td>\n",
              "                        <td id=\"T_7e945b1c_276b_11eb_bda2_0242ac1c0002row11_col1\" class=\"data row11 col1\" >0.925000</td>\n",
              "            </tr>\n",
              "            <tr>\n",
              "                        <th id=\"T_7e945b1c_276b_11eb_bda2_0242ac1c0002level0_row12\" class=\"row_heading level0 row12\" >12</th>\n",
              "                        <td id=\"T_7e945b1c_276b_11eb_bda2_0242ac1c0002row12_col0\" class=\"data row12 col0\" >QDA</td>\n",
              "                        <td id=\"T_7e945b1c_276b_11eb_bda2_0242ac1c0002row12_col1\" class=\"data row12 col1\" >0.850000</td>\n",
              "            </tr>\n",
              "            <tr>\n",
              "                        <th id=\"T_7e945b1c_276b_11eb_bda2_0242ac1c0002level0_row13\" class=\"row_heading level0 row13\" >13</th>\n",
              "                        <td id=\"T_7e945b1c_276b_11eb_bda2_0242ac1c0002row13_col0\" class=\"data row13 col0\" >SGD</td>\n",
              "                        <td id=\"T_7e945b1c_276b_11eb_bda2_0242ac1c0002row13_col1\" class=\"data row13 col1\" >0.825000</td>\n",
              "            </tr>\n",
              "    </tbody></table>"
            ],
            "text/plain": [
              "<pandas.io.formats.style.Styler at 0x7f27c5981860>"
            ]
          },
          "metadata": {
            "tags": []
          },
          "execution_count": 23
        }
      ]
    },
    {
      "cell_type": "markdown",
      "metadata": {
        "id": "4otOWeaNC8Mt"
      },
      "source": [
        "Bar plot of model performanc"
      ]
    },
    {
      "cell_type": "code",
      "metadata": {
        "id": "2JmRWq51A1Dv",
        "outputId": "4d402c22-7f51-4afc-a953-45ec6e16d569",
        "colab": {
          "base_uri": "https://localhost:8080/",
          "height": 285
        }
      },
      "source": [
        "sns.set(style=\"whitegrid\")\n",
        "ax = sns.barplot(y=\"name\", x=\"score\", data=df)"
      ],
      "execution_count": 22,
      "outputs": [
        {
          "output_type": "display_data",
          "data": {
            "image/png": "[encoded data removed]",
            "text/plain": [
              "<Figure size 432x288 with 1 Axes>"
            ]
          },
          "metadata": {
            "tags": []
          }
        }
      ]
    }
  ]
}