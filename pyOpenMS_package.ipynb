{
  "nbformat": 4,
  "nbformat_minor": 0,
  "metadata": {
    "colab": {
      "name": "pyOpenMS package.ipynb",
      "provenance": [],
      "collapsed_sections": [],
      "authorship_tag": "ABX9TyNaAV20nN0xlvIJmqm72/4w",
      "include_colab_link": true
    },
    "kernelspec": {
      "name": "python3",
      "display_name": "Python 3"
    }
  },
  "cells": [
    {
      "cell_type": "markdown",
      "metadata": {
        "id": "view-in-github",
        "colab_type": "text"
      },
      "source": [
        "<a href=\"https://colab.research.google.com/github/Gabriele90/ML-for-the-life-sciences-/blob/main/pyOpenMS_package.ipynb\" target=\"_parent\"><img src=\"https://colab.research.google.com/assets/colab-badge.svg\" alt=\"Open In Colab\"/></a>"
      ]
    },
    {
      "cell_type": "markdown",
      "metadata": {
        "id": "r5fyUB6Z5J8G"
      },
      "source": [
        "**ML IN PROTEOMICS**\r\n",
        "\r\n",
        "Computing and data analysis in mass spectrometry is very diverse and in many cases must be tailored to a specific experiment. Often, multiple analysis steps have to be performed (identification,quantification, post-translational modification analysis, filtering, FDR analysis etc.) in an analysis pipeline, which requires high flexibility in the analysis.\r\n",
        "Here, we will describe data analysis with Python using the pyOpenMS package."
      ]
    },
    {
      "cell_type": "markdown",
      "metadata": {
        "id": "0oisBOiS5XOx"
      },
      "source": [
        "*Installation*"
      ]
    },
    {
      "cell_type": "code",
      "metadata": {
        "colab": {
          "base_uri": "https://localhost:8080/"
        },
        "id": "yqyj4TqH17Oz",
        "outputId": "434c3fed-aed6-45c5-c75c-3ff14160ace3"
      },
      "source": [
        "!pip install pyopenms"
      ],
      "execution_count": 25,
      "outputs": [
        {
          "output_type": "stream",
          "text": [
            "Requirement already satisfied: pyopenms in /usr/local/lib/python3.6/dist-packages (2.6.0)\n",
            "Requirement already satisfied: numpy in /usr/local/lib/python3.6/dist-packages (from pyopenms) (1.18.5)\n"
          ],
          "name": "stdout"
        }
      ]
    },
    {
      "cell_type": "code",
      "metadata": {
        "id": "EOVccGCd2pH5"
      },
      "source": [
        "import pyopenms"
      ],
      "execution_count": 26,
      "outputs": []
    },
    {
      "cell_type": "markdown",
      "metadata": {
        "id": "CI_U0FAD5dS2"
      },
      "source": [
        "*Getting started*"
      ]
    },
    {
      "cell_type": "code",
      "metadata": {
        "colab": {
          "base_uri": "https://localhost:8080/"
        },
        "id": "7vuUqzCn4JXG",
        "outputId": "f614a930-36b3-438c-920d-d29e42e13bf1"
      },
      "source": [
        "from pyopenms import *\r\n",
        "help(MSExperiment)"
      ],
      "execution_count": 27,
      "outputs": [
        {
          "output_type": "stream",
          "text": [
            "Help on class MSExperiment in module pyopenms.pyopenms_7:\n",
            "\n",
            "class MSExperiment(builtins.object)\n",
            " |  Cython implementation of _MSExperiment\n",
            " |  \n",
            " |  Documentation is available at http://www.openms.de/current_doxygen/html/classOpenMS_1_1MSExperiment.html\n",
            " |   -- Inherits from ['ExperimentalSettings', 'RangeManager2']\n",
            " |  \n",
            " |  In-Memory representation of a mass spectrometry experiment.\n",
            " |  -----\n",
            " |  Contains the data and metadata of an experiment performed with an MS (or\n",
            " |  HPLC and MS). This representation of an MS experiment is organized as list\n",
            " |  of spectra and chromatograms and provides an in-memory representation of\n",
            " |  popular mass-spectrometric file formats such as mzXML or mzML. The\n",
            " |  meta-data associated with an experiment is contained in\n",
            " |  ExperimentalSettings (by inheritance) while the raw data (as well as\n",
            " |  spectra and chromatogram level meta data) is stored in objects of type\n",
            " |  MSSpectrum and MSChromatogram, which are accessible through the getSpectrum\n",
            " |  and getChromatogram functions.\n",
            " |  -----\n",
            " |  Spectra can be accessed by direct iteration or by getSpectrum(),\n",
            " |  while chromatograms are accessed through getChromatogram().\n",
            " |  See help(ExperimentalSettings) for information about meta-data.\n",
            " |  -----\n",
            " |  Usage:\n",
            " |  exp = MSExperiment()\n",
            " |  MzMLFile().load(path_to_file, exp)\n",
            " |  for spectrum in exp:\n",
            " |  print(spectrum.size()) # prints number of peaks\n",
            " |  mz, intensities = spectrum.get_peaks()\n",
            " |  -----\n",
            " |  \n",
            " |  Methods defined here:\n",
            " |  \n",
            " |  __copy__(...)\n",
            " |  \n",
            " |  __deepcopy__(...)\n",
            " |  \n",
            " |  __delitem__(self, key, /)\n",
            " |      Delete self[key].\n",
            " |  \n",
            " |  __eq__(self, value, /)\n",
            " |      Return self==value.\n",
            " |  \n",
            " |  __ge__(self, value, /)\n",
            " |      Return self>=value.\n",
            " |  \n",
            " |  __getitem__(...)\n",
            " |      Cython signature: MSSpectrum & operator[](int)\n",
            " |  \n",
            " |  __gt__(self, value, /)\n",
            " |      Return self>value.\n",
            " |  \n",
            " |  __init__(...)\n",
            " |      - Cython signature: void MSExperiment()\n",
            " |      - Cython signature: void MSExperiment(MSExperiment &)\n",
            " |  \n",
            " |  __iter__(self, /)\n",
            " |      Implement iter(self).\n",
            " |  \n",
            " |  __le__(self, value, /)\n",
            " |      Return self<=value.\n",
            " |  \n",
            " |  __lt__(self, value, /)\n",
            " |      Return self<value.\n",
            " |  \n",
            " |  __ne__(self, value, /)\n",
            " |      Return self!=value.\n",
            " |  \n",
            " |  __new__(*args, **kwargs) from builtins.type\n",
            " |      Create and return a new object.  See help(type) for accurate signature.\n",
            " |  \n",
            " |  __reduce__ = __reduce_cython__(...)\n",
            " |  \n",
            " |  __setitem__(...)\n",
            " |      Test\n",
            " |  \n",
            " |  __setstate__ = __setstate_cython__(...)\n",
            " |  \n",
            " |  addChromatogram(...)\n",
            " |      Cython signature: void addChromatogram(MSChromatogram chromatogram)\n",
            " |  \n",
            " |  addSpectrum(...)\n",
            " |      Cython signature: void addSpectrum(MSSpectrum spec)\n",
            " |  \n",
            " |  clear(...)\n",
            " |      Cython signature: void clear(bool clear_meta_data)\n",
            " |  \n",
            " |  clearMetaDataArrays(...)\n",
            " |      Cython signature: bool clearMetaDataArrays()\n",
            " |  \n",
            " |  clearMetaInfo(...)\n",
            " |      Cython signature: void clearMetaInfo()\n",
            " |  \n",
            " |  clearRanges(...)\n",
            " |      Cython signature: void clearRanges()\n",
            " |  \n",
            " |  empty(...)\n",
            " |      Cython signature: bool empty()\n",
            " |  \n",
            " |  getChromatogram(...)\n",
            " |      Cython signature: MSChromatogram getChromatogram(size_t id_)\n",
            " |  \n",
            " |  getChromatograms(...)\n",
            " |      Cython signature: libcpp_vector[MSChromatogram] getChromatograms()\n",
            " |  \n",
            " |  getComment(...)\n",
            " |      Cython signature: String getComment()\n",
            " |  \n",
            " |  getContacts(...)\n",
            " |      Cython signature: libcpp_vector[ContactPerson] getContacts()\n",
            " |  \n",
            " |  getDateTime(...)\n",
            " |      Cython signature: DateTime getDateTime()\n",
            " |  \n",
            " |  getExperimentalSettings(...)\n",
            " |      Cython signature: ExperimentalSettings getExperimentalSettings()\n",
            " |  \n",
            " |  getFractionIdentifier(...)\n",
            " |      Cython signature: String getFractionIdentifier()\n",
            " |  \n",
            " |  getHPLC(...)\n",
            " |      Cython signature: HPLC getHPLC()\n",
            " |  \n",
            " |  getIdentifier(...)\n",
            " |      Cython signature: String getIdentifier()\n",
            " |  \n",
            " |  getInstrument(...)\n",
            " |      Cython signature: Instrument getInstrument()\n",
            " |  \n",
            " |  getKeys(...)\n",
            " |      Cython signature: void getKeys(libcpp_vector[String] & keys)\n",
            " |  \n",
            " |  getLoadedFilePath(...)\n",
            " |      Cython signature: String getLoadedFilePath()\n",
            " |  \n",
            " |  getLoadedFileType(...)\n",
            " |      Cython signature: int getLoadedFileType()\n",
            " |  \n",
            " |  getMSLevels(...)\n",
            " |  \n",
            " |  getMax(...)\n",
            " |      Cython signature: DPosition2 getMax()\n",
            " |  \n",
            " |  getMaxInt(...)\n",
            " |      Cython signature: double getMaxInt()\n",
            " |  \n",
            " |  getMaxMZ(...)\n",
            " |      Cython signature: double getMaxMZ()\n",
            " |  \n",
            " |  getMaxRT(...)\n",
            " |      Cython signature: double getMaxRT()\n",
            " |  \n",
            " |  getMetaValue(...)\n",
            " |      Cython signature: DataValue getMetaValue(String)\n",
            " |  \n",
            " |  getMin(...)\n",
            " |      Cython signature: DPosition2 getMin()\n",
            " |  \n",
            " |  getMinInt(...)\n",
            " |      Cython signature: double getMinInt()\n",
            " |  \n",
            " |  getMinMZ(...)\n",
            " |      Cython signature: double getMinMZ()\n",
            " |  \n",
            " |  getMinRT(...)\n",
            " |      Cython signature: double getMinRT()\n",
            " |  \n",
            " |  getNrChromatograms(...)\n",
            " |      Cython signature: size_t getNrChromatograms()\n",
            " |  \n",
            " |  getNrSpectra(...)\n",
            " |      Cython signature: size_t getNrSpectra()\n",
            " |  \n",
            " |  getPrimaryMSRunPath(...)\n",
            " |      Cython signature: void getPrimaryMSRunPath(StringList & toFill)\n",
            " |  \n",
            " |  getProteinIdentifications(...)\n",
            " |      Cython signature: libcpp_vector[ProteinIdentification] getProteinIdentifications()\n",
            " |  \n",
            " |  getSample(...)\n",
            " |      Cython signature: Sample getSample()\n",
            " |  \n",
            " |  getSize(...)\n",
            " |      Cython signature: unsigned long int getSize()\n",
            " |  \n",
            " |  getSourceFiles(...)\n",
            " |      Cython signature: libcpp_vector[SourceFile] getSourceFiles()\n",
            " |  \n",
            " |  getSpectra(...)\n",
            " |      Cython signature: libcpp_vector[MSSpectrum] getSpectra()\n",
            " |  \n",
            " |  getSpectrum(...)\n",
            " |      Cython signature: MSSpectrum getSpectrum(size_t id_)\n",
            " |  \n",
            " |  getTIC(...)\n",
            " |      Cython signature: MSChromatogram getTIC()\n",
            " |  \n",
            " |  isMetaEmpty(...)\n",
            " |      Cython signature: bool isMetaEmpty()\n",
            " |  \n",
            " |  isSorted(...)\n",
            " |      - Cython signature: bool isSorted(bool check_mz)\n",
            " |      - Cython signature: bool isSorted()\n",
            " |  \n",
            " |  metaRegistry(...)\n",
            " |      Cython signature: MetaInfoRegistry metaRegistry()\n",
            " |  \n",
            " |  metaValueExists(...)\n",
            " |      Cython signature: bool metaValueExists(String)\n",
            " |  \n",
            " |  removeMetaValue(...)\n",
            " |      Cython signature: void removeMetaValue(String)\n",
            " |  \n",
            " |  reserve(...)\n",
            " |      Cython signature: void reserve(size_t s)\n",
            " |  \n",
            " |  reserveSpaceChromatograms(...)\n",
            " |      Cython signature: void reserveSpaceChromatograms(size_t s)\n",
            " |  \n",
            " |  reserveSpaceSpectra(...)\n",
            " |      Cython signature: void reserveSpaceSpectra(size_t s)\n",
            " |  \n",
            " |  reset(...)\n",
            " |      Cython signature: void reset()\n",
            " |  \n",
            " |  resize(...)\n",
            " |      Cython signature: void resize(size_t s)\n",
            " |  \n",
            " |  setChromatograms(...)\n",
            " |      Cython signature: void setChromatograms(libcpp_vector[MSChromatogram] chromatograms)\n",
            " |  \n",
            " |  setComment(...)\n",
            " |      Cython signature: void setComment(String comment)\n",
            " |  \n",
            " |  setContacts(...)\n",
            " |      Cython signature: void setContacts(libcpp_vector[ContactPerson] contacts)\n",
            " |  \n",
            " |  setDateTime(...)\n",
            " |      Cython signature: void setDateTime(DateTime date_time)\n",
            " |  \n",
            " |  setFractionIdentifier(...)\n",
            " |      Cython signature: void setFractionIdentifier(String fraction_identifier)\n",
            " |  \n",
            " |  setHPLC(...)\n",
            " |      Cython signature: void setHPLC(HPLC hplc)\n",
            " |  \n",
            " |  setIdentifier(...)\n",
            " |      Cython signature: void setIdentifier(String id)\n",
            " |  \n",
            " |  setInstrument(...)\n",
            " |      Cython signature: void setInstrument(Instrument instrument)\n",
            " |  \n",
            " |  setLoadedFilePath(...)\n",
            " |      Cython signature: void setLoadedFilePath(String file_name)\n",
            " |  \n",
            " |  setLoadedFileType(...)\n",
            " |      Cython signature: void setLoadedFileType(String file_name)\n",
            " |  \n",
            " |  setMetaValue(...)\n",
            " |      Cython signature: void setMetaValue(String, DataValue)\n",
            " |  \n",
            " |  setProteinIdentifications(...)\n",
            " |      Cython signature: void setProteinIdentifications(libcpp_vector[ProteinIdentification] protein_identifications)\n",
            " |  \n",
            " |  setSample(...)\n",
            " |      Cython signature: void setSample(Sample sample)\n",
            " |  \n",
            " |  setSourceFiles(...)\n",
            " |      Cython signature: void setSourceFiles(libcpp_vector[SourceFile] source_files)\n",
            " |  \n",
            " |  setSpectra(...)\n",
            " |      Cython signature: void setSpectra(libcpp_vector[MSSpectrum] & spectra)\n",
            " |  \n",
            " |  size(...)\n",
            " |      Cython signature: int size()\n",
            " |  \n",
            " |  sortChromatograms(...)\n",
            " |      - Cython signature: void sortChromatograms(bool sort_rt)\n",
            " |      - Cython signature: void sortChromatograms()\n",
            " |  \n",
            " |  sortSpectra(...)\n",
            " |      - Cython signature: void sortSpectra(bool sort_mz)\n",
            " |      - Cython signature: void sortSpectra()\n",
            " |  \n",
            " |  swap(...)\n",
            " |      Cython signature: void swap(MSExperiment)\n",
            " |  \n",
            " |  updateRanges(...)\n",
            " |      - Cython signature: void updateRanges()\n",
            " |      - Cython signature: void updateRanges(int msLevel)\n",
            " |  \n",
            " |  ----------------------------------------------------------------------\n",
            " |  Data and other attributes defined here:\n",
            " |  \n",
            " |  __hash__ = None\n",
            "\n"
          ],
          "name": "stdout"
        }
      ]
    },
    {
      "cell_type": "markdown",
      "metadata": {
        "id": "ln5j_Bhv5nRg"
      },
      "source": [
        "pyOpenMS supports a variety of different files through the implementations in OpenMS.\r\n",
        "In order to demonstrate the capabilities of pyOpenMS to read different mass spectrometric data files, we will download two files that have been prepared for this chapter and are available from Zenodo. which will load the content of the “example.mzML” file into the exp variable of type\r\n",
        "MSExperiment. The file contains 3 spectra and 5 chromatograms, which we can see from the output of the code above."
      ]
    },
    {
      "cell_type": "code",
      "metadata": {
        "id": "ORl-LjLQ4RGT"
      },
      "source": [
        "from urllib.request import urlretrieve\r\n",
        "from pyopenms import *\r\n",
        "url = \"https://zenodo.org/record/2653155/files/\"\r\n",
        "urlretrieve (url + \"example.mzML\", \"example.mzML\")\r\n",
        "urlretrieve (url + \"search.fasta\", \"search.fasta\")\r\n",
        "exp = MSExperiment()\r\n",
        "MzMLFile().load(\"example.mzML\", exp)"
      ],
      "execution_count": 28,
      "outputs": []
    },
    {
      "cell_type": "code",
      "metadata": {
        "colab": {
          "base_uri": "https://localhost:8080/"
        },
        "id": "gS4XNMTM4gT-",
        "outputId": "c6650c2b-dc47-4761-8e7e-4253d140b923"
      },
      "source": [
        "exp.getNrSpectra()"
      ],
      "execution_count": 29,
      "outputs": [
        {
          "output_type": "execute_result",
          "data": {
            "text/plain": [
              "3"
            ]
          },
          "metadata": {
            "tags": []
          },
          "execution_count": 29
        }
      ]
    },
    {
      "cell_type": "code",
      "metadata": {
        "colab": {
          "base_uri": "https://localhost:8080/"
        },
        "id": "NA_3mLOG4iWL",
        "outputId": "d3c12c34-d684-41fb-979a-93570ddbc96d"
      },
      "source": [
        "exp.getNrChromatograms()"
      ],
      "execution_count": 30,
      "outputs": [
        {
          "output_type": "execute_result",
          "data": {
            "text/plain": [
              "5"
            ]
          },
          "metadata": {
            "tags": []
          },
          "execution_count": 30
        }
      ]
    },
    {
      "cell_type": "markdown",
      "metadata": {
        "id": "T8dmNrrw50fG"
      },
      "source": [
        "*Plotting*\r\n",
        "\r\n",
        "pyOpenMS has basic functionality to plot spectra and chromatograms, which we can now\r\n",
        "try out on our file:"
      ]
    },
    {
      "cell_type": "code",
      "metadata": {
        "id": "rDOIlJp_4mMy"
      },
      "source": [
        "from pyopenms import *\r\n",
        "exp = MSExperiment()\r\n",
        "MzMLFile().load(\"example.mzML\", exp)"
      ],
      "execution_count": 31,
      "outputs": []
    },
    {
      "cell_type": "code",
      "metadata": {
        "colab": {
          "base_uri": "https://localhost:8080/",
          "height": 279
        },
        "id": "rUlFn4wt4pUX",
        "outputId": "7c8ed34b-844b-4bdb-8a6e-fca1a6009a30"
      },
      "source": [
        "Plot.plotSpectrum(exp.getSpectrum(0))"
      ],
      "execution_count": 32,
      "outputs": [
        {
          "output_type": "display_data",
          "data": {
            "image/png": "[encoded data removed]",
            "text/plain": [
              "<Figure size 432x288 with 1 Axes>"
            ]
          },
          "metadata": {
            "tags": [],
            "needs_background": "light"
          }
        }
      ]
    },
    {
      "cell_type": "code",
      "metadata": {
        "colab": {
          "base_uri": "https://localhost:8080/",
          "height": 280
        },
        "id": "MIB6tJhi4sgX",
        "outputId": "cf84313d-05b3-490d-8d81-96410d9d0476"
      },
      "source": [
        "Plot.plotChromatogram(exp.getChromatogram(0))"
      ],
      "execution_count": 33,
      "outputs": [
        {
          "output_type": "display_data",
          "data": {
            "image/png": "[encoded data removed]",
            "text/plain": [
              "<Figure size 432x288 with 1 Axes>"
            ]
          },
          "metadata": {
            "tags": [],
            "needs_background": "light"
          }
        }
      ]
    },
    {
      "cell_type": "markdown",
      "metadata": {
        "id": "bPF1NLTz8Row"
      },
      "source": [
        "*TheoreticalSpectrumGenerator*\r\n",
        "\r\n",
        "This class implements a simple generator which generates tandem MS spectra from a given peptide charge combination. There are various options which influence the occurring ions and their intensities."
      ]
    },
    {
      "cell_type": "code",
      "metadata": {
        "id": "6-kP4ubm8bJF"
      },
      "source": [
        "tsg = TheoreticalSpectrumGenerator()\r\n",
        "spec1 = MSSpectrum()\r\n",
        "spec2 = MSSpectrum()\r\n",
        "peptide = AASequence.fromString(\"DFPIANGER\")\r\n",
        "# standard behavior is adding b- and y-ions of charge 1\r\n",
        "p = Param()\r\n",
        "p.setValue(\"add_b_ions\", \"false\")\r\n",
        "tsg.setParameters(p)\r\n",
        "tsg.getSpectrum(spec1, peptide, 1, 1)\r\n",
        "p.setValue(\"add_b_ions\", \"true\")\r\n",
        "p.setValue(\"add_a_ions\", \"true\")\r\n",
        "p.setValue(\"add_losses\", \"true\")\r\n",
        "p.setValue(\"add_metainfo\", \"true\")\r\n",
        "tsg.setParameters(p)\r\n",
        "tsg.getSpectrum(spec2, peptide, 1, 2)"
      ],
      "execution_count": 34,
      "outputs": []
    },
    {
      "cell_type": "code",
      "metadata": {
        "colab": {
          "base_uri": "https://localhost:8080/"
        },
        "id": "2Z_nEhMQ8baa",
        "outputId": "21519884-c586-4ee6-f3b0-47b549797f35"
      },
      "source": [
        "print(\"Spectrum 1 has\", spec1.size(), \"peaks.\")\r\n",
        "print(\"Spectrum 2 has\", spec2.size(), \"peaks.\")"
      ],
      "execution_count": 35,
      "outputs": [
        {
          "output_type": "stream",
          "text": [
            "Spectrum 1 has 8 peaks.\n",
            "Spectrum 2 has 146 peaks.\n"
          ],
          "name": "stdout"
        }
      ]
    },
    {
      "cell_type": "code",
      "metadata": {
        "id": "UYv8bFw48qo9"
      },
      "source": [
        ""
      ],
      "execution_count": 35,
      "outputs": []
    },
    {
      "cell_type": "code",
      "metadata": {
        "colab": {
          "base_uri": "https://localhost:8080/"
        },
        "id": "PkuhVv7_8maO",
        "outputId": "be734188-c06c-40cc-90a9-01724c872f09"
      },
      "source": [
        "for ion, peak in zip(spec2.getStringDataArrays()[0], spec2):\r\n",
        "  print(ion, peak.getMZ())"
      ],
      "execution_count": 36,
      "outputs": [
        {
          "output_type": "stream",
          "text": [
            "b'a2-H2O1++' 51.53874357842103\n",
            "b'b2-H2O1++' 65.53620107842102\n",
            "b'y1-C1H2N1O1++' 66.05629515817103\n",
            "b'y1-C1H2N2++' 67.05221565817102\n",
            "b'y1-H3N1++' 79.54984014222102\n",
            "b'y1++' 88.06311469007102\n",
            "b'a3-H2O1++' 100.06512569007103\n",
            "b'a2-H2O1+' 102.07021069007105\n",
            "b'b3-H2O1++' 114.06258319007102\n",
            "b'a2++' 118.05749819007102\n",
            "b'b2-H2O1+' 130.06512569007106\n",
            "b'y2-C1H2N1O1++' 130.57759226982103\n",
            "b'y1-C1H2N1O1+' 131.10531384957102\n",
            "b'y2-C1H2N2++' 131.573512769821\n",
            "b'b2++' 132.054955690071\n",
            "b'y1-C1H2N2+' 133.097154849571\n",
            "b'y2-H2O1++' 143.579129269821\n",
            "b'y2-H3N1++' 144.07113725387103\n",
            "b'y2++' 152.58441180172102\n",
            "b'a4-H2O1++' 156.607157865521\n",
            "b'y1-H3N1+' 158.092403817671\n",
            "b'y3-C1H2N1O1++' 159.08832431767104\n",
            "b'y3-C1H2N2++' 160.08424481767102\n",
            "b'a3++' 166.58388030172102\n",
            "b'b4-H2O1++' 170.604615365521\n",
            "b'y3-H2O1++' 172.08986131767102\n",
            "b'y3-H3N1++' 172.58186930172104\n",
            "b'y1+' 175.118952913371\n",
            "b'b3++' 180.58133780172102\n",
            "b'y3++' 181.09514384957103\n",
            "b'a5-H2O1++' 192.125714945271\n",
            "b'a3-H2O1+' 199.12297491337102\n",
            "b'b5-H2O1++' 206.123172445271\n",
            "b'y4-C1H2N1O1++' 216.10978841337104\n",
            "b'y4-C1H2N2++' 217.10570891337102\n",
            "b'a4++' 223.12591247717103\n",
            "b'b3-H2O1+' 227.11788991337102\n",
            "b'y4-H2O1++' 229.11132541337102\n",
            "b'y4-H3N1++' 229.60333339742104\n",
            "b'a2+' 235.10771991337106\n",
            "b'b4++' 237.12336997717102\n",
            "b'y4++' 238.11660794527103\n",
            "b'a6-H2O1++' 249.147179040971\n",
            "b'a6-H3N1++' 249.63918702502102\n",
            "b'y5-C1H2N1O1++' 251.62834549312103\n",
            "b'y5-C1H2N2++' 252.624265993121\n",
            "b'a5++' 258.644469556921\n",
            "b'y2-C1H2N1O1+' 260.147908072871\n",
            "b'y2-C1H2N2+' 262.139749072871\n",
            "b'b2+' 263.10263491337105\n",
            "b'b6-H2O1++' 263.144636540971\n",
            "b'b6-H3N1++' 263.636644525021\n",
            "b'y5-H2O1++' 264.62988249312104\n",
            "b'y5-H3N1++' 265.121890477171\n",
            "b'b5++' 272.641927056921\n",
            "b'y5++' 273.635165025021\n",
            "b'a7-H2O1++' 277.65791108882104\n",
            "b'a7-H3N1++' 278.149919072871\n",
            "b'y2-H2O1+' 286.150982072871\n",
            "b'y2-H3N1+' 287.134998040971\n",
            "b'b7-H2O1++' 291.65536858882103\n",
            "b'b7-H3N1++' 292.147376572871\n",
            "b'y2+' 304.161547136671\n",
            "b'y6-C1H2N1O1++' 308.170377668571\n",
            "b'y6-C1H2N2++' 309.166298168571\n",
            "b'a4-H2O1+' 312.20703926427103\n",
            "b'a6++' 315.66593365262105\n",
            "b'y3-C1H2N1O1+' 317.16937216857104\n",
            "b'y3-C1H2N2+' 319.161213168571\n",
            "b'y6-H2O1++' 321.17191466857105\n",
            "b'y6-H3N1++' 321.663922652621\n",
            "b'b6++' 329.66339115262105\n",
            "b'y6++' 330.177197200471\n",
            "b'a3+' 332.160484136671\n",
            "b'b4-H2O1+' 340.201954264271\n",
            "b'a8-H2O1++' 342.17920820047107\n",
            "b'a8-H3N1++' 342.67121618452103\n",
            "b'y3-H2O1+' 343.172446168571\n",
            "b'y3-H3N1+' 344.15646213667105\n",
            "b'a7++' 344.17666570047106\n",
            "b'b8-H2O1++' 356.17666570047106\n",
            "b'b8-H3N1++' 356.668673684521\n",
            "b'y7-C1H2N1O1++' 356.696759780221\n",
            "b'y7-C1H2N2++' 357.692680280221\n",
            "b'b7++' 358.17412320047106\n",
            "b'b3+' 360.155399136671\n",
            "b'y3+' 361.18301123237103\n",
            "b'y7-H2O1++' 369.698296780221\n",
            "b'y7-H3N1++' 370.190304764271\n",
            "b'y7++' 378.703579312121\n",
            "b'a5-H2O1+' 383.244153423771\n",
            "b'a8++' 408.6979628121211\n",
            "b'b5-H2O1+' 411.239068423771\n",
            "b'b8++' 422.6954203121211\n",
            "b'y8-C1H2N1O1++' 430.230966923771\n",
            "b'y4-C1H2N1O1+' 431.21230035997104\n",
            "b'y8-C1H2N2++' 431.226887423771\n",
            "b'y4-C1H2N2+' 433.204141359971\n",
            "b'y8-H2O1++' 443.23250392377105\n",
            "b'y8-H3N1++' 443.724511907821\n",
            "b'a4+' 445.244548487571\n",
            "b'y8++' 452.237786455671\n",
            "b'y4-H2O1+' 457.215374359971\n",
            "b'y4-H3N1+' 458.19939032807105\n",
            "b'b4+' 473.239463487571\n",
            "b'y4+' 475.225939423771\n",
            "b'a6-H2O1+' 497.2870816151711\n",
            "b'a6-H3N1+' 498.2710975832711\n",
            "b'y5-C1H2N1O1+' 502.2494145194709\n",
            "b'y5-C1H2N2+' 504.2412555194709\n",
            "b'a5+' 516.281662647071\n",
            "b'b6-H2O1+' 525.2819966151711\n",
            "b'b6-H3N1+' 526.266012583271\n",
            "b'y5-H2O1+' 528.252488519471\n",
            "b'y5-H3N1+' 529.2365044875709\n",
            "b'b5+' 544.276577647071\n",
            "b'y5+' 546.2630535832709\n",
            "b'a7-H2O1+' 554.3085457108712\n",
            "b'a7-H3N1+' 555.2925616789711\n",
            "b'b7-H2O1+' 582.3034607108711\n",
            "b'b7-H3N1+' 583.2874766789711\n",
            "b'y6-C1H2N1O1+' 615.3334788703709\n",
            "b'y6-C1H2N2+' 617.3253198703709\n",
            "b'a6+' 630.3245908384711\n",
            "b'y6-H2O1+' 641.336552870371\n",
            "b'y6-H3N1+' 642.3205688384709\n",
            "b'b6+' 658.3195058384711\n",
            "b'y6+' 659.3471179341709\n",
            "b'a8-H2O1+' 683.3511399341712\n",
            "b'a8-H3N1+' 684.3351559022711\n",
            "b'a7+' 687.3460549341711\n",
            "b'b8-H2O1+' 711.3460549341712\n",
            "b'b8-H3N1+' 712.3300709022711\n",
            "b'y7-C1H2N1O1+' 712.3862430936708\n",
            "b'y7-C1H2N2+' 714.3780840936709\n",
            "b'b7+' 715.3409699341711\n",
            "b'y7-H2O1+' 738.3893170936709\n",
            "b'y7-H3N1+' 739.3733330617708\n",
            "b'y7+' 756.3998821574709\n",
            "b'a8+' 816.388649157471\n",
            "b'b8+' 844.383564157471\n",
            "b'y8-C1H2N1O1+' 859.4546573807709\n",
            "b'y8-C1H2N2+' 861.4464983807709\n",
            "b'y8-H2O1+' 885.457731380771\n",
            "b'y8-H3N1+' 886.4417473488709\n",
            "b'y8+' 903.4682964445709\n"
          ],
          "name": "stdout"
        }
      ]
    },
    {
      "cell_type": "markdown",
      "metadata": {
        "id": "SzMI18pG87Eq"
      },
      "source": [
        "The example shows how to put peaks of a certain type, y-ions in this case, into a spectrum.\r\n",
        "Spectrum 2 is filled with a complete spectrum of all peaks (a-, b-, y-ions and losses). The TheoreticalSpectrumGenerator has many parameters which have a detailed description located in the class documentation. For the first spectrum, no b ions are added. Note how the add metainfo parameter in the second example populates the StringDataArray of the\r\n",
        "output spectrum, allowing us to iterate over annotated ions and their masses."
      ]
    },
    {
      "cell_type": "markdown",
      "metadata": {
        "id": "nC0SLAyN9Kfr"
      },
      "source": [
        "*Filtering Spectra*\r\n",
        "\r\n",
        "We will filter the “example.mzML” file by only retaining spectra that match a certain identifier:"
      ]
    },
    {
      "cell_type": "code",
      "metadata": {
        "id": "2KfvW_LX9QkV"
      },
      "source": [
        "from pyopenms import *\r\n",
        "inp = MSExperiment()\r\n",
        "MzMLFile().load(\"example.mzML\", inp)"
      ],
      "execution_count": 37,
      "outputs": []
    },
    {
      "cell_type": "code",
      "metadata": {
        "id": "AMcJSTra9WDE"
      },
      "source": [
        "e = MSExperiment()\r\n",
        "for s in inp:\r\n",
        "  if s.getNativeID().startswith(\"scan=\"):\r\n",
        "    e.addSpectrum(s)\r\n",
        "    MzMLFile().store(\"test_filtered.mzML\", e)"
      ],
      "execution_count": 38,
      "outputs": []
    },
    {
      "cell_type": "markdown",
      "metadata": {
        "id": "oIgtYkAc9cx-"
      },
      "source": [
        "*Filtering by MS level*\r\n",
        "\r\n",
        "Similarly, we can filter the example.mzML file by MS level, retaining only spectra that are not MS1 spectra (e.g. MS2, MS3 or MSn spectra):"
      ]
    },
    {
      "cell_type": "code",
      "metadata": {
        "id": "3S5hsJ5e9joE"
      },
      "source": [
        "from pyopenms import *\r\n",
        "inp = MSExperiment()\r\n",
        "MzMLFile().load(\"example.mzML\", inp)"
      ],
      "execution_count": 39,
      "outputs": []
    },
    {
      "cell_type": "code",
      "metadata": {
        "id": "PJdkbGKn9mb_"
      },
      "source": [
        "e = MSExperiment()\r\n",
        "for s in inp:\r\n",
        "  if s.getMSLevel() > 1:\r\n",
        "    e.addSpectrum(s)\r\n",
        "    MzMLFile().store(\"test_filtered.mzML\", e)"
      ],
      "execution_count": 40,
      "outputs": []
    },
    {
      "cell_type": "markdown",
      "metadata": {
        "id": "aEwC87_z9ug6"
      },
      "source": [
        "Note that we can easily replace line 7 with more complicated criteria, such as filtering by MS level and scan identifier at the same time:"
      ]
    },
    {
      "cell_type": "code",
      "metadata": {
        "id": "8vlfobIE9yl_"
      },
      "source": [
        "e = MSExperiment()\r\n",
        "for s in inp:\r\n",
        "  if s.getMSLevel() > 1 and s.getNativeID().startswith(\"scan=\"):\r\n",
        "        e.addSpectrum(s)\r\n",
        "        MzMLFile().store(\"test_filtered.mzML\", e)"
      ],
      "execution_count": 41,
      "outputs": []
    },
    {
      "cell_type": "markdown",
      "metadata": {
        "id": "Ob6hiBqV980n"
      },
      "source": [
        "*Filtering by scan number*\r\n",
        "\r\n",
        "Or we could use an external list of scan numbers to filter by scan numbers, thus only retaining MS scans in which we are interested in:"
      ]
    },
    {
      "cell_type": "code",
      "metadata": {
        "id": "O7Yg948d-E5o"
      },
      "source": [
        "from pyopenms import *\r\n",
        "inp = MSExperiment()\r\n",
        "MzMLFile().load(\"example.mzML\", inp)\r\n",
        "scan_nrs = [0, 2, 5, 7]\r\n",
        "e = MSExperiment()\r\n",
        "for k, s in enumerate(inp):\r\n",
        "  if k in scan_nrs and s.getMSLevel() == 1:\r\n",
        "    e.addSpectrum(s)\r\n",
        "    MzMLFile().store(\"test_filtered.mzML\", e)"
      ],
      "execution_count": 42,
      "outputs": []
    },
    {
      "cell_type": "markdown",
      "metadata": {
        "id": "f04_Hihn-p8M"
      },
      "source": [
        "Filtering Spectra and Peaks\r\n",
        "\r\n",
        "We can now move on to more advanced filtering, suppose we are interested in only a part\r\n",
        "of all fragment ion spectra, such as a specific m/z window. We can easily filter our data\r\n",
        "accordingly:"
      ]
    },
    {
      "cell_type": "code",
      "metadata": {
        "id": "malJiH2C-h_1"
      },
      "source": [
        "from pyopenms import *\r\n",
        "inp = MSExperiment()\r\n",
        "MzMLFile().load(\"example.mzML\", inp)"
      ],
      "execution_count": 43,
      "outputs": []
    },
    {
      "cell_type": "code",
      "metadata": {
        "id": "qAr2R_Oi-zVC"
      },
      "source": [
        "mz_start = 6.0\r\n",
        "mz_end = 12.0\r\n",
        "e = MSExperiment()\r\n",
        "for s in inp:\r\n",
        "  if s.getMSLevel() > 1:\r\n",
        "    filtered_mz = []\r\n",
        "    filtered_int = []\r\n",
        "    for mz, i in zip(*s.get_peaks()):\r\n",
        "      if mz > mz_start and mz < mz_end:\r\n",
        "        filtered_mz.append(mz)\r\n",
        "        filtered_int.append(i)"
      ],
      "execution_count": 44,
      "outputs": []
    },
    {
      "cell_type": "code",
      "metadata": {
        "id": "nUjtXl8B-6G-"
      },
      "source": [
        "s.set_peaks((filtered_mz, filtered_int))\r\n",
        "e.addSpectrum(s)"
      ],
      "execution_count": 45,
      "outputs": []
    },
    {
      "cell_type": "code",
      "metadata": {
        "id": "OM-S8DJO-86_"
      },
      "source": [
        "MzMLFile().store(\"test_filtered.mzML\", e)"
      ],
      "execution_count": 46,
      "outputs": []
    },
    {
      "cell_type": "markdown",
      "metadata": {
        "id": "KCOyVDDx_LBC"
      },
      "source": [
        "*Peptide Search*"
      ]
    },
    {
      "cell_type": "markdown",
      "metadata": {
        "id": "jbuwwu-6YbD9"
      },
      "source": [
        "In MS-based proteomics, fragment ion spectra (MS2 spectra) are often interpreted by\r\n",
        "comparing them against a theoretical set of spectra generated from a FASTA database.\r\n",
        "OpenMS contains a (simple) implementation of such a “search engine” that compares experimental\r\n",
        "spectra against theoretical spectra generated from a chemical or enzymatic digest\r\n",
        "of a proteome.\r\n",
        "In most proteomics applications, a dedicated search engine (such as Comet, Crux, Mascot,\r\n",
        "MSGFPlus, MSFragger, Myrimatch, OMSSA, SpectraST or XTandem; all of which\r\n",
        "are supported by pyOpenMS) will be used to search data. Here, we will use the internal\r\n",
        "SimpleSearchEngineAlgorithm from OpenMS used for teaching purposes. This makes it\r\n",
        "very easy to search an (experimental) mzML file against a fasta database of protein sequences:"
      ]
    },
    {
      "cell_type": "code",
      "metadata": {
        "id": "4j2Wcqq0Yoxg"
      },
      "source": [
        "from pyopenms import *"
      ],
      "execution_count": 48,
      "outputs": []
    },
    {
      "cell_type": "code",
      "metadata": {
        "id": "qDLJoc38ZS8s"
      },
      "source": [
        "from urllib.request import urlretrieve\r\n",
        "# from urllib import urlretrieve  # use this code for Python 2.x\r\n",
        "from pyopenms import *\r\n",
        "gh = \"https://raw.githubusercontent.com/OpenMS/OpenMS/develop\"\r\n",
        "urlretrieve (gh +\"/src/tests/topp/SimpleSearchEngine_1.mzML\", \"searchfile.mzML\")\r\n",
        "urlretrieve (gh +\"/src/tests/topp/SimpleSearchEngine_1.fasta\", \"search.fasta\")\r\n",
        "protein_ids = []\r\n",
        "peptide_ids = []\r\n",
        "SimpleSearchEngineAlgorithm().search(\"searchfile.mzML\", \"search.fasta\", protein_ids, peptide_ids)"
      ],
      "execution_count": 60,
      "outputs": []
    },
    {
      "cell_type": "markdown",
      "metadata": {
        "id": "u3uvQbR5cAqC"
      },
      "source": [
        "This will print search engine output including the number of peptides and proteins in\r\n",
        "the database and how many spectra were matched to peptides and proteins. We can now\r\n",
        "investigate the individual peptide spectrum matches (PSM) using Python:"
      ]
    },
    {
      "cell_type": "code",
      "metadata": {
        "colab": {
          "base_uri": "https://localhost:8080/"
        },
        "id": "M6vqKZmScERq",
        "outputId": "f90b02b6-67e2-4540-9259-fc865607106e"
      },
      "source": [
        "for peptide_id in peptide_ids:\r\n",
        "  print (35*\"=\")\r\n",
        "  print (\"Peptide ID m/z:\", peptide_id.getMZ())\r\n",
        "  print (\"Peptide ID rt:\", peptide_id.getRT())\r\n",
        "  print (\"Peptide scan index:\", peptide_id.getMetaValue(\"scan_index\"))\r\n",
        "  print (\"Peptide scan name:\", peptide_id.getMetaValue(\"scan_index\"))\r\n",
        "  print (\"Peptide ID score type:\", peptide_id.getScoreType())\r\n",
        "# PeptideHits\r\n",
        "for hit in peptide_id.getHits():\r\n",
        "  print(\" - Peptide hit rank:\", hit.getRank())\r\n",
        "  print(\" - Peptide hit charge:\", hit.getCharge())\r\n",
        "  print(\" - Peptide hit sequence:\", hit.getSequence())\r\n",
        "  z = hit.getCharge()\r\n",
        "  mz = hit.getSequence().getMonoWeight(Residue.ResidueType.Full, z) / z\r\n",
        "  print(\" - Peptide hit monoisotopic m/z:\", mz)\r\n",
        "  print(\" - Peptide ppm error:\", abs(mz - peptide_id.getMZ())/mz *10**6 )\r\n",
        "  print(\" - Peptide hit score:\", hit.getScore())"
      ],
      "execution_count": 63,
      "outputs": [
        {
          "output_type": "stream",
          "text": [
            "===================================\n",
            "Peptide ID m/z: 520.262817382812\n",
            "Peptide ID rt: 2655.095703125\n",
            "Peptide scan index: 0\n",
            "Peptide scan name: 0\n",
            "Peptide ID score type: hyperscore\n",
            "===================================\n",
            "Peptide ID m/z: 1063.20983886719\n",
            "Peptide ID rt: 4587.6689453125\n",
            "Peptide scan index: 1\n",
            "Peptide scan name: 1\n",
            "Peptide ID score type: hyperscore\n",
            "===================================\n",
            "Peptide ID m/z: 775.38720703125\n",
            "Peptide ID rt: 4923.77734375\n",
            "Peptide scan index: 2\n",
            "Peptide scan name: 2\n",
            "Peptide ID score type: hyperscore\n",
            " - Peptide hit rank: 1\n",
            " - Peptide hit charge: 3\n",
            " - Peptide hit sequence: RPGADSDIGGFGGLFDLAQAGFR\n",
            " - Peptide hit monoisotopic m/z: 775.3854614376377\n",
            " - Peptide ppm error: 2.2512591467609693\n",
            " - Peptide hit score: 34.93666076660156\n"
          ],
          "name": "stdout"
        }
      ]
    },
    {
      "cell_type": "markdown",
      "metadata": {
        "id": "qCHifLb6c1x9"
      },
      "source": [
        "We notice that the second peptide spectrum match (PSM) was found for the third spectrum\r\n",
        "in the file for a precursor at 775.38 m/z for the sequence RPGADSDIGGFGGLFDLAQAGFR"
      ]
    },
    {
      "cell_type": "code",
      "metadata": {
        "colab": {
          "base_uri": "https://localhost:8080/"
        },
        "id": "B4NImIYxc5J8",
        "outputId": "0933e634-f004-4376-df90-81472a943063"
      },
      "source": [
        "tsg = TheoreticalSpectrumGenerator()\r\n",
        "thspec = MSSpectrum()\r\n",
        "p = Param()\r\n",
        "p.setValue(\"add_metainfo\", \"true\")\r\n",
        "tsg.setParameters(p)\r\n",
        "peptide = AASequence.fromString(\"RPGADSDIGGFGGLFDLAQAGFR\")\r\n",
        "tsg.getSpectrum(thspec, peptide, 1, 1)\r\n",
        "for ion, peak in zip(thspec.getStringDataArrays()[0], thspec):\r\n",
        "  print(ion, peak.getMZ())\r\n",
        "  e = MSExperiment()\r\n",
        "  MzMLFile().load(\"searchfile.mzML\", e)\r\n",
        "  print (\"Spectrum native id\", e[2].getNativeID() )\r\n",
        "  mz,i = e[2].get_peaks()\r\n",
        "  peaks = [(mz,i) for mz,i in zip(mz,i) if i > 1500 and mz > 300]\r\n",
        "  for peak in peaks:\r\n",
        "    print (peak[0], \"mz\", peak[1], \"int\")"
      ],
      "execution_count": 65,
      "outputs": [
        {
          "output_type": "stream",
          "text": [
            "b'y1+' 175.118952913371\n",
            "Spectrum native id spectrum=2\n",
            "877.4534301757812 mz 1753.01 int\n",
            "926.434326171875 mz 1639.3121 int\n",
            "1024.5223388671875 mz 2204.35 int\n",
            "1187.544189453125 mz 1774.3148 int\n",
            "b'b2+' 254.161152072871\n",
            "Spectrum native id spectrum=2\n",
            "877.4534301757812 mz 1753.01 int\n",
            "926.434326171875 mz 1639.3121 int\n",
            "1024.5223388671875 mz 2204.35 int\n",
            "1187.544189453125 mz 1774.3148 int\n",
            "b'b3+' 311.18261616857103\n",
            "Spectrum native id spectrum=2\n",
            "877.4534301757812 mz 1753.01 int\n",
            "926.434326171875 mz 1639.3121 int\n",
            "1024.5223388671875 mz 2204.35 int\n",
            "1187.544189453125 mz 1774.3148 int\n",
            "b'y2+' 322.1873672004711\n",
            "Spectrum native id spectrum=2\n",
            "877.4534301757812 mz 1753.01 int\n",
            "926.434326171875 mz 1639.3121 int\n",
            "1024.5223388671875 mz 2204.35 int\n",
            "1187.544189453125 mz 1774.3148 int\n",
            "b'y3+' 379.2088312961711\n",
            "Spectrum native id spectrum=2\n",
            "877.4534301757812 mz 1753.01 int\n",
            "926.434326171875 mz 1639.3121 int\n",
            "1024.5223388671875 mz 2204.35 int\n",
            "1187.544189453125 mz 1774.3148 int\n",
            "b'b4+' 382.219730328071\n",
            "Spectrum native id spectrum=2\n",
            "877.4534301757812 mz 1753.01 int\n",
            "926.434326171875 mz 1639.3121 int\n",
            "1024.5223388671875 mz 2204.35 int\n",
            "1187.544189453125 mz 1774.3148 int\n",
            "b'y4+' 450.2459454556711\n",
            "Spectrum native id spectrum=2\n",
            "877.4534301757812 mz 1753.01 int\n",
            "926.434326171875 mz 1639.3121 int\n",
            "1024.5223388671875 mz 2204.35 int\n",
            "1187.544189453125 mz 1774.3148 int\n",
            "b'b5+' 497.246674487571\n",
            "Spectrum native id spectrum=2\n",
            "877.4534301757812 mz 1753.01 int\n",
            "926.434326171875 mz 1639.3121 int\n",
            "1024.5223388671875 mz 2204.35 int\n",
            "1187.544189453125 mz 1774.3148 int\n",
            "b'y5+' 578.3045237108711\n",
            "Spectrum native id spectrum=2\n",
            "877.4534301757812 mz 1753.01 int\n",
            "926.434326171875 mz 1639.3121 int\n",
            "1024.5223388671875 mz 2204.35 int\n",
            "1187.544189453125 mz 1774.3148 int\n",
            "b'b6+' 584.278703647071\n",
            "Spectrum native id spectrum=2\n",
            "877.4534301757812 mz 1753.01 int\n",
            "926.434326171875 mz 1639.3121 int\n",
            "1024.5223388671875 mz 2204.35 int\n",
            "1187.544189453125 mz 1774.3148 int\n",
            "b'y6+' 649.3416378703711\n",
            "Spectrum native id spectrum=2\n",
            "877.4534301757812 mz 1753.01 int\n",
            "926.434326171875 mz 1639.3121 int\n",
            "1024.5223388671875 mz 2204.35 int\n",
            "1187.544189453125 mz 1774.3148 int\n",
            "b'b7+' 699.305647806571\n",
            "Spectrum native id spectrum=2\n",
            "877.4534301757812 mz 1753.01 int\n",
            "926.434326171875 mz 1639.3121 int\n",
            "1024.5223388671875 mz 2204.35 int\n",
            "1187.544189453125 mz 1774.3148 int\n",
            "b'y7+' 762.4257022212711\n",
            "Spectrum native id spectrum=2\n",
            "877.4534301757812 mz 1753.01 int\n",
            "926.434326171875 mz 1639.3121 int\n",
            "1024.5223388671875 mz 2204.35 int\n",
            "1187.544189453125 mz 1774.3148 int\n",
            "b'b8+' 812.389712157471\n",
            "Spectrum native id spectrum=2\n",
            "877.4534301757812 mz 1753.01 int\n",
            "926.434326171875 mz 1639.3121 int\n",
            "1024.5223388671875 mz 2204.35 int\n",
            "1187.544189453125 mz 1774.3148 int\n",
            "b'b9+' 869.411176253171\n",
            "Spectrum native id spectrum=2\n",
            "877.4534301757812 mz 1753.01 int\n",
            "926.434326171875 mz 1639.3121 int\n",
            "1024.5223388671875 mz 2204.35 int\n",
            "1187.544189453125 mz 1774.3148 int\n",
            "b'y8+' 877.4526463807711\n",
            "Spectrum native id spectrum=2\n",
            "877.4534301757812 mz 1753.01 int\n",
            "926.434326171875 mz 1639.3121 int\n",
            "1024.5223388671875 mz 2204.35 int\n",
            "1187.544189453125 mz 1774.3148 int\n",
            "b'b10+' 926.432640348871\n",
            "Spectrum native id spectrum=2\n",
            "877.4534301757812 mz 1753.01 int\n",
            "926.434326171875 mz 1639.3121 int\n",
            "1024.5223388671875 mz 2204.35 int\n",
            "1187.544189453125 mz 1774.3148 int\n",
            "b'y9+' 1024.521060667871\n",
            "Spectrum native id spectrum=2\n",
            "877.4534301757812 mz 1753.01 int\n",
            "926.434326171875 mz 1639.3121 int\n",
            "1024.5223388671875 mz 2204.35 int\n",
            "1187.544189453125 mz 1774.3148 int\n",
            "b'b11+' 1073.501054635971\n",
            "Spectrum native id spectrum=2\n",
            "877.4534301757812 mz 1753.01 int\n",
            "926.434326171875 mz 1639.3121 int\n",
            "1024.5223388671875 mz 2204.35 int\n",
            "1187.544189453125 mz 1774.3148 int\n",
            "b'b12+' 1130.522518731671\n",
            "Spectrum native id spectrum=2\n",
            "877.4534301757812 mz 1753.01 int\n",
            "926.434326171875 mz 1639.3121 int\n",
            "1024.5223388671875 mz 2204.35 int\n",
            "1187.544189453125 mz 1774.3148 int\n",
            "b'y10+' 1137.605125018771\n",
            "Spectrum native id spectrum=2\n",
            "877.4534301757812 mz 1753.01 int\n",
            "926.434326171875 mz 1639.3121 int\n",
            "1024.5223388671875 mz 2204.35 int\n",
            "1187.544189453125 mz 1774.3148 int\n",
            "b'b13+' 1187.5439828273709\n",
            "Spectrum native id spectrum=2\n",
            "877.4534301757812 mz 1753.01 int\n",
            "926.434326171875 mz 1639.3121 int\n",
            "1024.5223388671875 mz 2204.35 int\n",
            "1187.544189453125 mz 1774.3148 int\n",
            "b'y11+' 1194.626589114471\n",
            "Spectrum native id spectrum=2\n",
            "877.4534301757812 mz 1753.01 int\n",
            "926.434326171875 mz 1639.3121 int\n",
            "1024.5223388671875 mz 2204.35 int\n",
            "1187.544189453125 mz 1774.3148 int\n",
            "b'y12+' 1251.648053210171\n",
            "Spectrum native id spectrum=2\n",
            "877.4534301757812 mz 1753.01 int\n",
            "926.434326171875 mz 1639.3121 int\n",
            "1024.5223388671875 mz 2204.35 int\n",
            "1187.544189453125 mz 1774.3148 int\n",
            "b'b14+' 1300.628047178271\n",
            "Spectrum native id spectrum=2\n",
            "877.4534301757812 mz 1753.01 int\n",
            "926.434326171875 mz 1639.3121 int\n",
            "1024.5223388671875 mz 2204.35 int\n",
            "1187.544189453125 mz 1774.3148 int\n",
            "b'y13+' 1398.716467497271\n",
            "Spectrum native id spectrum=2\n",
            "877.4534301757812 mz 1753.01 int\n",
            "926.434326171875 mz 1639.3121 int\n",
            "1024.5223388671875 mz 2204.35 int\n",
            "1187.544189453125 mz 1774.3148 int\n",
            "b'b15+' 1447.696461465371\n",
            "Spectrum native id spectrum=2\n",
            "877.4534301757812 mz 1753.01 int\n",
            "926.434326171875 mz 1639.3121 int\n",
            "1024.5223388671875 mz 2204.35 int\n",
            "1187.544189453125 mz 1774.3148 int\n",
            "b'y14+' 1455.7379315929709\n",
            "Spectrum native id spectrum=2\n",
            "877.4534301757812 mz 1753.01 int\n",
            "926.434326171875 mz 1639.3121 int\n",
            "1024.5223388671875 mz 2204.35 int\n",
            "1187.544189453125 mz 1774.3148 int\n",
            "b'y15+' 1512.7593956886708\n",
            "Spectrum native id spectrum=2\n",
            "877.4534301757812 mz 1753.01 int\n",
            "926.434326171875 mz 1639.3121 int\n",
            "1024.5223388671875 mz 2204.35 int\n",
            "1187.544189453125 mz 1774.3148 int\n",
            "b'b16+' 1562.723405624871\n",
            "Spectrum native id spectrum=2\n",
            "877.4534301757812 mz 1753.01 int\n",
            "926.434326171875 mz 1639.3121 int\n",
            "1024.5223388671875 mz 2204.35 int\n",
            "1187.544189453125 mz 1774.3148 int\n",
            "b'y16+' 1625.8434600395708\n",
            "Spectrum native id spectrum=2\n",
            "877.4534301757812 mz 1753.01 int\n",
            "926.434326171875 mz 1639.3121 int\n",
            "1024.5223388671875 mz 2204.35 int\n",
            "1187.544189453125 mz 1774.3148 int\n",
            "b'b17+' 1675.807469975771\n",
            "Spectrum native id spectrum=2\n",
            "877.4534301757812 mz 1753.01 int\n",
            "926.434326171875 mz 1639.3121 int\n",
            "1024.5223388671875 mz 2204.35 int\n",
            "1187.544189453125 mz 1774.3148 int\n",
            "b'y17+' 1740.870404199071\n",
            "Spectrum native id spectrum=2\n",
            "877.4534301757812 mz 1753.01 int\n",
            "926.434326171875 mz 1639.3121 int\n",
            "1024.5223388671875 mz 2204.35 int\n",
            "1187.544189453125 mz 1774.3148 int\n",
            "b'b18+' 1746.844584135271\n",
            "Spectrum native id spectrum=2\n",
            "877.4534301757812 mz 1753.01 int\n",
            "926.434326171875 mz 1639.3121 int\n",
            "1024.5223388671875 mz 2204.35 int\n",
            "1187.544189453125 mz 1774.3148 int\n",
            "b'y18+' 1827.902433358571\n",
            "Spectrum native id spectrum=2\n",
            "877.4534301757812 mz 1753.01 int\n",
            "926.434326171875 mz 1639.3121 int\n",
            "1024.5223388671875 mz 2204.35 int\n",
            "1187.544189453125 mz 1774.3148 int\n",
            "b'b19+' 1874.903162390471\n",
            "Spectrum native id spectrum=2\n",
            "877.4534301757812 mz 1753.01 int\n",
            "926.434326171875 mz 1639.3121 int\n",
            "1024.5223388671875 mz 2204.35 int\n",
            "1187.544189453125 mz 1774.3148 int\n",
            "b'y19+' 1942.929377518071\n",
            "Spectrum native id spectrum=2\n",
            "877.4534301757812 mz 1753.01 int\n",
            "926.434326171875 mz 1639.3121 int\n",
            "1024.5223388671875 mz 2204.35 int\n",
            "1187.544189453125 mz 1774.3148 int\n",
            "b'b20+' 1945.9402765499708\n",
            "Spectrum native id spectrum=2\n",
            "877.4534301757812 mz 1753.01 int\n",
            "926.434326171875 mz 1639.3121 int\n",
            "1024.5223388671875 mz 2204.35 int\n",
            "1187.544189453125 mz 1774.3148 int\n",
            "b'b21+' 2002.9617406456707\n",
            "Spectrum native id spectrum=2\n",
            "877.4534301757812 mz 1753.01 int\n",
            "926.434326171875 mz 1639.3121 int\n",
            "1024.5223388671875 mz 2204.35 int\n",
            "1187.544189453125 mz 1774.3148 int\n",
            "b'y20+' 2013.9664916775712\n",
            "Spectrum native id spectrum=2\n",
            "877.4534301757812 mz 1753.01 int\n",
            "926.434326171875 mz 1639.3121 int\n",
            "1024.5223388671875 mz 2204.35 int\n",
            "1187.544189453125 mz 1774.3148 int\n",
            "b'y21+' 2070.9879557732716\n",
            "Spectrum native id spectrum=2\n",
            "877.4534301757812 mz 1753.01 int\n",
            "926.434326171875 mz 1639.3121 int\n",
            "1024.5223388671875 mz 2204.35 int\n",
            "1187.544189453125 mz 1774.3148 int\n",
            "b'b22+' 2150.0301549327705\n",
            "Spectrum native id spectrum=2\n",
            "877.4534301757812 mz 1753.01 int\n",
            "926.434326171875 mz 1639.3121 int\n",
            "1024.5223388671875 mz 2204.35 int\n",
            "1187.544189453125 mz 1774.3148 int\n",
            "b'y22+' 2168.0407199965716\n",
            "Spectrum native id spectrum=2\n",
            "877.4534301757812 mz 1753.01 int\n",
            "926.434326171875 mz 1639.3121 int\n",
            "1024.5223388671875 mz 2204.35 int\n",
            "1187.544189453125 mz 1774.3148 int\n"
          ],
          "name": "stdout"
        }
      ]
    },
    {
      "cell_type": "markdown",
      "metadata": {
        "id": "9W6mXsajdUfK"
      },
      "source": [
        "Comparing the theoretical spectrum and the experimental spectrum for\r\n",
        "RPGADSDIGGFGGLFDLAQAGFR we can easily see that the most abundant ions in the\r\n",
        "spectrum are y8 (877.452 m/z), b10 (926.432), y9 (1024.522 m/z) and b13 (1187.544 m/z)."
      ]
    }
  ]
}